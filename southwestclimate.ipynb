{
 "cells": [
  {
   "cell_type": "markdown",
   "metadata": {},
   "source": [
    "**Vorabversion**"
   ]
  },
  {
   "cell_type": "markdown",
   "metadata": {},
   "source": [
    "# Auswirkungen des Klimawandel in Südwestfalen \n",
    "## am Beispiel der Grünlandtemperatursumme "
   ]
  },
  {
   "cell_type": "markdown",
   "metadata": {},
   "source": [
    "Die verwendeten Rohdaten sind über das [Open Data](https://opendata.dwd.de/climate_environment/CDC/observations_germany/climate/daily/kl/historical/) Portal des [DWD](http://dwd.de) verfügbar.\n",
    "\n",
    "**Disclaimer:** \n",
    "*Für diese Auswertung werden die Messdaten einzelner Wetterstation herangezogen. Es kann nicht ausgeschlossen werden, dass es durch Standort bedingte Einflüße zu Verzehrungen kommt.*\n",
    "\n",
    "Der Klimawandel ist seit langer Zeit ein Thema. Anhand von Wetteraufzeigungen der vom DWD betriebenen Wetterstation soll gezeigt werden, welche Auswirkung in Südwestfalen nachweisbar sind. \n",
    "Um die Anschaulichkeit zu verbessern und nicht auf pure Statistik zu setzen, wird für die Auswertung die Grünlandtemperatursumme verwendet. Es ist ein errechneter Temperaturwert der in der Agrarmeterologie verwandt wird.\n",
    "\n",
    "Zunächst einmal gilt es, die Arbeitsumgebung vorzubereiten. "
   ]
  },
  {
   "cell_type": "markdown",
   "metadata": {},
   "source": [
    "## Auf geht es!"
   ]
  },
  {
   "cell_type": "markdown",
   "metadata": {},
   "source": [
    "**Laden der notwendigen Programmpaket**"
   ]
  },
  {
   "cell_type": "code",
   "execution_count": 1,
   "metadata": {},
   "outputs": [
    {
     "name": "stderr",
     "output_type": "stream",
     "text": [
      "\u001b[32m\u001b[1m Activating\u001b[22m\u001b[39m environment at `~/Code/Julia/weathereffect/Project.toml`\n"
     ]
    }
   ],
   "source": [
    "using Pkg\n",
    "Pkg.activate(\".\")\n",
    "Pkg.instantiate()"
   ]
  },
  {
   "cell_type": "code",
   "execution_count": 2,
   "metadata": {},
   "outputs": [
    {
     "name": "stderr",
     "output_type": "stream",
     "text": [
      "\u001b[32m\u001b[1m   Updating\u001b[22m\u001b[39m registry at `~/.julia/registries/General`\n",
      "######################################################################### 100,0%\n",
      "\u001b[32m\u001b[1m  Resolving\u001b[22m\u001b[39m package versions...\n",
      "\u001b[32m\u001b[1mNo Changes\u001b[22m\u001b[39m to `~/Code/Julia/weathereffect/Project.toml`\n",
      "\u001b[32m\u001b[1mNo Changes\u001b[22m\u001b[39m to `~/Code/Julia/weathereffect/Manifest.toml`\n"
     ]
    }
   ],
   "source": [
    "# This cell only has to be executed once to install all the necessary packages\n",
    "\n",
    "Pkg.add([\n",
    "    \"Statistics\",\n",
    "    \"Dates\",\n",
    "    \"CSV\",\n",
    "    \"DataFrames\",\n",
    "    \"Query\",\n",
    "    \"Pipe\",\n",
    "    \"StatsPlots\",\n",
    "    ])"
   ]
  },
  {
   "cell_type": "code",
   "execution_count": 3,
   "metadata": {},
   "outputs": [],
   "source": [
    "using CSV, DataFrames, Statistics, Pipe, StatsPlots, Query, Dates"
   ]
  },
  {
   "cell_type": "markdown",
   "metadata": {},
   "source": [
    "**Laden der Rohdaten**"
   ]
  },
  {
   "cell_type": "code",
   "execution_count": 4,
   "metadata": {},
   "outputs": [
    {
     "data": {
      "text/html": [
       "<table class=\"data-frame\"><thead><tr><th></th><th>Station_ID</th><th>Date</th><th>Rainfall</th><th>Snow</th><th>Temp_Avg</th><th>Temp_Max</th><th>Temp_Min</th><th>Year</th></tr><tr><th></th><th>Int64</th><th>Date</th><th>Float64</th><th>Float64</th><th>Float64</th><th>Float64</th><th>Float64</th><th>Int64</th></tr></thead><tbody><p>10 rows × 10 columns (omitted printing of 2 columns)</p><tr><th>1</th><td>2483</td><td>1955-01-01</td><td>3.1</td><td>12.0</td><td>-5.9</td><td>-4.4</td><td>-6.7</td><td>1955</td></tr><tr><th>2</th><td>2483</td><td>1955-01-02</td><td>4.0</td><td>15.0</td><td>-8.4</td><td>-6.7</td><td>-9.3</td><td>1955</td></tr><tr><th>3</th><td>2483</td><td>1955-01-03</td><td>0.3</td><td>19.0</td><td>-8.4</td><td>-7.5</td><td>-8.7</td><td>1955</td></tr><tr><th>4</th><td>2483</td><td>1955-01-04</td><td>0.0</td><td>19.0</td><td>-9.5</td><td>-8.6</td><td>-10.0</td><td>1955</td></tr><tr><th>5</th><td>2483</td><td>1955-01-05</td><td>0.0</td><td>19.0</td><td>-7.8</td><td>-4.6</td><td>-10.4</td><td>1955</td></tr><tr><th>6</th><td>2483</td><td>1955-01-06</td><td>0.3</td><td>16.0</td><td>-7.0</td><td>-4.2</td><td>-8.6</td><td>1955</td></tr><tr><th>7</th><td>2483</td><td>1955-01-07</td><td>0.0</td><td>15.0</td><td>-9.0</td><td>-8.0</td><td>-9.9</td><td>1955</td></tr><tr><th>8</th><td>2483</td><td>1955-01-08</td><td>0.0</td><td>14.0</td><td>-10.3</td><td>-6.3</td><td>-11.5</td><td>1955</td></tr><tr><th>9</th><td>2483</td><td>1955-01-09</td><td>0.0</td><td>12.0</td><td>-8.3</td><td>-7.0</td><td>-10.3</td><td>1955</td></tr><tr><th>10</th><td>2483</td><td>1955-01-10</td><td>9.2</td><td>10.0</td><td>-5.2</td><td>-3.8</td><td>-8.1</td><td>1955</td></tr></tbody></table>"
      ],
      "text/latex": [
       "\\begin{tabular}{r|ccccccccc}\n",
       "\t& Station\\_ID & Date & Rainfall & Snow & Temp\\_Avg & Temp\\_Max & Temp\\_Min & Year & \\\\\n",
       "\t\\hline\n",
       "\t& Int64 & Date & Float64 & Float64 & Float64 & Float64 & Float64 & Int64 & \\\\\n",
       "\t\\hline\n",
       "\t1 & 2483 & 1955-01-01 & 3.1 & 12.0 & -5.9 & -4.4 & -6.7 & 1955 & $\\dots$ \\\\\n",
       "\t2 & 2483 & 1955-01-02 & 4.0 & 15.0 & -8.4 & -6.7 & -9.3 & 1955 & $\\dots$ \\\\\n",
       "\t3 & 2483 & 1955-01-03 & 0.3 & 19.0 & -8.4 & -7.5 & -8.7 & 1955 & $\\dots$ \\\\\n",
       "\t4 & 2483 & 1955-01-04 & 0.0 & 19.0 & -9.5 & -8.6 & -10.0 & 1955 & $\\dots$ \\\\\n",
       "\t5 & 2483 & 1955-01-05 & 0.0 & 19.0 & -7.8 & -4.6 & -10.4 & 1955 & $\\dots$ \\\\\n",
       "\t6 & 2483 & 1955-01-06 & 0.3 & 16.0 & -7.0 & -4.2 & -8.6 & 1955 & $\\dots$ \\\\\n",
       "\t7 & 2483 & 1955-01-07 & 0.0 & 15.0 & -9.0 & -8.0 & -9.9 & 1955 & $\\dots$ \\\\\n",
       "\t8 & 2483 & 1955-01-08 & 0.0 & 14.0 & -10.3 & -6.3 & -11.5 & 1955 & $\\dots$ \\\\\n",
       "\t9 & 2483 & 1955-01-09 & 0.0 & 12.0 & -8.3 & -7.0 & -10.3 & 1955 & $\\dots$ \\\\\n",
       "\t10 & 2483 & 1955-01-10 & 9.2 & 10.0 & -5.2 & -3.8 & -8.1 & 1955 & $\\dots$ \\\\\n",
       "\\end{tabular}\n"
      ],
      "text/plain": [
       "\u001b[1m10×10 DataFrame\u001b[0m\n",
       "\u001b[1m Row \u001b[0m│\u001b[1m Station_ID \u001b[0m\u001b[1m Date       \u001b[0m\u001b[1m Rainfall \u001b[0m\u001b[1m Snow    \u001b[0m\u001b[1m Temp_Avg \u001b[0m\u001b[1m Temp_Max \u001b[0m\u001b[1m Temp_Min\u001b[0m ⋯\n",
       "\u001b[1m     \u001b[0m│\u001b[90m Int64      \u001b[0m\u001b[90m Date       \u001b[0m\u001b[90m Float64  \u001b[0m\u001b[90m Float64 \u001b[0m\u001b[90m Float64  \u001b[0m\u001b[90m Float64  \u001b[0m\u001b[90m Float64 \u001b[0m ⋯\n",
       "─────┼──────────────────────────────────────────────────────────────────────────\n",
       "   1 │       2483  1955-01-01       3.1     12.0      -5.9      -4.4      -6.7 ⋯\n",
       "   2 │       2483  1955-01-02       4.0     15.0      -8.4      -6.7      -9.3\n",
       "   3 │       2483  1955-01-03       0.3     19.0      -8.4      -7.5      -8.7\n",
       "   4 │       2483  1955-01-04       0.0     19.0      -9.5      -8.6     -10.0\n",
       "   5 │       2483  1955-01-05       0.0     19.0      -7.8      -4.6     -10.4 ⋯\n",
       "   6 │       2483  1955-01-06       0.3     16.0      -7.0      -4.2      -8.6\n",
       "   7 │       2483  1955-01-07       0.0     15.0      -9.0      -8.0      -9.9\n",
       "   8 │       2483  1955-01-08       0.0     14.0     -10.3      -6.3     -11.5\n",
       "   9 │       2483  1955-01-09       0.0     12.0      -8.3      -7.0     -10.3 ⋯\n",
       "  10 │       2483  1955-01-10       9.2     10.0      -5.2      -3.8      -8.1\n",
       "\u001b[31m                                                               3 columns omitted\u001b[0m"
      ]
     },
     "execution_count": 4,
     "metadata": {},
     "output_type": "execute_result"
    }
   ],
   "source": [
    "suedwest_weather = CSV.File(\"./data/dwd_hist_weather.csv\") |> DataFrame;\n",
    "first(suedwest_weather, 10)"
   ]
  },
  {
   "cell_type": "markdown",
   "metadata": {},
   "source": [
    "### Die Grünlandtemperatursumme\n",
    "Die Grünlandtemperatursumme ist ein errechneter Temperaturwert der in der Agrarmeterologie verwandt wird.\n",
    "\n",
    "##### Hintergrund\n",
    "Ab einem Summenwert von 200°C ist die Vegatationruhe des Winters beendet und das Pflanzenwachstum startet. Die Böden haben sich soweit erwärmt, dass sie Nährstoffe bereitstellen können. Kurz gesagt, es kann als faktischer \"Frühjahresbeginn\" gewertet werden. \n",
    "\n",
    "Um die Grünlandtemperatursumme zu errechnen, werden alle positiven Tagesmittelwerte addiert. \n",
    "* Im Januar wird die Summe mit 0,5 multipliziert\n",
    "* Im Februar wird die Summe mit 0,75 multipliziert\n",
    "* Ab März gilt die errechnete Temperatursumme ohne Abschlag"
   ]
  },
  {
   "cell_type": "markdown",
   "metadata": {},
   "source": [
    "##### Die Wetterstationen und die Zeiträume für die Messwerte verfügbar sind\n",
    "\n",
    "| Station | Kreis | Zeitraum | Stationshöhe |\n",
    "| :-----: | :----: | :-----:  |----:|\n",
    "| Kahler Asten | Hochsauerlandkreis   | 1955 bis 2019 | 839 m |\n",
    "| Lüdenscheid | Märkische Kreis | 1950 bis 1995 | 444 m |\n",
    "| Lüdenscheid | Märkische Kreis | 1994 bis 2019 | 386 m |\n",
    "| Bad Sassendorf | Kreis Soest | 1950 bis 1980 | 81 m |\n",
    "| Lippstadt | Kreis Soest | 1981 bis 2019 | 92 m |\n",
    "| Lennestadt | Kreis Olpe | 1962 bis 2019 | 286 m|\n",
    "\n",
    "Leider liegen nicht für alle Wetterstationen Daten für den Zeitraum 1950 bis 2020 vor. Starke beschädigungen durch den zweiten Weltkrieg machten die Wettermessung am Kahlen Aster erst 1955 wieder möglich. Für Lennestadt beginnt die Messreihe erst 1962. Die Wetterstationen Lüdenscheid und im Kreis Soest wechselten in den betrachteten Zeitraum den Standort. \n",
    "\n"
   ]
  },
  {
   "cell_type": "markdown",
   "metadata": {},
   "source": [
    "**Selektion der Daten**"
   ]
  },
  {
   "cell_type": "code",
   "execution_count": 5,
   "metadata": {},
   "outputs": [
    {
     "data": {
      "text/html": [
       "<table class=\"data-frame\"><thead><tr><th></th><th>Station_ID</th><th>Date</th><th>Month</th><th>Year</th><th>Temp_Avg</th></tr><tr><th></th><th>Int64</th><th>Date</th><th>Int64</th><th>Int64</th><th>Float64</th></tr></thead><tbody><p>10 rows × 5 columns</p><tr><th>1</th><td>2483</td><td>1955-01-16</td><td>1</td><td>1955</td><td>3.2</td></tr><tr><th>2</th><td>2483</td><td>1955-01-22</td><td>1</td><td>1955</td><td>0.7</td></tr><tr><th>3</th><td>2483</td><td>1955-01-24</td><td>1</td><td>1955</td><td>3.4</td></tr><tr><th>4</th><td>2483</td><td>1955-01-25</td><td>1</td><td>1955</td><td>2.4</td></tr><tr><th>5</th><td>2483</td><td>1955-01-27</td><td>1</td><td>1955</td><td>3.2</td></tr><tr><th>6</th><td>2483</td><td>1955-01-28</td><td>1</td><td>1955</td><td>6.3</td></tr><tr><th>7</th><td>2483</td><td>1955-01-29</td><td>1</td><td>1955</td><td>4.6</td></tr><tr><th>8</th><td>2483</td><td>1955-01-30</td><td>1</td><td>1955</td><td>2.1</td></tr><tr><th>9</th><td>2483</td><td>1955-01-31</td><td>1</td><td>1955</td><td>2.8</td></tr><tr><th>10</th><td>2483</td><td>1955-02-01</td><td>2</td><td>1955</td><td>4.8</td></tr></tbody></table>"
      ],
      "text/latex": [
       "\\begin{tabular}{r|ccccc}\n",
       "\t& Station\\_ID & Date & Month & Year & Temp\\_Avg\\\\\n",
       "\t\\hline\n",
       "\t& Int64 & Date & Int64 & Int64 & Float64\\\\\n",
       "\t\\hline\n",
       "\t1 & 2483 & 1955-01-16 & 1 & 1955 & 3.2 \\\\\n",
       "\t2 & 2483 & 1955-01-22 & 1 & 1955 & 0.7 \\\\\n",
       "\t3 & 2483 & 1955-01-24 & 1 & 1955 & 3.4 \\\\\n",
       "\t4 & 2483 & 1955-01-25 & 1 & 1955 & 2.4 \\\\\n",
       "\t5 & 2483 & 1955-01-27 & 1 & 1955 & 3.2 \\\\\n",
       "\t6 & 2483 & 1955-01-28 & 1 & 1955 & 6.3 \\\\\n",
       "\t7 & 2483 & 1955-01-29 & 1 & 1955 & 4.6 \\\\\n",
       "\t8 & 2483 & 1955-01-30 & 1 & 1955 & 2.1 \\\\\n",
       "\t9 & 2483 & 1955-01-31 & 1 & 1955 & 2.8 \\\\\n",
       "\t10 & 2483 & 1955-02-01 & 2 & 1955 & 4.8 \\\\\n",
       "\\end{tabular}\n"
      ],
      "text/plain": [
       "\u001b[1m10×5 DataFrame\u001b[0m\n",
       "\u001b[1m Row \u001b[0m│\u001b[1m Station_ID \u001b[0m\u001b[1m Date       \u001b[0m\u001b[1m Month \u001b[0m\u001b[1m Year  \u001b[0m\u001b[1m Temp_Avg \u001b[0m\n",
       "\u001b[1m     \u001b[0m│\u001b[90m Int64      \u001b[0m\u001b[90m Date       \u001b[0m\u001b[90m Int64 \u001b[0m\u001b[90m Int64 \u001b[0m\u001b[90m Float64  \u001b[0m\n",
       "─────┼────────────────────────────────────────────────\n",
       "   1 │       2483  1955-01-16      1   1955       3.2\n",
       "   2 │       2483  1955-01-22      1   1955       0.7\n",
       "   3 │       2483  1955-01-24      1   1955       3.4\n",
       "   4 │       2483  1955-01-25      1   1955       2.4\n",
       "   5 │       2483  1955-01-27      1   1955       3.2\n",
       "   6 │       2483  1955-01-28      1   1955       6.3\n",
       "   7 │       2483  1955-01-29      1   1955       4.6\n",
       "   8 │       2483  1955-01-30      1   1955       2.1\n",
       "   9 │       2483  1955-01-31      1   1955       2.8\n",
       "  10 │       2483  1955-02-01      2   1955       4.8"
      ]
     },
     "execution_count": 5,
     "metadata": {},
     "output_type": "execute_result"
    }
   ],
   "source": [
    "gtsdata = suedwest_weather |> @query(i, begin\n",
    "            @where i.Year >= 1950 && i.Month <= 5 && i.Temp_Avg >= 0.0 && i.Station_ID != 1300\n",
    "            @select {i.Station_ID, i.Date, i.Month, i.Year, i.Temp_Avg}\n",
    "    end) |> DataFrame\n",
    "\n",
    "first(gtsdata, 10)"
   ]
  },
  {
   "cell_type": "markdown",
   "metadata": {},
   "source": [
    "**Erstellen eines leeren Dataframes um die errechneten Werte abspeichern zu können**"
   ]
  },
  {
   "cell_type": "code",
   "execution_count": 6,
   "metadata": {},
   "outputs": [
    {
     "data": {
      "text/html": [
       "<table class=\"data-frame\"><thead><tr><th></th><th>Station_ID</th><th>Year</th><th>Day</th><th>Date</th><th>Gts_Temp</th></tr><tr><th></th><th>Int64</th><th>Int64</th><th>Int64</th><th>Date</th><th>Float64</th></tr></thead><tbody><p>0 rows × 5 columns</p></tbody></table>"
      ],
      "text/latex": [
       "\\begin{tabular}{r|ccccc}\n",
       "\t& Station\\_ID & Year & Day & Date & Gts\\_Temp\\\\\n",
       "\t\\hline\n",
       "\t& Int64 & Int64 & Int64 & Date & Float64\\\\\n",
       "\t\\hline\n",
       "\\end{tabular}\n"
      ],
      "text/plain": [
       "\u001b[1m0×5 DataFrame\u001b[0m"
      ]
     },
     "execution_count": 6,
     "metadata": {},
     "output_type": "execute_result"
    }
   ],
   "source": [
    "gtsdf = DataFrame(Station_ID = Int64[], Year = Int64[], Day = Int64[], Date = Date[], Gts_Temp = Float64[])"
   ]
  },
  {
   "cell_type": "markdown",
   "metadata": {},
   "source": [
    "**Errechnung der Temperatursummen für alle Stationen**"
   ]
  },
  {
   "cell_type": "code",
   "execution_count": 7,
   "metadata": {},
   "outputs": [],
   "source": [
    "stationen = unique(gtsdata.Station_ID);\n",
    "countStationen = size(stationen);\n",
    "\n",
    "for s in 1:8\n",
    "    gtsYearRange = gtsdata |> @query(i, begin\n",
    "            @where i.Station_ID == stationen[s]\n",
    "            @select {i.Year}\n",
    "    end) |> DataFrame\n",
    "\n",
    "    gtsYearRangeMin = minimum(gtsYearRange.Year)\n",
    "    gtsYearRangeMax = maximum(gtsYearRange.Year)\n",
    "\n",
    "    iyearRange = gtsYearRangeMin:gtsYearRangeMax\n",
    "    \n",
    "   \n",
    "    \n",
    "    for iyear in iyearRange\n",
    "        gtsJanDf = gtsdata |> @query(i, begin\n",
    "            @where i.Year == iyear && i.Month == 1 && i.Station_ID == stationen[s]\n",
    "            @select {i.Date, i.Temp_Avg}\n",
    "        end) |> DataFrame\n",
    "    \n",
    "        gtsJan = sum(gtsJanDf.Temp_Avg) * 0.5\n",
    "    \n",
    "        gtsFebDf = gtsdata |> @query(i, begin\n",
    "            @where i.Year == iyear && i.Month == 2 && i.Station_ID == stationen[s]\n",
    "            @select {i.Date, i.Temp_Avg}\n",
    "        end) |> DataFrame       \n",
    "    \n",
    "        gtsFeb = sum(gtsFebDf.Temp_Avg) * 0.75\n",
    "    \n",
    "        gtsMarDf = gtsdata |> @query(i, begin\n",
    "            @where i.Year == iyear && i.Month > 2 && i.Station_ID == stationen[s]\n",
    "            @select {i.Date, i.Temp_Avg}\n",
    "        end) |> DataFrame\n",
    "    \n",
    "        daycounter = 1\n",
    "        gts = round((gtsJan + gtsFeb), digits=2)\n",
    "        \n",
    "        while gts <= 200\n",
    "           gts = gts + gtsMarDf.Temp_Avg[daycounter]\n",
    "           daycounter = daycounter + 1\n",
    "        end\n",
    "    \n",
    "        gtsdate = gtsMarDf[daycounter, :]\n",
    "        gtsday = dayofyear(gtsdate.Date)\n",
    "        push!(gtsdf, [stationen[s], iyear, gtsday, gtsdate.Date, gts])\n",
    "    \n",
    "    end\n",
    "end\n"
   ]
  },
  {
   "cell_type": "code",
   "execution_count": null,
   "metadata": {},
   "outputs": [],
   "source": []
  },
  {
   "cell_type": "markdown",
   "metadata": {},
   "source": [
    "**Die errechneten Temperatursummen**\n",
    "\n",
    "Blick auf die erst 15 Zeilen des Datensatzes"
   ]
  },
  {
   "cell_type": "code",
   "execution_count": 8,
   "metadata": {},
   "outputs": [
    {
     "data": {
      "text/html": [
       "<table class=\"data-frame\"><thead><tr><th></th><th>Station_ID</th><th>Year</th><th>Day</th><th>Date</th><th>Gts_Temp</th></tr><tr><th></th><th>Int64</th><th>Int64</th><th>Int64</th><th>Date</th><th>Float64</th></tr></thead><tbody><p>15 rows × 5 columns</p><tr><th>1</th><td>2483</td><td>1955</td><td>127</td><td>1955-05-07</td><td>206.55</td></tr><tr><th>2</th><td>2483</td><td>1956</td><td>130</td><td>1956-05-09</td><td>200.85</td></tr><tr><th>3</th><td>2483</td><td>1957</td><td>105</td><td>1957-04-15</td><td>202.7</td></tr><tr><th>4</th><td>2483</td><td>1958</td><td>130</td><td>1958-05-10</td><td>203.35</td></tr><tr><th>5</th><td>2483</td><td>1959</td><td>104</td><td>1959-04-14</td><td>209.65</td></tr><tr><th>6</th><td>2483</td><td>1960</td><td>111</td><td>1960-04-20</td><td>202.22</td></tr><tr><th>7</th><td>2483</td><td>1961</td><td>97</td><td>1961-04-07</td><td>208.45</td></tr><tr><th>8</th><td>2483</td><td>1962</td><td>131</td><td>1962-05-11</td><td>203.8</td></tr><tr><th>9</th><td>2483</td><td>1963</td><td>126</td><td>1963-05-06</td><td>202.1</td></tr><tr><th>10</th><td>2483</td><td>1964</td><td>125</td><td>1964-05-04</td><td>201.85</td></tr><tr><th>11</th><td>2483</td><td>1965</td><td>133</td><td>1965-05-13</td><td>205.45</td></tr><tr><th>12</th><td>2483</td><td>1966</td><td>117</td><td>1966-04-27</td><td>208.05</td></tr><tr><th>13</th><td>2483</td><td>1967</td><td>130</td><td>1967-05-10</td><td>204.55</td></tr><tr><th>14</th><td>2483</td><td>1968</td><td>115</td><td>1968-04-24</td><td>211.32</td></tr><tr><th>15</th><td>2483</td><td>1969</td><td>129</td><td>1969-05-09</td><td>205.65</td></tr></tbody></table>"
      ],
      "text/latex": [
       "\\begin{tabular}{r|ccccc}\n",
       "\t& Station\\_ID & Year & Day & Date & Gts\\_Temp\\\\\n",
       "\t\\hline\n",
       "\t& Int64 & Int64 & Int64 & Date & Float64\\\\\n",
       "\t\\hline\n",
       "\t1 & 2483 & 1955 & 127 & 1955-05-07 & 206.55 \\\\\n",
       "\t2 & 2483 & 1956 & 130 & 1956-05-09 & 200.85 \\\\\n",
       "\t3 & 2483 & 1957 & 105 & 1957-04-15 & 202.7 \\\\\n",
       "\t4 & 2483 & 1958 & 130 & 1958-05-10 & 203.35 \\\\\n",
       "\t5 & 2483 & 1959 & 104 & 1959-04-14 & 209.65 \\\\\n",
       "\t6 & 2483 & 1960 & 111 & 1960-04-20 & 202.22 \\\\\n",
       "\t7 & 2483 & 1961 & 97 & 1961-04-07 & 208.45 \\\\\n",
       "\t8 & 2483 & 1962 & 131 & 1962-05-11 & 203.8 \\\\\n",
       "\t9 & 2483 & 1963 & 126 & 1963-05-06 & 202.1 \\\\\n",
       "\t10 & 2483 & 1964 & 125 & 1964-05-04 & 201.85 \\\\\n",
       "\t11 & 2483 & 1965 & 133 & 1965-05-13 & 205.45 \\\\\n",
       "\t12 & 2483 & 1966 & 117 & 1966-04-27 & 208.05 \\\\\n",
       "\t13 & 2483 & 1967 & 130 & 1967-05-10 & 204.55 \\\\\n",
       "\t14 & 2483 & 1968 & 115 & 1968-04-24 & 211.32 \\\\\n",
       "\t15 & 2483 & 1969 & 129 & 1969-05-09 & 205.65 \\\\\n",
       "\\end{tabular}\n"
      ],
      "text/plain": [
       "\u001b[1m15×5 DataFrame\u001b[0m\n",
       "\u001b[1m Row \u001b[0m│\u001b[1m Station_ID \u001b[0m\u001b[1m Year  \u001b[0m\u001b[1m Day   \u001b[0m\u001b[1m Date       \u001b[0m\u001b[1m Gts_Temp \u001b[0m\n",
       "\u001b[1m     \u001b[0m│\u001b[90m Int64      \u001b[0m\u001b[90m Int64 \u001b[0m\u001b[90m Int64 \u001b[0m\u001b[90m Date       \u001b[0m\u001b[90m Float64  \u001b[0m\n",
       "─────┼────────────────────────────────────────────────\n",
       "   1 │       2483   1955    127  1955-05-07    206.55\n",
       "   2 │       2483   1956    130  1956-05-09    200.85\n",
       "   3 │       2483   1957    105  1957-04-15    202.7\n",
       "   4 │       2483   1958    130  1958-05-10    203.35\n",
       "   5 │       2483   1959    104  1959-04-14    209.65\n",
       "   6 │       2483   1960    111  1960-04-20    202.22\n",
       "   7 │       2483   1961     97  1961-04-07    208.45\n",
       "   8 │       2483   1962    131  1962-05-11    203.8\n",
       "   9 │       2483   1963    126  1963-05-06    202.1\n",
       "  10 │       2483   1964    125  1964-05-04    201.85\n",
       "  11 │       2483   1965    133  1965-05-13    205.45\n",
       "  12 │       2483   1966    117  1966-04-27    208.05\n",
       "  13 │       2483   1967    130  1967-05-10    204.55\n",
       "  14 │       2483   1968    115  1968-04-24    211.32\n",
       "  15 │       2483   1969    129  1969-05-09    205.65"
      ]
     },
     "execution_count": 8,
     "metadata": {},
     "output_type": "execute_result"
    }
   ],
   "source": [
    "first(gtsdf, 15)"
   ]
  },
  {
   "cell_type": "code",
   "execution_count": 9,
   "metadata": {},
   "outputs": [
    {
     "name": "stdout",
     "output_type": "stream",
     "text": [
      "Der Datensatz umfasst insgesamt 311 Zeilen\n"
     ]
    }
   ],
   "source": [
    "println(\"Der Datensatz umfasst insgesamt \",size(gtsdf)[1], \" Zeilen\" )"
   ]
  },
  {
   "cell_type": "code",
   "execution_count": null,
   "metadata": {},
   "outputs": [],
   "source": []
  },
  {
   "cell_type": "code",
   "execution_count": null,
   "metadata": {},
   "outputs": [],
   "source": []
  },
  {
   "cell_type": "code",
   "execution_count": null,
   "metadata": {},
   "outputs": [],
   "source": []
  },
  {
   "cell_type": "code",
   "execution_count": null,
   "metadata": {},
   "outputs": [],
   "source": [
    "\n"
   ]
  },
  {
   "cell_type": "markdown",
   "metadata": {},
   "source": [
    "**Separieren der Stationen für einen Plot**"
   ]
  },
  {
   "cell_type": "code",
   "execution_count": 10,
   "metadata": {},
   "outputs": [],
   "source": [
    "lued = gtsdf |> @query(i, begin\n",
    "            @where i.Station_ID == 3096 || i.Station_ID == 3098\n",
    "            @select {i.Year, i.Day, i.Date, i.Gts_Temp}\n",
    "    end) |> DataFrame;\n",
    "  "
   ]
  },
  {
   "cell_type": "code",
   "execution_count": 11,
   "metadata": {},
   "outputs": [],
   "source": [
    "soest = gtsdf |> @query(i, begin\n",
    "            @where i.Station_ID == 4401 || i.Station_ID == 3031\n",
    "            @select {i.Year, i.Day, i.Date, i.Gts_Temp}\n",
    "    end) |> DataFrame; "
   ]
  },
  {
   "cell_type": "code",
   "execution_count": 12,
   "metadata": {},
   "outputs": [],
   "source": [
    "hsk = gtsdf |> @query(i, begin\n",
    "            @where i.Station_ID == 2483\n",
    "            @select {i.Year, i.Day, i.Date, i.Gts_Temp}\n",
    "    end) |> DataFrame;"
   ]
  },
  {
   "cell_type": "code",
   "execution_count": 13,
   "metadata": {},
   "outputs": [],
   "source": [
    "olpe = gtsdf |> @query(i, begin\n",
    "            @where i.Station_ID == 2947\n",
    "            @select {i.Year, i.Day, i.Date, i.Gts_Temp}\n",
    "    end) |> DataFrame;  "
   ]
  },
  {
   "cell_type": "code",
   "execution_count": 14,
   "metadata": {},
   "outputs": [],
   "source": [
    "mk = scatter(lued.Year, lued.Day, reg = :true, title = \"Lüdenscheid / Märkischer Kreis\");\n",
    "so = scatter(soest.Year, soest.Day, reg = :true, title = \"Bad Sassendorf / Lippstadt Kreis Soest\");\n",
    "hskpl = scatter(hsk.Year, hsk.Day, reg = :true, title = \"Kahler Asten HSK\");\n",
    "olpepl = scatter(olpe.Year, olpe.Day, reg = :true, title = \"Lennestadt Kreis Olpe\");"
   ]
  },
  {
   "cell_type": "markdown",
   "metadata": {},
   "source": [
    "#### Chart 1"
   ]
  },
  {
   "cell_type": "code",
   "execution_count": 15,
   "metadata": {},
   "outputs": [
    {
     "data": {
      "image/svg+xml": [
       "<?xml version=\"1.0\" encoding=\"utf-8\"?>\n",
       "<svg xmlns=\"http://www.w3.org/2000/svg\" xmlns:xlink=\"http://www.w3.org/1999/xlink\" width=\"900\" height=\"700\" viewBox=\"0 0 3600 2800\">\n",
       "<defs>\n",
       "  <clipPath id=\"clip550\">\n",
       "    <rect x=\"0\" y=\"0\" width=\"3600\" height=\"2800\"/>\n",
       "  </clipPath>\n",
       "</defs>\n",
       "<path clip-path=\"url(#clip550)\" d=\"\n",
       "M0 2800 L3600 2800 L3600 0 L0 0  Z\n",
       "  \" fill=\"#ffffff\" fill-rule=\"evenodd\" fill-opacity=\"1\"/>\n",
       "<defs>\n",
       "  <clipPath id=\"clip551\">\n",
       "    <rect x=\"720\" y=\"0\" width=\"2521\" height=\"2521\"/>\n",
       "  </clipPath>\n",
       "</defs>\n",
       "<path clip-path=\"url(#clip550)\" d=\"\n",
       "M174.084 568.688 L3552.76 568.688 L3552.76 133.552 L174.084 133.552  Z\n",
       "  \" fill=\"#ffffff\" fill-rule=\"evenodd\" fill-opacity=\"1\"/>\n",
       "<defs>\n",
       "  <clipPath id=\"clip552\">\n",
       "    <rect x=\"174\" y=\"133\" width=\"3380\" height=\"436\"/>\n",
       "  </clipPath>\n",
       "</defs>\n",
       "<polyline clip-path=\"url(#clip552)\" style=\"stroke:#000000; stroke-width:2; stroke-opacity:0.1; fill:none\" points=\"\n",
       "  731.653,568.688 731.653,133.552 \n",
       "  \"/>\n",
       "<polyline clip-path=\"url(#clip552)\" style=\"stroke:#000000; stroke-width:2; stroke-opacity:0.1; fill:none\" points=\"\n",
       "  1655.54,568.688 1655.54,133.552 \n",
       "  \"/>\n",
       "<polyline clip-path=\"url(#clip552)\" style=\"stroke:#000000; stroke-width:2; stroke-opacity:0.1; fill:none\" points=\"\n",
       "  2579.44,568.688 2579.44,133.552 \n",
       "  \"/>\n",
       "<polyline clip-path=\"url(#clip552)\" style=\"stroke:#000000; stroke-width:2; stroke-opacity:0.1; fill:none\" points=\"\n",
       "  3503.33,568.688 3503.33,133.552 \n",
       "  \"/>\n",
       "<polyline clip-path=\"url(#clip550)\" style=\"stroke:#000000; stroke-width:4; stroke-opacity:1; fill:none\" points=\"\n",
       "  174.084,568.688 3552.76,568.688 \n",
       "  \"/>\n",
       "<polyline clip-path=\"url(#clip550)\" style=\"stroke:#000000; stroke-width:4; stroke-opacity:1; fill:none\" points=\"\n",
       "  731.653,568.688 731.653,563.466 \n",
       "  \"/>\n",
       "<polyline clip-path=\"url(#clip550)\" style=\"stroke:#000000; stroke-width:4; stroke-opacity:1; fill:none\" points=\"\n",
       "  1655.54,568.688 1655.54,563.466 \n",
       "  \"/>\n",
       "<polyline clip-path=\"url(#clip550)\" style=\"stroke:#000000; stroke-width:4; stroke-opacity:1; fill:none\" points=\"\n",
       "  2579.44,568.688 2579.44,563.466 \n",
       "  \"/>\n",
       "<polyline clip-path=\"url(#clip550)\" style=\"stroke:#000000; stroke-width:4; stroke-opacity:1; fill:none\" points=\"\n",
       "  3503.33,568.688 3503.33,563.466 \n",
       "  \"/>\n",
       "<path clip-path=\"url(#clip550)\" d=\"M 0 0 M681.526 635.025 L689.165 635.025 L689.165 608.659 L680.855 610.326 L680.855 606.067 L689.118 604.4 L693.794 604.4 L693.794 635.025 L701.433 635.025 L701.433 638.96 L681.526 638.96 L681.526 635.025 Z\" fill=\"#000000\" fill-rule=\"evenodd\" fill-opacity=\"1\" /><path clip-path=\"url(#clip550)\" d=\"M 0 0 M706.641 638.242 L706.641 633.983 Q708.401 634.816 710.206 635.256 Q712.012 635.696 713.748 635.696 Q718.378 635.696 720.808 632.594 Q723.262 629.469 723.609 623.127 Q722.266 625.117 720.206 626.182 Q718.146 627.247 715.646 627.247 Q710.461 627.247 707.428 624.122 Q704.419 620.974 704.419 615.534 Q704.419 610.21 707.567 606.992 Q710.716 603.775 715.947 603.775 Q721.942 603.775 725.09 608.381 Q728.262 612.965 728.262 621.715 Q728.262 629.886 724.373 634.77 Q720.507 639.631 713.956 639.631 Q712.197 639.631 710.391 639.284 Q708.586 638.937 706.641 638.242 M715.947 623.59 Q719.095 623.59 720.924 621.437 Q722.776 619.284 722.776 615.534 Q722.776 611.807 720.924 609.654 Q719.095 607.479 715.947 607.479 Q712.799 607.479 710.947 609.654 Q709.118 611.807 709.118 615.534 Q709.118 619.284 710.947 621.437 Q712.799 623.59 715.947 623.59 Z\" fill=\"#000000\" fill-rule=\"evenodd\" fill-opacity=\"1\" /><path clip-path=\"url(#clip550)\" d=\"M 0 0 M743.91 619.816 Q740.762 619.816 738.91 621.969 Q737.081 624.122 737.081 627.872 Q737.081 631.599 738.91 633.775 Q740.762 635.927 743.91 635.927 Q747.058 635.927 748.887 633.775 Q750.738 631.599 750.738 627.872 Q750.738 624.122 748.887 621.969 Q747.058 619.816 743.91 619.816 M753.192 605.164 L753.192 609.423 Q751.433 608.59 749.627 608.15 Q747.845 607.71 746.086 607.71 Q741.456 607.71 739.002 610.835 Q736.572 613.96 736.225 620.279 Q737.59 618.266 739.651 617.201 Q741.711 616.113 744.188 616.113 Q749.396 616.113 752.405 619.284 Q755.437 622.432 755.437 627.872 Q755.437 633.196 752.289 636.414 Q749.141 639.631 743.91 639.631 Q737.914 639.631 734.743 635.048 Q731.572 630.441 731.572 621.715 Q731.572 613.52 735.461 608.659 Q739.35 603.775 745.901 603.775 Q747.66 603.775 749.442 604.122 Q751.248 604.469 753.192 605.164 Z\" fill=\"#000000\" fill-rule=\"evenodd\" fill-opacity=\"1\" /><path clip-path=\"url(#clip550)\" d=\"M 0 0 M770.507 607.479 Q766.896 607.479 765.067 611.043 Q763.262 614.585 763.262 621.715 Q763.262 628.821 765.067 632.386 Q766.896 635.927 770.507 635.927 Q774.141 635.927 775.947 632.386 Q777.775 628.821 777.775 621.715 Q777.775 614.585 775.947 611.043 Q774.141 607.479 770.507 607.479 M770.507 603.775 Q776.317 603.775 779.373 608.381 Q782.451 612.965 782.451 621.715 Q782.451 630.441 779.373 635.048 Q776.317 639.631 770.507 639.631 Q764.697 639.631 761.618 635.048 Q758.562 630.441 758.562 621.715 Q758.562 612.965 761.618 608.381 Q764.697 603.775 770.507 603.775 Z\" fill=\"#000000\" fill-rule=\"evenodd\" fill-opacity=\"1\" /><path clip-path=\"url(#clip550)\" d=\"M 0 0 M1605.54 635.025 L1613.18 635.025 L1613.18 608.659 L1604.87 610.326 L1604.87 606.067 L1613.14 604.4 L1617.81 604.4 L1617.81 635.025 L1625.45 635.025 L1625.45 638.96 L1605.54 638.96 L1605.54 635.025 Z\" fill=\"#000000\" fill-rule=\"evenodd\" fill-opacity=\"1\" /><path clip-path=\"url(#clip550)\" d=\"M 0 0 M1630.66 638.242 L1630.66 633.983 Q1632.42 634.816 1634.23 635.256 Q1636.03 635.696 1637.77 635.696 Q1642.4 635.696 1644.83 632.594 Q1647.28 629.469 1647.63 623.127 Q1646.29 625.117 1644.23 626.182 Q1642.16 627.247 1639.66 627.247 Q1634.48 627.247 1631.45 624.122 Q1628.44 620.974 1628.44 615.534 Q1628.44 610.21 1631.59 606.992 Q1634.73 603.775 1639.97 603.775 Q1645.96 603.775 1649.11 608.381 Q1652.28 612.965 1652.28 621.715 Q1652.28 629.886 1648.39 634.77 Q1644.53 639.631 1637.98 639.631 Q1636.22 639.631 1634.41 639.284 Q1632.6 638.937 1630.66 638.242 M1639.97 623.59 Q1643.11 623.59 1644.94 621.437 Q1646.79 619.284 1646.79 615.534 Q1646.79 611.807 1644.94 609.654 Q1643.11 607.479 1639.97 607.479 Q1636.82 607.479 1634.97 609.654 Q1633.14 611.807 1633.14 615.534 Q1633.14 619.284 1634.97 621.437 Q1636.82 623.59 1639.97 623.59 Z\" fill=\"#000000\" fill-rule=\"evenodd\" fill-opacity=\"1\" /><path clip-path=\"url(#clip550)\" d=\"M 0 0 M1667.35 622.548 Q1664.02 622.548 1662.1 624.33 Q1660.2 626.113 1660.2 629.238 Q1660.2 632.363 1662.1 634.145 Q1664.02 635.927 1667.35 635.927 Q1670.68 635.927 1672.6 634.145 Q1674.53 632.34 1674.53 629.238 Q1674.53 626.113 1672.6 624.33 Q1670.71 622.548 1667.35 622.548 M1662.67 620.557 Q1659.66 619.816 1657.98 617.756 Q1656.31 615.696 1656.31 612.733 Q1656.31 608.59 1659.25 606.182 Q1662.21 603.775 1667.35 603.775 Q1672.51 603.775 1675.45 606.182 Q1678.39 608.59 1678.39 612.733 Q1678.39 615.696 1676.7 617.756 Q1675.04 619.816 1672.05 620.557 Q1675.43 621.344 1677.3 623.636 Q1679.2 625.928 1679.2 629.238 Q1679.2 634.261 1676.12 636.946 Q1673.07 639.631 1667.35 639.631 Q1661.63 639.631 1658.55 636.946 Q1655.5 634.261 1655.5 629.238 Q1655.5 625.928 1657.4 623.636 Q1659.29 621.344 1662.67 620.557 M1660.96 613.173 Q1660.96 615.858 1662.63 617.363 Q1664.32 618.867 1667.35 618.867 Q1670.36 618.867 1672.05 617.363 Q1673.76 615.858 1673.76 613.173 Q1673.76 610.488 1672.05 608.983 Q1670.36 607.479 1667.35 607.479 Q1664.32 607.479 1662.63 608.983 Q1660.96 610.488 1660.96 613.173 Z\" fill=\"#000000\" fill-rule=\"evenodd\" fill-opacity=\"1\" /><path clip-path=\"url(#clip550)\" d=\"M 0 0 M1694.27 607.479 Q1690.66 607.479 1688.83 611.043 Q1687.03 614.585 1687.03 621.715 Q1687.03 628.821 1688.83 632.386 Q1690.66 635.927 1694.27 635.927 Q1697.91 635.927 1699.71 632.386 Q1701.54 628.821 1701.54 621.715 Q1701.54 614.585 1699.71 611.043 Q1697.91 607.479 1694.27 607.479 M1694.27 603.775 Q1700.08 603.775 1703.14 608.381 Q1706.22 612.965 1706.22 621.715 Q1706.22 630.441 1703.14 635.048 Q1700.08 639.631 1694.27 639.631 Q1688.46 639.631 1685.38 635.048 Q1682.33 630.441 1682.33 621.715 Q1682.33 612.965 1685.38 608.381 Q1688.46 603.775 1694.27 603.775 Z\" fill=\"#000000\" fill-rule=\"evenodd\" fill-opacity=\"1\" /><path clip-path=\"url(#clip550)\" d=\"M 0 0 M2533.57 635.025 L2549.89 635.025 L2549.89 638.96 L2527.94 638.96 L2527.94 635.025 Q2530.61 632.27 2535.19 627.64 Q2539.8 622.988 2540.98 621.645 Q2543.22 619.122 2544.1 617.386 Q2545 615.627 2545 613.937 Q2545 611.182 2543.06 609.446 Q2541.14 607.71 2538.04 607.71 Q2535.84 607.71 2533.38 608.474 Q2530.95 609.238 2528.17 610.789 L2528.17 606.067 Q2531 604.932 2533.45 604.354 Q2535.91 603.775 2537.94 603.775 Q2543.31 603.775 2546.51 606.46 Q2549.7 609.145 2549.7 613.636 Q2549.7 615.766 2548.89 617.687 Q2548.11 619.585 2546 622.178 Q2545.42 622.849 2542.32 626.066 Q2539.22 629.261 2533.57 635.025 Z\" fill=\"#000000\" fill-rule=\"evenodd\" fill-opacity=\"1\" /><path clip-path=\"url(#clip550)\" d=\"M 0 0 M2564.96 607.479 Q2561.35 607.479 2559.52 611.043 Q2557.71 614.585 2557.71 621.715 Q2557.71 628.821 2559.52 632.386 Q2561.35 635.927 2564.96 635.927 Q2568.59 635.927 2570.4 632.386 Q2572.23 628.821 2572.23 621.715 Q2572.23 614.585 2570.4 611.043 Q2568.59 607.479 2564.96 607.479 M2564.96 603.775 Q2570.77 603.775 2573.82 608.381 Q2576.9 612.965 2576.9 621.715 Q2576.9 630.441 2573.82 635.048 Q2570.77 639.631 2564.96 639.631 Q2559.15 639.631 2556.07 635.048 Q2553.01 630.441 2553.01 621.715 Q2553.01 612.965 2556.07 608.381 Q2559.15 603.775 2564.96 603.775 Z\" fill=\"#000000\" fill-rule=\"evenodd\" fill-opacity=\"1\" /><path clip-path=\"url(#clip550)\" d=\"M 0 0 M2591.97 607.479 Q2588.36 607.479 2586.53 611.043 Q2584.73 614.585 2584.73 621.715 Q2584.73 628.821 2586.53 632.386 Q2588.36 635.927 2591.97 635.927 Q2595.6 635.927 2597.41 632.386 Q2599.24 628.821 2599.24 621.715 Q2599.24 614.585 2597.41 611.043 Q2595.6 607.479 2591.97 607.479 M2591.97 603.775 Q2597.78 603.775 2600.84 608.381 Q2603.92 612.965 2603.92 621.715 Q2603.92 630.441 2600.84 635.048 Q2597.78 639.631 2591.97 639.631 Q2586.16 639.631 2583.08 635.048 Q2580.03 630.441 2580.03 621.715 Q2580.03 612.965 2583.08 608.381 Q2586.16 603.775 2591.97 603.775 Z\" fill=\"#000000\" fill-rule=\"evenodd\" fill-opacity=\"1\" /><path clip-path=\"url(#clip550)\" d=\"M 0 0 M2618.98 607.479 Q2615.37 607.479 2613.54 611.043 Q2611.74 614.585 2611.74 621.715 Q2611.74 628.821 2613.54 632.386 Q2615.37 635.927 2618.98 635.927 Q2622.62 635.927 2624.42 632.386 Q2626.25 628.821 2626.25 621.715 Q2626.25 614.585 2624.42 611.043 Q2622.62 607.479 2618.98 607.479 M2618.98 603.775 Q2624.79 603.775 2627.85 608.381 Q2630.93 612.965 2630.93 621.715 Q2630.93 630.441 2627.85 635.048 Q2624.79 639.631 2618.98 639.631 Q2613.17 639.631 2610.1 635.048 Q2607.04 630.441 2607.04 621.715 Q2607.04 612.965 2610.1 608.381 Q2613.17 603.775 2618.98 603.775 Z\" fill=\"#000000\" fill-rule=\"evenodd\" fill-opacity=\"1\" /><path clip-path=\"url(#clip550)\" d=\"M 0 0 M3458.26 635.025 L3474.58 635.025 L3474.58 638.96 L3452.63 638.96 L3452.63 635.025 Q3455.3 632.27 3459.88 627.64 Q3464.49 622.988 3465.67 621.645 Q3467.91 619.122 3468.79 617.386 Q3469.69 615.627 3469.69 613.937 Q3469.69 611.182 3467.75 609.446 Q3465.83 607.71 3462.73 607.71 Q3460.53 607.71 3458.07 608.474 Q3455.64 609.238 3452.87 610.789 L3452.87 606.067 Q3455.69 604.932 3458.14 604.354 Q3460.6 603.775 3462.63 603.775 Q3468 603.775 3471.2 606.46 Q3474.39 609.145 3474.39 613.636 Q3474.39 615.766 3473.58 617.687 Q3472.8 619.585 3470.69 622.178 Q3470.11 622.849 3467.01 626.066 Q3463.91 629.261 3458.26 635.025 Z\" fill=\"#000000\" fill-rule=\"evenodd\" fill-opacity=\"1\" /><path clip-path=\"url(#clip550)\" d=\"M 0 0 M3489.65 607.479 Q3486.04 607.479 3484.21 611.043 Q3482.4 614.585 3482.4 621.715 Q3482.4 628.821 3484.21 632.386 Q3486.04 635.927 3489.65 635.927 Q3493.28 635.927 3495.09 632.386 Q3496.92 628.821 3496.92 621.715 Q3496.92 614.585 3495.09 611.043 Q3493.28 607.479 3489.65 607.479 M3489.65 603.775 Q3495.46 603.775 3498.51 608.381 Q3501.59 612.965 3501.59 621.715 Q3501.59 630.441 3498.51 635.048 Q3495.46 639.631 3489.65 639.631 Q3483.84 639.631 3480.76 635.048 Q3477.7 630.441 3477.7 621.715 Q3477.7 612.965 3480.76 608.381 Q3483.84 603.775 3489.65 603.775 Z\" fill=\"#000000\" fill-rule=\"evenodd\" fill-opacity=\"1\" /><path clip-path=\"url(#clip550)\" d=\"M 0 0 M3510.69 635.025 L3527.01 635.025 L3527.01 638.96 L3505.06 638.96 L3505.06 635.025 Q3507.73 632.27 3512.31 627.64 Q3516.92 622.988 3518.1 621.645 Q3520.34 619.122 3521.22 617.386 Q3522.12 615.627 3522.12 613.937 Q3522.12 611.182 3520.18 609.446 Q3518.26 607.71 3515.16 607.71 Q3512.96 607.71 3510.5 608.474 Q3508.07 609.238 3505.3 610.789 L3505.3 606.067 Q3508.12 604.932 3510.57 604.354 Q3513.03 603.775 3515.06 603.775 Q3520.43 603.775 3523.63 606.46 Q3526.82 609.145 3526.82 613.636 Q3526.82 615.766 3526.01 617.687 Q3525.23 619.585 3523.12 622.178 Q3522.54 622.849 3519.44 626.066 Q3516.34 629.261 3510.69 635.025 Z\" fill=\"#000000\" fill-rule=\"evenodd\" fill-opacity=\"1\" /><path clip-path=\"url(#clip550)\" d=\"M 0 0 M3542.08 607.479 Q3538.47 607.479 3536.64 611.043 Q3534.83 614.585 3534.83 621.715 Q3534.83 628.821 3536.64 632.386 Q3538.47 635.927 3542.08 635.927 Q3545.71 635.927 3547.52 632.386 Q3549.35 628.821 3549.35 621.715 Q3549.35 614.585 3547.52 611.043 Q3545.71 607.479 3542.08 607.479 M3542.08 603.775 Q3547.89 603.775 3550.94 608.381 Q3554.02 612.965 3554.02 621.715 Q3554.02 630.441 3550.94 635.048 Q3547.89 639.631 3542.08 639.631 Q3536.27 639.631 3533.19 635.048 Q3530.13 630.441 3530.13 621.715 Q3530.13 612.965 3533.19 608.381 Q3536.27 603.775 3542.08 603.775 Z\" fill=\"#000000\" fill-rule=\"evenodd\" fill-opacity=\"1\" /><polyline clip-path=\"url(#clip552)\" style=\"stroke:#000000; stroke-width:2; stroke-opacity:0.1; fill:none\" points=\"\n",
       "  174.084,556.373 3552.76,556.373 \n",
       "  \"/>\n",
       "<polyline clip-path=\"url(#clip552)\" style=\"stroke:#000000; stroke-width:2; stroke-opacity:0.1; fill:none\" points=\"\n",
       "  174.084,465.149 3552.76,465.149 \n",
       "  \"/>\n",
       "<polyline clip-path=\"url(#clip552)\" style=\"stroke:#000000; stroke-width:2; stroke-opacity:0.1; fill:none\" points=\"\n",
       "  174.084,373.926 3552.76,373.926 \n",
       "  \"/>\n",
       "<polyline clip-path=\"url(#clip552)\" style=\"stroke:#000000; stroke-width:2; stroke-opacity:0.1; fill:none\" points=\"\n",
       "  174.084,282.702 3552.76,282.702 \n",
       "  \"/>\n",
       "<polyline clip-path=\"url(#clip552)\" style=\"stroke:#000000; stroke-width:2; stroke-opacity:0.1; fill:none\" points=\"\n",
       "  174.084,191.479 3552.76,191.479 \n",
       "  \"/>\n",
       "<polyline clip-path=\"url(#clip550)\" style=\"stroke:#000000; stroke-width:4; stroke-opacity:1; fill:none\" points=\"\n",
       "  174.084,568.688 174.084,133.552 \n",
       "  \"/>\n",
       "<polyline clip-path=\"url(#clip550)\" style=\"stroke:#000000; stroke-width:4; stroke-opacity:1; fill:none\" points=\"\n",
       "  174.084,556.373 214.628,556.373 \n",
       "  \"/>\n",
       "<polyline clip-path=\"url(#clip550)\" style=\"stroke:#000000; stroke-width:4; stroke-opacity:1; fill:none\" points=\"\n",
       "  174.084,465.149 214.628,465.149 \n",
       "  \"/>\n",
       "<polyline clip-path=\"url(#clip550)\" style=\"stroke:#000000; stroke-width:4; stroke-opacity:1; fill:none\" points=\"\n",
       "  174.084,373.926 214.628,373.926 \n",
       "  \"/>\n",
       "<polyline clip-path=\"url(#clip550)\" style=\"stroke:#000000; stroke-width:4; stroke-opacity:1; fill:none\" points=\"\n",
       "  174.084,282.702 214.628,282.702 \n",
       "  \"/>\n",
       "<polyline clip-path=\"url(#clip550)\" style=\"stroke:#000000; stroke-width:4; stroke-opacity:1; fill:none\" points=\"\n",
       "  174.084,191.479 214.628,191.479 \n",
       "  \"/>\n",
       "<path clip-path=\"url(#clip550)\" d=\"M 0 0 M81.5429 554.509 Q78.3947 554.509 76.5429 556.662 Q74.7142 558.815 74.7142 562.565 Q74.7142 566.292 76.5429 568.468 Q78.3947 570.62 81.5429 570.62 Q84.691 570.62 86.5197 568.468 Q88.3715 566.292 88.3715 562.565 Q88.3715 558.815 86.5197 556.662 Q84.691 554.509 81.5429 554.509 M90.8252 539.857 L90.8252 544.116 Q89.066 543.283 87.2604 542.843 Q85.478 542.403 83.7188 542.403 Q79.0892 542.403 76.6355 545.528 Q74.2049 548.653 73.8577 554.972 Q75.2234 552.958 77.2836 551.894 Q79.3438 550.806 81.8206 550.806 Q87.0289 550.806 90.0382 553.977 Q93.0706 557.125 93.0706 562.565 Q93.0706 567.889 89.9224 571.106 Q86.7743 574.324 81.5429 574.324 Q75.5475 574.324 72.3762 569.741 Q69.205 565.134 69.205 556.407 Q69.205 548.213 73.0938 543.352 Q76.9827 538.468 83.5336 538.468 Q85.2928 538.468 87.0752 538.815 Q88.8808 539.162 90.8252 539.857 Z\" fill=\"#000000\" fill-rule=\"evenodd\" fill-opacity=\"1\" /><path clip-path=\"url(#clip550)\" d=\"M 0 0 M108.14 542.171 Q104.529 542.171 102.7 545.736 Q100.895 549.278 100.895 556.407 Q100.895 563.514 102.7 567.079 Q104.529 570.62 108.14 570.62 Q111.774 570.62 113.58 567.079 Q115.408 563.514 115.408 556.407 Q115.408 549.278 113.58 545.736 Q111.774 542.171 108.14 542.171 M108.14 538.468 Q113.95 538.468 117.006 543.074 Q120.084 547.657 120.084 556.407 Q120.084 565.134 117.006 569.741 Q113.95 574.324 108.14 574.324 Q102.33 574.324 99.2511 569.741 Q96.1956 565.134 96.1956 556.407 Q96.1956 547.657 99.2511 543.074 Q102.33 538.468 108.14 538.468 Z\" fill=\"#000000\" fill-rule=\"evenodd\" fill-opacity=\"1\" /><path clip-path=\"url(#clip550)\" d=\"M 0 0 M70.8485 447.869 L93.0706 447.869 L93.0706 449.86 L80.5243 482.429 L75.6401 482.429 L87.4456 451.804 L70.8485 451.804 L70.8485 447.869 Z\" fill=\"#000000\" fill-rule=\"evenodd\" fill-opacity=\"1\" /><path clip-path=\"url(#clip550)\" d=\"M 0 0 M108.14 450.948 Q104.529 450.948 102.7 454.513 Q100.895 458.054 100.895 465.184 Q100.895 472.29 102.7 475.855 Q104.529 479.397 108.14 479.397 Q111.774 479.397 113.58 475.855 Q115.408 472.29 115.408 465.184 Q115.408 458.054 113.58 454.513 Q111.774 450.948 108.14 450.948 M108.14 447.244 Q113.95 447.244 117.006 451.851 Q120.084 456.434 120.084 465.184 Q120.084 473.911 117.006 478.517 Q113.95 483.101 108.14 483.101 Q102.33 483.101 99.2511 478.517 Q96.1956 473.911 96.1956 465.184 Q96.1956 456.434 99.2511 451.851 Q102.33 447.244 108.14 447.244 Z\" fill=\"#000000\" fill-rule=\"evenodd\" fill-opacity=\"1\" /><path clip-path=\"url(#clip550)\" d=\"M 0 0 M81.2188 374.794 Q77.8855 374.794 75.9642 376.576 Q74.066 378.359 74.066 381.484 Q74.066 384.609 75.9642 386.391 Q77.8855 388.173 81.2188 388.173 Q84.5521 388.173 86.4734 386.391 Q88.3947 384.586 88.3947 381.484 Q88.3947 378.359 86.4734 376.576 Q84.5752 374.794 81.2188 374.794 M76.5429 372.803 Q73.5336 372.062 71.8438 370.002 Q70.1772 367.942 70.1772 364.979 Q70.1772 360.836 73.117 358.428 Q76.0799 356.021 81.2188 356.021 Q86.3808 356.021 89.3206 358.428 Q92.2604 360.836 92.2604 364.979 Q92.2604 367.942 90.5706 370.002 Q88.9039 372.062 85.9178 372.803 Q89.2974 373.59 91.1724 375.882 Q93.0706 378.174 93.0706 381.484 Q93.0706 386.507 89.9919 389.192 Q86.9363 391.877 81.2188 391.877 Q75.5012 391.877 72.4225 389.192 Q69.367 386.507 69.367 381.484 Q69.367 378.174 71.2651 375.882 Q73.1633 373.59 76.5429 372.803 M74.8299 365.419 Q74.8299 368.104 76.4966 369.609 Q78.1864 371.113 81.2188 371.113 Q84.228 371.113 85.9178 369.609 Q87.6308 368.104 87.6308 365.419 Q87.6308 362.734 85.9178 361.229 Q84.228 359.725 81.2188 359.725 Q78.1864 359.725 76.4966 361.229 Q74.8299 362.734 74.8299 365.419 Z\" fill=\"#000000\" fill-rule=\"evenodd\" fill-opacity=\"1\" /><path clip-path=\"url(#clip550)\" d=\"M 0 0 M108.14 359.725 Q104.529 359.725 102.7 363.289 Q100.895 366.831 100.895 373.961 Q100.895 381.067 102.7 384.632 Q104.529 388.173 108.14 388.173 Q111.774 388.173 113.58 384.632 Q115.408 381.067 115.408 373.961 Q115.408 366.831 113.58 363.289 Q111.774 359.725 108.14 359.725 M108.14 356.021 Q113.95 356.021 117.006 360.627 Q120.084 365.211 120.084 373.961 Q120.084 382.687 117.006 387.294 Q113.95 391.877 108.14 391.877 Q102.33 391.877 99.2511 387.294 Q96.1956 382.687 96.1956 373.961 Q96.1956 365.211 99.2511 360.627 Q102.33 356.021 108.14 356.021 Z\" fill=\"#000000\" fill-rule=\"evenodd\" fill-opacity=\"1\" /><path clip-path=\"url(#clip550)\" d=\"M 0 0 M71.4503 299.265 L71.4503 295.006 Q73.2096 295.839 75.0151 296.279 Q76.8207 296.719 78.5568 296.719 Q83.1864 296.719 85.6169 293.617 Q88.0706 290.492 88.4178 284.149 Q87.0752 286.14 85.0151 287.205 Q82.9549 288.27 80.4549 288.27 Q75.2697 288.27 72.2374 285.145 Q69.2281 281.996 69.2281 276.557 Q69.2281 271.233 72.3762 268.015 Q75.5244 264.797 80.7558 264.797 Q86.7512 264.797 89.8993 269.404 Q93.0706 273.987 93.0706 282.737 Q93.0706 290.908 89.1817 295.793 Q85.316 300.654 78.7651 300.654 Q77.0058 300.654 75.2003 300.307 Q73.3948 299.959 71.4503 299.265 M80.7558 284.612 Q83.904 284.612 85.7326 282.459 Q87.5845 280.307 87.5845 276.557 Q87.5845 272.83 85.7326 270.677 Q83.904 268.501 80.7558 268.501 Q77.6077 268.501 75.7559 270.677 Q73.9272 272.83 73.9272 276.557 Q73.9272 280.307 75.7559 282.459 Q77.6077 284.612 80.7558 284.612 Z\" fill=\"#000000\" fill-rule=\"evenodd\" fill-opacity=\"1\" /><path clip-path=\"url(#clip550)\" d=\"M 0 0 M108.14 268.501 Q104.529 268.501 102.7 272.066 Q100.895 275.608 100.895 282.737 Q100.895 289.844 102.7 293.408 Q104.529 296.95 108.14 296.95 Q111.774 296.95 113.58 293.408 Q115.408 289.844 115.408 282.737 Q115.408 275.608 113.58 272.066 Q111.774 268.501 108.14 268.501 M108.14 264.797 Q113.95 264.797 117.006 269.404 Q120.084 273.987 120.084 282.737 Q120.084 291.464 117.006 296.07 Q113.95 300.654 108.14 300.654 Q102.33 300.654 99.2511 296.07 Q96.1956 291.464 96.1956 282.737 Q96.1956 273.987 99.2511 269.404 Q102.33 264.797 108.14 264.797 Z\" fill=\"#000000\" fill-rule=\"evenodd\" fill-opacity=\"1\" /><path clip-path=\"url(#clip550)\" d=\"M 0 0 M46.1495 204.824 L53.7884 204.824 L53.7884 178.458 L45.4782 180.125 L45.4782 175.866 L53.7421 174.199 L58.418 174.199 L58.418 204.824 L66.0568 204.824 L66.0568 208.759 L46.1495 208.759 L46.1495 204.824 Z\" fill=\"#000000\" fill-rule=\"evenodd\" fill-opacity=\"1\" /><path clip-path=\"url(#clip550)\" d=\"M 0 0 M81.1262 177.278 Q77.5151 177.278 75.6864 180.842 Q73.8809 184.384 73.8809 191.514 Q73.8809 198.62 75.6864 202.185 Q77.5151 205.727 81.1262 205.727 Q84.7604 205.727 86.566 202.185 Q88.3947 198.62 88.3947 191.514 Q88.3947 184.384 86.566 180.842 Q84.7604 177.278 81.1262 177.278 M81.1262 173.574 Q86.9363 173.574 89.9919 178.18 Q93.0706 182.764 93.0706 191.514 Q93.0706 200.241 89.9919 204.847 Q86.9363 209.43 81.1262 209.43 Q75.316 209.43 72.2374 204.847 Q69.1818 200.241 69.1818 191.514 Q69.1818 182.764 72.2374 178.18 Q75.316 173.574 81.1262 173.574 Z\" fill=\"#000000\" fill-rule=\"evenodd\" fill-opacity=\"1\" /><path clip-path=\"url(#clip550)\" d=\"M 0 0 M108.14 177.278 Q104.529 177.278 102.7 180.842 Q100.895 184.384 100.895 191.514 Q100.895 198.62 102.7 202.185 Q104.529 205.727 108.14 205.727 Q111.774 205.727 113.58 202.185 Q115.408 198.62 115.408 191.514 Q115.408 184.384 113.58 180.842 Q111.774 177.278 108.14 177.278 M108.14 173.574 Q113.95 173.574 117.006 178.18 Q120.084 182.764 120.084 191.514 Q120.084 200.241 117.006 204.847 Q113.95 209.43 108.14 209.43 Q102.33 209.43 99.2511 204.847 Q96.1956 200.241 96.1956 191.514 Q96.1956 182.764 99.2511 178.18 Q102.33 173.574 108.14 173.574 Z\" fill=\"#000000\" fill-rule=\"evenodd\" fill-opacity=\"1\" /><path clip-path=\"url(#clip550)\" d=\"M 0 0 M1143.94 43.6931 L1143.94 65.8515 L1157.06 65.8515 Q1163.67 65.8515 1166.83 63.1374 Q1170.03 60.3828 1170.03 54.752 Q1170.03 49.0808 1166.83 46.4072 Q1163.67 43.6931 1157.06 43.6931 L1143.94 43.6931 M1143.94 18.8205 L1143.94 37.0496 L1156.05 37.0496 Q1162.05 37.0496 1164.96 34.8216 Q1167.92 32.5531 1167.92 27.935 Q1167.92 23.3575 1164.96 21.089 Q1162.05 18.8205 1156.05 18.8205 L1143.94 18.8205 M1135.76 12.096 L1156.66 12.096 Q1166.02 12.096 1171.08 15.9849 Q1176.14 19.8737 1176.14 27.0438 Q1176.14 32.5936 1173.55 35.8748 Q1170.96 39.156 1165.94 39.9662 Q1171.97 41.2625 1175.29 45.3944 Q1178.66 49.4858 1178.66 55.6432 Q1178.66 63.745 1173.15 68.1605 Q1167.64 72.576 1157.47 72.576 L1135.76 72.576 L1135.76 12.096 Z\" fill=\"#000000\" fill-rule=\"evenodd\" fill-opacity=\"1\" /><path clip-path=\"url(#clip550)\" d=\"M 0 0 M1207.09 49.7694 Q1198.06 49.7694 1194.58 51.8354 Q1191.09 53.9013 1191.09 58.8839 Q1191.09 62.8538 1193.68 65.2034 Q1196.32 67.5124 1200.81 67.5124 Q1207.01 67.5124 1210.74 63.1374 Q1214.51 58.7219 1214.51 51.4303 L1214.51 49.7694 L1207.09 49.7694 M1221.96 46.6907 L1221.96 72.576 L1214.51 72.576 L1214.51 65.6895 Q1211.95 69.8214 1208.15 71.8063 Q1204.34 73.7508 1198.83 73.7508 Q1191.86 73.7508 1187.73 69.8619 Q1183.64 65.9325 1183.64 59.3701 Q1183.64 51.7138 1188.74 47.825 Q1193.89 43.9361 1204.05 43.9361 L1214.51 43.9361 L1214.51 43.2069 Q1214.51 38.0623 1211.1 35.2672 Q1207.74 32.4315 1201.62 32.4315 Q1197.74 32.4315 1194.05 33.3632 Q1190.36 34.295 1186.96 36.1584 L1186.96 29.2718 Q1191.05 27.692 1194.9 26.9223 Q1198.75 26.1121 1202.39 26.1121 Q1212.24 26.1121 1217.1 31.2163 Q1221.96 36.3204 1221.96 46.6907 Z\" fill=\"#000000\" fill-rule=\"evenodd\" fill-opacity=\"1\" /><path clip-path=\"url(#clip550)\" d=\"M 0 0 M1259.63 34.0924 L1259.63 9.54393 L1267.09 9.54393 L1267.09 72.576 L1259.63 72.576 L1259.63 65.7705 Q1257.28 69.8214 1253.68 71.8063 Q1250.11 73.7508 1245.09 73.7508 Q1236.87 73.7508 1231.68 67.1883 Q1226.54 60.6258 1226.54 49.9314 Q1226.54 39.2371 1231.68 32.6746 Q1236.87 26.1121 1245.09 26.1121 Q1250.11 26.1121 1253.68 28.0971 Q1257.28 30.0415 1259.63 34.0924 M1234.23 49.9314 Q1234.23 58.1548 1237.6 62.8538 Q1241 67.5124 1246.91 67.5124 Q1252.83 67.5124 1256.23 62.8538 Q1259.63 58.1548 1259.63 49.9314 Q1259.63 41.7081 1256.23 37.0496 Q1252.83 32.3505 1246.91 32.3505 Q1241 32.3505 1237.6 37.0496 Q1234.23 41.7081 1234.23 49.9314 Z\" fill=\"#000000\" fill-rule=\"evenodd\" fill-opacity=\"1\" /><path clip-path=\"url(#clip550)\" d=\"M 0 0 M1337.86 14.0809 L1337.86 22.0612 Q1333.2 19.8332 1329.07 18.7395 Q1324.93 17.6457 1321.09 17.6457 Q1314.4 17.6457 1310.76 20.2383 Q1307.15 22.8309 1307.15 27.611 Q1307.15 31.6214 1309.54 33.6873 Q1311.97 35.7128 1318.7 36.9686 L1323.64 37.9813 Q1332.79 39.7232 1337.13 44.1387 Q1341.5 48.5136 1341.5 55.8863 Q1341.5 64.6767 1335.59 69.2137 Q1329.71 73.7508 1318.33 73.7508 Q1314.04 73.7508 1309.18 72.7785 Q1304.35 71.8063 1299.17 69.9024 L1299.17 61.4765 Q1304.15 64.2716 1308.93 65.6895 Q1313.71 67.1073 1318.33 67.1073 Q1325.34 67.1073 1329.15 64.3527 Q1332.95 61.598 1332.95 56.4939 Q1332.95 52.0379 1330.2 49.5264 Q1327.49 47.0148 1321.25 45.759 L1316.26 44.7868 Q1307.11 42.9639 1303.02 39.075 Q1298.93 35.1862 1298.93 28.2591 Q1298.93 20.2383 1304.56 15.6203 Q1310.23 11.0023 1320.15 11.0023 Q1324.41 11.0023 1328.82 11.7719 Q1333.24 12.5416 1337.86 14.0809 Z\" fill=\"#000000\" fill-rule=\"evenodd\" fill-opacity=\"1\" /><path clip-path=\"url(#clip550)\" d=\"M 0 0 M1369.94 49.7694 Q1360.91 49.7694 1357.42 51.8354 Q1353.94 53.9013 1353.94 58.8839 Q1353.94 62.8538 1356.53 65.2034 Q1359.16 67.5124 1363.66 67.5124 Q1369.86 67.5124 1373.58 63.1374 Q1377.35 58.7219 1377.35 51.4303 L1377.35 49.7694 L1369.94 49.7694 M1384.81 46.6907 L1384.81 72.576 L1377.35 72.576 L1377.35 65.6895 Q1374.8 69.8214 1370.99 71.8063 Q1367.18 73.7508 1361.68 73.7508 Q1354.71 73.7508 1350.58 69.8619 Q1346.48 65.9325 1346.48 59.3701 Q1346.48 51.7138 1351.59 47.825 Q1356.73 43.9361 1366.9 43.9361 L1377.35 43.9361 L1377.35 43.2069 Q1377.35 38.0623 1373.95 35.2672 Q1370.59 32.4315 1364.47 32.4315 Q1360.58 32.4315 1356.9 33.3632 Q1353.21 34.295 1349.81 36.1584 L1349.81 29.2718 Q1353.9 27.692 1357.75 26.9223 Q1361.59 26.1121 1365.24 26.1121 Q1375.08 26.1121 1379.94 31.2163 Q1384.81 36.3204 1384.81 46.6907 Z\" fill=\"#000000\" fill-rule=\"evenodd\" fill-opacity=\"1\" /><path clip-path=\"url(#clip550)\" d=\"M 0 0 M1421.55 28.5427 L1421.55 35.5912 Q1418.39 33.9709 1414.99 33.1607 Q1411.58 32.3505 1407.94 32.3505 Q1402.39 32.3505 1399.59 34.0519 Q1396.84 35.7533 1396.84 39.156 Q1396.84 41.7486 1398.82 43.2475 Q1400.81 44.7058 1406.8 46.0426 L1409.35 46.6097 Q1417.29 48.3111 1420.62 51.4303 Q1423.98 54.509 1423.98 60.0587 Q1423.98 66.3781 1418.95 70.0644 Q1413.97 73.7508 1405.22 73.7508 Q1401.58 73.7508 1397.61 73.0216 Q1393.68 72.3329 1389.3 70.9151 L1389.3 63.2184 Q1393.43 65.3654 1397.44 66.4591 Q1401.45 67.5124 1405.38 67.5124 Q1410.65 67.5124 1413.49 65.73 Q1416.32 63.9071 1416.32 60.6258 Q1416.32 57.5877 1414.26 55.9673 Q1412.23 54.3469 1405.3 52.8481 L1402.71 52.2405 Q1395.78 50.7821 1392.71 47.7845 Q1389.63 44.7463 1389.63 39.4801 Q1389.63 33.0797 1394.16 29.5959 Q1398.7 26.1121 1407.05 26.1121 Q1411.18 26.1121 1414.82 26.7198 Q1418.47 27.3274 1421.55 28.5427 Z\" fill=\"#000000\" fill-rule=\"evenodd\" fill-opacity=\"1\" /><path clip-path=\"url(#clip550)\" d=\"M 0 0 M1460.72 28.5427 L1460.72 35.5912 Q1457.56 33.9709 1454.16 33.1607 Q1450.75 32.3505 1447.11 32.3505 Q1441.56 32.3505 1438.76 34.0519 Q1436.01 35.7533 1436.01 39.156 Q1436.01 41.7486 1437.99 43.2475 Q1439.98 44.7058 1445.97 46.0426 L1448.53 46.6097 Q1456.47 48.3111 1459.79 51.4303 Q1463.15 54.509 1463.15 60.0587 Q1463.15 66.3781 1458.13 70.0644 Q1453.14 73.7508 1444.39 73.7508 Q1440.75 73.7508 1436.78 73.0216 Q1432.85 72.3329 1428.47 70.9151 L1428.47 63.2184 Q1432.61 65.3654 1436.62 66.4591 Q1440.63 67.5124 1444.56 67.5124 Q1449.82 67.5124 1452.66 65.73 Q1455.49 63.9071 1455.49 60.6258 Q1455.49 57.5877 1453.43 55.9673 Q1451.4 54.3469 1444.48 52.8481 L1441.88 52.2405 Q1434.96 50.7821 1431.88 47.7845 Q1428.8 44.7463 1428.8 39.4801 Q1428.8 33.0797 1433.34 29.5959 Q1437.87 26.1121 1446.22 26.1121 Q1450.35 26.1121 1454 26.7198 Q1457.64 27.3274 1460.72 28.5427 Z\" fill=\"#000000\" fill-rule=\"evenodd\" fill-opacity=\"1\" /><path clip-path=\"url(#clip550)\" d=\"M 0 0 M1509.78 48.0275 L1509.78 51.6733 L1475.51 51.6733 Q1475.99 59.3701 1480.12 63.421 Q1484.3 67.4314 1491.71 67.4314 Q1496 67.4314 1500.01 66.3781 Q1504.06 65.3249 1508.03 63.2184 L1508.03 70.267 Q1504.02 71.9684 1499.81 72.8596 Q1495.6 73.7508 1491.26 73.7508 Q1480.41 73.7508 1474.05 67.4314 Q1467.73 61.1119 1467.73 50.3365 Q1467.73 39.1965 1473.72 32.6746 Q1479.76 26.1121 1489.97 26.1121 Q1499.12 26.1121 1504.43 32.0264 Q1509.78 37.9003 1509.78 48.0275 M1502.32 45.84 Q1502.24 39.7232 1498.88 36.0774 Q1495.56 32.4315 1490.05 32.4315 Q1483.81 32.4315 1480.04 35.9558 Q1476.32 39.4801 1475.75 45.8805 L1502.32 45.84 Z\" fill=\"#000000\" fill-rule=\"evenodd\" fill-opacity=\"1\" /><path clip-path=\"url(#clip550)\" d=\"M 0 0 M1555.31 45.1919 L1555.31 72.576 L1547.85 72.576 L1547.85 45.4349 Q1547.85 38.994 1545.34 35.7938 Q1542.83 32.5936 1537.81 32.5936 Q1531.77 32.5936 1528.29 36.4419 Q1524.81 40.2903 1524.81 46.9338 L1524.81 72.576 L1517.31 72.576 L1517.31 27.2059 L1524.81 27.2059 L1524.81 34.2544 Q1527.48 30.163 1531.08 28.1376 Q1534.73 26.1121 1539.47 26.1121 Q1547.29 26.1121 1551.3 30.9732 Q1555.31 35.7938 1555.31 45.1919 Z\" fill=\"#000000\" fill-rule=\"evenodd\" fill-opacity=\"1\" /><path clip-path=\"url(#clip550)\" d=\"M 0 0 M1592.98 34.0924 L1592.98 9.54393 L1600.44 9.54393 L1600.44 72.576 L1592.98 72.576 L1592.98 65.7705 Q1590.63 69.8214 1587.03 71.8063 Q1583.46 73.7508 1578.44 73.7508 Q1570.22 73.7508 1565.03 67.1883 Q1559.89 60.6258 1559.89 49.9314 Q1559.89 39.2371 1565.03 32.6746 Q1570.22 26.1121 1578.44 26.1121 Q1583.46 26.1121 1587.03 28.0971 Q1590.63 30.0415 1592.98 34.0924 M1567.58 49.9314 Q1567.58 58.1548 1570.94 62.8538 Q1574.35 67.5124 1580.26 67.5124 Q1586.18 67.5124 1589.58 62.8538 Q1592.98 58.1548 1592.98 49.9314 Q1592.98 41.7081 1589.58 37.0496 Q1586.18 32.3505 1580.26 32.3505 Q1574.35 32.3505 1570.94 37.0496 Q1567.58 41.7081 1567.58 49.9314 Z\" fill=\"#000000\" fill-rule=\"evenodd\" fill-opacity=\"1\" /><path clip-path=\"url(#clip550)\" d=\"M 0 0 M1625.83 32.4315 Q1619.84 32.4315 1616.36 37.1306 Q1612.87 41.7891 1612.87 49.9314 Q1612.87 58.0738 1616.31 62.7728 Q1619.8 67.4314 1625.83 67.4314 Q1631.79 67.4314 1635.27 62.7323 Q1638.76 58.0333 1638.76 49.9314 Q1638.76 41.8701 1635.27 37.1711 Q1631.79 32.4315 1625.83 32.4315 M1625.83 26.1121 Q1635.56 26.1121 1641.11 32.4315 Q1646.66 38.7509 1646.66 49.9314 Q1646.66 61.0714 1641.11 67.4314 Q1635.56 73.7508 1625.83 73.7508 Q1616.07 73.7508 1610.52 67.4314 Q1605.01 61.0714 1605.01 49.9314 Q1605.01 38.7509 1610.52 32.4315 Q1616.07 26.1121 1625.83 26.1121 Z\" fill=\"#000000\" fill-rule=\"evenodd\" fill-opacity=\"1\" /><path clip-path=\"url(#clip550)\" d=\"M 0 0 M1680.76 34.1734 Q1679.51 33.4443 1678.01 33.1202 Q1676.55 32.7556 1674.77 32.7556 Q1668.45 32.7556 1665.05 36.8875 Q1661.69 40.9789 1661.69 48.6757 L1661.69 72.576 L1654.19 72.576 L1654.19 27.2059 L1661.69 27.2059 L1661.69 34.2544 Q1664.03 30.1225 1667.8 28.1376 Q1671.57 26.1121 1676.96 26.1121 Q1677.73 26.1121 1678.66 26.2337 Q1679.59 26.3147 1680.72 26.5172 L1680.76 34.1734 Z\" fill=\"#000000\" fill-rule=\"evenodd\" fill-opacity=\"1\" /><path clip-path=\"url(#clip550)\" d=\"M 0 0 M1711.55 9.54393 L1711.55 15.7418 L1704.42 15.7418 Q1700.41 15.7418 1698.83 17.3622 Q1697.29 18.9825 1697.29 23.1955 L1697.29 27.2059 L1709.57 27.2059 L1709.57 32.9987 L1697.29 32.9987 L1697.29 72.576 L1689.8 72.576 L1689.8 32.9987 L1682.67 32.9987 L1682.67 27.2059 L1689.8 27.2059 L1689.8 24.0462 Q1689.8 16.471 1693.32 13.0277 Q1696.85 9.54393 1704.5 9.54393 L1711.55 9.54393 Z\" fill=\"#000000\" fill-rule=\"evenodd\" fill-opacity=\"1\" /><path clip-path=\"url(#clip550)\" d=\"M 0 0 M1758.99 12.096 L1765.87 12.096 L1744.81 80.2727 L1737.92 80.2727 L1758.99 12.096 Z\" fill=\"#000000\" fill-rule=\"evenodd\" fill-opacity=\"1\" /><path clip-path=\"url(#clip550)\" d=\"M 0 0 M1800.39 12.096 L1808.57 12.096 L1808.57 65.6895 L1838.02 65.6895 L1838.02 72.576 L1800.39 72.576 L1800.39 12.096 Z\" fill=\"#000000\" fill-rule=\"evenodd\" fill-opacity=\"1\" /><path clip-path=\"url(#clip550)\" d=\"M 0 0 M1845.84 27.2059 L1853.29 27.2059 L1853.29 72.576 L1845.84 72.576 L1845.84 27.2059 M1845.84 9.54393 L1853.29 9.54393 L1853.29 18.9825 L1845.84 18.9825 L1845.84 9.54393 Z\" fill=\"#000000\" fill-rule=\"evenodd\" fill-opacity=\"1\" /><path clip-path=\"url(#clip550)\" d=\"M 0 0 M1868.32 65.7705 L1868.32 89.8329 L1860.83 89.8329 L1860.83 27.2059 L1868.32 27.2059 L1868.32 34.0924 Q1870.67 30.0415 1874.24 28.0971 Q1877.84 26.1121 1882.82 26.1121 Q1891.09 26.1121 1896.23 32.6746 Q1901.42 39.2371 1901.42 49.9314 Q1901.42 60.6258 1896.23 67.1883 Q1891.09 73.7508 1882.82 73.7508 Q1877.84 73.7508 1874.24 71.8063 Q1870.67 69.8214 1868.32 65.7705 M1893.68 49.9314 Q1893.68 41.7081 1890.28 37.0496 Q1886.92 32.3505 1881 32.3505 Q1875.09 32.3505 1871.68 37.0496 Q1868.32 41.7081 1868.32 49.9314 Q1868.32 58.1548 1871.68 62.8538 Q1875.09 67.5124 1881 67.5124 Q1886.92 67.5124 1890.28 62.8538 Q1893.68 58.1548 1893.68 49.9314 Z\" fill=\"#000000\" fill-rule=\"evenodd\" fill-opacity=\"1\" /><path clip-path=\"url(#clip550)\" d=\"M 0 0 M1916.45 65.7705 L1916.45 89.8329 L1908.95 89.8329 L1908.95 27.2059 L1916.45 27.2059 L1916.45 34.0924 Q1918.8 30.0415 1922.36 28.0971 Q1925.97 26.1121 1930.95 26.1121 Q1939.21 26.1121 1944.36 32.6746 Q1949.54 39.2371 1949.54 49.9314 Q1949.54 60.6258 1944.36 67.1883 Q1939.21 73.7508 1930.95 73.7508 Q1925.97 73.7508 1922.36 71.8063 Q1918.8 69.8214 1916.45 65.7705 M1941.81 49.9314 Q1941.81 41.7081 1938.4 37.0496 Q1935.04 32.3505 1929.13 32.3505 Q1923.21 32.3505 1919.81 37.0496 Q1916.45 41.7081 1916.45 49.9314 Q1916.45 58.1548 1919.81 62.8538 Q1923.21 67.5124 1929.13 67.5124 Q1935.04 67.5124 1938.4 62.8538 Q1941.81 58.1548 1941.81 49.9314 Z\" fill=\"#000000\" fill-rule=\"evenodd\" fill-opacity=\"1\" /><path clip-path=\"url(#clip550)\" d=\"M 0 0 M1986.28 28.5427 L1986.28 35.5912 Q1983.12 33.9709 1979.72 33.1607 Q1976.32 32.3505 1972.67 32.3505 Q1967.12 32.3505 1964.33 34.0519 Q1961.57 35.7533 1961.57 39.156 Q1961.57 41.7486 1963.56 43.2475 Q1965.54 44.7058 1971.54 46.0426 L1974.09 46.6097 Q1982.03 48.3111 1985.35 51.4303 Q1988.71 54.509 1988.71 60.0587 Q1988.71 66.3781 1983.69 70.0644 Q1978.71 73.7508 1969.96 73.7508 Q1966.31 73.7508 1962.34 73.0216 Q1958.41 72.3329 1954.04 70.9151 L1954.04 63.2184 Q1958.17 65.3654 1962.18 66.4591 Q1966.19 67.5124 1970.12 67.5124 Q1975.39 67.5124 1978.22 65.73 Q1981.06 63.9071 1981.06 60.6258 Q1981.06 57.5877 1978.99 55.9673 Q1976.97 54.3469 1970.04 52.8481 L1967.45 52.2405 Q1960.52 50.7821 1957.44 47.7845 Q1954.36 44.7463 1954.36 39.4801 Q1954.36 33.0797 1958.9 29.5959 Q1963.44 26.1121 1971.78 26.1121 Q1975.91 26.1121 1979.56 26.7198 Q1983.21 27.3274 1986.28 28.5427 Z\" fill=\"#000000\" fill-rule=\"evenodd\" fill-opacity=\"1\" /><path clip-path=\"url(#clip550)\" d=\"M 0 0 M2003.91 14.324 L2003.91 27.2059 L2019.26 27.2059 L2019.26 32.9987 L2003.91 32.9987 L2003.91 57.6282 Q2003.91 63.1779 2005.4 64.7578 Q2006.94 66.3376 2011.6 66.3376 L2019.26 66.3376 L2019.26 72.576 L2011.6 72.576 Q2002.97 72.576 1999.69 69.3758 Q1996.41 66.1351 1996.41 57.6282 L1996.41 32.9987 L1990.94 32.9987 L1990.94 27.2059 L1996.41 27.2059 L1996.41 14.324 L2003.91 14.324 Z\" fill=\"#000000\" fill-rule=\"evenodd\" fill-opacity=\"1\" /><path clip-path=\"url(#clip550)\" d=\"M 0 0 M2047.7 49.7694 Q2038.66 49.7694 2035.18 51.8354 Q2031.69 53.9013 2031.69 58.8839 Q2031.69 62.8538 2034.29 65.2034 Q2036.92 67.5124 2041.42 67.5124 Q2047.61 67.5124 2051.34 63.1374 Q2055.11 58.7219 2055.11 51.4303 L2055.11 49.7694 L2047.7 49.7694 M2062.56 46.6907 L2062.56 72.576 L2055.11 72.576 L2055.11 65.6895 Q2052.56 69.8214 2048.75 71.8063 Q2044.94 73.7508 2039.43 73.7508 Q2032.46 73.7508 2028.33 69.8619 Q2024.24 65.9325 2024.24 59.3701 Q2024.24 51.7138 2029.35 47.825 Q2034.49 43.9361 2044.66 43.9361 L2055.11 43.9361 L2055.11 43.2069 Q2055.11 38.0623 2051.71 35.2672 Q2048.34 32.4315 2042.23 32.4315 Q2038.34 32.4315 2034.65 33.3632 Q2030.97 34.295 2027.56 36.1584 L2027.56 29.2718 Q2031.65 27.692 2035.5 26.9223 Q2039.35 26.1121 2043 26.1121 Q2052.84 26.1121 2057.7 31.2163 Q2062.56 36.3204 2062.56 46.6907 Z\" fill=\"#000000\" fill-rule=\"evenodd\" fill-opacity=\"1\" /><path clip-path=\"url(#clip550)\" d=\"M 0 0 M2100.24 34.0924 L2100.24 9.54393 L2107.69 9.54393 L2107.69 72.576 L2100.24 72.576 L2100.24 65.7705 Q2097.89 69.8214 2094.28 71.8063 Q2090.72 73.7508 2085.69 73.7508 Q2077.47 73.7508 2072.28 67.1883 Q2067.14 60.6258 2067.14 49.9314 Q2067.14 39.2371 2072.28 32.6746 Q2077.47 26.1121 2085.69 26.1121 Q2090.72 26.1121 2094.28 28.0971 Q2097.89 30.0415 2100.24 34.0924 M2074.84 49.9314 Q2074.84 58.1548 2078.2 62.8538 Q2081.6 67.5124 2087.52 67.5124 Q2093.43 67.5124 2096.83 62.8538 Q2100.24 58.1548 2100.24 49.9314 Q2100.24 41.7081 2096.83 37.0496 Q2093.43 32.3505 2087.52 32.3505 Q2081.6 32.3505 2078.2 37.0496 Q2074.84 41.7081 2074.84 49.9314 Z\" fill=\"#000000\" fill-rule=\"evenodd\" fill-opacity=\"1\" /><path clip-path=\"url(#clip550)\" d=\"M 0 0 M2122.88 14.324 L2122.88 27.2059 L2138.23 27.2059 L2138.23 32.9987 L2122.88 32.9987 L2122.88 57.6282 Q2122.88 63.1779 2124.38 64.7578 Q2125.92 66.3376 2130.58 66.3376 L2138.23 66.3376 L2138.23 72.576 L2130.58 72.576 Q2121.95 72.576 2118.67 69.3758 Q2115.39 66.1351 2115.39 57.6282 L2115.39 32.9987 L2109.92 32.9987 L2109.92 27.2059 L2115.39 27.2059 L2115.39 14.324 L2122.88 14.324 Z\" fill=\"#000000\" fill-rule=\"evenodd\" fill-opacity=\"1\" /><path clip-path=\"url(#clip550)\" d=\"M 0 0 M2172.75 12.096 L2180.93 12.096 L2180.93 37.6572 L2208.07 12.096 L2218.6 12.096 L2188.59 40.2903 L2220.75 72.576 L2209.97 72.576 L2180.93 43.45 L2180.93 72.576 L2172.75 72.576 L2172.75 12.096 Z\" fill=\"#000000\" fill-rule=\"evenodd\" fill-opacity=\"1\" /><path clip-path=\"url(#clip550)\" d=\"M 0 0 M2254.86 34.1734 Q2253.6 33.4443 2252.1 33.1202 Q2250.65 32.7556 2248.86 32.7556 Q2242.54 32.7556 2239.14 36.8875 Q2235.78 40.9789 2235.78 48.6757 L2235.78 72.576 L2228.29 72.576 L2228.29 27.2059 L2235.78 27.2059 L2235.78 34.2544 Q2238.13 30.1225 2241.9 28.1376 Q2245.66 26.1121 2251.05 26.1121 Q2251.82 26.1121 2252.75 26.2337 Q2253.68 26.3147 2254.82 26.5172 L2254.86 34.1734 Z\" fill=\"#000000\" fill-rule=\"evenodd\" fill-opacity=\"1\" /><path clip-path=\"url(#clip550)\" d=\"M 0 0 M2299.66 48.0275 L2299.66 51.6733 L2265.39 51.6733 Q2265.88 59.3701 2270.01 63.421 Q2274.18 67.4314 2281.59 67.4314 Q2285.89 67.4314 2289.9 66.3781 Q2293.95 65.3249 2297.92 63.2184 L2297.92 70.267 Q2293.91 71.9684 2289.7 72.8596 Q2285.48 73.7508 2281.15 73.7508 Q2270.29 73.7508 2263.93 67.4314 Q2257.61 61.1119 2257.61 50.3365 Q2257.61 39.1965 2263.61 32.6746 Q2269.64 26.1121 2279.85 26.1121 Q2289.01 26.1121 2294.31 32.0264 Q2299.66 37.9003 2299.66 48.0275 M2292.21 45.84 Q2292.13 39.7232 2288.77 36.0774 Q2285.44 32.4315 2279.93 32.4315 Q2273.7 32.4315 2269.93 35.9558 Q2266.2 39.4801 2265.63 45.8805 L2292.21 45.84 Z\" fill=\"#000000\" fill-rule=\"evenodd\" fill-opacity=\"1\" /><path clip-path=\"url(#clip550)\" d=\"M 0 0 M2307.48 27.2059 L2314.93 27.2059 L2314.93 72.576 L2307.48 72.576 L2307.48 27.2059 M2307.48 9.54393 L2314.93 9.54393 L2314.93 18.9825 L2307.48 18.9825 L2307.48 9.54393 Z\" fill=\"#000000\" fill-rule=\"evenodd\" fill-opacity=\"1\" /><path clip-path=\"url(#clip550)\" d=\"M 0 0 M2351.68 28.5427 L2351.68 35.5912 Q2348.52 33.9709 2345.11 33.1607 Q2341.71 32.3505 2338.06 32.3505 Q2332.51 32.3505 2329.72 34.0519 Q2326.97 35.7533 2326.97 39.156 Q2326.97 41.7486 2328.95 43.2475 Q2330.93 44.7058 2336.93 46.0426 L2339.48 46.6097 Q2347.42 48.3111 2350.74 51.4303 Q2354.11 54.509 2354.11 60.0587 Q2354.11 66.3781 2349.08 70.0644 Q2344.1 73.7508 2335.35 73.7508 Q2331.7 73.7508 2327.73 73.0216 Q2323.81 72.3329 2319.43 70.9151 L2319.43 63.2184 Q2323.56 65.3654 2327.57 66.4591 Q2331.58 67.5124 2335.51 67.5124 Q2340.78 67.5124 2343.61 65.73 Q2346.45 63.9071 2346.45 60.6258 Q2346.45 57.5877 2344.38 55.9673 Q2342.36 54.3469 2335.43 52.8481 L2332.84 52.2405 Q2325.91 50.7821 2322.83 47.7845 Q2319.75 44.7463 2319.75 39.4801 Q2319.75 33.0797 2324.29 29.5959 Q2328.83 26.1121 2337.17 26.1121 Q2341.31 26.1121 2344.95 26.7198 Q2348.6 27.3274 2351.68 28.5427 Z\" fill=\"#000000\" fill-rule=\"evenodd\" fill-opacity=\"1\" /><path clip-path=\"url(#clip550)\" d=\"M 0 0 M2424.88 14.0809 L2424.88 22.0612 Q2420.22 19.8332 2416.08 18.7395 Q2411.95 17.6457 2408.1 17.6457 Q2401.42 17.6457 2397.77 20.2383 Q2394.17 22.8309 2394.17 27.611 Q2394.17 31.6214 2396.56 33.6873 Q2398.99 35.7128 2405.71 36.9686 L2410.66 37.9813 Q2419.81 39.7232 2424.15 44.1387 Q2428.52 48.5136 2428.52 55.8863 Q2428.52 64.6767 2422.61 69.2137 Q2416.73 73.7508 2405.35 73.7508 Q2401.06 73.7508 2396.2 72.7785 Q2391.37 71.8063 2386.19 69.9024 L2386.19 61.4765 Q2391.17 64.2716 2395.95 65.6895 Q2400.73 67.1073 2405.35 67.1073 Q2412.36 67.1073 2416.17 64.3527 Q2419.97 61.598 2419.97 56.4939 Q2419.97 52.0379 2417.22 49.5264 Q2414.51 47.0148 2408.27 45.759 L2403.28 44.7868 Q2394.13 42.9639 2390.04 39.075 Q2385.95 35.1862 2385.95 28.2591 Q2385.95 20.2383 2391.58 15.6203 Q2397.25 11.0023 2407.17 11.0023 Q2411.43 11.0023 2415.84 11.7719 Q2420.26 12.5416 2424.88 14.0809 Z\" fill=\"#000000\" fill-rule=\"evenodd\" fill-opacity=\"1\" /><path clip-path=\"url(#clip550)\" d=\"M 0 0 M2453.92 32.4315 Q2447.93 32.4315 2444.44 37.1306 Q2440.96 41.7891 2440.96 49.9314 Q2440.96 58.0738 2444.4 62.7728 Q2447.88 67.4314 2453.92 67.4314 Q2459.88 67.4314 2463.36 62.7323 Q2466.84 58.0333 2466.84 49.9314 Q2466.84 41.8701 2463.36 37.1711 Q2459.88 32.4315 2453.92 32.4315 M2453.92 26.1121 Q2463.64 26.1121 2469.19 32.4315 Q2474.74 38.7509 2474.74 49.9314 Q2474.74 61.0714 2469.19 67.4314 Q2463.64 73.7508 2453.92 73.7508 Q2444.16 73.7508 2438.61 67.4314 Q2433.1 61.0714 2433.1 49.9314 Q2433.1 38.7509 2438.61 32.4315 Q2444.16 26.1121 2453.92 26.1121 Z\" fill=\"#000000\" fill-rule=\"evenodd\" fill-opacity=\"1\" /><path clip-path=\"url(#clip550)\" d=\"M 0 0 M2521.37 48.0275 L2521.37 51.6733 L2487.1 51.6733 Q2487.58 59.3701 2491.72 63.421 Q2495.89 67.4314 2503.3 67.4314 Q2507.59 67.4314 2511.61 66.3781 Q2515.66 65.3249 2519.63 63.2184 L2519.63 70.267 Q2515.62 71.9684 2511.4 72.8596 Q2507.19 73.7508 2502.86 73.7508 Q2492 73.7508 2485.64 67.4314 Q2479.32 61.1119 2479.32 50.3365 Q2479.32 39.1965 2485.31 32.6746 Q2491.35 26.1121 2501.56 26.1121 Q2510.71 26.1121 2516.02 32.0264 Q2521.37 37.9003 2521.37 48.0275 M2513.91 45.84 Q2513.83 39.7232 2510.47 36.0774 Q2507.15 32.4315 2501.64 32.4315 Q2495.4 32.4315 2491.63 35.9558 Q2487.91 39.4801 2487.34 45.8805 L2513.91 45.84 Z\" fill=\"#000000\" fill-rule=\"evenodd\" fill-opacity=\"1\" /><path clip-path=\"url(#clip550)\" d=\"M 0 0 M2558.11 28.5427 L2558.11 35.5912 Q2554.95 33.9709 2551.55 33.1607 Q2548.14 32.3505 2544.5 32.3505 Q2538.95 32.3505 2536.15 34.0519 Q2533.4 35.7533 2533.4 39.156 Q2533.4 41.7486 2535.38 43.2475 Q2537.37 44.7058 2543.36 46.0426 L2545.92 46.6097 Q2553.86 48.3111 2557.18 51.4303 Q2560.54 54.509 2560.54 60.0587 Q2560.54 66.3781 2555.52 70.0644 Q2550.53 73.7508 2541.78 73.7508 Q2538.14 73.7508 2534.17 73.0216 Q2530.24 72.3329 2525.86 70.9151 L2525.86 63.2184 Q2530 65.3654 2534.01 66.4591 Q2538.02 67.5124 2541.95 67.5124 Q2547.21 67.5124 2550.05 65.73 Q2552.88 63.9071 2552.88 60.6258 Q2552.88 57.5877 2550.82 55.9673 Q2548.79 54.3469 2541.87 52.8481 L2539.27 52.2405 Q2532.35 50.7821 2529.27 47.7845 Q2526.19 44.7463 2526.19 39.4801 Q2526.19 33.0797 2530.73 29.5959 Q2535.26 26.1121 2543.61 26.1121 Q2547.74 26.1121 2551.39 26.7198 Q2555.03 27.3274 2558.11 28.5427 Z\" fill=\"#000000\" fill-rule=\"evenodd\" fill-opacity=\"1\" /><path clip-path=\"url(#clip550)\" d=\"M 0 0 M2575.73 14.324 L2575.73 27.2059 L2591.08 27.2059 L2591.08 32.9987 L2575.73 32.9987 L2575.73 57.6282 Q2575.73 63.1779 2577.23 64.7578 Q2578.77 66.3376 2583.43 66.3376 L2591.08 66.3376 L2591.08 72.576 L2583.43 72.576 Q2574.8 72.576 2571.52 69.3758 Q2568.24 66.1351 2568.24 57.6282 L2568.24 32.9987 L2562.77 32.9987 L2562.77 27.2059 L2568.24 27.2059 L2568.24 14.324 L2575.73 14.324 Z\" fill=\"#000000\" fill-rule=\"evenodd\" fill-opacity=\"1\" /><circle clip-path=\"url(#clip552)\" cx=\"269.707\" cy=\"474.272\" r=\"14\" fill=\"#009af9\" fill-rule=\"evenodd\" fill-opacity=\"1\" stroke=\"#000000\" stroke-opacity=\"1\" stroke-width=\"5.6\"/>\n",
       "<circle clip-path=\"url(#clip552)\" cx=\"315.902\" cy=\"401.293\" r=\"14\" fill=\"#009af9\" fill-rule=\"evenodd\" fill-opacity=\"1\" stroke=\"#000000\" stroke-opacity=\"1\" stroke-width=\"5.6\"/>\n",
       "<circle clip-path=\"url(#clip552)\" cx=\"362.096\" cy=\"364.804\" r=\"14\" fill=\"#009af9\" fill-rule=\"evenodd\" fill-opacity=\"1\" stroke=\"#000000\" stroke-opacity=\"1\" stroke-width=\"5.6\"/>\n",
       "<circle clip-path=\"url(#clip552)\" cx=\"408.291\" cy=\"291.825\" r=\"14\" fill=\"#009af9\" fill-rule=\"evenodd\" fill-opacity=\"1\" stroke=\"#000000\" stroke-opacity=\"1\" stroke-width=\"5.6\"/>\n",
       "<circle clip-path=\"url(#clip552)\" cx=\"454.485\" cy=\"319.192\" r=\"14\" fill=\"#009af9\" fill-rule=\"evenodd\" fill-opacity=\"1\" stroke=\"#000000\" stroke-opacity=\"1\" stroke-width=\"5.6\"/>\n",
       "<circle clip-path=\"url(#clip552)\" cx=\"500.68\" cy=\"173.234\" r=\"14\" fill=\"#009af9\" fill-rule=\"evenodd\" fill-opacity=\"1\" stroke=\"#000000\" stroke-opacity=\"1\" stroke-width=\"5.6\"/>\n",
       "<circle clip-path=\"url(#clip552)\" cx=\"546.875\" cy=\"227.968\" r=\"14\" fill=\"#009af9\" fill-rule=\"evenodd\" fill-opacity=\"1\" stroke=\"#000000\" stroke-opacity=\"1\" stroke-width=\"5.6\"/>\n",
       "<circle clip-path=\"url(#clip552)\" cx=\"593.069\" cy=\"474.272\" r=\"14\" fill=\"#009af9\" fill-rule=\"evenodd\" fill-opacity=\"1\" stroke=\"#000000\" stroke-opacity=\"1\" stroke-width=\"5.6\"/>\n",
       "<circle clip-path=\"url(#clip552)\" cx=\"639.264\" cy=\"227.968\" r=\"14\" fill=\"#009af9\" fill-rule=\"evenodd\" fill-opacity=\"1\" stroke=\"#000000\" stroke-opacity=\"1\" stroke-width=\"5.6\"/>\n",
       "<circle clip-path=\"url(#clip552)\" cx=\"685.458\" cy=\"373.926\" r=\"14\" fill=\"#009af9\" fill-rule=\"evenodd\" fill-opacity=\"1\" stroke=\"#000000\" stroke-opacity=\"1\" stroke-width=\"5.6\"/>\n",
       "<circle clip-path=\"url(#clip552)\" cx=\"731.653\" cy=\"419.538\" r=\"14\" fill=\"#009af9\" fill-rule=\"evenodd\" fill-opacity=\"1\" stroke=\"#000000\" stroke-opacity=\"1\" stroke-width=\"5.6\"/>\n",
       "<circle clip-path=\"url(#clip552)\" cx=\"777.847\" cy=\"501.639\" r=\"14\" fill=\"#009af9\" fill-rule=\"evenodd\" fill-opacity=\"1\" stroke=\"#000000\" stroke-opacity=\"1\" stroke-width=\"5.6\"/>\n",
       "<circle clip-path=\"url(#clip552)\" cx=\"824.042\" cy=\"218.846\" r=\"14\" fill=\"#009af9\" fill-rule=\"evenodd\" fill-opacity=\"1\" stroke=\"#000000\" stroke-opacity=\"1\" stroke-width=\"5.6\"/>\n",
       "<circle clip-path=\"url(#clip552)\" cx=\"870.237\" cy=\"191.479\" r=\"14\" fill=\"#009af9\" fill-rule=\"evenodd\" fill-opacity=\"1\" stroke=\"#000000\" stroke-opacity=\"1\" stroke-width=\"5.6\"/>\n",
       "<circle clip-path=\"url(#clip552)\" cx=\"916.431\" cy=\"237.091\" r=\"14\" fill=\"#009af9\" fill-rule=\"evenodd\" fill-opacity=\"1\" stroke=\"#000000\" stroke-opacity=\"1\" stroke-width=\"5.6\"/>\n",
       "<circle clip-path=\"url(#clip552)\" cx=\"962.626\" cy=\"273.58\" r=\"14\" fill=\"#009af9\" fill-rule=\"evenodd\" fill-opacity=\"1\" stroke=\"#000000\" stroke-opacity=\"1\" stroke-width=\"5.6\"/>\n",
       "<circle clip-path=\"url(#clip552)\" cx=\"1008.82\" cy=\"492.516\" r=\"14\" fill=\"#009af9\" fill-rule=\"evenodd\" fill-opacity=\"1\" stroke=\"#000000\" stroke-opacity=\"1\" stroke-width=\"5.6\"/>\n",
       "<circle clip-path=\"url(#clip552)\" cx=\"1055.01\" cy=\"492.516\" r=\"14\" fill=\"#009af9\" fill-rule=\"evenodd\" fill-opacity=\"1\" stroke=\"#000000\" stroke-opacity=\"1\" stroke-width=\"5.6\"/>\n",
       "<circle clip-path=\"url(#clip552)\" cx=\"1101.21\" cy=\"310.069\" r=\"14\" fill=\"#009af9\" fill-rule=\"evenodd\" fill-opacity=\"1\" stroke=\"#000000\" stroke-opacity=\"1\" stroke-width=\"5.6\"/>\n",
       "<circle clip-path=\"url(#clip552)\" cx=\"1147.4\" cy=\"200.601\" r=\"14\" fill=\"#009af9\" fill-rule=\"evenodd\" fill-opacity=\"1\" stroke=\"#000000\" stroke-opacity=\"1\" stroke-width=\"5.6\"/>\n",
       "<circle clip-path=\"url(#clip552)\" cx=\"1193.6\" cy=\"145.867\" r=\"14\" fill=\"#009af9\" fill-rule=\"evenodd\" fill-opacity=\"1\" stroke=\"#000000\" stroke-opacity=\"1\" stroke-width=\"5.6\"/>\n",
       "<circle clip-path=\"url(#clip552)\" cx=\"1239.79\" cy=\"337.436\" r=\"14\" fill=\"#009af9\" fill-rule=\"evenodd\" fill-opacity=\"1\" stroke=\"#000000\" stroke-opacity=\"1\" stroke-width=\"5.6\"/>\n",
       "<circle clip-path=\"url(#clip552)\" cx=\"1285.99\" cy=\"392.171\" r=\"14\" fill=\"#009af9\" fill-rule=\"evenodd\" fill-opacity=\"1\" stroke=\"#000000\" stroke-opacity=\"1\" stroke-width=\"5.6\"/>\n",
       "<circle clip-path=\"url(#clip552)\" cx=\"1332.18\" cy=\"255.335\" r=\"14\" fill=\"#009af9\" fill-rule=\"evenodd\" fill-opacity=\"1\" stroke=\"#000000\" stroke-opacity=\"1\" stroke-width=\"5.6\"/>\n",
       "<circle clip-path=\"url(#clip552)\" cx=\"1378.38\" cy=\"446.905\" r=\"14\" fill=\"#009af9\" fill-rule=\"evenodd\" fill-opacity=\"1\" stroke=\"#000000\" stroke-opacity=\"1\" stroke-width=\"5.6\"/>\n",
       "<circle clip-path=\"url(#clip552)\" cx=\"1424.57\" cy=\"510.761\" r=\"14\" fill=\"#009af9\" fill-rule=\"evenodd\" fill-opacity=\"1\" stroke=\"#000000\" stroke-opacity=\"1\" stroke-width=\"5.6\"/>\n",
       "<circle clip-path=\"url(#clip552)\" cx=\"1470.77\" cy=\"291.825\" r=\"14\" fill=\"#009af9\" fill-rule=\"evenodd\" fill-opacity=\"1\" stroke=\"#000000\" stroke-opacity=\"1\" stroke-width=\"5.6\"/>\n",
       "<circle clip-path=\"url(#clip552)\" cx=\"1516.96\" cy=\"483.394\" r=\"14\" fill=\"#009af9\" fill-rule=\"evenodd\" fill-opacity=\"1\" stroke=\"#000000\" stroke-opacity=\"1\" stroke-width=\"5.6\"/>\n",
       "<circle clip-path=\"url(#clip552)\" cx=\"1563.16\" cy=\"373.926\" r=\"14\" fill=\"#009af9\" fill-rule=\"evenodd\" fill-opacity=\"1\" stroke=\"#000000\" stroke-opacity=\"1\" stroke-width=\"5.6\"/>\n",
       "<circle clip-path=\"url(#clip552)\" cx=\"1609.35\" cy=\"191.479\" r=\"14\" fill=\"#009af9\" fill-rule=\"evenodd\" fill-opacity=\"1\" stroke=\"#000000\" stroke-opacity=\"1\" stroke-width=\"5.6\"/>\n",
       "<circle clip-path=\"url(#clip552)\" cx=\"1655.54\" cy=\"346.559\" r=\"14\" fill=\"#009af9\" fill-rule=\"evenodd\" fill-opacity=\"1\" stroke=\"#000000\" stroke-opacity=\"1\" stroke-width=\"5.6\"/>\n",
       "<circle clip-path=\"url(#clip552)\" cx=\"1701.74\" cy=\"373.926\" r=\"14\" fill=\"#009af9\" fill-rule=\"evenodd\" fill-opacity=\"1\" stroke=\"#000000\" stroke-opacity=\"1\" stroke-width=\"5.6\"/>\n",
       "<circle clip-path=\"url(#clip552)\" cx=\"1747.93\" cy=\"373.926\" r=\"14\" fill=\"#009af9\" fill-rule=\"evenodd\" fill-opacity=\"1\" stroke=\"#000000\" stroke-opacity=\"1\" stroke-width=\"5.6\"/>\n",
       "<circle clip-path=\"url(#clip552)\" cx=\"1794.13\" cy=\"401.293\" r=\"14\" fill=\"#009af9\" fill-rule=\"evenodd\" fill-opacity=\"1\" stroke=\"#000000\" stroke-opacity=\"1\" stroke-width=\"5.6\"/>\n",
       "<circle clip-path=\"url(#clip552)\" cx=\"1840.32\" cy=\"282.702\" r=\"14\" fill=\"#009af9\" fill-rule=\"evenodd\" fill-opacity=\"1\" stroke=\"#000000\" stroke-opacity=\"1\" stroke-width=\"5.6\"/>\n",
       "<circle clip-path=\"url(#clip552)\" cx=\"1886.52\" cy=\"255.335\" r=\"14\" fill=\"#009af9\" fill-rule=\"evenodd\" fill-opacity=\"1\" stroke=\"#000000\" stroke-opacity=\"1\" stroke-width=\"5.6\"/>\n",
       "<circle clip-path=\"url(#clip552)\" cx=\"1932.71\" cy=\"255.335\" r=\"14\" fill=\"#009af9\" fill-rule=\"evenodd\" fill-opacity=\"1\" stroke=\"#000000\" stroke-opacity=\"1\" stroke-width=\"5.6\"/>\n",
       "<circle clip-path=\"url(#clip552)\" cx=\"1978.91\" cy=\"209.724\" r=\"14\" fill=\"#009af9\" fill-rule=\"evenodd\" fill-opacity=\"1\" stroke=\"#000000\" stroke-opacity=\"1\" stroke-width=\"5.6\"/>\n",
       "<circle clip-path=\"url(#clip552)\" cx=\"2025.1\" cy=\"437.782\" r=\"14\" fill=\"#009af9\" fill-rule=\"evenodd\" fill-opacity=\"1\" stroke=\"#000000\" stroke-opacity=\"1\" stroke-width=\"5.6\"/>\n",
       "<circle clip-path=\"url(#clip552)\" cx=\"2071.3\" cy=\"519.883\" r=\"14\" fill=\"#009af9\" fill-rule=\"evenodd\" fill-opacity=\"1\" stroke=\"#000000\" stroke-opacity=\"1\" stroke-width=\"5.6\"/>\n",
       "<circle clip-path=\"url(#clip552)\" cx=\"2117.49\" cy=\"556.373\" r=\"14\" fill=\"#009af9\" fill-rule=\"evenodd\" fill-opacity=\"1\" stroke=\"#000000\" stroke-opacity=\"1\" stroke-width=\"5.6\"/>\n",
       "<circle clip-path=\"url(#clip552)\" cx=\"2163.68\" cy=\"428.66\" r=\"14\" fill=\"#009af9\" fill-rule=\"evenodd\" fill-opacity=\"1\" stroke=\"#000000\" stroke-opacity=\"1\" stroke-width=\"5.6\"/>\n",
       "<circle clip-path=\"url(#clip552)\" cx=\"2209.88\" cy=\"501.639\" r=\"14\" fill=\"#009af9\" fill-rule=\"evenodd\" fill-opacity=\"1\" stroke=\"#000000\" stroke-opacity=\"1\" stroke-width=\"5.6\"/>\n",
       "<circle clip-path=\"url(#clip552)\" cx=\"2256.07\" cy=\"401.293\" r=\"14\" fill=\"#009af9\" fill-rule=\"evenodd\" fill-opacity=\"1\" stroke=\"#000000\" stroke-opacity=\"1\" stroke-width=\"5.6\"/>\n",
       "<circle clip-path=\"url(#clip552)\" cx=\"2302.27\" cy=\"474.272\" r=\"14\" fill=\"#009af9\" fill-rule=\"evenodd\" fill-opacity=\"1\" stroke=\"#000000\" stroke-opacity=\"1\" stroke-width=\"5.6\"/>\n",
       "<circle clip-path=\"url(#clip552)\" cx=\"2348.46\" cy=\"529.006\" r=\"14\" fill=\"#009af9\" fill-rule=\"evenodd\" fill-opacity=\"1\" stroke=\"#000000\" stroke-opacity=\"1\" stroke-width=\"5.6\"/>\n",
       "<circle clip-path=\"url(#clip552)\" cx=\"2394.66\" cy=\"182.357\" r=\"14\" fill=\"#009af9\" fill-rule=\"evenodd\" fill-opacity=\"1\" stroke=\"#000000\" stroke-opacity=\"1\" stroke-width=\"5.6\"/>\n",
       "<circle clip-path=\"url(#clip552)\" cx=\"2440.85\" cy=\"510.761\" r=\"14\" fill=\"#009af9\" fill-rule=\"evenodd\" fill-opacity=\"1\" stroke=\"#000000\" stroke-opacity=\"1\" stroke-width=\"5.6\"/>\n",
       "<circle clip-path=\"url(#clip552)\" cx=\"2487.05\" cy=\"556.373\" r=\"14\" fill=\"#009af9\" fill-rule=\"evenodd\" fill-opacity=\"1\" stroke=\"#000000\" stroke-opacity=\"1\" stroke-width=\"5.6\"/>\n",
       "<circle clip-path=\"url(#clip552)\" cx=\"2533.24\" cy=\"483.394\" r=\"14\" fill=\"#009af9\" fill-rule=\"evenodd\" fill-opacity=\"1\" stroke=\"#000000\" stroke-opacity=\"1\" stroke-width=\"5.6\"/>\n",
       "<circle clip-path=\"url(#clip552)\" cx=\"2579.44\" cy=\"501.639\" r=\"14\" fill=\"#009af9\" fill-rule=\"evenodd\" fill-opacity=\"1\" stroke=\"#000000\" stroke-opacity=\"1\" stroke-width=\"5.6\"/>\n",
       "<circle clip-path=\"url(#clip552)\" cx=\"2625.63\" cy=\"456.027\" r=\"14\" fill=\"#009af9\" fill-rule=\"evenodd\" fill-opacity=\"1\" stroke=\"#000000\" stroke-opacity=\"1\" stroke-width=\"5.6\"/>\n",
       "<circle clip-path=\"url(#clip552)\" cx=\"2671.83\" cy=\"556.373\" r=\"14\" fill=\"#009af9\" fill-rule=\"evenodd\" fill-opacity=\"1\" stroke=\"#000000\" stroke-opacity=\"1\" stroke-width=\"5.6\"/>\n",
       "<circle clip-path=\"url(#clip552)\" cx=\"2718.02\" cy=\"410.415\" r=\"14\" fill=\"#009af9\" fill-rule=\"evenodd\" fill-opacity=\"1\" stroke=\"#000000\" stroke-opacity=\"1\" stroke-width=\"5.6\"/>\n",
       "<circle clip-path=\"url(#clip552)\" cx=\"2764.21\" cy=\"401.293\" r=\"14\" fill=\"#009af9\" fill-rule=\"evenodd\" fill-opacity=\"1\" stroke=\"#000000\" stroke-opacity=\"1\" stroke-width=\"5.6\"/>\n",
       "<circle clip-path=\"url(#clip552)\" cx=\"2810.41\" cy=\"355.681\" r=\"14\" fill=\"#009af9\" fill-rule=\"evenodd\" fill-opacity=\"1\" stroke=\"#000000\" stroke-opacity=\"1\" stroke-width=\"5.6\"/>\n",
       "<circle clip-path=\"url(#clip552)\" cx=\"2856.6\" cy=\"227.968\" r=\"14\" fill=\"#009af9\" fill-rule=\"evenodd\" fill-opacity=\"1\" stroke=\"#000000\" stroke-opacity=\"1\" stroke-width=\"5.6\"/>\n",
       "<circle clip-path=\"url(#clip552)\" cx=\"2902.8\" cy=\"556.373\" r=\"14\" fill=\"#009af9\" fill-rule=\"evenodd\" fill-opacity=\"1\" stroke=\"#000000\" stroke-opacity=\"1\" stroke-width=\"5.6\"/>\n",
       "<circle clip-path=\"url(#clip552)\" cx=\"2948.99\" cy=\"538.128\" r=\"14\" fill=\"#009af9\" fill-rule=\"evenodd\" fill-opacity=\"1\" stroke=\"#000000\" stroke-opacity=\"1\" stroke-width=\"5.6\"/>\n",
       "<circle clip-path=\"url(#clip552)\" cx=\"2995.19\" cy=\"355.681\" r=\"14\" fill=\"#009af9\" fill-rule=\"evenodd\" fill-opacity=\"1\" stroke=\"#000000\" stroke-opacity=\"1\" stroke-width=\"5.6\"/>\n",
       "<circle clip-path=\"url(#clip552)\" cx=\"3041.38\" cy=\"310.069\" r=\"14\" fill=\"#009af9\" fill-rule=\"evenodd\" fill-opacity=\"1\" stroke=\"#000000\" stroke-opacity=\"1\" stroke-width=\"5.6\"/>\n",
       "<circle clip-path=\"url(#clip552)\" cx=\"3087.58\" cy=\"428.66\" r=\"14\" fill=\"#009af9\" fill-rule=\"evenodd\" fill-opacity=\"1\" stroke=\"#000000\" stroke-opacity=\"1\" stroke-width=\"5.6\"/>\n",
       "<circle clip-path=\"url(#clip552)\" cx=\"3133.77\" cy=\"446.905\" r=\"14\" fill=\"#009af9\" fill-rule=\"evenodd\" fill-opacity=\"1\" stroke=\"#000000\" stroke-opacity=\"1\" stroke-width=\"5.6\"/>\n",
       "<circle clip-path=\"url(#clip552)\" cx=\"3179.97\" cy=\"154.99\" r=\"14\" fill=\"#009af9\" fill-rule=\"evenodd\" fill-opacity=\"1\" stroke=\"#000000\" stroke-opacity=\"1\" stroke-width=\"5.6\"/>\n",
       "<circle clip-path=\"url(#clip552)\" cx=\"3226.16\" cy=\"556.373\" r=\"14\" fill=\"#009af9\" fill-rule=\"evenodd\" fill-opacity=\"1\" stroke=\"#000000\" stroke-opacity=\"1\" stroke-width=\"5.6\"/>\n",
       "<circle clip-path=\"url(#clip552)\" cx=\"3272.35\" cy=\"410.415\" r=\"14\" fill=\"#009af9\" fill-rule=\"evenodd\" fill-opacity=\"1\" stroke=\"#000000\" stroke-opacity=\"1\" stroke-width=\"5.6\"/>\n",
       "<circle clip-path=\"url(#clip552)\" cx=\"3318.55\" cy=\"401.293\" r=\"14\" fill=\"#009af9\" fill-rule=\"evenodd\" fill-opacity=\"1\" stroke=\"#000000\" stroke-opacity=\"1\" stroke-width=\"5.6\"/>\n",
       "<circle clip-path=\"url(#clip552)\" cx=\"3364.74\" cy=\"456.027\" r=\"14\" fill=\"#009af9\" fill-rule=\"evenodd\" fill-opacity=\"1\" stroke=\"#000000\" stroke-opacity=\"1\" stroke-width=\"5.6\"/>\n",
       "<circle clip-path=\"url(#clip552)\" cx=\"3410.94\" cy=\"346.559\" r=\"14\" fill=\"#009af9\" fill-rule=\"evenodd\" fill-opacity=\"1\" stroke=\"#000000\" stroke-opacity=\"1\" stroke-width=\"5.6\"/>\n",
       "<circle clip-path=\"url(#clip552)\" cx=\"3457.13\" cy=\"510.761\" r=\"14\" fill=\"#009af9\" fill-rule=\"evenodd\" fill-opacity=\"1\" stroke=\"#000000\" stroke-opacity=\"1\" stroke-width=\"5.6\"/>\n",
       "<polyline clip-path=\"url(#clip552)\" style=\"stroke:#009af9; stroke-width:4; stroke-opacity:1; fill:none\" points=\"\n",
       "  269.707,315.602 3457.13,443.197 \n",
       "  \"/>\n",
       "<path clip-path=\"url(#clip550)\" d=\"\n",
       "M174.084 1268.69 L3552.76 1268.69 L3552.76 833.552 L174.084 833.552  Z\n",
       "  \" fill=\"#ffffff\" fill-rule=\"evenodd\" fill-opacity=\"1\"/>\n",
       "<defs>\n",
       "  <clipPath id=\"clip553\">\n",
       "    <rect x=\"174\" y=\"833\" width=\"3380\" height=\"436\"/>\n",
       "  </clipPath>\n",
       "</defs>\n",
       "<polyline clip-path=\"url(#clip553)\" style=\"stroke:#000000; stroke-width:2; stroke-opacity:0.1; fill:none\" points=\"\n",
       "  731.653,1268.69 731.653,833.552 \n",
       "  \"/>\n",
       "<polyline clip-path=\"url(#clip553)\" style=\"stroke:#000000; stroke-width:2; stroke-opacity:0.1; fill:none\" points=\"\n",
       "  1655.54,1268.69 1655.54,833.552 \n",
       "  \"/>\n",
       "<polyline clip-path=\"url(#clip553)\" style=\"stroke:#000000; stroke-width:2; stroke-opacity:0.1; fill:none\" points=\"\n",
       "  2579.44,1268.69 2579.44,833.552 \n",
       "  \"/>\n",
       "<polyline clip-path=\"url(#clip553)\" style=\"stroke:#000000; stroke-width:2; stroke-opacity:0.1; fill:none\" points=\"\n",
       "  3503.33,1268.69 3503.33,833.552 \n",
       "  \"/>\n",
       "<polyline clip-path=\"url(#clip550)\" style=\"stroke:#000000; stroke-width:4; stroke-opacity:1; fill:none\" points=\"\n",
       "  174.084,1268.69 3552.76,1268.69 \n",
       "  \"/>\n",
       "<polyline clip-path=\"url(#clip550)\" style=\"stroke:#000000; stroke-width:4; stroke-opacity:1; fill:none\" points=\"\n",
       "  731.653,1268.69 731.653,1263.47 \n",
       "  \"/>\n",
       "<polyline clip-path=\"url(#clip550)\" style=\"stroke:#000000; stroke-width:4; stroke-opacity:1; fill:none\" points=\"\n",
       "  1655.54,1268.69 1655.54,1263.47 \n",
       "  \"/>\n",
       "<polyline clip-path=\"url(#clip550)\" style=\"stroke:#000000; stroke-width:4; stroke-opacity:1; fill:none\" points=\"\n",
       "  2579.44,1268.69 2579.44,1263.47 \n",
       "  \"/>\n",
       "<polyline clip-path=\"url(#clip550)\" style=\"stroke:#000000; stroke-width:4; stroke-opacity:1; fill:none\" points=\"\n",
       "  3503.33,1268.69 3503.33,1263.47 \n",
       "  \"/>\n",
       "<path clip-path=\"url(#clip550)\" d=\"M 0 0 M681.526 1335.02 L689.165 1335.02 L689.165 1308.66 L680.855 1310.33 L680.855 1306.07 L689.118 1304.4 L693.794 1304.4 L693.794 1335.02 L701.433 1335.02 L701.433 1338.96 L681.526 1338.96 L681.526 1335.02 Z\" fill=\"#000000\" fill-rule=\"evenodd\" fill-opacity=\"1\" /><path clip-path=\"url(#clip550)\" d=\"M 0 0 M706.641 1338.24 L706.641 1333.98 Q708.401 1334.82 710.206 1335.26 Q712.012 1335.7 713.748 1335.7 Q718.378 1335.7 720.808 1332.59 Q723.262 1329.47 723.609 1323.13 Q722.266 1325.12 720.206 1326.18 Q718.146 1327.25 715.646 1327.25 Q710.461 1327.25 707.428 1324.12 Q704.419 1320.97 704.419 1315.53 Q704.419 1310.21 707.567 1306.99 Q710.716 1303.77 715.947 1303.77 Q721.942 1303.77 725.09 1308.38 Q728.262 1312.96 728.262 1321.71 Q728.262 1329.89 724.373 1334.77 Q720.507 1339.63 713.956 1339.63 Q712.197 1339.63 710.391 1339.28 Q708.586 1338.94 706.641 1338.24 M715.947 1323.59 Q719.095 1323.59 720.924 1321.44 Q722.776 1319.28 722.776 1315.53 Q722.776 1311.81 720.924 1309.65 Q719.095 1307.48 715.947 1307.48 Q712.799 1307.48 710.947 1309.65 Q709.118 1311.81 709.118 1315.53 Q709.118 1319.28 710.947 1321.44 Q712.799 1323.59 715.947 1323.59 Z\" fill=\"#000000\" fill-rule=\"evenodd\" fill-opacity=\"1\" /><path clip-path=\"url(#clip550)\" d=\"M 0 0 M743.91 1319.82 Q740.762 1319.82 738.91 1321.97 Q737.081 1324.12 737.081 1327.87 Q737.081 1331.6 738.91 1333.77 Q740.762 1335.93 743.91 1335.93 Q747.058 1335.93 748.887 1333.77 Q750.738 1331.6 750.738 1327.87 Q750.738 1324.12 748.887 1321.97 Q747.058 1319.82 743.91 1319.82 M753.192 1305.16 L753.192 1309.42 Q751.433 1308.59 749.627 1308.15 Q747.845 1307.71 746.086 1307.71 Q741.456 1307.71 739.002 1310.84 Q736.572 1313.96 736.225 1320.28 Q737.59 1318.27 739.651 1317.2 Q741.711 1316.11 744.188 1316.11 Q749.396 1316.11 752.405 1319.28 Q755.437 1322.43 755.437 1327.87 Q755.437 1333.2 752.289 1336.41 Q749.141 1339.63 743.91 1339.63 Q737.914 1339.63 734.743 1335.05 Q731.572 1330.44 731.572 1321.71 Q731.572 1313.52 735.461 1308.66 Q739.35 1303.77 745.901 1303.77 Q747.66 1303.77 749.442 1304.12 Q751.248 1304.47 753.192 1305.16 Z\" fill=\"#000000\" fill-rule=\"evenodd\" fill-opacity=\"1\" /><path clip-path=\"url(#clip550)\" d=\"M 0 0 M770.507 1307.48 Q766.896 1307.48 765.067 1311.04 Q763.262 1314.59 763.262 1321.71 Q763.262 1328.82 765.067 1332.39 Q766.896 1335.93 770.507 1335.93 Q774.141 1335.93 775.947 1332.39 Q777.775 1328.82 777.775 1321.71 Q777.775 1314.59 775.947 1311.04 Q774.141 1307.48 770.507 1307.48 M770.507 1303.77 Q776.317 1303.77 779.373 1308.38 Q782.451 1312.96 782.451 1321.71 Q782.451 1330.44 779.373 1335.05 Q776.317 1339.63 770.507 1339.63 Q764.697 1339.63 761.618 1335.05 Q758.562 1330.44 758.562 1321.71 Q758.562 1312.96 761.618 1308.38 Q764.697 1303.77 770.507 1303.77 Z\" fill=\"#000000\" fill-rule=\"evenodd\" fill-opacity=\"1\" /><path clip-path=\"url(#clip550)\" d=\"M 0 0 M1605.54 1335.02 L1613.18 1335.02 L1613.18 1308.66 L1604.87 1310.33 L1604.87 1306.07 L1613.14 1304.4 L1617.81 1304.4 L1617.81 1335.02 L1625.45 1335.02 L1625.45 1338.96 L1605.54 1338.96 L1605.54 1335.02 Z\" fill=\"#000000\" fill-rule=\"evenodd\" fill-opacity=\"1\" /><path clip-path=\"url(#clip550)\" d=\"M 0 0 M1630.66 1338.24 L1630.66 1333.98 Q1632.42 1334.82 1634.23 1335.26 Q1636.03 1335.7 1637.77 1335.7 Q1642.4 1335.7 1644.83 1332.59 Q1647.28 1329.47 1647.63 1323.13 Q1646.29 1325.12 1644.23 1326.18 Q1642.16 1327.25 1639.66 1327.25 Q1634.48 1327.25 1631.45 1324.12 Q1628.44 1320.97 1628.44 1315.53 Q1628.44 1310.21 1631.59 1306.99 Q1634.73 1303.77 1639.97 1303.77 Q1645.96 1303.77 1649.11 1308.38 Q1652.28 1312.96 1652.28 1321.71 Q1652.28 1329.89 1648.39 1334.77 Q1644.53 1339.63 1637.98 1339.63 Q1636.22 1339.63 1634.41 1339.28 Q1632.6 1338.94 1630.66 1338.24 M1639.97 1323.59 Q1643.11 1323.59 1644.94 1321.44 Q1646.79 1319.28 1646.79 1315.53 Q1646.79 1311.81 1644.94 1309.65 Q1643.11 1307.48 1639.97 1307.48 Q1636.82 1307.48 1634.97 1309.65 Q1633.14 1311.81 1633.14 1315.53 Q1633.14 1319.28 1634.97 1321.44 Q1636.82 1323.59 1639.97 1323.59 Z\" fill=\"#000000\" fill-rule=\"evenodd\" fill-opacity=\"1\" /><path clip-path=\"url(#clip550)\" d=\"M 0 0 M1667.35 1322.55 Q1664.02 1322.55 1662.1 1324.33 Q1660.2 1326.11 1660.2 1329.24 Q1660.2 1332.36 1662.1 1334.15 Q1664.02 1335.93 1667.35 1335.93 Q1670.68 1335.93 1672.6 1334.15 Q1674.53 1332.34 1674.53 1329.24 Q1674.53 1326.11 1672.6 1324.33 Q1670.71 1322.55 1667.35 1322.55 M1662.67 1320.56 Q1659.66 1319.82 1657.98 1317.76 Q1656.31 1315.7 1656.31 1312.73 Q1656.31 1308.59 1659.25 1306.18 Q1662.21 1303.77 1667.35 1303.77 Q1672.51 1303.77 1675.45 1306.18 Q1678.39 1308.59 1678.39 1312.73 Q1678.39 1315.7 1676.7 1317.76 Q1675.04 1319.82 1672.05 1320.56 Q1675.43 1321.34 1677.3 1323.64 Q1679.2 1325.93 1679.2 1329.24 Q1679.2 1334.26 1676.12 1336.95 Q1673.07 1339.63 1667.35 1339.63 Q1661.63 1339.63 1658.55 1336.95 Q1655.5 1334.26 1655.5 1329.24 Q1655.5 1325.93 1657.4 1323.64 Q1659.29 1321.34 1662.67 1320.56 M1660.96 1313.17 Q1660.96 1315.86 1662.63 1317.36 Q1664.32 1318.87 1667.35 1318.87 Q1670.36 1318.87 1672.05 1317.36 Q1673.76 1315.86 1673.76 1313.17 Q1673.76 1310.49 1672.05 1308.98 Q1670.36 1307.48 1667.35 1307.48 Q1664.32 1307.48 1662.63 1308.98 Q1660.96 1310.49 1660.96 1313.17 Z\" fill=\"#000000\" fill-rule=\"evenodd\" fill-opacity=\"1\" /><path clip-path=\"url(#clip550)\" d=\"M 0 0 M1694.27 1307.48 Q1690.66 1307.48 1688.83 1311.04 Q1687.03 1314.59 1687.03 1321.71 Q1687.03 1328.82 1688.83 1332.39 Q1690.66 1335.93 1694.27 1335.93 Q1697.91 1335.93 1699.71 1332.39 Q1701.54 1328.82 1701.54 1321.71 Q1701.54 1314.59 1699.71 1311.04 Q1697.91 1307.48 1694.27 1307.48 M1694.27 1303.77 Q1700.08 1303.77 1703.14 1308.38 Q1706.22 1312.96 1706.22 1321.71 Q1706.22 1330.44 1703.14 1335.05 Q1700.08 1339.63 1694.27 1339.63 Q1688.46 1339.63 1685.38 1335.05 Q1682.33 1330.44 1682.33 1321.71 Q1682.33 1312.96 1685.38 1308.38 Q1688.46 1303.77 1694.27 1303.77 Z\" fill=\"#000000\" fill-rule=\"evenodd\" fill-opacity=\"1\" /><path clip-path=\"url(#clip550)\" d=\"M 0 0 M2533.57 1335.02 L2549.89 1335.02 L2549.89 1338.96 L2527.94 1338.96 L2527.94 1335.02 Q2530.61 1332.27 2535.19 1327.64 Q2539.8 1322.99 2540.98 1321.65 Q2543.22 1319.12 2544.1 1317.39 Q2545 1315.63 2545 1313.94 Q2545 1311.18 2543.06 1309.45 Q2541.14 1307.71 2538.04 1307.71 Q2535.84 1307.71 2533.38 1308.47 Q2530.95 1309.24 2528.17 1310.79 L2528.17 1306.07 Q2531 1304.93 2533.45 1304.35 Q2535.91 1303.77 2537.94 1303.77 Q2543.31 1303.77 2546.51 1306.46 Q2549.7 1309.15 2549.7 1313.64 Q2549.7 1315.77 2548.89 1317.69 Q2548.11 1319.58 2546 1322.18 Q2545.42 1322.85 2542.32 1326.07 Q2539.22 1329.26 2533.57 1335.02 Z\" fill=\"#000000\" fill-rule=\"evenodd\" fill-opacity=\"1\" /><path clip-path=\"url(#clip550)\" d=\"M 0 0 M2564.96 1307.48 Q2561.35 1307.48 2559.52 1311.04 Q2557.71 1314.59 2557.71 1321.71 Q2557.71 1328.82 2559.52 1332.39 Q2561.35 1335.93 2564.96 1335.93 Q2568.59 1335.93 2570.4 1332.39 Q2572.23 1328.82 2572.23 1321.71 Q2572.23 1314.59 2570.4 1311.04 Q2568.59 1307.48 2564.96 1307.48 M2564.96 1303.77 Q2570.77 1303.77 2573.82 1308.38 Q2576.9 1312.96 2576.9 1321.71 Q2576.9 1330.44 2573.82 1335.05 Q2570.77 1339.63 2564.96 1339.63 Q2559.15 1339.63 2556.07 1335.05 Q2553.01 1330.44 2553.01 1321.71 Q2553.01 1312.96 2556.07 1308.38 Q2559.15 1303.77 2564.96 1303.77 Z\" fill=\"#000000\" fill-rule=\"evenodd\" fill-opacity=\"1\" /><path clip-path=\"url(#clip550)\" d=\"M 0 0 M2591.97 1307.48 Q2588.36 1307.48 2586.53 1311.04 Q2584.73 1314.59 2584.73 1321.71 Q2584.73 1328.82 2586.53 1332.39 Q2588.36 1335.93 2591.97 1335.93 Q2595.6 1335.93 2597.41 1332.39 Q2599.24 1328.82 2599.24 1321.71 Q2599.24 1314.59 2597.41 1311.04 Q2595.6 1307.48 2591.97 1307.48 M2591.97 1303.77 Q2597.78 1303.77 2600.84 1308.38 Q2603.92 1312.96 2603.92 1321.71 Q2603.92 1330.44 2600.84 1335.05 Q2597.78 1339.63 2591.97 1339.63 Q2586.16 1339.63 2583.08 1335.05 Q2580.03 1330.44 2580.03 1321.71 Q2580.03 1312.96 2583.08 1308.38 Q2586.16 1303.77 2591.97 1303.77 Z\" fill=\"#000000\" fill-rule=\"evenodd\" fill-opacity=\"1\" /><path clip-path=\"url(#clip550)\" d=\"M 0 0 M2618.98 1307.48 Q2615.37 1307.48 2613.54 1311.04 Q2611.74 1314.59 2611.74 1321.71 Q2611.74 1328.82 2613.54 1332.39 Q2615.37 1335.93 2618.98 1335.93 Q2622.62 1335.93 2624.42 1332.39 Q2626.25 1328.82 2626.25 1321.71 Q2626.25 1314.59 2624.42 1311.04 Q2622.62 1307.48 2618.98 1307.48 M2618.98 1303.77 Q2624.79 1303.77 2627.85 1308.38 Q2630.93 1312.96 2630.93 1321.71 Q2630.93 1330.44 2627.85 1335.05 Q2624.79 1339.63 2618.98 1339.63 Q2613.17 1339.63 2610.1 1335.05 Q2607.04 1330.44 2607.04 1321.71 Q2607.04 1312.96 2610.1 1308.38 Q2613.17 1303.77 2618.98 1303.77 Z\" fill=\"#000000\" fill-rule=\"evenodd\" fill-opacity=\"1\" /><path clip-path=\"url(#clip550)\" d=\"M 0 0 M3458.26 1335.02 L3474.58 1335.02 L3474.58 1338.96 L3452.63 1338.96 L3452.63 1335.02 Q3455.3 1332.27 3459.88 1327.64 Q3464.49 1322.99 3465.67 1321.65 Q3467.91 1319.12 3468.79 1317.39 Q3469.69 1315.63 3469.69 1313.94 Q3469.69 1311.18 3467.75 1309.45 Q3465.83 1307.71 3462.73 1307.71 Q3460.53 1307.71 3458.07 1308.47 Q3455.64 1309.24 3452.87 1310.79 L3452.87 1306.07 Q3455.69 1304.93 3458.14 1304.35 Q3460.6 1303.77 3462.63 1303.77 Q3468 1303.77 3471.2 1306.46 Q3474.39 1309.15 3474.39 1313.64 Q3474.39 1315.77 3473.58 1317.69 Q3472.8 1319.58 3470.69 1322.18 Q3470.11 1322.85 3467.01 1326.07 Q3463.91 1329.26 3458.26 1335.02 Z\" fill=\"#000000\" fill-rule=\"evenodd\" fill-opacity=\"1\" /><path clip-path=\"url(#clip550)\" d=\"M 0 0 M3489.65 1307.48 Q3486.04 1307.48 3484.21 1311.04 Q3482.4 1314.59 3482.4 1321.71 Q3482.4 1328.82 3484.21 1332.39 Q3486.04 1335.93 3489.65 1335.93 Q3493.28 1335.93 3495.09 1332.39 Q3496.92 1328.82 3496.92 1321.71 Q3496.92 1314.59 3495.09 1311.04 Q3493.28 1307.48 3489.65 1307.48 M3489.65 1303.77 Q3495.46 1303.77 3498.51 1308.38 Q3501.59 1312.96 3501.59 1321.71 Q3501.59 1330.44 3498.51 1335.05 Q3495.46 1339.63 3489.65 1339.63 Q3483.84 1339.63 3480.76 1335.05 Q3477.7 1330.44 3477.7 1321.71 Q3477.7 1312.96 3480.76 1308.38 Q3483.84 1303.77 3489.65 1303.77 Z\" fill=\"#000000\" fill-rule=\"evenodd\" fill-opacity=\"1\" /><path clip-path=\"url(#clip550)\" d=\"M 0 0 M3510.69 1335.02 L3527.01 1335.02 L3527.01 1338.96 L3505.06 1338.96 L3505.06 1335.02 Q3507.73 1332.27 3512.31 1327.64 Q3516.92 1322.99 3518.1 1321.65 Q3520.34 1319.12 3521.22 1317.39 Q3522.12 1315.63 3522.12 1313.94 Q3522.12 1311.18 3520.18 1309.45 Q3518.26 1307.71 3515.16 1307.71 Q3512.96 1307.71 3510.5 1308.47 Q3508.07 1309.24 3505.3 1310.79 L3505.3 1306.07 Q3508.12 1304.93 3510.57 1304.35 Q3513.03 1303.77 3515.06 1303.77 Q3520.43 1303.77 3523.63 1306.46 Q3526.82 1309.15 3526.82 1313.64 Q3526.82 1315.77 3526.01 1317.69 Q3525.23 1319.58 3523.12 1322.18 Q3522.54 1322.85 3519.44 1326.07 Q3516.34 1329.26 3510.69 1335.02 Z\" fill=\"#000000\" fill-rule=\"evenodd\" fill-opacity=\"1\" /><path clip-path=\"url(#clip550)\" d=\"M 0 0 M3542.08 1307.48 Q3538.47 1307.48 3536.64 1311.04 Q3534.83 1314.59 3534.83 1321.71 Q3534.83 1328.82 3536.64 1332.39 Q3538.47 1335.93 3542.08 1335.93 Q3545.71 1335.93 3547.52 1332.39 Q3549.35 1328.82 3549.35 1321.71 Q3549.35 1314.59 3547.52 1311.04 Q3545.71 1307.48 3542.08 1307.48 M3542.08 1303.77 Q3547.89 1303.77 3550.94 1308.38 Q3554.02 1312.96 3554.02 1321.71 Q3554.02 1330.44 3550.94 1335.05 Q3547.89 1339.63 3542.08 1339.63 Q3536.27 1339.63 3533.19 1335.05 Q3530.13 1330.44 3530.13 1321.71 Q3530.13 1312.96 3533.19 1308.38 Q3536.27 1303.77 3542.08 1303.77 Z\" fill=\"#000000\" fill-rule=\"evenodd\" fill-opacity=\"1\" /><polyline clip-path=\"url(#clip553)\" style=\"stroke:#000000; stroke-width:2; stroke-opacity:0.1; fill:none\" points=\"\n",
       "  174.084,1239.27 3552.76,1239.27 \n",
       "  \"/>\n",
       "<polyline clip-path=\"url(#clip553)\" style=\"stroke:#000000; stroke-width:2; stroke-opacity:0.1; fill:none\" points=\"\n",
       "  174.084,1153.75 3552.76,1153.75 \n",
       "  \"/>\n",
       "<polyline clip-path=\"url(#clip553)\" style=\"stroke:#000000; stroke-width:2; stroke-opacity:0.1; fill:none\" points=\"\n",
       "  174.084,1068.22 3552.76,1068.22 \n",
       "  \"/>\n",
       "<polyline clip-path=\"url(#clip553)\" style=\"stroke:#000000; stroke-width:2; stroke-opacity:0.1; fill:none\" points=\"\n",
       "  174.084,982.702 3552.76,982.702 \n",
       "  \"/>\n",
       "<polyline clip-path=\"url(#clip553)\" style=\"stroke:#000000; stroke-width:2; stroke-opacity:0.1; fill:none\" points=\"\n",
       "  174.084,897.18 3552.76,897.18 \n",
       "  \"/>\n",
       "<polyline clip-path=\"url(#clip550)\" style=\"stroke:#000000; stroke-width:4; stroke-opacity:1; fill:none\" points=\"\n",
       "  174.084,1268.69 174.084,833.552 \n",
       "  \"/>\n",
       "<polyline clip-path=\"url(#clip550)\" style=\"stroke:#000000; stroke-width:4; stroke-opacity:1; fill:none\" points=\"\n",
       "  174.084,1239.27 214.628,1239.27 \n",
       "  \"/>\n",
       "<polyline clip-path=\"url(#clip550)\" style=\"stroke:#000000; stroke-width:4; stroke-opacity:1; fill:none\" points=\"\n",
       "  174.084,1153.75 214.628,1153.75 \n",
       "  \"/>\n",
       "<polyline clip-path=\"url(#clip550)\" style=\"stroke:#000000; stroke-width:4; stroke-opacity:1; fill:none\" points=\"\n",
       "  174.084,1068.22 214.628,1068.22 \n",
       "  \"/>\n",
       "<polyline clip-path=\"url(#clip550)\" style=\"stroke:#000000; stroke-width:4; stroke-opacity:1; fill:none\" points=\"\n",
       "  174.084,982.702 214.628,982.702 \n",
       "  \"/>\n",
       "<polyline clip-path=\"url(#clip550)\" style=\"stroke:#000000; stroke-width:4; stroke-opacity:1; fill:none\" points=\"\n",
       "  174.084,897.18 214.628,897.18 \n",
       "  \"/>\n",
       "<path clip-path=\"url(#clip550)\" d=\"M 0 0 M70.8485 1221.99 L93.0706 1221.99 L93.0706 1223.98 L80.5243 1256.55 L75.6401 1256.55 L87.4456 1225.92 L70.8485 1225.92 L70.8485 1221.99 Z\" fill=\"#000000\" fill-rule=\"evenodd\" fill-opacity=\"1\" /><path clip-path=\"url(#clip550)\" d=\"M 0 0 M108.14 1225.07 Q104.529 1225.07 102.7 1228.63 Q100.895 1232.17 100.895 1239.3 Q100.895 1246.41 102.7 1249.97 Q104.529 1253.52 108.14 1253.52 Q111.774 1253.52 113.58 1249.97 Q115.408 1246.41 115.408 1239.3 Q115.408 1232.17 113.58 1228.63 Q111.774 1225.07 108.14 1225.07 M108.14 1221.36 Q113.95 1221.36 117.006 1225.97 Q120.084 1230.55 120.084 1239.3 Q120.084 1248.03 117.006 1252.64 Q113.95 1257.22 108.14 1257.22 Q102.33 1257.22 99.2511 1252.64 Q96.1956 1248.03 96.1956 1239.3 Q96.1956 1230.55 99.2511 1225.97 Q102.33 1221.36 108.14 1221.36 Z\" fill=\"#000000\" fill-rule=\"evenodd\" fill-opacity=\"1\" /><path clip-path=\"url(#clip550)\" d=\"M 0 0 M81.2188 1154.61 Q77.8855 1154.61 75.9642 1156.4 Q74.066 1158.18 74.066 1161.3 Q74.066 1164.43 75.9642 1166.21 Q77.8855 1167.99 81.2188 1167.99 Q84.5521 1167.99 86.4734 1166.21 Q88.3947 1164.41 88.3947 1161.3 Q88.3947 1158.18 86.4734 1156.4 Q84.5752 1154.61 81.2188 1154.61 M76.5429 1152.62 Q73.5336 1151.88 71.8438 1149.82 Q70.1772 1147.76 70.1772 1144.8 Q70.1772 1140.66 73.117 1138.25 Q76.0799 1135.84 81.2188 1135.84 Q86.3808 1135.84 89.3206 1138.25 Q92.2604 1140.66 92.2604 1144.8 Q92.2604 1147.76 90.5706 1149.82 Q88.9039 1151.88 85.9178 1152.62 Q89.2974 1153.41 91.1724 1155.7 Q93.0706 1157.99 93.0706 1161.3 Q93.0706 1166.33 89.9919 1169.01 Q86.9363 1171.7 81.2188 1171.7 Q75.5012 1171.7 72.4225 1169.01 Q69.367 1166.33 69.367 1161.3 Q69.367 1157.99 71.2651 1155.7 Q73.1633 1153.41 76.5429 1152.62 M74.8299 1145.24 Q74.8299 1147.92 76.4966 1149.43 Q78.1864 1150.93 81.2188 1150.93 Q84.228 1150.93 85.9178 1149.43 Q87.6308 1147.92 87.6308 1145.24 Q87.6308 1142.55 85.9178 1141.05 Q84.228 1139.55 81.2188 1139.55 Q78.1864 1139.55 76.4966 1141.05 Q74.8299 1142.55 74.8299 1145.24 Z\" fill=\"#000000\" fill-rule=\"evenodd\" fill-opacity=\"1\" /><path clip-path=\"url(#clip550)\" d=\"M 0 0 M108.14 1139.55 Q104.529 1139.55 102.7 1143.11 Q100.895 1146.65 100.895 1153.78 Q100.895 1160.89 102.7 1164.45 Q104.529 1167.99 108.14 1167.99 Q111.774 1167.99 113.58 1164.45 Q115.408 1160.89 115.408 1153.78 Q115.408 1146.65 113.58 1143.11 Q111.774 1139.55 108.14 1139.55 M108.14 1135.84 Q113.95 1135.84 117.006 1140.45 Q120.084 1145.03 120.084 1153.78 Q120.084 1162.51 117.006 1167.11 Q113.95 1171.7 108.14 1171.7 Q102.33 1171.7 99.2511 1167.11 Q96.1956 1162.51 96.1956 1153.78 Q96.1956 1145.03 99.2511 1140.45 Q102.33 1135.84 108.14 1135.84 Z\" fill=\"#000000\" fill-rule=\"evenodd\" fill-opacity=\"1\" /><path clip-path=\"url(#clip550)\" d=\"M 0 0 M71.4503 1084.79 L71.4503 1080.53 Q73.2096 1081.36 75.0151 1081.8 Q76.8207 1082.24 78.5568 1082.24 Q83.1864 1082.24 85.6169 1079.14 Q88.0706 1076.01 88.4178 1069.67 Q87.0752 1071.66 85.0151 1072.73 Q82.9549 1073.79 80.4549 1073.79 Q75.2697 1073.79 72.2374 1070.67 Q69.2281 1067.52 69.2281 1062.08 Q69.2281 1056.75 72.3762 1053.54 Q75.5244 1050.32 80.7558 1050.32 Q86.7512 1050.32 89.8993 1054.93 Q93.0706 1059.51 93.0706 1068.26 Q93.0706 1076.43 89.1817 1081.31 Q85.316 1086.18 78.7651 1086.18 Q77.0058 1086.18 75.2003 1085.83 Q73.3948 1085.48 71.4503 1084.79 M80.7558 1070.13 Q83.904 1070.13 85.7326 1067.98 Q87.5845 1065.83 87.5845 1062.08 Q87.5845 1058.35 85.7326 1056.2 Q83.904 1054.02 80.7558 1054.02 Q77.6077 1054.02 75.7559 1056.2 Q73.9272 1058.35 73.9272 1062.08 Q73.9272 1065.83 75.7559 1067.98 Q77.6077 1070.13 80.7558 1070.13 Z\" fill=\"#000000\" fill-rule=\"evenodd\" fill-opacity=\"1\" /><path clip-path=\"url(#clip550)\" d=\"M 0 0 M108.14 1054.02 Q104.529 1054.02 102.7 1057.59 Q100.895 1061.13 100.895 1068.26 Q100.895 1075.37 102.7 1078.93 Q104.529 1082.47 108.14 1082.47 Q111.774 1082.47 113.58 1078.93 Q115.408 1075.37 115.408 1068.26 Q115.408 1061.13 113.58 1057.59 Q111.774 1054.02 108.14 1054.02 M108.14 1050.32 Q113.95 1050.32 117.006 1054.93 Q120.084 1059.51 120.084 1068.26 Q120.084 1076.99 117.006 1081.59 Q113.95 1086.18 108.14 1086.18 Q102.33 1086.18 99.2511 1081.59 Q96.1956 1076.99 96.1956 1068.26 Q96.1956 1059.51 99.2511 1054.93 Q102.33 1050.32 108.14 1050.32 Z\" fill=\"#000000\" fill-rule=\"evenodd\" fill-opacity=\"1\" /><path clip-path=\"url(#clip550)\" d=\"M 0 0 M46.1495 996.047 L53.7884 996.047 L53.7884 969.682 L45.4782 971.348 L45.4782 967.089 L53.7421 965.422 L58.418 965.422 L58.418 996.047 L66.0568 996.047 L66.0568 999.982 L46.1495 999.982 L46.1495 996.047 Z\" fill=\"#000000\" fill-rule=\"evenodd\" fill-opacity=\"1\" /><path clip-path=\"url(#clip550)\" d=\"M 0 0 M81.1262 968.501 Q77.5151 968.501 75.6864 972.066 Q73.8809 975.608 73.8809 982.737 Q73.8809 989.844 75.6864 993.408 Q77.5151 996.95 81.1262 996.95 Q84.7604 996.95 86.566 993.408 Q88.3947 989.844 88.3947 982.737 Q88.3947 975.608 86.566 972.066 Q84.7604 968.501 81.1262 968.501 M81.1262 964.797 Q86.9363 964.797 89.9919 969.404 Q93.0706 973.987 93.0706 982.737 Q93.0706 991.464 89.9919 996.07 Q86.9363 1000.65 81.1262 1000.65 Q75.316 1000.65 72.2374 996.07 Q69.1818 991.464 69.1818 982.737 Q69.1818 973.987 72.2374 969.404 Q75.316 964.797 81.1262 964.797 Z\" fill=\"#000000\" fill-rule=\"evenodd\" fill-opacity=\"1\" /><path clip-path=\"url(#clip550)\" d=\"M 0 0 M108.14 968.501 Q104.529 968.501 102.7 972.066 Q100.895 975.608 100.895 982.737 Q100.895 989.844 102.7 993.408 Q104.529 996.95 108.14 996.95 Q111.774 996.95 113.58 993.408 Q115.408 989.844 115.408 982.737 Q115.408 975.608 113.58 972.066 Q111.774 968.501 108.14 968.501 M108.14 964.797 Q113.95 964.797 117.006 969.404 Q120.084 973.987 120.084 982.737 Q120.084 991.464 117.006 996.07 Q113.95 1000.65 108.14 1000.65 Q102.33 1000.65 99.2511 996.07 Q96.1956 991.464 96.1956 982.737 Q96.1956 973.987 99.2511 969.404 Q102.33 964.797 108.14 964.797 Z\" fill=\"#000000\" fill-rule=\"evenodd\" fill-opacity=\"1\" /><path clip-path=\"url(#clip550)\" d=\"M 0 0 M47.3764 910.525 L55.0152 910.525 L55.0152 884.16 L46.7051 885.826 L46.7051 881.567 L54.9689 879.9 L59.6448 879.9 L59.6448 910.525 L67.2837 910.525 L67.2837 914.46 L47.3764 914.46 L47.3764 910.525 Z\" fill=\"#000000\" fill-rule=\"evenodd\" fill-opacity=\"1\" /><path clip-path=\"url(#clip550)\" d=\"M 0 0 M73.1633 910.525 L80.8021 910.525 L80.8021 884.16 L72.492 885.826 L72.492 881.567 L80.7558 879.9 L85.4317 879.9 L85.4317 910.525 L93.0706 910.525 L93.0706 914.46 L73.1633 914.46 L73.1633 910.525 Z\" fill=\"#000000\" fill-rule=\"evenodd\" fill-opacity=\"1\" /><path clip-path=\"url(#clip550)\" d=\"M 0 0 M108.14 882.979 Q104.529 882.979 102.7 886.544 Q100.895 890.086 100.895 897.215 Q100.895 904.322 102.7 907.886 Q104.529 911.428 108.14 911.428 Q111.774 911.428 113.58 907.886 Q115.408 904.322 115.408 897.215 Q115.408 890.086 113.58 886.544 Q111.774 882.979 108.14 882.979 M108.14 879.275 Q113.95 879.275 117.006 883.882 Q120.084 888.465 120.084 897.215 Q120.084 905.942 117.006 910.548 Q113.95 915.132 108.14 915.132 Q102.33 915.132 99.2511 910.548 Q96.1956 905.942 96.1956 897.215 Q96.1956 888.465 99.2511 883.882 Q102.33 879.275 108.14 879.275 Z\" fill=\"#000000\" fill-rule=\"evenodd\" fill-opacity=\"1\" /><path clip-path=\"url(#clip550)\" d=\"M 0 0 M1284.85 712.096 L1293.03 712.096 L1293.03 765.689 L1322.48 765.689 L1322.48 772.576 L1284.85 772.576 L1284.85 712.096 Z\" fill=\"#000000\" fill-rule=\"evenodd\" fill-opacity=\"1\" /><path clip-path=\"url(#clip550)\" d=\"M 0 0 M1328.07 754.671 L1328.07 727.206 L1335.53 727.206 L1335.53 754.387 Q1335.53 760.828 1338.04 764.069 Q1340.55 767.269 1345.57 767.269 Q1351.61 767.269 1355.09 763.421 Q1358.62 759.573 1358.62 752.929 L1358.62 727.206 L1366.07 727.206 L1366.07 772.576 L1358.62 772.576 L1358.62 765.608 Q1355.9 769.74 1352.3 771.766 Q1348.73 773.751 1343.99 773.751 Q1336.17 773.751 1332.12 768.89 Q1328.07 764.029 1328.07 754.671 M1346.83 726.112 L1346.83 726.112 M1350.56 709.706 L1358.78 709.706 L1358.78 717.889 L1350.56 717.889 L1350.56 709.706 M1334.72 709.706 L1342.94 709.706 L1342.94 717.889 L1334.72 717.889 L1334.72 709.706 Z\" fill=\"#000000\" fill-rule=\"evenodd\" fill-opacity=\"1\" /><path clip-path=\"url(#clip550)\" d=\"M 0 0 M1403.74 734.092 L1403.74 709.544 L1411.2 709.544 L1411.2 772.576 L1403.74 772.576 L1403.74 765.77 Q1401.39 769.821 1397.79 771.806 Q1394.22 773.751 1389.2 773.751 Q1380.98 773.751 1375.79 767.188 Q1370.65 760.626 1370.65 749.931 Q1370.65 739.237 1375.79 732.675 Q1380.98 726.112 1389.2 726.112 Q1394.22 726.112 1397.79 728.097 Q1401.39 730.042 1403.74 734.092 M1378.34 749.931 Q1378.34 758.155 1381.71 762.854 Q1385.11 767.512 1391.02 767.512 Q1396.94 767.512 1400.34 762.854 Q1403.74 758.155 1403.74 749.931 Q1403.74 741.708 1400.34 737.05 Q1396.94 732.351 1391.02 732.351 Q1385.11 732.351 1381.71 737.05 Q1378.34 741.708 1378.34 749.931 Z\" fill=\"#000000\" fill-rule=\"evenodd\" fill-opacity=\"1\" /><path clip-path=\"url(#clip550)\" d=\"M 0 0 M1457.82 748.028 L1457.82 751.673 L1423.55 751.673 Q1424.04 759.37 1428.17 763.421 Q1432.34 767.431 1439.76 767.431 Q1444.05 767.431 1448.06 766.378 Q1452.11 765.325 1456.08 763.218 L1456.08 770.267 Q1452.07 771.968 1447.86 772.86 Q1443.65 773.751 1439.31 773.751 Q1428.45 773.751 1422.09 767.431 Q1415.77 761.112 1415.77 750.337 Q1415.77 739.197 1421.77 732.675 Q1427.81 726.112 1438.01 726.112 Q1447.17 726.112 1452.48 732.026 Q1457.82 737.9 1457.82 748.028 M1450.37 745.84 Q1450.29 739.723 1446.93 736.077 Q1443.6 732.432 1438.1 732.432 Q1431.86 732.432 1428.09 735.956 Q1424.36 739.48 1423.8 745.881 L1450.37 745.84 Z\" fill=\"#000000\" fill-rule=\"evenodd\" fill-opacity=\"1\" /><path clip-path=\"url(#clip550)\" d=\"M 0 0 M1503.36 745.192 L1503.36 772.576 L1495.9 772.576 L1495.9 745.435 Q1495.9 738.994 1493.39 735.794 Q1490.88 732.594 1485.86 732.594 Q1479.82 732.594 1476.34 736.442 Q1472.85 740.29 1472.85 746.934 L1472.85 772.576 L1465.36 772.576 L1465.36 727.206 L1472.85 727.206 L1472.85 734.254 Q1475.53 730.163 1479.13 728.138 Q1482.78 726.112 1487.52 726.112 Q1495.33 726.112 1499.35 730.973 Q1503.36 735.794 1503.36 745.192 Z\" fill=\"#000000\" fill-rule=\"evenodd\" fill-opacity=\"1\" /><path clip-path=\"url(#clip550)\" d=\"M 0 0 M1540.1 728.543 L1540.1 735.591 Q1536.94 733.971 1533.53 733.161 Q1530.13 732.351 1526.49 732.351 Q1520.94 732.351 1518.14 734.052 Q1515.39 735.753 1515.39 739.156 Q1515.39 741.749 1517.37 743.247 Q1519.36 744.706 1525.35 746.043 L1527.9 746.61 Q1535.84 748.311 1539.17 751.43 Q1542.53 754.509 1542.53 760.059 Q1542.53 766.378 1537.5 770.064 Q1532.52 773.751 1523.77 773.751 Q1520.13 773.751 1516.16 773.022 Q1512.23 772.333 1507.85 770.915 L1507.85 763.218 Q1511.98 765.365 1515.99 766.459 Q1520 767.512 1523.93 767.512 Q1529.2 767.512 1532.04 765.73 Q1534.87 763.907 1534.87 760.626 Q1534.87 757.588 1532.81 755.967 Q1530.78 754.347 1523.85 752.848 L1521.26 752.24 Q1514.33 750.782 1511.25 747.784 Q1508.18 744.746 1508.18 739.48 Q1508.18 733.08 1512.71 729.596 Q1517.25 726.112 1525.59 726.112 Q1529.73 726.112 1533.37 726.72 Q1537.02 727.327 1540.1 728.543 Z\" fill=\"#000000\" fill-rule=\"evenodd\" fill-opacity=\"1\" /><path clip-path=\"url(#clip550)\" d=\"M 0 0 M1583 728.948 L1583 735.915 Q1579.84 734.173 1576.64 733.323 Q1573.48 732.432 1570.24 732.432 Q1562.98 732.432 1558.97 737.05 Q1554.96 741.627 1554.96 749.931 Q1554.96 758.236 1558.97 762.854 Q1562.98 767.431 1570.24 767.431 Q1573.48 767.431 1576.64 766.581 Q1579.84 765.689 1583 763.948 L1583 770.834 Q1579.88 772.292 1576.51 773.022 Q1573.19 773.751 1569.43 773.751 Q1559.18 773.751 1553.14 767.31 Q1547.11 760.869 1547.11 749.931 Q1547.11 738.832 1553.18 732.472 Q1559.3 726.112 1569.91 726.112 Q1573.36 726.112 1576.64 726.841 Q1579.92 727.53 1583 728.948 Z\" fill=\"#000000\" fill-rule=\"evenodd\" fill-opacity=\"1\" /><path clip-path=\"url(#clip550)\" d=\"M 0 0 M1628.53 745.192 L1628.53 772.576 L1621.07 772.576 L1621.07 745.435 Q1621.07 738.994 1618.56 735.794 Q1616.05 732.594 1611.03 732.594 Q1604.99 732.594 1601.51 736.442 Q1598.03 740.29 1598.03 746.934 L1598.03 772.576 L1590.53 772.576 L1590.53 709.544 L1598.03 709.544 L1598.03 734.254 Q1600.7 730.163 1604.3 728.138 Q1607.95 726.112 1612.69 726.112 Q1620.51 726.112 1624.52 730.973 Q1628.53 735.794 1628.53 745.192 Z\" fill=\"#000000\" fill-rule=\"evenodd\" fill-opacity=\"1\" /><path clip-path=\"url(#clip550)\" d=\"M 0 0 M1675.15 748.028 L1675.15 751.673 L1640.88 751.673 Q1641.37 759.37 1645.5 763.421 Q1649.67 767.431 1657.09 767.431 Q1661.38 767.431 1665.39 766.378 Q1669.44 765.325 1673.41 763.218 L1673.41 770.267 Q1669.4 771.968 1665.19 772.86 Q1660.98 773.751 1656.64 773.751 Q1645.79 773.751 1639.43 767.431 Q1633.11 761.112 1633.11 750.337 Q1633.11 739.197 1639.1 732.675 Q1645.14 726.112 1655.35 726.112 Q1664.5 726.112 1669.81 732.026 Q1675.15 737.9 1675.15 748.028 M1667.7 745.84 Q1667.62 739.723 1664.26 736.077 Q1660.94 732.432 1655.43 732.432 Q1649.19 732.432 1645.42 735.956 Q1641.69 739.48 1641.13 745.881 L1667.7 745.84 Z\" fill=\"#000000\" fill-rule=\"evenodd\" fill-opacity=\"1\" /><path clip-path=\"url(#clip550)\" d=\"M 0 0 M1682.97 727.206 L1690.43 727.206 L1690.43 772.576 L1682.97 772.576 L1682.97 727.206 M1682.97 709.544 L1690.43 709.544 L1690.43 718.983 L1682.97 718.983 L1682.97 709.544 Z\" fill=\"#000000\" fill-rule=\"evenodd\" fill-opacity=\"1\" /><path clip-path=\"url(#clip550)\" d=\"M 0 0 M1728.1 734.092 L1728.1 709.544 L1735.55 709.544 L1735.55 772.576 L1728.1 772.576 L1728.1 765.77 Q1725.75 769.821 1722.14 771.806 Q1718.58 773.751 1713.56 773.751 Q1705.33 773.751 1700.15 767.188 Q1695 760.626 1695 749.931 Q1695 739.237 1700.15 732.675 Q1705.33 726.112 1713.56 726.112 Q1718.58 726.112 1722.14 728.097 Q1725.75 730.042 1728.1 734.092 M1702.7 749.931 Q1702.7 758.155 1706.06 762.854 Q1709.47 767.512 1715.38 767.512 Q1721.29 767.512 1724.7 762.854 Q1728.1 758.155 1728.1 749.931 Q1728.1 741.708 1724.7 737.05 Q1721.29 732.351 1715.38 732.351 Q1709.47 732.351 1706.06 737.05 Q1702.7 741.708 1702.7 749.931 Z\" fill=\"#000000\" fill-rule=\"evenodd\" fill-opacity=\"1\" /><path clip-path=\"url(#clip550)\" d=\"M 0 0 M1782.99 712.096 L1789.88 712.096 L1768.81 780.273 L1761.92 780.273 L1782.99 712.096 Z\" fill=\"#000000\" fill-rule=\"evenodd\" fill-opacity=\"1\" /><path clip-path=\"url(#clip550)\" d=\"M 0 0 M1824.39 712.096 L1836.58 712.096 L1852.02 753.253 L1867.53 712.096 L1879.73 712.096 L1879.73 772.576 L1871.74 772.576 L1871.74 719.469 L1856.15 760.95 L1847.93 760.95 L1832.33 719.469 L1832.33 772.576 L1824.39 772.576 L1824.39 712.096 Z\" fill=\"#000000\" fill-rule=\"evenodd\" fill-opacity=\"1\" /><path clip-path=\"url(#clip550)\" d=\"M 0 0 M1908.16 749.769 Q1899.13 749.769 1895.65 751.835 Q1892.16 753.901 1892.16 758.884 Q1892.16 762.854 1894.75 765.203 Q1897.39 767.512 1901.88 767.512 Q1908.08 767.512 1911.81 763.137 Q1915.58 758.722 1915.58 751.43 L1915.58 749.769 L1908.16 749.769 M1923.03 746.691 L1923.03 772.576 L1915.58 772.576 L1915.58 765.689 Q1913.02 769.821 1909.22 771.806 Q1905.41 773.751 1899.9 773.751 Q1892.93 773.751 1888.8 769.862 Q1884.71 765.933 1884.71 759.37 Q1884.71 751.714 1889.81 747.825 Q1894.96 743.936 1905.12 743.936 L1915.58 743.936 L1915.58 743.207 Q1915.58 738.062 1912.17 735.267 Q1908.81 732.432 1902.69 732.432 Q1898.8 732.432 1895.12 733.363 Q1891.43 734.295 1888.03 736.158 L1888.03 729.272 Q1892.12 727.692 1895.97 726.922 Q1899.82 726.112 1903.46 726.112 Q1913.31 726.112 1918.17 731.216 Q1923.03 736.32 1923.03 746.691 M1907.6 709.706 L1915.82 709.706 L1915.82 717.889 L1907.6 717.889 L1907.6 709.706 M1891.76 709.706 L1899.98 709.706 L1899.98 717.889 L1891.76 717.889 L1891.76 709.706 Z\" fill=\"#000000\" fill-rule=\"evenodd\" fill-opacity=\"1\" /><path clip-path=\"url(#clip550)\" d=\"M 0 0 M1957.14 734.173 Q1955.88 733.444 1954.38 733.12 Q1952.92 732.756 1951.14 732.756 Q1944.82 732.756 1941.42 736.888 Q1938.06 740.979 1938.06 748.676 L1938.06 772.576 L1930.56 772.576 L1930.56 727.206 L1938.06 727.206 L1938.06 734.254 Q1940.41 730.123 1944.17 728.138 Q1947.94 726.112 1953.33 726.112 Q1954.1 726.112 1955.03 726.234 Q1955.96 726.315 1957.1 726.517 L1957.14 734.173 Z\" fill=\"#000000\" fill-rule=\"evenodd\" fill-opacity=\"1\" /><path clip-path=\"url(#clip550)\" d=\"M 0 0 M1964.67 709.544 L1972.17 709.544 L1972.17 746.772 L1994.41 727.206 L2003.93 727.206 L1979.86 748.433 L2004.94 772.576 L1995.22 772.576 L1972.17 750.418 L1972.17 772.576 L1964.67 772.576 L1964.67 709.544 Z\" fill=\"#000000\" fill-rule=\"evenodd\" fill-opacity=\"1\" /><path clip-path=\"url(#clip550)\" d=\"M 0 0 M2012.76 727.206 L2020.21 727.206 L2020.21 772.576 L2012.76 772.576 L2012.76 727.206 M2012.76 709.544 L2020.21 709.544 L2020.21 718.983 L2012.76 718.983 L2012.76 709.544 Z\" fill=\"#000000\" fill-rule=\"evenodd\" fill-opacity=\"1\" /><path clip-path=\"url(#clip550)\" d=\"M 0 0 M2056.95 728.543 L2056.95 735.591 Q2053.79 733.971 2050.39 733.161 Q2046.99 732.351 2043.34 732.351 Q2037.79 732.351 2035 734.052 Q2032.24 735.753 2032.24 739.156 Q2032.24 741.749 2034.23 743.247 Q2036.21 744.706 2042.21 746.043 L2044.76 746.61 Q2052.7 748.311 2056.02 751.43 Q2059.38 754.509 2059.38 760.059 Q2059.38 766.378 2054.36 770.064 Q2049.38 773.751 2040.63 773.751 Q2036.98 773.751 2033.01 773.022 Q2029.08 772.333 2024.71 770.915 L2024.71 763.218 Q2028.84 765.365 2032.85 766.459 Q2036.86 767.512 2040.79 767.512 Q2046.06 767.512 2048.89 765.73 Q2051.73 763.907 2051.73 760.626 Q2051.73 757.588 2049.66 755.967 Q2047.63 754.347 2040.71 752.848 L2038.12 752.24 Q2031.19 750.782 2028.11 747.784 Q2025.03 744.746 2025.03 739.48 Q2025.03 733.08 2029.57 729.596 Q2034.1 726.112 2042.45 726.112 Q2046.58 726.112 2050.23 726.72 Q2053.87 727.327 2056.95 728.543 Z\" fill=\"#000000\" fill-rule=\"evenodd\" fill-opacity=\"1\" /><path clip-path=\"url(#clip550)\" d=\"M 0 0 M2099.85 728.948 L2099.85 735.915 Q2096.69 734.173 2093.49 733.323 Q2090.33 732.432 2087.09 732.432 Q2079.84 732.432 2075.83 737.05 Q2071.82 741.627 2071.82 749.931 Q2071.82 758.236 2075.83 762.854 Q2079.84 767.431 2087.09 767.431 Q2090.33 767.431 2093.49 766.581 Q2096.69 765.689 2099.85 763.948 L2099.85 770.834 Q2096.73 772.292 2093.37 773.022 Q2090.05 773.751 2086.28 773.751 Q2076.03 773.751 2070 767.31 Q2063.96 760.869 2063.96 749.931 Q2063.96 738.832 2070.04 732.472 Q2076.15 726.112 2086.77 726.112 Q2090.21 726.112 2093.49 726.841 Q2096.77 727.53 2099.85 728.948 Z\" fill=\"#000000\" fill-rule=\"evenodd\" fill-opacity=\"1\" /><path clip-path=\"url(#clip550)\" d=\"M 0 0 M2145.38 745.192 L2145.38 772.576 L2137.93 772.576 L2137.93 745.435 Q2137.93 738.994 2135.42 735.794 Q2132.91 732.594 2127.88 732.594 Q2121.85 732.594 2118.36 736.442 Q2114.88 740.29 2114.88 746.934 L2114.88 772.576 L2107.39 772.576 L2107.39 709.544 L2114.88 709.544 L2114.88 734.254 Q2117.55 730.163 2121.16 728.138 Q2124.8 726.112 2129.54 726.112 Q2137.36 726.112 2141.37 730.973 Q2145.38 735.794 2145.38 745.192 Z\" fill=\"#000000\" fill-rule=\"evenodd\" fill-opacity=\"1\" /><path clip-path=\"url(#clip550)\" d=\"M 0 0 M2192.01 748.028 L2192.01 751.673 L2157.74 751.673 Q2158.22 759.37 2162.36 763.421 Q2166.53 767.431 2173.94 767.431 Q2178.24 767.431 2182.25 766.378 Q2186.3 765.325 2190.27 763.218 L2190.27 770.267 Q2186.26 771.968 2182.04 772.86 Q2177.83 773.751 2173.5 773.751 Q2162.64 773.751 2156.28 767.431 Q2149.96 761.112 2149.96 750.337 Q2149.96 739.197 2155.96 732.675 Q2161.99 726.112 2172.2 726.112 Q2181.36 726.112 2186.66 732.026 Q2192.01 737.9 2192.01 748.028 M2184.56 745.84 Q2184.47 739.723 2181.11 736.077 Q2177.79 732.432 2172.28 732.432 Q2166.04 732.432 2162.28 735.956 Q2158.55 739.48 2157.98 745.881 L2184.56 745.84 Z\" fill=\"#000000\" fill-rule=\"evenodd\" fill-opacity=\"1\" /><path clip-path=\"url(#clip550)\" d=\"M 0 0 M2226.12 734.173 Q2224.86 733.444 2223.36 733.12 Q2221.9 732.756 2220.12 732.756 Q2213.8 732.756 2210.4 736.888 Q2207.04 740.979 2207.04 748.676 L2207.04 772.576 L2199.54 772.576 L2199.54 727.206 L2207.04 727.206 L2207.04 734.254 Q2209.39 730.123 2213.15 728.138 Q2216.92 726.112 2222.31 726.112 Q2223.08 726.112 2224.01 726.234 Q2224.94 726.315 2226.08 726.517 L2226.12 734.173 Z\" fill=\"#000000\" fill-rule=\"evenodd\" fill-opacity=\"1\" /><path clip-path=\"url(#clip550)\" d=\"M 0 0 M2260.63 712.096 L2268.81 712.096 L2268.81 737.657 L2295.96 712.096 L2306.49 712.096 L2276.47 740.29 L2308.63 772.576 L2297.86 772.576 L2268.81 743.45 L2268.81 772.576 L2260.63 772.576 L2260.63 712.096 Z\" fill=\"#000000\" fill-rule=\"evenodd\" fill-opacity=\"1\" /><path clip-path=\"url(#clip550)\" d=\"M 0 0 M2342.74 734.173 Q2341.49 733.444 2339.99 733.12 Q2338.53 732.756 2336.75 732.756 Q2330.43 732.756 2327.03 736.888 Q2323.66 740.979 2323.66 748.676 L2323.66 772.576 L2316.17 772.576 L2316.17 727.206 L2323.66 727.206 L2323.66 734.254 Q2326.01 730.123 2329.78 728.138 Q2333.55 726.112 2338.94 726.112 Q2339.71 726.112 2340.64 726.234 Q2341.57 726.315 2342.7 726.517 L2342.74 734.173 Z\" fill=\"#000000\" fill-rule=\"evenodd\" fill-opacity=\"1\" /><path clip-path=\"url(#clip550)\" d=\"M 0 0 M2387.55 748.028 L2387.55 751.673 L2353.28 751.673 Q2353.76 759.37 2357.89 763.421 Q2362.07 767.431 2369.48 767.431 Q2373.77 767.431 2377.78 766.378 Q2381.83 765.325 2385.8 763.218 L2385.8 770.267 Q2381.79 771.968 2377.58 772.86 Q2373.37 773.751 2369.03 773.751 Q2358.18 773.751 2351.82 767.431 Q2345.5 761.112 2345.5 750.337 Q2345.5 739.197 2351.49 732.675 Q2357.53 726.112 2367.74 726.112 Q2376.89 726.112 2382.2 732.026 Q2387.55 737.9 2387.55 748.028 M2380.09 745.84 Q2380.01 739.723 2376.65 736.077 Q2373.33 732.432 2367.82 732.432 Q2361.58 732.432 2357.81 735.956 Q2354.09 739.48 2353.52 745.881 L2380.09 745.84 Z\" fill=\"#000000\" fill-rule=\"evenodd\" fill-opacity=\"1\" /><path clip-path=\"url(#clip550)\" d=\"M 0 0 M2395.36 727.206 L2402.82 727.206 L2402.82 772.576 L2395.36 772.576 L2395.36 727.206 M2395.36 709.544 L2402.82 709.544 L2402.82 718.983 L2395.36 718.983 L2395.36 709.544 Z\" fill=\"#000000\" fill-rule=\"evenodd\" fill-opacity=\"1\" /><path clip-path=\"url(#clip550)\" d=\"M 0 0 M2439.56 728.543 L2439.56 735.591 Q2436.4 733.971 2433 733.161 Q2429.59 732.351 2425.95 732.351 Q2420.4 732.351 2417.6 734.052 Q2414.85 735.753 2414.85 739.156 Q2414.85 741.749 2416.83 743.247 Q2418.82 744.706 2424.81 746.043 L2427.37 746.61 Q2435.31 748.311 2438.63 751.43 Q2441.99 754.509 2441.99 760.059 Q2441.99 766.378 2436.97 770.064 Q2431.98 773.751 2423.23 773.751 Q2419.59 773.751 2415.62 773.022 Q2411.69 772.333 2407.31 770.915 L2407.31 763.218 Q2411.45 765.365 2415.46 766.459 Q2419.47 767.512 2423.4 767.512 Q2428.66 767.512 2431.5 765.73 Q2434.33 763.907 2434.33 760.626 Q2434.33 757.588 2432.27 755.967 Q2430.24 754.347 2423.32 752.848 L2420.72 752.24 Q2413.8 750.782 2410.72 747.784 Q2407.64 744.746 2407.64 739.48 Q2407.64 733.08 2412.18 729.596 Q2416.71 726.112 2425.06 726.112 Q2429.19 726.112 2432.84 726.72 Q2436.48 727.327 2439.56 728.543 Z\" fill=\"#000000\" fill-rule=\"evenodd\" fill-opacity=\"1\" /><circle clip-path=\"url(#clip553)\" cx=\"269.707\" cy=\"1136.64\" r=\"14\" fill=\"#009af9\" fill-rule=\"evenodd\" fill-opacity=\"1\" stroke=\"#000000\" stroke-opacity=\"1\" stroke-width=\"5.6\"/>\n",
       "<circle clip-path=\"url(#clip553)\" cx=\"315.902\" cy=\"931.389\" r=\"14\" fill=\"#009af9\" fill-rule=\"evenodd\" fill-opacity=\"1\" stroke=\"#000000\" stroke-opacity=\"1\" stroke-width=\"5.6\"/>\n",
       "<circle clip-path=\"url(#clip553)\" cx=\"362.096\" cy=\"965.598\" r=\"14\" fill=\"#009af9\" fill-rule=\"evenodd\" fill-opacity=\"1\" stroke=\"#000000\" stroke-opacity=\"1\" stroke-width=\"5.6\"/>\n",
       "<circle clip-path=\"url(#clip553)\" cx=\"408.291\" cy=\"1076.78\" r=\"14\" fill=\"#009af9\" fill-rule=\"evenodd\" fill-opacity=\"1\" stroke=\"#000000\" stroke-opacity=\"1\" stroke-width=\"5.6\"/>\n",
       "<circle clip-path=\"url(#clip553)\" cx=\"454.485\" cy=\"1034.02\" r=\"14\" fill=\"#009af9\" fill-rule=\"evenodd\" fill-opacity=\"1\" stroke=\"#000000\" stroke-opacity=\"1\" stroke-width=\"5.6\"/>\n",
       "<circle clip-path=\"url(#clip553)\" cx=\"500.68\" cy=\"914.285\" r=\"14\" fill=\"#009af9\" fill-rule=\"evenodd\" fill-opacity=\"1\" stroke=\"#000000\" stroke-opacity=\"1\" stroke-width=\"5.6\"/>\n",
       "<circle clip-path=\"url(#clip553)\" cx=\"546.875\" cy=\"939.941\" r=\"14\" fill=\"#009af9\" fill-rule=\"evenodd\" fill-opacity=\"1\" stroke=\"#000000\" stroke-opacity=\"1\" stroke-width=\"5.6\"/>\n",
       "<circle clip-path=\"url(#clip553)\" cx=\"593.069\" cy=\"1205.06\" r=\"14\" fill=\"#009af9\" fill-rule=\"evenodd\" fill-opacity=\"1\" stroke=\"#000000\" stroke-opacity=\"1\" stroke-width=\"5.6\"/>\n",
       "<circle clip-path=\"url(#clip553)\" cx=\"639.264\" cy=\"888.628\" r=\"14\" fill=\"#009af9\" fill-rule=\"evenodd\" fill-opacity=\"1\" stroke=\"#000000\" stroke-opacity=\"1\" stroke-width=\"5.6\"/>\n",
       "<circle clip-path=\"url(#clip553)\" cx=\"685.458\" cy=\"1145.19\" r=\"14\" fill=\"#009af9\" fill-rule=\"evenodd\" fill-opacity=\"1\" stroke=\"#000000\" stroke-opacity=\"1\" stroke-width=\"5.6\"/>\n",
       "<circle clip-path=\"url(#clip553)\" cx=\"731.653\" cy=\"1093.88\" r=\"14\" fill=\"#009af9\" fill-rule=\"evenodd\" fill-opacity=\"1\" stroke=\"#000000\" stroke-opacity=\"1\" stroke-width=\"5.6\"/>\n",
       "<circle clip-path=\"url(#clip553)\" cx=\"777.847\" cy=\"1239.27\" r=\"14\" fill=\"#009af9\" fill-rule=\"evenodd\" fill-opacity=\"1\" stroke=\"#000000\" stroke-opacity=\"1\" stroke-width=\"5.6\"/>\n",
       "<circle clip-path=\"url(#clip553)\" cx=\"824.042\" cy=\"888.628\" r=\"14\" fill=\"#009af9\" fill-rule=\"evenodd\" fill-opacity=\"1\" stroke=\"#000000\" stroke-opacity=\"1\" stroke-width=\"5.6\"/>\n",
       "<circle clip-path=\"url(#clip553)\" cx=\"870.237\" cy=\"948.494\" r=\"14\" fill=\"#009af9\" fill-rule=\"evenodd\" fill-opacity=\"1\" stroke=\"#000000\" stroke-opacity=\"1\" stroke-width=\"5.6\"/>\n",
       "<circle clip-path=\"url(#clip553)\" cx=\"916.431\" cy=\"922.837\" r=\"14\" fill=\"#009af9\" fill-rule=\"evenodd\" fill-opacity=\"1\" stroke=\"#000000\" stroke-opacity=\"1\" stroke-width=\"5.6\"/>\n",
       "<circle clip-path=\"url(#clip553)\" cx=\"962.626\" cy=\"999.807\" r=\"14\" fill=\"#009af9\" fill-rule=\"evenodd\" fill-opacity=\"1\" stroke=\"#000000\" stroke-opacity=\"1\" stroke-width=\"5.6\"/>\n",
       "<circle clip-path=\"url(#clip553)\" cx=\"1008.82\" cy=\"1136.64\" r=\"14\" fill=\"#009af9\" fill-rule=\"evenodd\" fill-opacity=\"1\" stroke=\"#000000\" stroke-opacity=\"1\" stroke-width=\"5.6\"/>\n",
       "<circle clip-path=\"url(#clip553)\" cx=\"1055.01\" cy=\"1145.19\" r=\"14\" fill=\"#009af9\" fill-rule=\"evenodd\" fill-opacity=\"1\" stroke=\"#000000\" stroke-opacity=\"1\" stroke-width=\"5.6\"/>\n",
       "<circle clip-path=\"url(#clip553)\" cx=\"1101.21\" cy=\"991.255\" r=\"14\" fill=\"#009af9\" fill-rule=\"evenodd\" fill-opacity=\"1\" stroke=\"#000000\" stroke-opacity=\"1\" stroke-width=\"5.6\"/>\n",
       "<circle clip-path=\"url(#clip553)\" cx=\"1147.4\" cy=\"957.046\" r=\"14\" fill=\"#009af9\" fill-rule=\"evenodd\" fill-opacity=\"1\" stroke=\"#000000\" stroke-opacity=\"1\" stroke-width=\"5.6\"/>\n",
       "<circle clip-path=\"url(#clip553)\" cx=\"1193.6\" cy=\"845.867\" r=\"14\" fill=\"#009af9\" fill-rule=\"evenodd\" fill-opacity=\"1\" stroke=\"#000000\" stroke-opacity=\"1\" stroke-width=\"5.6\"/>\n",
       "<circle clip-path=\"url(#clip553)\" cx=\"1239.79\" cy=\"999.807\" r=\"14\" fill=\"#009af9\" fill-rule=\"evenodd\" fill-opacity=\"1\" stroke=\"#000000\" stroke-opacity=\"1\" stroke-width=\"5.6\"/>\n",
       "<circle clip-path=\"url(#clip553)\" cx=\"1285.99\" cy=\"1145.19\" r=\"14\" fill=\"#009af9\" fill-rule=\"evenodd\" fill-opacity=\"1\" stroke=\"#000000\" stroke-opacity=\"1\" stroke-width=\"5.6\"/>\n",
       "<circle clip-path=\"url(#clip553)\" cx=\"1332.18\" cy=\"922.837\" r=\"14\" fill=\"#009af9\" fill-rule=\"evenodd\" fill-opacity=\"1\" stroke=\"#000000\" stroke-opacity=\"1\" stroke-width=\"5.6\"/>\n",
       "<circle clip-path=\"url(#clip553)\" cx=\"1378.38\" cy=\"1110.99\" r=\"14\" fill=\"#009af9\" fill-rule=\"evenodd\" fill-opacity=\"1\" stroke=\"#000000\" stroke-opacity=\"1\" stroke-width=\"5.6\"/>\n",
       "<circle clip-path=\"url(#clip553)\" cx=\"1424.57\" cy=\"1230.72\" r=\"14\" fill=\"#009af9\" fill-rule=\"evenodd\" fill-opacity=\"1\" stroke=\"#000000\" stroke-opacity=\"1\" stroke-width=\"5.6\"/>\n",
       "<circle clip-path=\"url(#clip553)\" cx=\"1470.77\" cy=\"1025.46\" r=\"14\" fill=\"#009af9\" fill-rule=\"evenodd\" fill-opacity=\"1\" stroke=\"#000000\" stroke-opacity=\"1\" stroke-width=\"5.6\"/>\n",
       "<circle clip-path=\"url(#clip553)\" cx=\"1516.96\" cy=\"1187.96\" r=\"14\" fill=\"#009af9\" fill-rule=\"evenodd\" fill-opacity=\"1\" stroke=\"#000000\" stroke-opacity=\"1\" stroke-width=\"5.6\"/>\n",
       "<circle clip-path=\"url(#clip553)\" cx=\"1563.16\" cy=\"1034.02\" r=\"14\" fill=\"#009af9\" fill-rule=\"evenodd\" fill-opacity=\"1\" stroke=\"#000000\" stroke-opacity=\"1\" stroke-width=\"5.6\"/>\n",
       "<circle clip-path=\"url(#clip553)\" cx=\"1609.35\" cy=\"905.733\" r=\"14\" fill=\"#009af9\" fill-rule=\"evenodd\" fill-opacity=\"1\" stroke=\"#000000\" stroke-opacity=\"1\" stroke-width=\"5.6\"/>\n",
       "<circle clip-path=\"url(#clip553)\" cx=\"1655.54\" cy=\"1034.02\" r=\"14\" fill=\"#009af9\" fill-rule=\"evenodd\" fill-opacity=\"1\" stroke=\"#000000\" stroke-opacity=\"1\" stroke-width=\"5.6\"/>\n",
       "<circle clip-path=\"url(#clip553)\" cx=\"1701.74\" cy=\"1085.33\" r=\"14\" fill=\"#009af9\" fill-rule=\"evenodd\" fill-opacity=\"1\" stroke=\"#000000\" stroke-opacity=\"1\" stroke-width=\"5.6\"/>\n",
       "<circle clip-path=\"url(#clip553)\" cx=\"1747.93\" cy=\"1051.12\" r=\"14\" fill=\"#009af9\" fill-rule=\"evenodd\" fill-opacity=\"1\" stroke=\"#000000\" stroke-opacity=\"1\" stroke-width=\"5.6\"/>\n",
       "<circle clip-path=\"url(#clip553)\" cx=\"1794.13\" cy=\"991.255\" r=\"14\" fill=\"#009af9\" fill-rule=\"evenodd\" fill-opacity=\"1\" stroke=\"#000000\" stroke-opacity=\"1\" stroke-width=\"5.6\"/>\n",
       "<circle clip-path=\"url(#clip553)\" cx=\"1840.32\" cy=\"880.076\" r=\"14\" fill=\"#009af9\" fill-rule=\"evenodd\" fill-opacity=\"1\" stroke=\"#000000\" stroke-opacity=\"1\" stroke-width=\"5.6\"/>\n",
       "<circle clip-path=\"url(#clip553)\" cx=\"1886.52\" cy=\"999.807\" r=\"14\" fill=\"#009af9\" fill-rule=\"evenodd\" fill-opacity=\"1\" stroke=\"#000000\" stroke-opacity=\"1\" stroke-width=\"5.6\"/>\n",
       "<circle clip-path=\"url(#clip553)\" cx=\"1932.71\" cy=\"854.419\" r=\"14\" fill=\"#009af9\" fill-rule=\"evenodd\" fill-opacity=\"1\" stroke=\"#000000\" stroke-opacity=\"1\" stroke-width=\"5.6\"/>\n",
       "<circle clip-path=\"url(#clip553)\" cx=\"1978.91\" cy=\"914.285\" r=\"14\" fill=\"#009af9\" fill-rule=\"evenodd\" fill-opacity=\"1\" stroke=\"#000000\" stroke-opacity=\"1\" stroke-width=\"5.6\"/>\n",
       "<circle clip-path=\"url(#clip553)\" cx=\"2025.1\" cy=\"991.255\" r=\"14\" fill=\"#009af9\" fill-rule=\"evenodd\" fill-opacity=\"1\" stroke=\"#000000\" stroke-opacity=\"1\" stroke-width=\"5.6\"/>\n",
       "<circle clip-path=\"url(#clip553)\" cx=\"2071.3\" cy=\"1196.51\" r=\"14\" fill=\"#009af9\" fill-rule=\"evenodd\" fill-opacity=\"1\" stroke=\"#000000\" stroke-opacity=\"1\" stroke-width=\"5.6\"/>\n",
       "<circle clip-path=\"url(#clip553)\" cx=\"2117.49\" cy=\"1230.72\" r=\"14\" fill=\"#009af9\" fill-rule=\"evenodd\" fill-opacity=\"1\" stroke=\"#000000\" stroke-opacity=\"1\" stroke-width=\"5.6\"/>\n",
       "<circle clip-path=\"url(#clip553)\" cx=\"2163.68\" cy=\"1179.4\" r=\"14\" fill=\"#009af9\" fill-rule=\"evenodd\" fill-opacity=\"1\" stroke=\"#000000\" stroke-opacity=\"1\" stroke-width=\"5.6\"/>\n",
       "<circle clip-path=\"url(#clip553)\" cx=\"2209.88\" cy=\"1162.3\" r=\"14\" fill=\"#009af9\" fill-rule=\"evenodd\" fill-opacity=\"1\" stroke=\"#000000\" stroke-opacity=\"1\" stroke-width=\"5.6\"/>\n",
       "<circle clip-path=\"url(#clip553)\" cx=\"2256.07\" cy=\"1136.64\" r=\"14\" fill=\"#009af9\" fill-rule=\"evenodd\" fill-opacity=\"1\" stroke=\"#000000\" stroke-opacity=\"1\" stroke-width=\"5.6\"/>\n",
       "<circle clip-path=\"url(#clip553)\" cx=\"2302.27\" cy=\"1085.33\" r=\"14\" fill=\"#009af9\" fill-rule=\"evenodd\" fill-opacity=\"1\" stroke=\"#000000\" stroke-opacity=\"1\" stroke-width=\"5.6\"/>\n",
       "<circle clip-path=\"url(#clip553)\" cx=\"2348.46\" cy=\"1034.02\" r=\"14\" fill=\"#009af9\" fill-rule=\"evenodd\" fill-opacity=\"1\" stroke=\"#000000\" stroke-opacity=\"1\" stroke-width=\"5.6\"/>\n",
       "<circle clip-path=\"url(#clip553)\" cx=\"2302.27\" cy=\"1119.54\" r=\"14\" fill=\"#009af9\" fill-rule=\"evenodd\" fill-opacity=\"1\" stroke=\"#000000\" stroke-opacity=\"1\" stroke-width=\"5.6\"/>\n",
       "<circle clip-path=\"url(#clip553)\" cx=\"2348.46\" cy=\"1051.12\" r=\"14\" fill=\"#009af9\" fill-rule=\"evenodd\" fill-opacity=\"1\" stroke=\"#000000\" stroke-opacity=\"1\" stroke-width=\"5.6\"/>\n",
       "<circle clip-path=\"url(#clip553)\" cx=\"2394.66\" cy=\"888.628\" r=\"14\" fill=\"#009af9\" fill-rule=\"evenodd\" fill-opacity=\"1\" stroke=\"#000000\" stroke-opacity=\"1\" stroke-width=\"5.6\"/>\n",
       "<circle clip-path=\"url(#clip553)\" cx=\"2440.85\" cy=\"1213.61\" r=\"14\" fill=\"#009af9\" fill-rule=\"evenodd\" fill-opacity=\"1\" stroke=\"#000000\" stroke-opacity=\"1\" stroke-width=\"5.6\"/>\n",
       "<circle clip-path=\"url(#clip553)\" cx=\"2487.05\" cy=\"1239.27\" r=\"14\" fill=\"#009af9\" fill-rule=\"evenodd\" fill-opacity=\"1\" stroke=\"#000000\" stroke-opacity=\"1\" stroke-width=\"5.6\"/>\n",
       "<circle clip-path=\"url(#clip553)\" cx=\"2533.24\" cy=\"1110.99\" r=\"14\" fill=\"#009af9\" fill-rule=\"evenodd\" fill-opacity=\"1\" stroke=\"#000000\" stroke-opacity=\"1\" stroke-width=\"5.6\"/>\n",
       "<circle clip-path=\"url(#clip553)\" cx=\"2579.44\" cy=\"1119.54\" r=\"14\" fill=\"#009af9\" fill-rule=\"evenodd\" fill-opacity=\"1\" stroke=\"#000000\" stroke-opacity=\"1\" stroke-width=\"5.6\"/>\n",
       "<circle clip-path=\"url(#clip553)\" cx=\"2625.63\" cy=\"1076.78\" r=\"14\" fill=\"#009af9\" fill-rule=\"evenodd\" fill-opacity=\"1\" stroke=\"#000000\" stroke-opacity=\"1\" stroke-width=\"5.6\"/>\n",
       "<circle clip-path=\"url(#clip553)\" cx=\"2671.83\" cy=\"1213.61\" r=\"14\" fill=\"#009af9\" fill-rule=\"evenodd\" fill-opacity=\"1\" stroke=\"#000000\" stroke-opacity=\"1\" stroke-width=\"5.6\"/>\n",
       "<circle clip-path=\"url(#clip553)\" cx=\"2718.02\" cy=\"1102.43\" r=\"14\" fill=\"#009af9\" fill-rule=\"evenodd\" fill-opacity=\"1\" stroke=\"#000000\" stroke-opacity=\"1\" stroke-width=\"5.6\"/>\n",
       "<circle clip-path=\"url(#clip553)\" cx=\"2764.21\" cy=\"1051.12\" r=\"14\" fill=\"#009af9\" fill-rule=\"evenodd\" fill-opacity=\"1\" stroke=\"#000000\" stroke-opacity=\"1\" stroke-width=\"5.6\"/>\n",
       "<circle clip-path=\"url(#clip553)\" cx=\"2810.41\" cy=\"1085.33\" r=\"14\" fill=\"#009af9\" fill-rule=\"evenodd\" fill-opacity=\"1\" stroke=\"#000000\" stroke-opacity=\"1\" stroke-width=\"5.6\"/>\n",
       "<circle clip-path=\"url(#clip553)\" cx=\"2856.6\" cy=\"897.18\" r=\"14\" fill=\"#009af9\" fill-rule=\"evenodd\" fill-opacity=\"1\" stroke=\"#000000\" stroke-opacity=\"1\" stroke-width=\"5.6\"/>\n",
       "<circle clip-path=\"url(#clip553)\" cx=\"2902.8\" cy=\"1256.37\" r=\"14\" fill=\"#009af9\" fill-rule=\"evenodd\" fill-opacity=\"1\" stroke=\"#000000\" stroke-opacity=\"1\" stroke-width=\"5.6\"/>\n",
       "<circle clip-path=\"url(#clip553)\" cx=\"2948.99\" cy=\"1196.51\" r=\"14\" fill=\"#009af9\" fill-rule=\"evenodd\" fill-opacity=\"1\" stroke=\"#000000\" stroke-opacity=\"1\" stroke-width=\"5.6\"/>\n",
       "<circle clip-path=\"url(#clip553)\" cx=\"2995.19\" cy=\"1025.46\" r=\"14\" fill=\"#009af9\" fill-rule=\"evenodd\" fill-opacity=\"1\" stroke=\"#000000\" stroke-opacity=\"1\" stroke-width=\"5.6\"/>\n",
       "<circle clip-path=\"url(#clip553)\" cx=\"3041.38\" cy=\"1016.91\" r=\"14\" fill=\"#009af9\" fill-rule=\"evenodd\" fill-opacity=\"1\" stroke=\"#000000\" stroke-opacity=\"1\" stroke-width=\"5.6\"/>\n",
       "<circle clip-path=\"url(#clip553)\" cx=\"3087.58\" cy=\"1119.54\" r=\"14\" fill=\"#009af9\" fill-rule=\"evenodd\" fill-opacity=\"1\" stroke=\"#000000\" stroke-opacity=\"1\" stroke-width=\"5.6\"/>\n",
       "<circle clip-path=\"url(#clip553)\" cx=\"3133.77\" cy=\"1136.64\" r=\"14\" fill=\"#009af9\" fill-rule=\"evenodd\" fill-opacity=\"1\" stroke=\"#000000\" stroke-opacity=\"1\" stroke-width=\"5.6\"/>\n",
       "<circle clip-path=\"url(#clip553)\" cx=\"3179.97\" cy=\"905.733\" r=\"14\" fill=\"#009af9\" fill-rule=\"evenodd\" fill-opacity=\"1\" stroke=\"#000000\" stroke-opacity=\"1\" stroke-width=\"5.6\"/>\n",
       "<circle clip-path=\"url(#clip553)\" cx=\"3226.16\" cy=\"1247.82\" r=\"14\" fill=\"#009af9\" fill-rule=\"evenodd\" fill-opacity=\"1\" stroke=\"#000000\" stroke-opacity=\"1\" stroke-width=\"5.6\"/>\n",
       "<circle clip-path=\"url(#clip553)\" cx=\"3272.35\" cy=\"1059.67\" r=\"14\" fill=\"#009af9\" fill-rule=\"evenodd\" fill-opacity=\"1\" stroke=\"#000000\" stroke-opacity=\"1\" stroke-width=\"5.6\"/>\n",
       "<circle clip-path=\"url(#clip553)\" cx=\"3318.55\" cy=\"1042.57\" r=\"14\" fill=\"#009af9\" fill-rule=\"evenodd\" fill-opacity=\"1\" stroke=\"#000000\" stroke-opacity=\"1\" stroke-width=\"5.6\"/>\n",
       "<circle clip-path=\"url(#clip553)\" cx=\"3364.74\" cy=\"1179.4\" r=\"14\" fill=\"#009af9\" fill-rule=\"evenodd\" fill-opacity=\"1\" stroke=\"#000000\" stroke-opacity=\"1\" stroke-width=\"5.6\"/>\n",
       "<circle clip-path=\"url(#clip553)\" cx=\"3410.94\" cy=\"1016.91\" r=\"14\" fill=\"#009af9\" fill-rule=\"evenodd\" fill-opacity=\"1\" stroke=\"#000000\" stroke-opacity=\"1\" stroke-width=\"5.6\"/>\n",
       "<circle clip-path=\"url(#clip553)\" cx=\"3457.13\" cy=\"1196.51\" r=\"14\" fill=\"#009af9\" fill-rule=\"evenodd\" fill-opacity=\"1\" stroke=\"#000000\" stroke-opacity=\"1\" stroke-width=\"5.6\"/>\n",
       "<polyline clip-path=\"url(#clip553)\" style=\"stroke:#009af9; stroke-width:4; stroke-opacity:1; fill:none\" points=\"\n",
       "  269.707,1007.51 3457.13,1112.88 \n",
       "  \"/>\n",
       "<path clip-path=\"url(#clip550)\" d=\"\n",
       "M174.084 1968.69 L3552.76 1968.69 L3552.76 1533.55 L174.084 1533.55  Z\n",
       "  \" fill=\"#ffffff\" fill-rule=\"evenodd\" fill-opacity=\"1\"/>\n",
       "<defs>\n",
       "  <clipPath id=\"clip554\">\n",
       "    <rect x=\"174\" y=\"1533\" width=\"3380\" height=\"436\"/>\n",
       "  </clipPath>\n",
       "</defs>\n",
       "<polyline clip-path=\"url(#clip554)\" style=\"stroke:#000000; stroke-width:2; stroke-opacity:0.1; fill:none\" points=\"\n",
       "  518.725,1968.69 518.725,1533.55 \n",
       "  \"/>\n",
       "<polyline clip-path=\"url(#clip554)\" style=\"stroke:#000000; stroke-width:2; stroke-opacity:0.1; fill:none\" points=\"\n",
       "  1016.76,1968.69 1016.76,1533.55 \n",
       "  \"/>\n",
       "<polyline clip-path=\"url(#clip554)\" style=\"stroke:#000000; stroke-width:2; stroke-opacity:0.1; fill:none\" points=\"\n",
       "  1514.8,1968.69 1514.8,1533.55 \n",
       "  \"/>\n",
       "<polyline clip-path=\"url(#clip554)\" style=\"stroke:#000000; stroke-width:2; stroke-opacity:0.1; fill:none\" points=\"\n",
       "  2012.83,1968.69 2012.83,1533.55 \n",
       "  \"/>\n",
       "<polyline clip-path=\"url(#clip554)\" style=\"stroke:#000000; stroke-width:2; stroke-opacity:0.1; fill:none\" points=\"\n",
       "  2510.87,1968.69 2510.87,1533.55 \n",
       "  \"/>\n",
       "<polyline clip-path=\"url(#clip554)\" style=\"stroke:#000000; stroke-width:2; stroke-opacity:0.1; fill:none\" points=\"\n",
       "  3008.9,1968.69 3008.9,1533.55 \n",
       "  \"/>\n",
       "<polyline clip-path=\"url(#clip554)\" style=\"stroke:#000000; stroke-width:2; stroke-opacity:0.1; fill:none\" points=\"\n",
       "  3506.94,1968.69 3506.94,1533.55 \n",
       "  \"/>\n",
       "<polyline clip-path=\"url(#clip550)\" style=\"stroke:#000000; stroke-width:4; stroke-opacity:1; fill:none\" points=\"\n",
       "  174.084,1968.69 3552.76,1968.69 \n",
       "  \"/>\n",
       "<polyline clip-path=\"url(#clip550)\" style=\"stroke:#000000; stroke-width:4; stroke-opacity:1; fill:none\" points=\"\n",
       "  518.725,1968.69 518.725,1963.47 \n",
       "  \"/>\n",
       "<polyline clip-path=\"url(#clip550)\" style=\"stroke:#000000; stroke-width:4; stroke-opacity:1; fill:none\" points=\"\n",
       "  1016.76,1968.69 1016.76,1963.47 \n",
       "  \"/>\n",
       "<polyline clip-path=\"url(#clip550)\" style=\"stroke:#000000; stroke-width:4; stroke-opacity:1; fill:none\" points=\"\n",
       "  1514.8,1968.69 1514.8,1963.47 \n",
       "  \"/>\n",
       "<polyline clip-path=\"url(#clip550)\" style=\"stroke:#000000; stroke-width:4; stroke-opacity:1; fill:none\" points=\"\n",
       "  2012.83,1968.69 2012.83,1963.47 \n",
       "  \"/>\n",
       "<polyline clip-path=\"url(#clip550)\" style=\"stroke:#000000; stroke-width:4; stroke-opacity:1; fill:none\" points=\"\n",
       "  2510.87,1968.69 2510.87,1963.47 \n",
       "  \"/>\n",
       "<polyline clip-path=\"url(#clip550)\" style=\"stroke:#000000; stroke-width:4; stroke-opacity:1; fill:none\" points=\"\n",
       "  3008.9,1968.69 3008.9,1963.47 \n",
       "  \"/>\n",
       "<polyline clip-path=\"url(#clip550)\" style=\"stroke:#000000; stroke-width:4; stroke-opacity:1; fill:none\" points=\"\n",
       "  3506.94,1968.69 3506.94,1963.47 \n",
       "  \"/>\n",
       "<path clip-path=\"url(#clip550)\" d=\"M 0 0 M468.598 2035.02 L476.237 2035.02 L476.237 2008.66 L467.926 2010.33 L467.926 2006.07 L476.19 2004.4 L480.866 2004.4 L480.866 2035.02 L488.505 2035.02 L488.505 2038.96 L468.598 2038.96 L468.598 2035.02 Z\" fill=\"#000000\" fill-rule=\"evenodd\" fill-opacity=\"1\" /><path clip-path=\"url(#clip550)\" d=\"M 0 0 M493.713 2038.24 L493.713 2033.98 Q495.473 2034.82 497.278 2035.26 Q499.084 2035.7 500.82 2035.7 Q505.449 2035.7 507.88 2032.59 Q510.334 2029.47 510.681 2023.13 Q509.338 2025.12 507.278 2026.18 Q505.218 2027.25 502.718 2027.25 Q497.533 2027.25 494.5 2024.12 Q491.491 2020.97 491.491 2015.53 Q491.491 2010.21 494.639 2006.99 Q497.787 2003.77 503.019 2003.77 Q509.014 2003.77 512.162 2008.38 Q515.334 2012.96 515.334 2021.71 Q515.334 2029.89 511.445 2034.77 Q507.579 2039.63 501.028 2039.63 Q499.269 2039.63 497.463 2039.28 Q495.658 2038.94 493.713 2038.24 M503.019 2023.59 Q506.167 2023.59 507.996 2021.44 Q509.847 2019.28 509.847 2015.53 Q509.847 2011.81 507.996 2009.65 Q506.167 2007.48 503.019 2007.48 Q499.871 2007.48 498.019 2009.65 Q496.19 2011.81 496.19 2015.53 Q496.19 2019.28 498.019 2021.44 Q499.871 2023.59 503.019 2023.59 Z\" fill=\"#000000\" fill-rule=\"evenodd\" fill-opacity=\"1\" /><path clip-path=\"url(#clip550)\" d=\"M 0 0 M530.982 2019.82 Q527.834 2019.82 525.982 2021.97 Q524.153 2024.12 524.153 2027.87 Q524.153 2031.6 525.982 2033.77 Q527.834 2035.93 530.982 2035.93 Q534.13 2035.93 535.958 2033.77 Q537.81 2031.6 537.81 2027.87 Q537.81 2024.12 535.958 2021.97 Q534.13 2019.82 530.982 2019.82 M540.264 2005.16 L540.264 2009.42 Q538.505 2008.59 536.699 2008.15 Q534.917 2007.71 533.158 2007.71 Q528.528 2007.71 526.074 2010.84 Q523.644 2013.96 523.296 2020.28 Q524.662 2018.27 526.722 2017.2 Q528.783 2016.11 531.259 2016.11 Q536.468 2016.11 539.477 2019.28 Q542.509 2022.43 542.509 2027.87 Q542.509 2033.2 539.361 2036.41 Q536.213 2039.63 530.982 2039.63 Q524.986 2039.63 521.815 2035.05 Q518.644 2030.44 518.644 2021.71 Q518.644 2013.52 522.533 2008.66 Q526.421 2003.77 532.972 2003.77 Q534.732 2003.77 536.514 2004.12 Q538.32 2004.47 540.264 2005.16 Z\" fill=\"#000000\" fill-rule=\"evenodd\" fill-opacity=\"1\" /><path clip-path=\"url(#clip550)\" d=\"M 0 0 M557.579 2007.48 Q553.968 2007.48 552.139 2011.04 Q550.333 2014.59 550.333 2021.71 Q550.333 2028.82 552.139 2032.39 Q553.968 2035.93 557.579 2035.93 Q561.213 2035.93 563.018 2032.39 Q564.847 2028.82 564.847 2021.71 Q564.847 2014.59 563.018 2011.04 Q561.213 2007.48 557.579 2007.48 M557.579 2003.77 Q563.389 2003.77 566.444 2008.38 Q569.523 2012.96 569.523 2021.71 Q569.523 2030.44 566.444 2035.05 Q563.389 2039.63 557.579 2039.63 Q551.769 2039.63 548.69 2035.05 Q545.634 2030.44 545.634 2021.71 Q545.634 2012.96 548.69 2008.38 Q551.769 2003.77 557.579 2003.77 Z\" fill=\"#000000\" fill-rule=\"evenodd\" fill-opacity=\"1\" /><path clip-path=\"url(#clip550)\" d=\"M 0 0 M967.165 2035.02 L974.804 2035.02 L974.804 2008.66 L966.494 2010.33 L966.494 2006.07 L974.758 2004.4 L979.434 2004.4 L979.434 2035.02 L987.073 2035.02 L987.073 2038.96 L967.165 2038.96 L967.165 2035.02 Z\" fill=\"#000000\" fill-rule=\"evenodd\" fill-opacity=\"1\" /><path clip-path=\"url(#clip550)\" d=\"M 0 0 M992.281 2038.24 L992.281 2033.98 Q994.04 2034.82 995.846 2035.26 Q997.651 2035.7 999.387 2035.7 Q1004.02 2035.7 1006.45 2032.59 Q1008.9 2029.47 1009.25 2023.13 Q1007.91 2025.12 1005.85 2026.18 Q1003.79 2027.25 1001.29 2027.25 Q996.1 2027.25 993.068 2024.12 Q990.059 2020.97 990.059 2015.53 Q990.059 2010.21 993.207 2006.99 Q996.355 2003.77 1001.59 2003.77 Q1007.58 2003.77 1010.73 2008.38 Q1013.9 2012.96 1013.9 2021.71 Q1013.9 2029.89 1010.01 2034.77 Q1006.15 2039.63 999.596 2039.63 Q997.837 2039.63 996.031 2039.28 Q994.225 2038.94 992.281 2038.24 M1001.59 2023.59 Q1004.73 2023.59 1006.56 2021.44 Q1008.42 2019.28 1008.42 2015.53 Q1008.42 2011.81 1006.56 2009.65 Q1004.73 2007.48 1001.59 2007.48 Q998.438 2007.48 996.587 2009.65 Q994.758 2011.81 994.758 2015.53 Q994.758 2019.28 996.587 2021.44 Q998.438 2023.59 1001.59 2023.59 Z\" fill=\"#000000\" fill-rule=\"evenodd\" fill-opacity=\"1\" /><path clip-path=\"url(#clip550)\" d=\"M 0 0 M1017.79 2004.4 L1040.01 2004.4 L1040.01 2006.39 L1027.47 2038.96 L1022.58 2038.96 L1034.39 2008.34 L1017.79 2008.34 L1017.79 2004.4 Z\" fill=\"#000000\" fill-rule=\"evenodd\" fill-opacity=\"1\" /><path clip-path=\"url(#clip550)\" d=\"M 0 0 M1055.08 2007.48 Q1051.47 2007.48 1049.64 2011.04 Q1047.84 2014.59 1047.84 2021.71 Q1047.84 2028.82 1049.64 2032.39 Q1051.47 2035.93 1055.08 2035.93 Q1058.72 2035.93 1060.52 2032.39 Q1062.35 2028.82 1062.35 2021.71 Q1062.35 2014.59 1060.52 2011.04 Q1058.72 2007.48 1055.08 2007.48 M1055.08 2003.77 Q1060.89 2003.77 1063.95 2008.38 Q1067.03 2012.96 1067.03 2021.71 Q1067.03 2030.44 1063.95 2035.05 Q1060.89 2039.63 1055.08 2039.63 Q1049.27 2039.63 1046.19 2035.05 Q1043.14 2030.44 1043.14 2021.71 Q1043.14 2012.96 1046.19 2008.38 Q1049.27 2003.77 1055.08 2003.77 Z\" fill=\"#000000\" fill-rule=\"evenodd\" fill-opacity=\"1\" /><path clip-path=\"url(#clip550)\" d=\"M 0 0 M1464.8 2035.02 L1472.43 2035.02 L1472.43 2008.66 L1464.12 2010.33 L1464.12 2006.07 L1472.39 2004.4 L1477.06 2004.4 L1477.06 2035.02 L1484.7 2035.02 L1484.7 2038.96 L1464.8 2038.96 L1464.8 2035.02 Z\" fill=\"#000000\" fill-rule=\"evenodd\" fill-opacity=\"1\" /><path clip-path=\"url(#clip550)\" d=\"M 0 0 M1489.91 2038.24 L1489.91 2033.98 Q1491.67 2034.82 1493.48 2035.26 Q1495.28 2035.7 1497.02 2035.7 Q1501.65 2035.7 1504.08 2032.59 Q1506.53 2029.47 1506.88 2023.13 Q1505.54 2025.12 1503.48 2026.18 Q1501.42 2027.25 1498.92 2027.25 Q1493.73 2027.25 1490.7 2024.12 Q1487.69 2020.97 1487.69 2015.53 Q1487.69 2010.21 1490.84 2006.99 Q1493.99 2003.77 1499.22 2003.77 Q1505.21 2003.77 1508.36 2008.38 Q1511.53 2012.96 1511.53 2021.71 Q1511.53 2029.89 1507.64 2034.77 Q1503.78 2039.63 1497.23 2039.63 Q1495.47 2039.63 1493.66 2039.28 Q1491.86 2038.94 1489.91 2038.24 M1499.22 2023.59 Q1502.36 2023.59 1504.19 2021.44 Q1506.05 2019.28 1506.05 2015.53 Q1506.05 2011.81 1504.19 2009.65 Q1502.36 2007.48 1499.22 2007.48 Q1496.07 2007.48 1494.22 2009.65 Q1492.39 2011.81 1492.39 2015.53 Q1492.39 2019.28 1494.22 2021.44 Q1496.07 2023.59 1499.22 2023.59 Z\" fill=\"#000000\" fill-rule=\"evenodd\" fill-opacity=\"1\" /><path clip-path=\"url(#clip550)\" d=\"M 0 0 M1526.6 2022.55 Q1523.27 2022.55 1521.35 2024.33 Q1519.45 2026.11 1519.45 2029.24 Q1519.45 2032.36 1521.35 2034.15 Q1523.27 2035.93 1526.6 2035.93 Q1529.93 2035.93 1531.86 2034.15 Q1533.78 2032.34 1533.78 2029.24 Q1533.78 2026.11 1531.86 2024.33 Q1529.96 2022.55 1526.6 2022.55 M1521.92 2020.56 Q1518.92 2019.82 1517.23 2017.76 Q1515.56 2015.7 1515.56 2012.73 Q1515.56 2008.59 1518.5 2006.18 Q1521.46 2003.77 1526.6 2003.77 Q1531.76 2003.77 1534.7 2006.18 Q1537.64 2008.59 1537.64 2012.73 Q1537.64 2015.7 1535.95 2017.76 Q1534.29 2019.82 1531.3 2020.56 Q1534.68 2021.34 1536.55 2023.64 Q1538.45 2025.93 1538.45 2029.24 Q1538.45 2034.26 1535.37 2036.95 Q1532.32 2039.63 1526.6 2039.63 Q1520.88 2039.63 1517.8 2036.95 Q1514.75 2034.26 1514.75 2029.24 Q1514.75 2025.93 1516.65 2023.64 Q1518.55 2021.34 1521.92 2020.56 M1520.21 2013.17 Q1520.21 2015.86 1521.88 2017.36 Q1523.57 2018.87 1526.6 2018.87 Q1529.61 2018.87 1531.3 2017.36 Q1533.01 2015.86 1533.01 2013.17 Q1533.01 2010.49 1531.3 2008.98 Q1529.61 2007.48 1526.6 2007.48 Q1523.57 2007.48 1521.88 2008.98 Q1520.21 2010.49 1520.21 2013.17 Z\" fill=\"#000000\" fill-rule=\"evenodd\" fill-opacity=\"1\" /><path clip-path=\"url(#clip550)\" d=\"M 0 0 M1553.52 2007.48 Q1549.91 2007.48 1548.08 2011.04 Q1546.28 2014.59 1546.28 2021.71 Q1546.28 2028.82 1548.08 2032.39 Q1549.91 2035.93 1553.52 2035.93 Q1557.16 2035.93 1558.96 2032.39 Q1560.79 2028.82 1560.79 2021.71 Q1560.79 2014.59 1558.96 2011.04 Q1557.16 2007.48 1553.52 2007.48 M1553.52 2003.77 Q1559.33 2003.77 1562.39 2008.38 Q1565.47 2012.96 1565.47 2021.71 Q1565.47 2030.44 1562.39 2035.05 Q1559.33 2039.63 1553.52 2039.63 Q1547.71 2039.63 1544.63 2035.05 Q1541.58 2030.44 1541.58 2021.71 Q1541.58 2012.96 1544.63 2008.38 Q1547.71 2003.77 1553.52 2003.77 Z\" fill=\"#000000\" fill-rule=\"evenodd\" fill-opacity=\"1\" /><path clip-path=\"url(#clip550)\" d=\"M 0 0 M1962.88 2035.02 L1970.52 2035.02 L1970.52 2008.66 L1962.21 2010.33 L1962.21 2006.07 L1970.47 2004.4 L1975.15 2004.4 L1975.15 2035.02 L1982.78 2035.02 L1982.78 2038.96 L1962.88 2038.96 L1962.88 2035.02 Z\" fill=\"#000000\" fill-rule=\"evenodd\" fill-opacity=\"1\" /><path clip-path=\"url(#clip550)\" d=\"M 0 0 M1987.99 2038.24 L1987.99 2033.98 Q1989.75 2034.82 1991.56 2035.26 Q1993.36 2035.7 1995.1 2035.7 Q1999.73 2035.7 2002.16 2032.59 Q2004.61 2029.47 2004.96 2023.13 Q2003.62 2025.12 2001.56 2026.18 Q1999.5 2027.25 1997 2027.25 Q1991.81 2027.25 1988.78 2024.12 Q1985.77 2020.97 1985.77 2015.53 Q1985.77 2010.21 1988.92 2006.99 Q1992.07 2003.77 1997.3 2003.77 Q2003.29 2003.77 2006.44 2008.38 Q2009.61 2012.96 2009.61 2021.71 Q2009.61 2029.89 2005.72 2034.77 Q2001.86 2039.63 1995.31 2039.63 Q1993.55 2039.63 1991.74 2039.28 Q1989.94 2038.94 1987.99 2038.24 M1997.3 2023.59 Q2000.45 2023.59 2002.28 2021.44 Q2004.13 2019.28 2004.13 2015.53 Q2004.13 2011.81 2002.28 2009.65 Q2000.45 2007.48 1997.3 2007.48 Q1994.15 2007.48 1992.3 2009.65 Q1990.47 2011.81 1990.47 2015.53 Q1990.47 2019.28 1992.3 2021.44 Q1994.15 2023.59 1997.3 2023.59 Z\" fill=\"#000000\" fill-rule=\"evenodd\" fill-opacity=\"1\" /><path clip-path=\"url(#clip550)\" d=\"M 0 0 M2014.82 2038.24 L2014.82 2033.98 Q2016.58 2034.82 2018.39 2035.26 Q2020.19 2035.7 2021.93 2035.7 Q2026.56 2035.7 2028.99 2032.59 Q2031.44 2029.47 2031.79 2023.13 Q2030.45 2025.12 2028.39 2026.18 Q2026.33 2027.25 2023.83 2027.25 Q2018.64 2027.25 2015.61 2024.12 Q2012.6 2020.97 2012.6 2015.53 Q2012.6 2010.21 2015.75 2006.99 Q2018.9 2003.77 2024.13 2003.77 Q2030.12 2003.77 2033.27 2008.38 Q2036.44 2012.96 2036.44 2021.71 Q2036.44 2029.89 2032.55 2034.77 Q2028.69 2039.63 2022.14 2039.63 Q2020.38 2039.63 2018.57 2039.28 Q2016.77 2038.94 2014.82 2038.24 M2024.13 2023.59 Q2027.28 2023.59 2029.1 2021.44 Q2030.96 2019.28 2030.96 2015.53 Q2030.96 2011.81 2029.1 2009.65 Q2027.28 2007.48 2024.13 2007.48 Q2020.98 2007.48 2019.13 2009.65 Q2017.3 2011.81 2017.3 2015.53 Q2017.3 2019.28 2019.13 2021.44 Q2020.98 2023.59 2024.13 2023.59 Z\" fill=\"#000000\" fill-rule=\"evenodd\" fill-opacity=\"1\" /><path clip-path=\"url(#clip550)\" d=\"M 0 0 M2051.51 2007.48 Q2047.9 2007.48 2046.07 2011.04 Q2044.27 2014.59 2044.27 2021.71 Q2044.27 2028.82 2046.07 2032.39 Q2047.9 2035.93 2051.51 2035.93 Q2055.15 2035.93 2056.95 2032.39 Q2058.78 2028.82 2058.78 2021.71 Q2058.78 2014.59 2056.95 2011.04 Q2055.15 2007.48 2051.51 2007.48 M2051.51 2003.77 Q2057.32 2003.77 2060.38 2008.38 Q2063.46 2012.96 2063.46 2021.71 Q2063.46 2030.44 2060.38 2035.05 Q2057.32 2039.63 2051.51 2039.63 Q2045.7 2039.63 2042.62 2035.05 Q2039.57 2030.44 2039.57 2021.71 Q2039.57 2012.96 2042.62 2008.38 Q2045.7 2003.77 2051.51 2003.77 Z\" fill=\"#000000\" fill-rule=\"evenodd\" fill-opacity=\"1\" /><path clip-path=\"url(#clip550)\" d=\"M 0 0 M2465 2035.02 L2481.32 2035.02 L2481.32 2038.96 L2459.37 2038.96 L2459.37 2035.02 Q2462.04 2032.27 2466.62 2027.64 Q2471.23 2022.99 2472.41 2021.65 Q2474.65 2019.12 2475.53 2017.39 Q2476.43 2015.63 2476.43 2013.94 Q2476.43 2011.18 2474.49 2009.45 Q2472.57 2007.71 2469.47 2007.71 Q2467.27 2007.71 2464.81 2008.47 Q2462.38 2009.24 2459.6 2010.79 L2459.6 2006.07 Q2462.43 2004.93 2464.88 2004.35 Q2467.34 2003.77 2469.37 2003.77 Q2474.74 2003.77 2477.94 2006.46 Q2481.13 2009.15 2481.13 2013.64 Q2481.13 2015.77 2480.32 2017.69 Q2479.54 2019.58 2477.43 2022.18 Q2476.85 2022.85 2473.75 2026.07 Q2470.65 2029.26 2465 2035.02 Z\" fill=\"#000000\" fill-rule=\"evenodd\" fill-opacity=\"1\" /><path clip-path=\"url(#clip550)\" d=\"M 0 0 M2496.39 2007.48 Q2492.78 2007.48 2490.95 2011.04 Q2489.14 2014.59 2489.14 2021.71 Q2489.14 2028.82 2490.95 2032.39 Q2492.78 2035.93 2496.39 2035.93 Q2500.02 2035.93 2501.83 2032.39 Q2503.66 2028.82 2503.66 2021.71 Q2503.66 2014.59 2501.83 2011.04 Q2500.02 2007.48 2496.39 2007.48 M2496.39 2003.77 Q2502.2 2003.77 2505.25 2008.38 Q2508.33 2012.96 2508.33 2021.71 Q2508.33 2030.44 2505.25 2035.05 Q2502.2 2039.63 2496.39 2039.63 Q2490.58 2039.63 2487.5 2035.05 Q2484.44 2030.44 2484.44 2021.71 Q2484.44 2012.96 2487.5 2008.38 Q2490.58 2003.77 2496.39 2003.77 Z\" fill=\"#000000\" fill-rule=\"evenodd\" fill-opacity=\"1\" /><path clip-path=\"url(#clip550)\" d=\"M 0 0 M2523.4 2007.48 Q2519.79 2007.48 2517.96 2011.04 Q2516.16 2014.59 2516.16 2021.71 Q2516.16 2028.82 2517.96 2032.39 Q2519.79 2035.93 2523.4 2035.93 Q2527.03 2035.93 2528.84 2032.39 Q2530.67 2028.82 2530.67 2021.71 Q2530.67 2014.59 2528.84 2011.04 Q2527.03 2007.48 2523.4 2007.48 M2523.4 2003.77 Q2529.21 2003.77 2532.27 2008.38 Q2535.35 2012.96 2535.35 2021.71 Q2535.35 2030.44 2532.27 2035.05 Q2529.21 2039.63 2523.4 2039.63 Q2517.59 2039.63 2514.51 2035.05 Q2511.46 2030.44 2511.46 2021.71 Q2511.46 2012.96 2514.51 2008.38 Q2517.59 2003.77 2523.4 2003.77 Z\" fill=\"#000000\" fill-rule=\"evenodd\" fill-opacity=\"1\" /><path clip-path=\"url(#clip550)\" d=\"M 0 0 M2550.41 2007.48 Q2546.8 2007.48 2544.97 2011.04 Q2543.17 2014.59 2543.17 2021.71 Q2543.17 2028.82 2544.97 2032.39 Q2546.8 2035.93 2550.41 2035.93 Q2554.05 2035.93 2555.85 2032.39 Q2557.68 2028.82 2557.68 2021.71 Q2557.68 2014.59 2555.85 2011.04 Q2554.05 2007.48 2550.41 2007.48 M2550.41 2003.77 Q2556.22 2003.77 2559.28 2008.38 Q2562.36 2012.96 2562.36 2021.71 Q2562.36 2030.44 2559.28 2035.05 Q2556.22 2039.63 2550.41 2039.63 Q2544.6 2039.63 2541.53 2035.05 Q2538.47 2030.44 2538.47 2021.71 Q2538.47 2012.96 2541.53 2008.38 Q2544.6 2003.77 2550.41 2003.77 Z\" fill=\"#000000\" fill-rule=\"evenodd\" fill-opacity=\"1\" /><path clip-path=\"url(#clip550)\" d=\"M 0 0 M2963.65 2035.02 L2979.97 2035.02 L2979.97 2038.96 L2958.02 2038.96 L2958.02 2035.02 Q2960.68 2032.27 2965.27 2027.64 Q2969.87 2022.99 2971.05 2021.65 Q2973.3 2019.12 2974.18 2017.39 Q2975.08 2015.63 2975.08 2013.94 Q2975.08 2011.18 2973.14 2009.45 Q2971.22 2007.71 2968.11 2007.71 Q2965.92 2007.71 2963.46 2008.47 Q2961.03 2009.24 2958.25 2010.79 L2958.25 2006.07 Q2961.08 2004.93 2963.53 2004.35 Q2965.98 2003.77 2968.02 2003.77 Q2973.39 2003.77 2976.59 2006.46 Q2979.78 2009.15 2979.78 2013.64 Q2979.78 2015.77 2978.97 2017.69 Q2978.18 2019.58 2976.08 2022.18 Q2975.5 2022.85 2972.4 2026.07 Q2969.3 2029.26 2963.65 2035.02 Z\" fill=\"#000000\" fill-rule=\"evenodd\" fill-opacity=\"1\" /><path clip-path=\"url(#clip550)\" d=\"M 0 0 M2995.04 2007.48 Q2991.42 2007.48 2989.6 2011.04 Q2987.79 2014.59 2987.79 2021.71 Q2987.79 2028.82 2989.6 2032.39 Q2991.42 2035.93 2995.04 2035.93 Q2998.67 2035.93 3000.48 2032.39 Q3002.3 2028.82 3002.3 2021.71 Q3002.3 2014.59 3000.48 2011.04 Q2998.67 2007.48 2995.04 2007.48 M2995.04 2003.77 Q3000.85 2003.77 3003.9 2008.38 Q3006.98 2012.96 3006.98 2021.71 Q3006.98 2030.44 3003.9 2035.05 Q3000.85 2039.63 2995.04 2039.63 Q2989.23 2039.63 2986.15 2035.05 Q2983.09 2030.44 2983.09 2021.71 Q2983.09 2012.96 2986.15 2008.38 Q2989.23 2003.77 2995.04 2003.77 Z\" fill=\"#000000\" fill-rule=\"evenodd\" fill-opacity=\"1\" /><path clip-path=\"url(#clip550)\" d=\"M 0 0 M3012.86 2035.02 L3020.5 2035.02 L3020.5 2008.66 L3012.19 2010.33 L3012.19 2006.07 L3020.45 2004.4 L3025.13 2004.4 L3025.13 2035.02 L3032.77 2035.02 L3032.77 2038.96 L3012.86 2038.96 L3012.86 2035.02 Z\" fill=\"#000000\" fill-rule=\"evenodd\" fill-opacity=\"1\" /><path clip-path=\"url(#clip550)\" d=\"M 0 0 M3047.84 2007.48 Q3044.23 2007.48 3042.4 2011.04 Q3040.59 2014.59 3040.59 2021.71 Q3040.59 2028.82 3042.4 2032.39 Q3044.23 2035.93 3047.84 2035.93 Q3051.47 2035.93 3053.28 2032.39 Q3055.1 2028.82 3055.1 2021.71 Q3055.1 2014.59 3053.28 2011.04 Q3051.47 2007.48 3047.84 2007.48 M3047.84 2003.77 Q3053.65 2003.77 3056.7 2008.38 Q3059.78 2012.96 3059.78 2021.71 Q3059.78 2030.44 3056.7 2035.05 Q3053.65 2039.63 3047.84 2039.63 Q3042.03 2039.63 3038.95 2035.05 Q3035.89 2030.44 3035.89 2021.71 Q3035.89 2012.96 3038.95 2008.38 Q3042.03 2003.77 3047.84 2003.77 Z\" fill=\"#000000\" fill-rule=\"evenodd\" fill-opacity=\"1\" /><path clip-path=\"url(#clip550)\" d=\"M 0 0 M3461.87 2035.02 L3478.19 2035.02 L3478.19 2038.96 L3456.24 2038.96 L3456.24 2035.02 Q3458.9 2032.27 3463.49 2027.64 Q3468.09 2022.99 3469.27 2021.65 Q3471.52 2019.12 3472.4 2017.39 Q3473.3 2015.63 3473.3 2013.94 Q3473.3 2011.18 3471.36 2009.45 Q3469.44 2007.71 3466.34 2007.71 Q3464.14 2007.71 3461.68 2008.47 Q3459.25 2009.24 3456.47 2010.79 L3456.47 2006.07 Q3459.3 2004.93 3461.75 2004.35 Q3464.21 2003.77 3466.24 2003.77 Q3471.61 2003.77 3474.81 2006.46 Q3478 2009.15 3478 2013.64 Q3478 2015.77 3477.19 2017.69 Q3476.4 2019.58 3474.3 2022.18 Q3473.72 2022.85 3470.62 2026.07 Q3467.52 2029.26 3461.87 2035.02 Z\" fill=\"#000000\" fill-rule=\"evenodd\" fill-opacity=\"1\" /><path clip-path=\"url(#clip550)\" d=\"M 0 0 M3493.26 2007.48 Q3489.65 2007.48 3487.82 2011.04 Q3486.01 2014.59 3486.01 2021.71 Q3486.01 2028.82 3487.82 2032.39 Q3489.65 2035.93 3493.26 2035.93 Q3496.89 2035.93 3498.7 2032.39 Q3500.52 2028.82 3500.52 2021.71 Q3500.52 2014.59 3498.7 2011.04 Q3496.89 2007.48 3493.26 2007.48 M3493.26 2003.77 Q3499.07 2003.77 3502.12 2008.38 Q3505.2 2012.96 3505.2 2021.71 Q3505.2 2030.44 3502.12 2035.05 Q3499.07 2039.63 3493.26 2039.63 Q3487.45 2039.63 3484.37 2035.05 Q3481.31 2030.44 3481.31 2021.71 Q3481.31 2012.96 3484.37 2008.38 Q3487.45 2003.77 3493.26 2003.77 Z\" fill=\"#000000\" fill-rule=\"evenodd\" fill-opacity=\"1\" /><path clip-path=\"url(#clip550)\" d=\"M 0 0 M3514.3 2035.02 L3530.62 2035.02 L3530.62 2038.96 L3508.67 2038.96 L3508.67 2035.02 Q3511.33 2032.27 3515.92 2027.64 Q3520.52 2022.99 3521.71 2021.65 Q3523.95 2019.12 3524.83 2017.39 Q3525.73 2015.63 3525.73 2013.94 Q3525.73 2011.18 3523.79 2009.45 Q3521.87 2007.71 3518.77 2007.71 Q3516.57 2007.71 3514.11 2008.47 Q3511.68 2009.24 3508.9 2010.79 L3508.9 2006.07 Q3511.73 2004.93 3514.18 2004.35 Q3516.64 2003.77 3518.67 2003.77 Q3524.04 2003.77 3527.24 2006.46 Q3530.43 2009.15 3530.43 2013.64 Q3530.43 2015.77 3529.62 2017.69 Q3528.83 2019.58 3526.73 2022.18 Q3526.15 2022.85 3523.05 2026.07 Q3519.95 2029.26 3514.3 2035.02 Z\" fill=\"#000000\" fill-rule=\"evenodd\" fill-opacity=\"1\" /><path clip-path=\"url(#clip550)\" d=\"M 0 0 M3545.69 2007.48 Q3542.08 2007.48 3540.25 2011.04 Q3538.44 2014.59 3538.44 2021.71 Q3538.44 2028.82 3540.25 2032.39 Q3542.08 2035.93 3545.69 2035.93 Q3549.32 2035.93 3551.13 2032.39 Q3552.95 2028.82 3552.95 2021.71 Q3552.95 2014.59 3551.13 2011.04 Q3549.32 2007.48 3545.69 2007.48 M3545.69 2003.77 Q3551.5 2003.77 3554.55 2008.38 Q3557.63 2012.96 3557.63 2021.71 Q3557.63 2030.44 3554.55 2035.05 Q3551.5 2039.63 3545.69 2039.63 Q3539.88 2039.63 3536.8 2035.05 Q3533.74 2030.44 3533.74 2021.71 Q3533.74 2012.96 3536.8 2008.38 Q3539.88 2003.77 3545.69 2003.77 Z\" fill=\"#000000\" fill-rule=\"evenodd\" fill-opacity=\"1\" /><polyline clip-path=\"url(#clip554)\" style=\"stroke:#000000; stroke-width:2; stroke-opacity:0.1; fill:none\" points=\"\n",
       "  174.084,1893.9 3552.76,1893.9 \n",
       "  \"/>\n",
       "<polyline clip-path=\"url(#clip554)\" style=\"stroke:#000000; stroke-width:2; stroke-opacity:0.1; fill:none\" points=\"\n",
       "  174.084,1804.66 3552.76,1804.66 \n",
       "  \"/>\n",
       "<polyline clip-path=\"url(#clip554)\" style=\"stroke:#000000; stroke-width:2; stroke-opacity:0.1; fill:none\" points=\"\n",
       "  174.084,1715.42 3552.76,1715.42 \n",
       "  \"/>\n",
       "<polyline clip-path=\"url(#clip554)\" style=\"stroke:#000000; stroke-width:2; stroke-opacity:0.1; fill:none\" points=\"\n",
       "  174.084,1626.18 3552.76,1626.18 \n",
       "  \"/>\n",
       "<polyline clip-path=\"url(#clip554)\" style=\"stroke:#000000; stroke-width:2; stroke-opacity:0.1; fill:none\" points=\"\n",
       "  174.084,1536.94 3552.76,1536.94 \n",
       "  \"/>\n",
       "<polyline clip-path=\"url(#clip550)\" style=\"stroke:#000000; stroke-width:4; stroke-opacity:1; fill:none\" points=\"\n",
       "  174.084,1968.69 174.084,1533.55 \n",
       "  \"/>\n",
       "<polyline clip-path=\"url(#clip550)\" style=\"stroke:#000000; stroke-width:4; stroke-opacity:1; fill:none\" points=\"\n",
       "  174.084,1893.9 214.628,1893.9 \n",
       "  \"/>\n",
       "<polyline clip-path=\"url(#clip550)\" style=\"stroke:#000000; stroke-width:4; stroke-opacity:1; fill:none\" points=\"\n",
       "  174.084,1804.66 214.628,1804.66 \n",
       "  \"/>\n",
       "<polyline clip-path=\"url(#clip550)\" style=\"stroke:#000000; stroke-width:4; stroke-opacity:1; fill:none\" points=\"\n",
       "  174.084,1715.42 214.628,1715.42 \n",
       "  \"/>\n",
       "<polyline clip-path=\"url(#clip550)\" style=\"stroke:#000000; stroke-width:4; stroke-opacity:1; fill:none\" points=\"\n",
       "  174.084,1626.18 214.628,1626.18 \n",
       "  \"/>\n",
       "<polyline clip-path=\"url(#clip550)\" style=\"stroke:#000000; stroke-width:4; stroke-opacity:1; fill:none\" points=\"\n",
       "  174.084,1536.94 214.628,1536.94 \n",
       "  \"/>\n",
       "<path clip-path=\"url(#clip550)\" d=\"M 0 0 M46.1495 1907.25 L53.7884 1907.25 L53.7884 1880.88 L45.4782 1882.55 L45.4782 1878.29 L53.7421 1876.62 L58.418 1876.62 L58.418 1907.25 L66.0568 1907.25 L66.0568 1911.18 L46.1495 1911.18 L46.1495 1907.25 Z\" fill=\"#000000\" fill-rule=\"evenodd\" fill-opacity=\"1\" /><path clip-path=\"url(#clip550)\" d=\"M 0 0 M81.1262 1879.7 Q77.5151 1879.7 75.6864 1883.27 Q73.8809 1886.81 73.8809 1893.94 Q73.8809 1901.05 75.6864 1904.61 Q77.5151 1908.15 81.1262 1908.15 Q84.7604 1908.15 86.566 1904.61 Q88.3947 1901.05 88.3947 1893.94 Q88.3947 1886.81 86.566 1883.27 Q84.7604 1879.7 81.1262 1879.7 M81.1262 1876 Q86.9363 1876 89.9919 1880.61 Q93.0706 1885.19 93.0706 1893.94 Q93.0706 1902.67 89.9919 1907.27 Q86.9363 1911.86 81.1262 1911.86 Q75.316 1911.86 72.2374 1907.27 Q69.1818 1902.67 69.1818 1893.94 Q69.1818 1885.19 72.2374 1880.61 Q75.316 1876 81.1262 1876 Z\" fill=\"#000000\" fill-rule=\"evenodd\" fill-opacity=\"1\" /><path clip-path=\"url(#clip550)\" d=\"M 0 0 M108.14 1879.7 Q104.529 1879.7 102.7 1883.27 Q100.895 1886.81 100.895 1893.94 Q100.895 1901.05 102.7 1904.61 Q104.529 1908.15 108.14 1908.15 Q111.774 1908.15 113.58 1904.61 Q115.408 1901.05 115.408 1893.94 Q115.408 1886.81 113.58 1883.27 Q111.774 1879.7 108.14 1879.7 M108.14 1876 Q113.95 1876 117.006 1880.61 Q120.084 1885.19 120.084 1893.94 Q120.084 1902.67 117.006 1907.27 Q113.95 1911.86 108.14 1911.86 Q102.33 1911.86 99.2511 1907.27 Q96.1956 1902.67 96.1956 1893.94 Q96.1956 1885.19 99.2511 1880.61 Q102.33 1876 108.14 1876 Z\" fill=\"#000000\" fill-rule=\"evenodd\" fill-opacity=\"1\" /><path clip-path=\"url(#clip550)\" d=\"M 0 0 M47.3764 1818.01 L55.0152 1818.01 L55.0152 1791.64 L46.7051 1793.31 L46.7051 1789.05 L54.9689 1787.38 L59.6448 1787.38 L59.6448 1818.01 L67.2837 1818.01 L67.2837 1821.94 L47.3764 1821.94 L47.3764 1818.01 Z\" fill=\"#000000\" fill-rule=\"evenodd\" fill-opacity=\"1\" /><path clip-path=\"url(#clip550)\" d=\"M 0 0 M73.1633 1818.01 L80.8021 1818.01 L80.8021 1791.64 L72.492 1793.31 L72.492 1789.05 L80.7558 1787.38 L85.4317 1787.38 L85.4317 1818.01 L93.0706 1818.01 L93.0706 1821.94 L73.1633 1821.94 L73.1633 1818.01 Z\" fill=\"#000000\" fill-rule=\"evenodd\" fill-opacity=\"1\" /><path clip-path=\"url(#clip550)\" d=\"M 0 0 M108.14 1790.46 Q104.529 1790.46 102.7 1794.03 Q100.895 1797.57 100.895 1804.7 Q100.895 1811.81 102.7 1815.37 Q104.529 1818.91 108.14 1818.91 Q111.774 1818.91 113.58 1815.37 Q115.408 1811.81 115.408 1804.7 Q115.408 1797.57 113.58 1794.03 Q111.774 1790.46 108.14 1790.46 M108.14 1786.76 Q113.95 1786.76 117.006 1791.37 Q120.084 1795.95 120.084 1804.7 Q120.084 1813.43 117.006 1818.03 Q113.95 1822.62 108.14 1822.62 Q102.33 1822.62 99.2511 1818.03 Q96.1956 1813.43 96.1956 1804.7 Q96.1956 1795.95 99.2511 1791.37 Q102.33 1786.76 108.14 1786.76 Z\" fill=\"#000000\" fill-rule=\"evenodd\" fill-opacity=\"1\" /><path clip-path=\"url(#clip550)\" d=\"M 0 0 M47.7467 1728.77 L55.3856 1728.77 L55.3856 1702.4 L47.0754 1704.07 L47.0754 1699.81 L55.3393 1698.14 L60.0152 1698.14 L60.0152 1728.77 L67.654 1728.77 L67.654 1732.7 L47.7467 1732.7 L47.7467 1728.77 Z\" fill=\"#000000\" fill-rule=\"evenodd\" fill-opacity=\"1\" /><path clip-path=\"url(#clip550)\" d=\"M 0 0 M76.7512 1728.77 L93.0706 1728.77 L93.0706 1732.7 L71.1262 1732.7 L71.1262 1728.77 Q73.7883 1726.01 78.3716 1721.38 Q82.978 1716.73 84.1586 1715.39 Q86.4039 1712.87 87.2836 1711.13 Q88.1863 1709.37 88.1863 1707.68 Q88.1863 1704.93 86.2419 1703.19 Q84.3206 1701.45 81.2188 1701.45 Q79.0197 1701.45 76.566 1702.22 Q74.1355 1702.98 71.3577 1704.53 L71.3577 1699.81 Q74.1818 1698.68 76.6355 1698.1 Q79.0892 1697.52 81.1262 1697.52 Q86.4965 1697.52 89.691 1700.2 Q92.8854 1702.89 92.8854 1707.38 Q92.8854 1709.51 92.0752 1711.43 Q91.2882 1713.33 89.1817 1715.92 Q88.603 1716.59 85.5012 1719.81 Q82.3993 1723 76.7512 1728.77 Z\" fill=\"#000000\" fill-rule=\"evenodd\" fill-opacity=\"1\" /><path clip-path=\"url(#clip550)\" d=\"M 0 0 M108.14 1701.22 Q104.529 1701.22 102.7 1704.79 Q100.895 1708.33 100.895 1715.46 Q100.895 1722.57 102.7 1726.13 Q104.529 1729.67 108.14 1729.67 Q111.774 1729.67 113.58 1726.13 Q115.408 1722.57 115.408 1715.46 Q115.408 1708.33 113.58 1704.79 Q111.774 1701.22 108.14 1701.22 M108.14 1697.52 Q113.95 1697.52 117.006 1702.13 Q120.084 1706.71 120.084 1715.46 Q120.084 1724.19 117.006 1728.79 Q113.95 1733.38 108.14 1733.38 Q102.33 1733.38 99.2511 1728.79 Q96.1956 1724.19 96.1956 1715.46 Q96.1956 1706.71 99.2511 1702.13 Q102.33 1697.52 108.14 1697.52 Z\" fill=\"#000000\" fill-rule=\"evenodd\" fill-opacity=\"1\" /><path clip-path=\"url(#clip550)\" d=\"M 0 0 M46.7977 1639.53 L54.4365 1639.53 L54.4365 1613.16 L46.1264 1614.83 L46.1264 1610.57 L54.3902 1608.9 L59.0661 1608.9 L59.0661 1639.53 L66.705 1639.53 L66.705 1643.46 L46.7977 1643.46 L46.7977 1639.53 Z\" fill=\"#000000\" fill-rule=\"evenodd\" fill-opacity=\"1\" /><path clip-path=\"url(#clip550)\" d=\"M 0 0 M85.941 1624.83 Q89.2974 1625.55 91.1724 1627.82 Q93.0706 1630.08 93.0706 1633.42 Q93.0706 1638.53 89.5521 1641.33 Q86.0336 1644.13 79.5521 1644.13 Q77.3762 1644.13 75.0614 1643.7 Q72.7698 1643.28 70.3161 1642.42 L70.3161 1637.91 Q72.2605 1639.04 74.5753 1639.62 Q76.8901 1640.2 79.4132 1640.2 Q83.8114 1640.2 86.103 1638.46 Q88.4178 1636.73 88.4178 1633.42 Q88.4178 1630.36 86.2651 1628.65 Q84.1354 1626.91 80.316 1626.91 L76.2883 1626.91 L76.2883 1623.07 L80.5012 1623.07 Q83.9503 1623.07 85.7789 1621.7 Q87.6076 1620.32 87.6076 1617.72 Q87.6076 1615.06 85.7095 1613.65 Q83.8345 1612.21 80.316 1612.21 Q78.3947 1612.21 76.1957 1612.63 Q73.9966 1613.05 71.3577 1613.93 L71.3577 1609.76 Q74.0197 1609.02 76.3346 1608.65 Q78.6725 1608.28 80.7327 1608.28 Q86.0567 1608.28 89.1586 1610.71 Q92.2604 1613.12 92.2604 1617.24 Q92.2604 1620.11 90.6169 1622.1 Q88.9734 1624.07 85.941 1624.83 Z\" fill=\"#000000\" fill-rule=\"evenodd\" fill-opacity=\"1\" /><path clip-path=\"url(#clip550)\" d=\"M 0 0 M108.14 1611.98 Q104.529 1611.98 102.7 1615.55 Q100.895 1619.09 100.895 1626.22 Q100.895 1633.32 102.7 1636.89 Q104.529 1640.43 108.14 1640.43 Q111.774 1640.43 113.58 1636.89 Q115.408 1633.32 115.408 1626.22 Q115.408 1619.09 113.58 1615.55 Q111.774 1611.98 108.14 1611.98 M108.14 1608.28 Q113.95 1608.28 117.006 1612.89 Q120.084 1617.47 120.084 1626.22 Q120.084 1634.95 117.006 1639.55 Q113.95 1644.13 108.14 1644.13 Q102.33 1644.13 99.2511 1639.55 Q96.1956 1634.95 96.1956 1626.22 Q96.1956 1617.47 99.2511 1612.89 Q102.33 1608.28 108.14 1608.28 Z\" fill=\"#000000\" fill-rule=\"evenodd\" fill-opacity=\"1\" /><path clip-path=\"url(#clip550)\" d=\"M 0 0 M45.6634 1550.29 L53.3023 1550.29 L53.3023 1523.92 L44.9921 1525.59 L44.9921 1521.33 L53.256 1519.66 L57.9319 1519.66 L57.9319 1550.29 L65.5707 1550.29 L65.5707 1554.22 L45.6634 1554.22 L45.6634 1550.29 Z\" fill=\"#000000\" fill-rule=\"evenodd\" fill-opacity=\"1\" /><path clip-path=\"url(#clip550)\" d=\"M 0 0 M83.4873 1523.74 L71.6818 1542.19 L83.4873 1542.19 L83.4873 1523.74 M82.2604 1519.66 L88.14 1519.66 L88.14 1542.19 L93.0706 1542.19 L93.0706 1546.08 L88.14 1546.08 L88.14 1554.22 L83.4873 1554.22 L83.4873 1546.08 L67.8855 1546.08 L67.8855 1541.56 L82.2604 1519.66 Z\" fill=\"#000000\" fill-rule=\"evenodd\" fill-opacity=\"1\" /><path clip-path=\"url(#clip550)\" d=\"M 0 0 M108.14 1522.74 Q104.529 1522.74 102.7 1526.31 Q100.895 1529.85 100.895 1536.98 Q100.895 1544.08 102.7 1547.65 Q104.529 1551.19 108.14 1551.19 Q111.774 1551.19 113.58 1547.65 Q115.408 1544.08 115.408 1536.98 Q115.408 1529.85 113.58 1526.31 Q111.774 1522.74 108.14 1522.74 M108.14 1519.04 Q113.95 1519.04 117.006 1523.64 Q120.084 1528.23 120.084 1536.98 Q120.084 1545.7 117.006 1550.31 Q113.95 1554.89 108.14 1554.89 Q102.33 1554.89 99.2511 1550.31 Q96.1956 1545.7 96.1956 1536.98 Q96.1956 1528.23 99.2511 1523.64 Q102.33 1519.04 108.14 1519.04 Z\" fill=\"#000000\" fill-rule=\"evenodd\" fill-opacity=\"1\" /><path clip-path=\"url(#clip550)\" d=\"M 0 0 M1533.17 1412.1 L1541.35 1412.1 L1541.35 1437.66 L1568.49 1412.1 L1579.03 1412.1 L1549.01 1440.29 L1581.17 1472.58 L1570.4 1472.58 L1541.35 1443.45 L1541.35 1472.58 L1533.17 1472.58 L1533.17 1412.1 Z\" fill=\"#000000\" fill-rule=\"evenodd\" fill-opacity=\"1\" /><path clip-path=\"url(#clip550)\" d=\"M 0 0 M1608.15 1449.77 Q1599.12 1449.77 1595.64 1451.84 Q1592.15 1453.9 1592.15 1458.88 Q1592.15 1462.85 1594.74 1465.2 Q1597.38 1467.51 1601.87 1467.51 Q1608.07 1467.51 1611.8 1463.14 Q1615.57 1458.72 1615.57 1451.43 L1615.57 1449.77 L1608.15 1449.77 M1623.02 1446.69 L1623.02 1472.58 L1615.57 1472.58 L1615.57 1465.69 Q1613.01 1469.82 1609.21 1471.81 Q1605.4 1473.75 1599.89 1473.75 Q1592.92 1473.75 1588.79 1469.86 Q1584.7 1465.93 1584.7 1459.37 Q1584.7 1451.71 1589.8 1447.82 Q1594.95 1443.94 1605.11 1443.94 L1615.57 1443.94 L1615.57 1443.21 Q1615.57 1438.06 1612.16 1435.27 Q1608.8 1432.43 1602.68 1432.43 Q1598.79 1432.43 1595.11 1433.36 Q1591.42 1434.29 1588.02 1436.16 L1588.02 1429.27 Q1592.11 1427.69 1595.96 1426.92 Q1599.81 1426.11 1603.45 1426.11 Q1613.3 1426.11 1618.16 1431.22 Q1623.02 1436.32 1623.02 1446.69 Z\" fill=\"#000000\" fill-rule=\"evenodd\" fill-opacity=\"1\" /><path clip-path=\"url(#clip550)\" d=\"M 0 0 M1668.55 1445.19 L1668.55 1472.58 L1661.1 1472.58 L1661.1 1445.43 Q1661.1 1438.99 1658.59 1435.79 Q1656.07 1432.59 1651.05 1432.59 Q1645.02 1432.59 1641.53 1436.44 Q1638.05 1440.29 1638.05 1446.93 L1638.05 1472.58 L1630.55 1472.58 L1630.55 1409.54 L1638.05 1409.54 L1638.05 1434.25 Q1640.72 1430.16 1644.33 1428.14 Q1647.97 1426.11 1652.71 1426.11 Q1660.53 1426.11 1664.54 1430.97 Q1668.55 1435.79 1668.55 1445.19 Z\" fill=\"#000000\" fill-rule=\"evenodd\" fill-opacity=\"1\" /><path clip-path=\"url(#clip550)\" d=\"M 0 0 M1676.37 1409.54 L1683.82 1409.54 L1683.82 1472.58 L1676.37 1472.58 L1676.37 1409.54 Z\" fill=\"#000000\" fill-rule=\"evenodd\" fill-opacity=\"1\" /><path clip-path=\"url(#clip550)\" d=\"M 0 0 M1730.45 1448.03 L1730.45 1451.67 L1696.18 1451.67 Q1696.66 1459.37 1700.8 1463.42 Q1704.97 1467.43 1712.38 1467.43 Q1716.68 1467.43 1720.69 1466.38 Q1724.74 1465.32 1728.71 1463.22 L1728.71 1470.27 Q1724.7 1471.97 1720.48 1472.86 Q1716.27 1473.75 1711.94 1473.75 Q1701.08 1473.75 1694.72 1467.43 Q1688.4 1461.11 1688.4 1450.34 Q1688.4 1439.2 1694.4 1432.67 Q1700.43 1426.11 1710.64 1426.11 Q1719.8 1426.11 1725.1 1432.03 Q1730.45 1437.9 1730.45 1448.03 M1723 1445.84 Q1722.91 1439.72 1719.55 1436.08 Q1716.23 1432.43 1710.72 1432.43 Q1704.48 1432.43 1700.72 1435.96 Q1696.99 1439.48 1696.42 1445.88 L1723 1445.84 Z\" fill=\"#000000\" fill-rule=\"evenodd\" fill-opacity=\"1\" /><path clip-path=\"url(#clip550)\" d=\"M 0 0 M1764.56 1434.17 Q1763.3 1433.44 1761.8 1433.12 Q1760.34 1432.76 1758.56 1432.76 Q1752.24 1432.76 1748.84 1436.89 Q1745.48 1440.98 1745.48 1448.68 L1745.48 1472.58 L1737.98 1472.58 L1737.98 1427.21 L1745.48 1427.21 L1745.48 1434.25 Q1747.83 1430.12 1751.59 1428.14 Q1755.36 1426.11 1760.75 1426.11 Q1761.52 1426.11 1762.45 1426.23 Q1763.38 1426.31 1764.52 1426.52 L1764.56 1434.17 Z\" fill=\"#000000\" fill-rule=\"evenodd\" fill-opacity=\"1\" /><path clip-path=\"url(#clip550)\" d=\"M 0 0 M1819.29 1420.16 L1808.19 1450.26 L1830.43 1450.26 L1819.29 1420.16 M1814.67 1412.1 L1823.94 1412.1 L1846.99 1472.58 L1838.49 1472.58 L1832.98 1457.06 L1805.71 1457.06 L1800.21 1472.58 L1791.58 1472.58 L1814.67 1412.1 Z\" fill=\"#000000\" fill-rule=\"evenodd\" fill-opacity=\"1\" /><path clip-path=\"url(#clip550)\" d=\"M 0 0 M1883.74 1428.54 L1883.74 1435.59 Q1880.58 1433.97 1877.17 1433.16 Q1873.77 1432.35 1870.12 1432.35 Q1864.57 1432.35 1861.78 1434.05 Q1859.02 1435.75 1859.02 1439.16 Q1859.02 1441.75 1861.01 1443.25 Q1862.99 1444.71 1868.99 1446.04 L1871.54 1446.61 Q1879.48 1448.31 1882.8 1451.43 Q1886.17 1454.51 1886.17 1460.06 Q1886.17 1466.38 1881.14 1470.06 Q1876.16 1473.75 1867.41 1473.75 Q1863.76 1473.75 1859.79 1473.02 Q1855.87 1472.33 1851.49 1470.92 L1851.49 1463.22 Q1855.62 1465.37 1859.63 1466.46 Q1863.64 1467.51 1867.57 1467.51 Q1872.84 1467.51 1875.67 1465.73 Q1878.51 1463.91 1878.51 1460.63 Q1878.51 1457.59 1876.44 1455.97 Q1874.42 1454.35 1867.49 1452.85 L1864.9 1452.24 Q1857.97 1450.78 1854.89 1447.78 Q1851.81 1444.75 1851.81 1439.48 Q1851.81 1433.08 1856.35 1429.6 Q1860.89 1426.11 1869.23 1426.11 Q1873.37 1426.11 1877.01 1426.72 Q1880.66 1427.33 1883.74 1428.54 Z\" fill=\"#000000\" fill-rule=\"evenodd\" fill-opacity=\"1\" /><path clip-path=\"url(#clip550)\" d=\"M 0 0 M1901.36 1414.32 L1901.36 1427.21 L1916.71 1427.21 L1916.71 1433 L1901.36 1433 L1901.36 1457.63 Q1901.36 1463.18 1902.86 1464.76 Q1904.4 1466.34 1909.05 1466.34 L1916.71 1466.34 L1916.71 1472.58 L1909.05 1472.58 Q1900.43 1472.58 1897.14 1469.38 Q1893.86 1466.14 1893.86 1457.63 L1893.86 1433 L1888.39 1433 L1888.39 1427.21 L1893.86 1427.21 L1893.86 1414.32 L1901.36 1414.32 Z\" fill=\"#000000\" fill-rule=\"evenodd\" fill-opacity=\"1\" /><path clip-path=\"url(#clip550)\" d=\"M 0 0 M1963.34 1448.03 L1963.34 1451.67 L1929.07 1451.67 Q1929.55 1459.37 1933.68 1463.42 Q1937.86 1467.43 1945.27 1467.43 Q1949.56 1467.43 1953.57 1466.38 Q1957.62 1465.32 1961.59 1463.22 L1961.59 1470.27 Q1957.58 1471.97 1953.37 1472.86 Q1949.16 1473.75 1944.82 1473.75 Q1933.97 1473.75 1927.61 1467.43 Q1921.29 1461.11 1921.29 1450.34 Q1921.29 1439.2 1927.28 1432.67 Q1933.32 1426.11 1943.53 1426.11 Q1952.68 1426.11 1957.99 1432.03 Q1963.34 1437.9 1963.34 1448.03 M1955.88 1445.84 Q1955.8 1439.72 1952.44 1436.08 Q1949.12 1432.43 1943.61 1432.43 Q1937.37 1432.43 1933.6 1435.96 Q1929.88 1439.48 1929.31 1445.88 L1955.88 1445.84 Z\" fill=\"#000000\" fill-rule=\"evenodd\" fill-opacity=\"1\" /><path clip-path=\"url(#clip550)\" d=\"M 0 0 M2008.87 1445.19 L2008.87 1472.58 L2001.41 1472.58 L2001.41 1445.43 Q2001.41 1438.99 1998.9 1435.79 Q1996.39 1432.59 1991.37 1432.59 Q1985.33 1432.59 1981.85 1436.44 Q1978.36 1440.29 1978.36 1446.93 L1978.36 1472.58 L1970.87 1472.58 L1970.87 1427.21 L1978.36 1427.21 L1978.36 1434.25 Q1981.04 1430.16 1984.64 1428.14 Q1988.29 1426.11 1993.03 1426.11 Q2000.85 1426.11 2004.86 1430.97 Q2008.87 1435.79 2008.87 1445.19 Z\" fill=\"#000000\" fill-rule=\"evenodd\" fill-opacity=\"1\" /><path clip-path=\"url(#clip550)\" d=\"M 0 0 M2043.38 1412.1 L2051.56 1412.1 L2051.56 1436.89 L2081.3 1436.89 L2081.3 1412.1 L2089.48 1412.1 L2089.48 1472.58 L2081.3 1472.58 L2081.3 1443.77 L2051.56 1443.77 L2051.56 1472.58 L2043.38 1472.58 L2043.38 1412.1 Z\" fill=\"#000000\" fill-rule=\"evenodd\" fill-opacity=\"1\" /><path clip-path=\"url(#clip550)\" d=\"M 0 0 M2133.88 1414.08 L2133.88 1422.06 Q2129.22 1419.83 2125.09 1418.74 Q2120.96 1417.65 2117.11 1417.65 Q2110.42 1417.65 2106.78 1420.24 Q2103.17 1422.83 2103.17 1427.61 Q2103.17 1431.62 2105.56 1433.69 Q2107.99 1435.71 2114.72 1436.97 L2119.66 1437.98 Q2128.82 1439.72 2133.15 1444.14 Q2137.52 1448.51 2137.52 1455.89 Q2137.52 1464.68 2131.61 1469.21 Q2125.74 1473.75 2114.35 1473.75 Q2110.06 1473.75 2105.2 1472.78 Q2100.38 1471.81 2095.19 1469.9 L2095.19 1461.48 Q2100.18 1464.27 2104.96 1465.69 Q2109.74 1467.11 2114.35 1467.11 Q2121.36 1467.11 2125.17 1464.35 Q2128.98 1461.6 2128.98 1456.49 Q2128.98 1452.04 2126.22 1449.53 Q2123.51 1447.01 2117.27 1445.76 L2112.29 1444.79 Q2103.13 1442.96 2099.04 1439.08 Q2094.95 1435.19 2094.95 1428.26 Q2094.95 1420.24 2100.58 1415.62 Q2106.25 1411 2116.18 1411 Q2120.43 1411 2124.85 1411.77 Q2129.26 1412.54 2133.88 1414.08 Z\" fill=\"#000000\" fill-rule=\"evenodd\" fill-opacity=\"1\" /><path clip-path=\"url(#clip550)\" d=\"M 0 0 M2145.67 1412.1 L2153.85 1412.1 L2153.85 1437.66 L2180.99 1412.1 L2191.52 1412.1 L2161.51 1440.29 L2193.67 1472.58 L2182.89 1472.58 L2153.85 1443.45 L2153.85 1472.58 L2145.67 1472.58 L2145.67 1412.1 Z\" fill=\"#000000\" fill-rule=\"evenodd\" fill-opacity=\"1\" /><circle clip-path=\"url(#clip554)\" cx=\"269.707\" cy=\"1652.96\" r=\"14\" fill=\"#009af9\" fill-rule=\"evenodd\" fill-opacity=\"1\" stroke=\"#000000\" stroke-opacity=\"1\" stroke-width=\"5.6\"/>\n",
       "<circle clip-path=\"url(#clip554)\" cx=\"319.511\" cy=\"1626.18\" r=\"14\" fill=\"#009af9\" fill-rule=\"evenodd\" fill-opacity=\"1\" stroke=\"#000000\" stroke-opacity=\"1\" stroke-width=\"5.6\"/>\n",
       "<circle clip-path=\"url(#clip554)\" cx=\"369.314\" cy=\"1849.28\" r=\"14\" fill=\"#009af9\" fill-rule=\"evenodd\" fill-opacity=\"1\" stroke=\"#000000\" stroke-opacity=\"1\" stroke-width=\"5.6\"/>\n",
       "<circle clip-path=\"url(#clip554)\" cx=\"419.118\" cy=\"1626.18\" r=\"14\" fill=\"#009af9\" fill-rule=\"evenodd\" fill-opacity=\"1\" stroke=\"#000000\" stroke-opacity=\"1\" stroke-width=\"5.6\"/>\n",
       "<circle clip-path=\"url(#clip554)\" cx=\"468.921\" cy=\"1858.21\" r=\"14\" fill=\"#009af9\" fill-rule=\"evenodd\" fill-opacity=\"1\" stroke=\"#000000\" stroke-opacity=\"1\" stroke-width=\"5.6\"/>\n",
       "<circle clip-path=\"url(#clip554)\" cx=\"518.725\" cy=\"1795.74\" r=\"14\" fill=\"#009af9\" fill-rule=\"evenodd\" fill-opacity=\"1\" stroke=\"#000000\" stroke-opacity=\"1\" stroke-width=\"5.6\"/>\n",
       "<circle clip-path=\"url(#clip554)\" cx=\"568.528\" cy=\"1920.68\" r=\"14\" fill=\"#009af9\" fill-rule=\"evenodd\" fill-opacity=\"1\" stroke=\"#000000\" stroke-opacity=\"1\" stroke-width=\"5.6\"/>\n",
       "<circle clip-path=\"url(#clip554)\" cx=\"618.332\" cy=\"1617.26\" r=\"14\" fill=\"#009af9\" fill-rule=\"evenodd\" fill-opacity=\"1\" stroke=\"#000000\" stroke-opacity=\"1\" stroke-width=\"5.6\"/>\n",
       "<circle clip-path=\"url(#clip554)\" cx=\"668.135\" cy=\"1661.88\" r=\"14\" fill=\"#009af9\" fill-rule=\"evenodd\" fill-opacity=\"1\" stroke=\"#000000\" stroke-opacity=\"1\" stroke-width=\"5.6\"/>\n",
       "<circle clip-path=\"url(#clip554)\" cx=\"717.939\" cy=\"1670.8\" r=\"14\" fill=\"#009af9\" fill-rule=\"evenodd\" fill-opacity=\"1\" stroke=\"#000000\" stroke-opacity=\"1\" stroke-width=\"5.6\"/>\n",
       "<circle clip-path=\"url(#clip554)\" cx=\"767.742\" cy=\"1599.41\" r=\"14\" fill=\"#009af9\" fill-rule=\"evenodd\" fill-opacity=\"1\" stroke=\"#000000\" stroke-opacity=\"1\" stroke-width=\"5.6\"/>\n",
       "<circle clip-path=\"url(#clip554)\" cx=\"817.546\" cy=\"1742.2\" r=\"14\" fill=\"#009af9\" fill-rule=\"evenodd\" fill-opacity=\"1\" stroke=\"#000000\" stroke-opacity=\"1\" stroke-width=\"5.6\"/>\n",
       "<circle clip-path=\"url(#clip554)\" cx=\"867.349\" cy=\"1626.18\" r=\"14\" fill=\"#009af9\" fill-rule=\"evenodd\" fill-opacity=\"1\" stroke=\"#000000\" stroke-opacity=\"1\" stroke-width=\"5.6\"/>\n",
       "<circle clip-path=\"url(#clip554)\" cx=\"917.153\" cy=\"1760.04\" r=\"14\" fill=\"#009af9\" fill-rule=\"evenodd\" fill-opacity=\"1\" stroke=\"#000000\" stroke-opacity=\"1\" stroke-width=\"5.6\"/>\n",
       "<circle clip-path=\"url(#clip554)\" cx=\"966.957\" cy=\"1635.11\" r=\"14\" fill=\"#009af9\" fill-rule=\"evenodd\" fill-opacity=\"1\" stroke=\"#000000\" stroke-opacity=\"1\" stroke-width=\"5.6\"/>\n",
       "<circle clip-path=\"url(#clip554)\" cx=\"1016.76\" cy=\"1572.64\" r=\"14\" fill=\"#009af9\" fill-rule=\"evenodd\" fill-opacity=\"1\" stroke=\"#000000\" stroke-opacity=\"1\" stroke-width=\"5.6\"/>\n",
       "<circle clip-path=\"url(#clip554)\" cx=\"1066.56\" cy=\"1679.73\" r=\"14\" fill=\"#009af9\" fill-rule=\"evenodd\" fill-opacity=\"1\" stroke=\"#000000\" stroke-opacity=\"1\" stroke-width=\"5.6\"/>\n",
       "<circle clip-path=\"url(#clip554)\" cx=\"1116.37\" cy=\"1688.65\" r=\"14\" fill=\"#009af9\" fill-rule=\"evenodd\" fill-opacity=\"1\" stroke=\"#000000\" stroke-opacity=\"1\" stroke-width=\"5.6\"/>\n",
       "<circle clip-path=\"url(#clip554)\" cx=\"1166.17\" cy=\"1572.64\" r=\"14\" fill=\"#009af9\" fill-rule=\"evenodd\" fill-opacity=\"1\" stroke=\"#000000\" stroke-opacity=\"1\" stroke-width=\"5.6\"/>\n",
       "<circle clip-path=\"url(#clip554)\" cx=\"1215.97\" cy=\"1893.9\" r=\"14\" fill=\"#009af9\" fill-rule=\"evenodd\" fill-opacity=\"1\" stroke=\"#000000\" stroke-opacity=\"1\" stroke-width=\"5.6\"/>\n",
       "<circle clip-path=\"url(#clip554)\" cx=\"1265.78\" cy=\"1697.58\" r=\"14\" fill=\"#009af9\" fill-rule=\"evenodd\" fill-opacity=\"1\" stroke=\"#000000\" stroke-opacity=\"1\" stroke-width=\"5.6\"/>\n",
       "<circle clip-path=\"url(#clip554)\" cx=\"1315.58\" cy=\"1644.03\" r=\"14\" fill=\"#009af9\" fill-rule=\"evenodd\" fill-opacity=\"1\" stroke=\"#000000\" stroke-opacity=\"1\" stroke-width=\"5.6\"/>\n",
       "<circle clip-path=\"url(#clip554)\" cx=\"1365.38\" cy=\"1688.65\" r=\"14\" fill=\"#009af9\" fill-rule=\"evenodd\" fill-opacity=\"1\" stroke=\"#000000\" stroke-opacity=\"1\" stroke-width=\"5.6\"/>\n",
       "<circle clip-path=\"url(#clip554)\" cx=\"1415.19\" cy=\"1670.8\" r=\"14\" fill=\"#009af9\" fill-rule=\"evenodd\" fill-opacity=\"1\" stroke=\"#000000\" stroke-opacity=\"1\" stroke-width=\"5.6\"/>\n",
       "<circle clip-path=\"url(#clip554)\" cx=\"1464.99\" cy=\"1545.87\" r=\"14\" fill=\"#009af9\" fill-rule=\"evenodd\" fill-opacity=\"1\" stroke=\"#000000\" stroke-opacity=\"1\" stroke-width=\"5.6\"/>\n",
       "<circle clip-path=\"url(#clip554)\" cx=\"1514.8\" cy=\"1590.49\" r=\"14\" fill=\"#009af9\" fill-rule=\"evenodd\" fill-opacity=\"1\" stroke=\"#000000\" stroke-opacity=\"1\" stroke-width=\"5.6\"/>\n",
       "<circle clip-path=\"url(#clip554)\" cx=\"1564.6\" cy=\"1884.98\" r=\"14\" fill=\"#009af9\" fill-rule=\"evenodd\" fill-opacity=\"1\" stroke=\"#000000\" stroke-opacity=\"1\" stroke-width=\"5.6\"/>\n",
       "<circle clip-path=\"url(#clip554)\" cx=\"1614.4\" cy=\"1626.18\" r=\"14\" fill=\"#009af9\" fill-rule=\"evenodd\" fill-opacity=\"1\" stroke=\"#000000\" stroke-opacity=\"1\" stroke-width=\"5.6\"/>\n",
       "<circle clip-path=\"url(#clip554)\" cx=\"1664.21\" cy=\"1706.5\" r=\"14\" fill=\"#009af9\" fill-rule=\"evenodd\" fill-opacity=\"1\" stroke=\"#000000\" stroke-opacity=\"1\" stroke-width=\"5.6\"/>\n",
       "<circle clip-path=\"url(#clip554)\" cx=\"1714.01\" cy=\"1554.79\" r=\"14\" fill=\"#009af9\" fill-rule=\"evenodd\" fill-opacity=\"1\" stroke=\"#000000\" stroke-opacity=\"1\" stroke-width=\"5.6\"/>\n",
       "<circle clip-path=\"url(#clip554)\" cx=\"1763.81\" cy=\"1626.18\" r=\"14\" fill=\"#009af9\" fill-rule=\"evenodd\" fill-opacity=\"1\" stroke=\"#000000\" stroke-opacity=\"1\" stroke-width=\"5.6\"/>\n",
       "<circle clip-path=\"url(#clip554)\" cx=\"1813.62\" cy=\"1617.26\" r=\"14\" fill=\"#009af9\" fill-rule=\"evenodd\" fill-opacity=\"1\" stroke=\"#000000\" stroke-opacity=\"1\" stroke-width=\"5.6\"/>\n",
       "<circle clip-path=\"url(#clip554)\" cx=\"1863.42\" cy=\"1715.42\" r=\"14\" fill=\"#009af9\" fill-rule=\"evenodd\" fill-opacity=\"1\" stroke=\"#000000\" stroke-opacity=\"1\" stroke-width=\"5.6\"/>\n",
       "<circle clip-path=\"url(#clip554)\" cx=\"1913.22\" cy=\"1652.96\" r=\"14\" fill=\"#009af9\" fill-rule=\"evenodd\" fill-opacity=\"1\" stroke=\"#000000\" stroke-opacity=\"1\" stroke-width=\"5.6\"/>\n",
       "<circle clip-path=\"url(#clip554)\" cx=\"1963.03\" cy=\"1867.13\" r=\"14\" fill=\"#009af9\" fill-rule=\"evenodd\" fill-opacity=\"1\" stroke=\"#000000\" stroke-opacity=\"1\" stroke-width=\"5.6\"/>\n",
       "<circle clip-path=\"url(#clip554)\" cx=\"2012.83\" cy=\"1956.37\" r=\"14\" fill=\"#009af9\" fill-rule=\"evenodd\" fill-opacity=\"1\" stroke=\"#000000\" stroke-opacity=\"1\" stroke-width=\"5.6\"/>\n",
       "<circle clip-path=\"url(#clip554)\" cx=\"2062.63\" cy=\"1876.06\" r=\"14\" fill=\"#009af9\" fill-rule=\"evenodd\" fill-opacity=\"1\" stroke=\"#000000\" stroke-opacity=\"1\" stroke-width=\"5.6\"/>\n",
       "<circle clip-path=\"url(#clip554)\" cx=\"2112.44\" cy=\"1733.27\" r=\"14\" fill=\"#009af9\" fill-rule=\"evenodd\" fill-opacity=\"1\" stroke=\"#000000\" stroke-opacity=\"1\" stroke-width=\"5.6\"/>\n",
       "<circle clip-path=\"url(#clip554)\" cx=\"2162.24\" cy=\"1786.82\" r=\"14\" fill=\"#009af9\" fill-rule=\"evenodd\" fill-opacity=\"1\" stroke=\"#000000\" stroke-opacity=\"1\" stroke-width=\"5.6\"/>\n",
       "<circle clip-path=\"url(#clip554)\" cx=\"2212.04\" cy=\"1724.35\" r=\"14\" fill=\"#009af9\" fill-rule=\"evenodd\" fill-opacity=\"1\" stroke=\"#000000\" stroke-opacity=\"1\" stroke-width=\"5.6\"/>\n",
       "<circle clip-path=\"url(#clip554)\" cx=\"2261.85\" cy=\"1697.58\" r=\"14\" fill=\"#009af9\" fill-rule=\"evenodd\" fill-opacity=\"1\" stroke=\"#000000\" stroke-opacity=\"1\" stroke-width=\"5.6\"/>\n",
       "<circle clip-path=\"url(#clip554)\" cx=\"2311.65\" cy=\"1715.42\" r=\"14\" fill=\"#009af9\" fill-rule=\"evenodd\" fill-opacity=\"1\" stroke=\"#000000\" stroke-opacity=\"1\" stroke-width=\"5.6\"/>\n",
       "<circle clip-path=\"url(#clip554)\" cx=\"2361.46\" cy=\"1760.04\" r=\"14\" fill=\"#009af9\" fill-rule=\"evenodd\" fill-opacity=\"1\" stroke=\"#000000\" stroke-opacity=\"1\" stroke-width=\"5.6\"/>\n",
       "<circle clip-path=\"url(#clip554)\" cx=\"2411.26\" cy=\"1813.59\" r=\"14\" fill=\"#009af9\" fill-rule=\"evenodd\" fill-opacity=\"1\" stroke=\"#000000\" stroke-opacity=\"1\" stroke-width=\"5.6\"/>\n",
       "<circle clip-path=\"url(#clip554)\" cx=\"2461.06\" cy=\"1768.97\" r=\"14\" fill=\"#009af9\" fill-rule=\"evenodd\" fill-opacity=\"1\" stroke=\"#000000\" stroke-opacity=\"1\" stroke-width=\"5.6\"/>\n",
       "<circle clip-path=\"url(#clip554)\" cx=\"2510.87\" cy=\"1760.04\" r=\"14\" fill=\"#009af9\" fill-rule=\"evenodd\" fill-opacity=\"1\" stroke=\"#000000\" stroke-opacity=\"1\" stroke-width=\"5.6\"/>\n",
       "<circle clip-path=\"url(#clip554)\" cx=\"2560.67\" cy=\"1697.58\" r=\"14\" fill=\"#009af9\" fill-rule=\"evenodd\" fill-opacity=\"1\" stroke=\"#000000\" stroke-opacity=\"1\" stroke-width=\"5.6\"/>\n",
       "<circle clip-path=\"url(#clip554)\" cx=\"2610.47\" cy=\"1795.74\" r=\"14\" fill=\"#009af9\" fill-rule=\"evenodd\" fill-opacity=\"1\" stroke=\"#000000\" stroke-opacity=\"1\" stroke-width=\"5.6\"/>\n",
       "<circle clip-path=\"url(#clip554)\" cx=\"2660.28\" cy=\"1786.82\" r=\"14\" fill=\"#009af9\" fill-rule=\"evenodd\" fill-opacity=\"1\" stroke=\"#000000\" stroke-opacity=\"1\" stroke-width=\"5.6\"/>\n",
       "<circle clip-path=\"url(#clip554)\" cx=\"2710.08\" cy=\"1768.97\" r=\"14\" fill=\"#009af9\" fill-rule=\"evenodd\" fill-opacity=\"1\" stroke=\"#000000\" stroke-opacity=\"1\" stroke-width=\"5.6\"/>\n",
       "<circle clip-path=\"url(#clip554)\" cx=\"2759.88\" cy=\"1831.44\" r=\"14\" fill=\"#009af9\" fill-rule=\"evenodd\" fill-opacity=\"1\" stroke=\"#000000\" stroke-opacity=\"1\" stroke-width=\"5.6\"/>\n",
       "<circle clip-path=\"url(#clip554)\" cx=\"2809.69\" cy=\"1670.8\" r=\"14\" fill=\"#009af9\" fill-rule=\"evenodd\" fill-opacity=\"1\" stroke=\"#000000\" stroke-opacity=\"1\" stroke-width=\"5.6\"/>\n",
       "<circle clip-path=\"url(#clip554)\" cx=\"2859.49\" cy=\"1884.98\" r=\"14\" fill=\"#009af9\" fill-rule=\"evenodd\" fill-opacity=\"1\" stroke=\"#000000\" stroke-opacity=\"1\" stroke-width=\"5.6\"/>\n",
       "<circle clip-path=\"url(#clip554)\" cx=\"2909.29\" cy=\"1706.5\" r=\"14\" fill=\"#009af9\" fill-rule=\"evenodd\" fill-opacity=\"1\" stroke=\"#000000\" stroke-opacity=\"1\" stroke-width=\"5.6\"/>\n",
       "<circle clip-path=\"url(#clip554)\" cx=\"2959.1\" cy=\"1831.44\" r=\"14\" fill=\"#009af9\" fill-rule=\"evenodd\" fill-opacity=\"1\" stroke=\"#000000\" stroke-opacity=\"1\" stroke-width=\"5.6\"/>\n",
       "<circle clip-path=\"url(#clip554)\" cx=\"3008.9\" cy=\"1751.12\" r=\"14\" fill=\"#009af9\" fill-rule=\"evenodd\" fill-opacity=\"1\" stroke=\"#000000\" stroke-opacity=\"1\" stroke-width=\"5.6\"/>\n",
       "<circle clip-path=\"url(#clip554)\" cx=\"3058.7\" cy=\"1884.98\" r=\"14\" fill=\"#009af9\" fill-rule=\"evenodd\" fill-opacity=\"1\" stroke=\"#000000\" stroke-opacity=\"1\" stroke-width=\"5.6\"/>\n",
       "<circle clip-path=\"url(#clip554)\" cx=\"3108.51\" cy=\"1813.59\" r=\"14\" fill=\"#009af9\" fill-rule=\"evenodd\" fill-opacity=\"1\" stroke=\"#000000\" stroke-opacity=\"1\" stroke-width=\"5.6\"/>\n",
       "<circle clip-path=\"url(#clip554)\" cx=\"3158.31\" cy=\"1679.73\" r=\"14\" fill=\"#009af9\" fill-rule=\"evenodd\" fill-opacity=\"1\" stroke=\"#000000\" stroke-opacity=\"1\" stroke-width=\"5.6\"/>\n",
       "<circle clip-path=\"url(#clip554)\" cx=\"3208.12\" cy=\"1956.37\" r=\"14\" fill=\"#009af9\" fill-rule=\"evenodd\" fill-opacity=\"1\" stroke=\"#000000\" stroke-opacity=\"1\" stroke-width=\"5.6\"/>\n",
       "<circle clip-path=\"url(#clip554)\" cx=\"3257.92\" cy=\"1751.12\" r=\"14\" fill=\"#009af9\" fill-rule=\"evenodd\" fill-opacity=\"1\" stroke=\"#000000\" stroke-opacity=\"1\" stroke-width=\"5.6\"/>\n",
       "<circle clip-path=\"url(#clip554)\" cx=\"3307.72\" cy=\"1652.96\" r=\"14\" fill=\"#009af9\" fill-rule=\"evenodd\" fill-opacity=\"1\" stroke=\"#000000\" stroke-opacity=\"1\" stroke-width=\"5.6\"/>\n",
       "<circle clip-path=\"url(#clip554)\" cx=\"3357.53\" cy=\"1902.83\" r=\"14\" fill=\"#009af9\" fill-rule=\"evenodd\" fill-opacity=\"1\" stroke=\"#000000\" stroke-opacity=\"1\" stroke-width=\"5.6\"/>\n",
       "<circle clip-path=\"url(#clip554)\" cx=\"3407.33\" cy=\"1813.59\" r=\"14\" fill=\"#009af9\" fill-rule=\"evenodd\" fill-opacity=\"1\" stroke=\"#000000\" stroke-opacity=\"1\" stroke-width=\"5.6\"/>\n",
       "<circle clip-path=\"url(#clip554)\" cx=\"3457.13\" cy=\"1911.75\" r=\"14\" fill=\"#009af9\" fill-rule=\"evenodd\" fill-opacity=\"1\" stroke=\"#000000\" stroke-opacity=\"1\" stroke-width=\"5.6\"/>\n",
       "<polyline clip-path=\"url(#clip554)\" style=\"stroke:#009af9; stroke-width:4; stroke-opacity:1; fill:none\" points=\"\n",
       "  269.707,1665.77 3457.13,1805.71 \n",
       "  \"/>\n",
       "<path clip-path=\"url(#clip550)\" d=\"\n",
       "M174.084 2668.69 L3552.76 2668.69 L3552.76 2233.55 L174.084 2233.55  Z\n",
       "  \" fill=\"#ffffff\" fill-rule=\"evenodd\" fill-opacity=\"1\"/>\n",
       "<defs>\n",
       "  <clipPath id=\"clip555\">\n",
       "    <rect x=\"174\" y=\"2233\" width=\"3380\" height=\"436\"/>\n",
       "  </clipPath>\n",
       "</defs>\n",
       "<polyline clip-path=\"url(#clip555)\" style=\"stroke:#000000; stroke-width:2; stroke-opacity:0.1; fill:none\" points=\"\n",
       "  717.065,2668.69 717.065,2233.55 \n",
       "  \"/>\n",
       "<polyline clip-path=\"url(#clip555)\" style=\"stroke:#000000; stroke-width:2; stroke-opacity:0.1; fill:none\" points=\"\n",
       "  1276.26,2668.69 1276.26,2233.55 \n",
       "  \"/>\n",
       "<polyline clip-path=\"url(#clip555)\" style=\"stroke:#000000; stroke-width:2; stroke-opacity:0.1; fill:none\" points=\"\n",
       "  1835.46,2668.69 1835.46,2233.55 \n",
       "  \"/>\n",
       "<polyline clip-path=\"url(#clip555)\" style=\"stroke:#000000; stroke-width:2; stroke-opacity:0.1; fill:none\" points=\"\n",
       "  2394.66,2668.69 2394.66,2233.55 \n",
       "  \"/>\n",
       "<polyline clip-path=\"url(#clip555)\" style=\"stroke:#000000; stroke-width:2; stroke-opacity:0.1; fill:none\" points=\"\n",
       "  2953.86,2668.69 2953.86,2233.55 \n",
       "  \"/>\n",
       "<polyline clip-path=\"url(#clip555)\" style=\"stroke:#000000; stroke-width:2; stroke-opacity:0.1; fill:none\" points=\"\n",
       "  3513.05,2668.69 3513.05,2233.55 \n",
       "  \"/>\n",
       "<polyline clip-path=\"url(#clip550)\" style=\"stroke:#000000; stroke-width:4; stroke-opacity:1; fill:none\" points=\"\n",
       "  174.084,2668.69 3552.76,2668.69 \n",
       "  \"/>\n",
       "<polyline clip-path=\"url(#clip550)\" style=\"stroke:#000000; stroke-width:4; stroke-opacity:1; fill:none\" points=\"\n",
       "  717.065,2668.69 717.065,2663.47 \n",
       "  \"/>\n",
       "<polyline clip-path=\"url(#clip550)\" style=\"stroke:#000000; stroke-width:4; stroke-opacity:1; fill:none\" points=\"\n",
       "  1276.26,2668.69 1276.26,2663.47 \n",
       "  \"/>\n",
       "<polyline clip-path=\"url(#clip550)\" style=\"stroke:#000000; stroke-width:4; stroke-opacity:1; fill:none\" points=\"\n",
       "  1835.46,2668.69 1835.46,2663.47 \n",
       "  \"/>\n",
       "<polyline clip-path=\"url(#clip550)\" style=\"stroke:#000000; stroke-width:4; stroke-opacity:1; fill:none\" points=\"\n",
       "  2394.66,2668.69 2394.66,2663.47 \n",
       "  \"/>\n",
       "<polyline clip-path=\"url(#clip550)\" style=\"stroke:#000000; stroke-width:4; stroke-opacity:1; fill:none\" points=\"\n",
       "  2953.86,2668.69 2953.86,2663.47 \n",
       "  \"/>\n",
       "<polyline clip-path=\"url(#clip550)\" style=\"stroke:#000000; stroke-width:4; stroke-opacity:1; fill:none\" points=\"\n",
       "  3513.05,2668.69 3513.05,2663.47 \n",
       "  \"/>\n",
       "<path clip-path=\"url(#clip550)\" d=\"M 0 0 M667.47 2735.02 L675.109 2735.02 L675.109 2708.66 L666.799 2710.33 L666.799 2706.07 L675.063 2704.4 L679.739 2704.4 L679.739 2735.02 L687.378 2735.02 L687.378 2738.96 L667.47 2738.96 L667.47 2735.02 Z\" fill=\"#000000\" fill-rule=\"evenodd\" fill-opacity=\"1\" /><path clip-path=\"url(#clip550)\" d=\"M 0 0 M692.586 2738.24 L692.586 2733.98 Q694.345 2734.82 696.151 2735.26 Q697.956 2735.7 699.693 2735.7 Q704.322 2735.7 706.753 2732.59 Q709.206 2729.47 709.554 2723.13 Q708.211 2725.12 706.151 2726.18 Q704.091 2727.25 701.591 2727.25 Q696.406 2727.25 693.373 2724.12 Q690.364 2720.97 690.364 2715.53 Q690.364 2710.21 693.512 2706.99 Q696.66 2703.77 701.892 2703.77 Q707.887 2703.77 711.035 2708.38 Q714.206 2712.96 714.206 2721.71 Q714.206 2729.89 710.317 2734.77 Q706.452 2739.63 699.901 2739.63 Q698.142 2739.63 696.336 2739.28 Q694.531 2738.94 692.586 2738.24 M701.892 2723.59 Q705.04 2723.59 706.868 2721.44 Q708.72 2719.28 708.72 2715.53 Q708.72 2711.81 706.868 2709.65 Q705.04 2707.48 701.892 2707.48 Q698.743 2707.48 696.892 2709.65 Q695.063 2711.81 695.063 2715.53 Q695.063 2719.28 696.892 2721.44 Q698.743 2723.59 701.892 2723.59 Z\" fill=\"#000000\" fill-rule=\"evenodd\" fill-opacity=\"1\" /><path clip-path=\"url(#clip550)\" d=\"M 0 0 M718.095 2704.4 L740.317 2704.4 L740.317 2706.39 L727.771 2738.96 L722.887 2738.96 L734.692 2708.34 L718.095 2708.34 L718.095 2704.4 Z\" fill=\"#000000\" fill-rule=\"evenodd\" fill-opacity=\"1\" /><path clip-path=\"url(#clip550)\" d=\"M 0 0 M755.387 2707.48 Q751.776 2707.48 749.947 2711.04 Q748.141 2714.59 748.141 2721.71 Q748.141 2728.82 749.947 2732.39 Q751.776 2735.93 755.387 2735.93 Q759.021 2735.93 760.826 2732.39 Q762.655 2728.82 762.655 2721.71 Q762.655 2714.59 760.826 2711.04 Q759.021 2707.48 755.387 2707.48 M755.387 2703.77 Q761.197 2703.77 764.252 2708.38 Q767.331 2712.96 767.331 2721.71 Q767.331 2730.44 764.252 2735.05 Q761.197 2739.63 755.387 2739.63 Q749.577 2739.63 746.498 2735.05 Q743.442 2730.44 743.442 2721.71 Q743.442 2712.96 746.498 2708.38 Q749.577 2703.77 755.387 2703.77 Z\" fill=\"#000000\" fill-rule=\"evenodd\" fill-opacity=\"1\" /><path clip-path=\"url(#clip550)\" d=\"M 0 0 M1226.26 2735.02 L1233.9 2735.02 L1233.9 2708.66 L1225.59 2710.33 L1225.59 2706.07 L1233.86 2704.4 L1238.53 2704.4 L1238.53 2735.02 L1246.17 2735.02 L1246.17 2738.96 L1226.26 2738.96 L1226.26 2735.02 Z\" fill=\"#000000\" fill-rule=\"evenodd\" fill-opacity=\"1\" /><path clip-path=\"url(#clip550)\" d=\"M 0 0 M1251.38 2738.24 L1251.38 2733.98 Q1253.14 2734.82 1254.94 2735.26 Q1256.75 2735.7 1258.49 2735.7 Q1263.11 2735.7 1265.55 2732.59 Q1268 2729.47 1268.35 2723.13 Q1267 2725.12 1264.94 2726.18 Q1262.88 2727.25 1260.38 2727.25 Q1255.2 2727.25 1252.17 2724.12 Q1249.16 2720.97 1249.16 2715.53 Q1249.16 2710.21 1252.3 2706.99 Q1255.45 2703.77 1260.68 2703.77 Q1266.68 2703.77 1269.83 2708.38 Q1273 2712.96 1273 2721.71 Q1273 2729.89 1269.11 2734.77 Q1265.24 2739.63 1258.69 2739.63 Q1256.93 2739.63 1255.13 2739.28 Q1253.32 2738.94 1251.38 2738.24 M1260.68 2723.59 Q1263.83 2723.59 1265.66 2721.44 Q1267.51 2719.28 1267.51 2715.53 Q1267.51 2711.81 1265.66 2709.65 Q1263.83 2707.48 1260.68 2707.48 Q1257.54 2707.48 1255.68 2709.65 Q1253.86 2711.81 1253.86 2715.53 Q1253.86 2719.28 1255.68 2721.44 Q1257.54 2723.59 1260.68 2723.59 Z\" fill=\"#000000\" fill-rule=\"evenodd\" fill-opacity=\"1\" /><path clip-path=\"url(#clip550)\" d=\"M 0 0 M1288.07 2722.55 Q1284.73 2722.55 1282.81 2724.33 Q1280.92 2726.11 1280.92 2729.24 Q1280.92 2732.36 1282.81 2734.15 Q1284.73 2735.93 1288.07 2735.93 Q1291.4 2735.93 1293.32 2734.15 Q1295.24 2732.34 1295.24 2729.24 Q1295.24 2726.11 1293.32 2724.33 Q1291.42 2722.55 1288.07 2722.55 M1283.39 2720.56 Q1280.38 2719.82 1278.69 2717.76 Q1277.03 2715.7 1277.03 2712.73 Q1277.03 2708.59 1279.97 2706.18 Q1282.93 2703.77 1288.07 2703.77 Q1293.23 2703.77 1296.17 2706.18 Q1299.11 2708.59 1299.11 2712.73 Q1299.11 2715.7 1297.42 2717.76 Q1295.75 2719.82 1292.77 2720.56 Q1296.15 2721.34 1298.02 2723.64 Q1299.92 2725.93 1299.92 2729.24 Q1299.92 2734.26 1296.84 2736.95 Q1293.79 2739.63 1288.07 2739.63 Q1282.35 2739.63 1279.27 2736.95 Q1276.22 2734.26 1276.22 2729.24 Q1276.22 2725.93 1278.11 2723.64 Q1280.01 2721.34 1283.39 2720.56 M1281.68 2713.17 Q1281.68 2715.86 1283.35 2717.36 Q1285.04 2718.87 1288.07 2718.87 Q1291.08 2718.87 1292.77 2717.36 Q1294.48 2715.86 1294.48 2713.17 Q1294.48 2710.49 1292.77 2708.98 Q1291.08 2707.48 1288.07 2707.48 Q1285.04 2707.48 1283.35 2708.98 Q1281.68 2710.49 1281.68 2713.17 Z\" fill=\"#000000\" fill-rule=\"evenodd\" fill-opacity=\"1\" /><path clip-path=\"url(#clip550)\" d=\"M 0 0 M1314.99 2707.48 Q1311.38 2707.48 1309.55 2711.04 Q1307.74 2714.59 1307.74 2721.71 Q1307.74 2728.82 1309.55 2732.39 Q1311.38 2735.93 1314.99 2735.93 Q1318.62 2735.93 1320.43 2732.39 Q1322.26 2728.82 1322.26 2721.71 Q1322.26 2714.59 1320.43 2711.04 Q1318.62 2707.48 1314.99 2707.48 M1314.99 2703.77 Q1320.8 2703.77 1323.86 2708.38 Q1326.93 2712.96 1326.93 2721.71 Q1326.93 2730.44 1323.86 2735.05 Q1320.8 2739.63 1314.99 2739.63 Q1309.18 2739.63 1306.1 2735.05 Q1303.04 2730.44 1303.04 2721.71 Q1303.04 2712.96 1306.1 2708.38 Q1309.18 2703.77 1314.99 2703.77 Z\" fill=\"#000000\" fill-rule=\"evenodd\" fill-opacity=\"1\" /><path clip-path=\"url(#clip550)\" d=\"M 0 0 M1785.51 2735.02 L1793.15 2735.02 L1793.15 2708.66 L1784.84 2710.33 L1784.84 2706.07 L1793.1 2704.4 L1797.78 2704.4 L1797.78 2735.02 L1805.41 2735.02 L1805.41 2738.96 L1785.51 2738.96 L1785.51 2735.02 Z\" fill=\"#000000\" fill-rule=\"evenodd\" fill-opacity=\"1\" /><path clip-path=\"url(#clip550)\" d=\"M 0 0 M1810.62 2738.24 L1810.62 2733.98 Q1812.38 2734.82 1814.19 2735.26 Q1815.99 2735.7 1817.73 2735.7 Q1822.36 2735.7 1824.79 2732.59 Q1827.24 2729.47 1827.59 2723.13 Q1826.25 2725.12 1824.19 2726.18 Q1822.13 2727.25 1819.63 2727.25 Q1814.44 2727.25 1811.41 2724.12 Q1808.4 2720.97 1808.4 2715.53 Q1808.4 2710.21 1811.55 2706.99 Q1814.7 2703.77 1819.93 2703.77 Q1825.92 2703.77 1829.07 2708.38 Q1832.24 2712.96 1832.24 2721.71 Q1832.24 2729.89 1828.35 2734.77 Q1824.49 2739.63 1817.94 2739.63 Q1816.18 2739.63 1814.37 2739.28 Q1812.57 2738.94 1810.62 2738.24 M1819.93 2723.59 Q1823.08 2723.59 1824.9 2721.44 Q1826.76 2719.28 1826.76 2715.53 Q1826.76 2711.81 1824.9 2709.65 Q1823.08 2707.48 1819.93 2707.48 Q1816.78 2707.48 1814.93 2709.65 Q1813.1 2711.81 1813.1 2715.53 Q1813.1 2719.28 1814.93 2721.44 Q1816.78 2723.59 1819.93 2723.59 Z\" fill=\"#000000\" fill-rule=\"evenodd\" fill-opacity=\"1\" /><path clip-path=\"url(#clip550)\" d=\"M 0 0 M1837.45 2738.24 L1837.45 2733.98 Q1839.21 2734.82 1841.02 2735.26 Q1842.82 2735.7 1844.56 2735.7 Q1849.19 2735.7 1851.62 2732.59 Q1854.07 2729.47 1854.42 2723.13 Q1853.08 2725.12 1851.02 2726.18 Q1848.96 2727.25 1846.46 2727.25 Q1841.27 2727.25 1838.24 2724.12 Q1835.23 2720.97 1835.23 2715.53 Q1835.23 2710.21 1838.38 2706.99 Q1841.53 2703.77 1846.76 2703.77 Q1852.75 2703.77 1855.9 2708.38 Q1859.07 2712.96 1859.07 2721.71 Q1859.07 2729.89 1855.18 2734.77 Q1851.32 2739.63 1844.77 2739.63 Q1843.01 2739.63 1841.2 2739.28 Q1839.4 2738.94 1837.45 2738.24 M1846.76 2723.59 Q1849.9 2723.59 1851.73 2721.44 Q1853.59 2719.28 1853.59 2715.53 Q1853.59 2711.81 1851.73 2709.65 Q1849.9 2707.48 1846.76 2707.48 Q1843.61 2707.48 1841.76 2709.65 Q1839.93 2711.81 1839.93 2715.53 Q1839.93 2719.28 1841.76 2721.44 Q1843.61 2723.59 1846.76 2723.59 Z\" fill=\"#000000\" fill-rule=\"evenodd\" fill-opacity=\"1\" /><path clip-path=\"url(#clip550)\" d=\"M 0 0 M1874.14 2707.48 Q1870.53 2707.48 1868.7 2711.04 Q1866.9 2714.59 1866.9 2721.71 Q1866.9 2728.82 1868.7 2732.39 Q1870.53 2735.93 1874.14 2735.93 Q1877.77 2735.93 1879.58 2732.39 Q1881.41 2728.82 1881.41 2721.71 Q1881.41 2714.59 1879.58 2711.04 Q1877.77 2707.48 1874.14 2707.48 M1874.14 2703.77 Q1879.95 2703.77 1883.01 2708.38 Q1886.08 2712.96 1886.08 2721.71 Q1886.08 2730.44 1883.01 2735.05 Q1879.95 2739.63 1874.14 2739.63 Q1868.33 2739.63 1865.25 2735.05 Q1862.2 2730.44 1862.2 2721.71 Q1862.2 2712.96 1865.25 2708.38 Q1868.33 2703.77 1874.14 2703.77 Z\" fill=\"#000000\" fill-rule=\"evenodd\" fill-opacity=\"1\" /><path clip-path=\"url(#clip550)\" d=\"M 0 0 M2348.79 2735.02 L2365.11 2735.02 L2365.11 2738.96 L2343.17 2738.96 L2343.17 2735.02 Q2345.83 2732.27 2350.41 2727.64 Q2355.02 2722.99 2356.2 2721.65 Q2358.44 2719.12 2359.32 2717.39 Q2360.23 2715.63 2360.23 2713.94 Q2360.23 2711.18 2358.28 2709.45 Q2356.36 2707.71 2353.26 2707.71 Q2351.06 2707.71 2348.6 2708.47 Q2346.17 2709.24 2343.4 2710.79 L2343.4 2706.07 Q2346.22 2704.93 2348.67 2704.35 Q2351.13 2703.77 2353.16 2703.77 Q2358.54 2703.77 2361.73 2706.46 Q2364.92 2709.15 2364.92 2713.64 Q2364.92 2715.77 2364.11 2717.69 Q2363.33 2719.58 2361.22 2722.18 Q2360.64 2722.85 2357.54 2726.07 Q2354.44 2729.26 2348.79 2735.02 Z\" fill=\"#000000\" fill-rule=\"evenodd\" fill-opacity=\"1\" /><path clip-path=\"url(#clip550)\" d=\"M 0 0 M2380.18 2707.48 Q2376.57 2707.48 2374.74 2711.04 Q2372.93 2714.59 2372.93 2721.71 Q2372.93 2728.82 2374.74 2732.39 Q2376.57 2735.93 2380.18 2735.93 Q2383.81 2735.93 2385.62 2732.39 Q2387.45 2728.82 2387.45 2721.71 Q2387.45 2714.59 2385.62 2711.04 Q2383.81 2707.48 2380.18 2707.48 M2380.18 2703.77 Q2385.99 2703.77 2389.04 2708.38 Q2392.12 2712.96 2392.12 2721.71 Q2392.12 2730.44 2389.04 2735.05 Q2385.99 2739.63 2380.18 2739.63 Q2374.37 2739.63 2371.29 2735.05 Q2368.23 2730.44 2368.23 2721.71 Q2368.23 2712.96 2371.29 2708.38 Q2374.37 2703.77 2380.18 2703.77 Z\" fill=\"#000000\" fill-rule=\"evenodd\" fill-opacity=\"1\" /><path clip-path=\"url(#clip550)\" d=\"M 0 0 M2407.19 2707.48 Q2403.58 2707.48 2401.75 2711.04 Q2399.95 2714.59 2399.95 2721.71 Q2399.95 2728.82 2401.75 2732.39 Q2403.58 2735.93 2407.19 2735.93 Q2410.83 2735.93 2412.63 2732.39 Q2414.46 2728.82 2414.46 2721.71 Q2414.46 2714.59 2412.63 2711.04 Q2410.83 2707.48 2407.19 2707.48 M2407.19 2703.77 Q2413 2703.77 2416.06 2708.38 Q2419.14 2712.96 2419.14 2721.71 Q2419.14 2730.44 2416.06 2735.05 Q2413 2739.63 2407.19 2739.63 Q2401.38 2739.63 2398.3 2735.05 Q2395.25 2730.44 2395.25 2721.71 Q2395.25 2712.96 2398.3 2708.38 Q2401.38 2703.77 2407.19 2703.77 Z\" fill=\"#000000\" fill-rule=\"evenodd\" fill-opacity=\"1\" /><path clip-path=\"url(#clip550)\" d=\"M 0 0 M2434.21 2707.48 Q2430.6 2707.48 2428.77 2711.04 Q2426.96 2714.59 2426.96 2721.71 Q2426.96 2728.82 2428.77 2732.39 Q2430.6 2735.93 2434.21 2735.93 Q2437.84 2735.93 2439.65 2732.39 Q2441.47 2728.82 2441.47 2721.71 Q2441.47 2714.59 2439.65 2711.04 Q2437.84 2707.48 2434.21 2707.48 M2434.21 2703.77 Q2440.02 2703.77 2443.07 2708.38 Q2446.15 2712.96 2446.15 2721.71 Q2446.15 2730.44 2443.07 2735.05 Q2440.02 2739.63 2434.21 2739.63 Q2428.4 2739.63 2425.32 2735.05 Q2422.26 2730.44 2422.26 2721.71 Q2422.26 2712.96 2425.32 2708.38 Q2428.4 2703.77 2434.21 2703.77 Z\" fill=\"#000000\" fill-rule=\"evenodd\" fill-opacity=\"1\" /><path clip-path=\"url(#clip550)\" d=\"M 0 0 M2908.6 2735.02 L2924.92 2735.02 L2924.92 2738.96 L2902.98 2738.96 L2902.98 2735.02 Q2905.64 2732.27 2910.22 2727.64 Q2914.83 2722.99 2916.01 2721.65 Q2918.25 2719.12 2919.13 2717.39 Q2920.04 2715.63 2920.04 2713.94 Q2920.04 2711.18 2918.09 2709.45 Q2916.17 2707.71 2913.07 2707.71 Q2910.87 2707.71 2908.42 2708.47 Q2905.99 2709.24 2903.21 2710.79 L2903.21 2706.07 Q2906.03 2704.93 2908.49 2704.35 Q2910.94 2703.77 2912.98 2703.77 Q2918.35 2703.77 2921.54 2706.46 Q2924.74 2709.15 2924.74 2713.64 Q2924.74 2715.77 2923.92 2717.69 Q2923.14 2719.58 2921.03 2722.18 Q2920.45 2722.85 2917.35 2726.07 Q2914.25 2729.26 2908.6 2735.02 Z\" fill=\"#000000\" fill-rule=\"evenodd\" fill-opacity=\"1\" /><path clip-path=\"url(#clip550)\" d=\"M 0 0 M2939.99 2707.48 Q2936.38 2707.48 2934.55 2711.04 Q2932.74 2714.59 2932.74 2721.71 Q2932.74 2728.82 2934.55 2732.39 Q2936.38 2735.93 2939.99 2735.93 Q2943.62 2735.93 2945.43 2732.39 Q2947.26 2728.82 2947.26 2721.71 Q2947.26 2714.59 2945.43 2711.04 Q2943.62 2707.48 2939.99 2707.48 M2939.99 2703.77 Q2945.8 2703.77 2948.86 2708.38 Q2951.93 2712.96 2951.93 2721.71 Q2951.93 2730.44 2948.86 2735.05 Q2945.8 2739.63 2939.99 2739.63 Q2934.18 2739.63 2931.1 2735.05 Q2928.05 2730.44 2928.05 2721.71 Q2928.05 2712.96 2931.1 2708.38 Q2934.18 2703.77 2939.99 2703.77 Z\" fill=\"#000000\" fill-rule=\"evenodd\" fill-opacity=\"1\" /><path clip-path=\"url(#clip550)\" d=\"M 0 0 M2957.81 2735.02 L2965.45 2735.02 L2965.45 2708.66 L2957.14 2710.33 L2957.14 2706.07 L2965.41 2704.4 L2970.08 2704.4 L2970.08 2735.02 L2977.72 2735.02 L2977.72 2738.96 L2957.81 2738.96 L2957.81 2735.02 Z\" fill=\"#000000\" fill-rule=\"evenodd\" fill-opacity=\"1\" /><path clip-path=\"url(#clip550)\" d=\"M 0 0 M2992.79 2707.48 Q2989.18 2707.48 2987.35 2711.04 Q2985.54 2714.59 2985.54 2721.71 Q2985.54 2728.82 2987.35 2732.39 Q2989.18 2735.93 2992.79 2735.93 Q2996.42 2735.93 2998.23 2732.39 Q3000.06 2728.82 3000.06 2721.71 Q3000.06 2714.59 2998.23 2711.04 Q2996.42 2707.48 2992.79 2707.48 M2992.79 2703.77 Q2998.6 2703.77 3001.66 2708.38 Q3004.73 2712.96 3004.73 2721.71 Q3004.73 2730.44 3001.66 2735.05 Q2998.6 2739.63 2992.79 2739.63 Q2986.98 2739.63 2983.9 2735.05 Q2980.85 2730.44 2980.85 2721.71 Q2980.85 2712.96 2983.9 2708.38 Q2986.98 2703.77 2992.79 2703.77 Z\" fill=\"#000000\" fill-rule=\"evenodd\" fill-opacity=\"1\" /><path clip-path=\"url(#clip550)\" d=\"M 0 0 M3467.98 2735.02 L3484.3 2735.02 L3484.3 2738.96 L3462.36 2738.96 L3462.36 2735.02 Q3465.02 2732.27 3469.6 2727.64 Q3474.21 2722.99 3475.39 2721.65 Q3477.64 2719.12 3478.52 2717.39 Q3479.42 2715.63 3479.42 2713.94 Q3479.42 2711.18 3477.47 2709.45 Q3475.55 2707.71 3472.45 2707.71 Q3470.25 2707.71 3467.8 2708.47 Q3465.37 2709.24 3462.59 2710.79 L3462.59 2706.07 Q3465.41 2704.93 3467.87 2704.35 Q3470.32 2703.77 3472.36 2703.77 Q3477.73 2703.77 3480.92 2706.46 Q3484.12 2709.15 3484.12 2713.64 Q3484.12 2715.77 3483.31 2717.69 Q3482.52 2719.58 3480.41 2722.18 Q3479.84 2722.85 3476.73 2726.07 Q3473.63 2729.26 3467.98 2735.02 Z\" fill=\"#000000\" fill-rule=\"evenodd\" fill-opacity=\"1\" /><path clip-path=\"url(#clip550)\" d=\"M 0 0 M3499.37 2707.48 Q3495.76 2707.48 3493.93 2711.04 Q3492.13 2714.59 3492.13 2721.71 Q3492.13 2728.82 3493.93 2732.39 Q3495.76 2735.93 3499.37 2735.93 Q3503.01 2735.93 3504.81 2732.39 Q3506.64 2728.82 3506.64 2721.71 Q3506.64 2714.59 3504.81 2711.04 Q3503.01 2707.48 3499.37 2707.48 M3499.37 2703.77 Q3505.18 2703.77 3508.24 2708.38 Q3511.32 2712.96 3511.32 2721.71 Q3511.32 2730.44 3508.24 2735.05 Q3505.18 2739.63 3499.37 2739.63 Q3493.56 2739.63 3490.48 2735.05 Q3487.43 2730.44 3487.43 2721.71 Q3487.43 2712.96 3490.48 2708.38 Q3493.56 2703.77 3499.37 2703.77 Z\" fill=\"#000000\" fill-rule=\"evenodd\" fill-opacity=\"1\" /><path clip-path=\"url(#clip550)\" d=\"M 0 0 M3520.41 2735.02 L3536.73 2735.02 L3536.73 2738.96 L3514.79 2738.96 L3514.79 2735.02 Q3517.45 2732.27 3522.03 2727.64 Q3526.64 2722.99 3527.82 2721.65 Q3530.07 2719.12 3530.95 2717.39 Q3531.85 2715.63 3531.85 2713.94 Q3531.85 2711.18 3529.9 2709.45 Q3527.98 2707.71 3524.88 2707.71 Q3522.68 2707.71 3520.23 2708.47 Q3517.8 2709.24 3515.02 2710.79 L3515.02 2706.07 Q3517.84 2704.93 3520.3 2704.35 Q3522.75 2703.77 3524.79 2703.77 Q3530.16 2703.77 3533.35 2706.46 Q3536.55 2709.15 3536.55 2713.64 Q3536.55 2715.77 3535.74 2717.69 Q3534.95 2719.58 3532.84 2722.18 Q3532.27 2722.85 3529.16 2726.07 Q3526.06 2729.26 3520.41 2735.02 Z\" fill=\"#000000\" fill-rule=\"evenodd\" fill-opacity=\"1\" /><path clip-path=\"url(#clip550)\" d=\"M 0 0 M3551.8 2707.48 Q3548.19 2707.48 3546.36 2711.04 Q3544.56 2714.59 3544.56 2721.71 Q3544.56 2728.82 3546.36 2732.39 Q3548.19 2735.93 3551.8 2735.93 Q3555.44 2735.93 3557.24 2732.39 Q3559.07 2728.82 3559.07 2721.71 Q3559.07 2714.59 3557.24 2711.04 Q3555.44 2707.48 3551.8 2707.48 M3551.8 2703.77 Q3557.61 2703.77 3560.67 2708.38 Q3563.75 2712.96 3563.75 2721.71 Q3563.75 2730.44 3560.67 2735.05 Q3557.61 2739.63 3551.8 2739.63 Q3545.99 2739.63 3542.91 2735.05 Q3539.86 2730.44 3539.86 2721.71 Q3539.86 2712.96 3542.91 2708.38 Q3545.99 2703.77 3551.8 2703.77 Z\" fill=\"#000000\" fill-rule=\"evenodd\" fill-opacity=\"1\" /><polyline clip-path=\"url(#clip555)\" style=\"stroke:#000000; stroke-width:2; stroke-opacity:0.1; fill:none\" points=\"\n",
       "  174.084,2609.9 3552.76,2609.9 \n",
       "  \"/>\n",
       "<polyline clip-path=\"url(#clip555)\" style=\"stroke:#000000; stroke-width:2; stroke-opacity:0.1; fill:none\" points=\"\n",
       "  174.084,2532.45 3552.76,2532.45 \n",
       "  \"/>\n",
       "<polyline clip-path=\"url(#clip555)\" style=\"stroke:#000000; stroke-width:2; stroke-opacity:0.1; fill:none\" points=\"\n",
       "  174.084,2454.99 3552.76,2454.99 \n",
       "  \"/>\n",
       "<polyline clip-path=\"url(#clip555)\" style=\"stroke:#000000; stroke-width:2; stroke-opacity:0.1; fill:none\" points=\"\n",
       "  174.084,2377.54 3552.76,2377.54 \n",
       "  \"/>\n",
       "<polyline clip-path=\"url(#clip555)\" style=\"stroke:#000000; stroke-width:2; stroke-opacity:0.1; fill:none\" points=\"\n",
       "  174.084,2300.08 3552.76,2300.08 \n",
       "  \"/>\n",
       "<polyline clip-path=\"url(#clip550)\" style=\"stroke:#000000; stroke-width:4; stroke-opacity:1; fill:none\" points=\"\n",
       "  174.084,2668.69 174.084,2233.55 \n",
       "  \"/>\n",
       "<polyline clip-path=\"url(#clip550)\" style=\"stroke:#000000; stroke-width:4; stroke-opacity:1; fill:none\" points=\"\n",
       "  174.084,2609.9 214.628,2609.9 \n",
       "  \"/>\n",
       "<polyline clip-path=\"url(#clip550)\" style=\"stroke:#000000; stroke-width:4; stroke-opacity:1; fill:none\" points=\"\n",
       "  174.084,2532.45 214.628,2532.45 \n",
       "  \"/>\n",
       "<polyline clip-path=\"url(#clip550)\" style=\"stroke:#000000; stroke-width:4; stroke-opacity:1; fill:none\" points=\"\n",
       "  174.084,2454.99 214.628,2454.99 \n",
       "  \"/>\n",
       "<polyline clip-path=\"url(#clip550)\" style=\"stroke:#000000; stroke-width:4; stroke-opacity:1; fill:none\" points=\"\n",
       "  174.084,2377.54 214.628,2377.54 \n",
       "  \"/>\n",
       "<polyline clip-path=\"url(#clip550)\" style=\"stroke:#000000; stroke-width:4; stroke-opacity:1; fill:none\" points=\"\n",
       "  174.084,2300.08 214.628,2300.08 \n",
       "  \"/>\n",
       "<path clip-path=\"url(#clip550)\" d=\"M 0 0 M70.8485 2592.62 L93.0706 2592.62 L93.0706 2594.61 L80.5243 2627.18 L75.6401 2627.18 L87.4456 2596.56 L70.8485 2596.56 L70.8485 2592.62 Z\" fill=\"#000000\" fill-rule=\"evenodd\" fill-opacity=\"1\" /><path clip-path=\"url(#clip550)\" d=\"M 0 0 M108.14 2595.7 Q104.529 2595.7 102.7 2599.26 Q100.895 2602.81 100.895 2609.94 Q100.895 2617.04 102.7 2620.61 Q104.529 2624.15 108.14 2624.15 Q111.774 2624.15 113.58 2620.61 Q115.408 2617.04 115.408 2609.94 Q115.408 2602.81 113.58 2599.26 Q111.774 2595.7 108.14 2595.7 M108.14 2592 Q113.95 2592 117.006 2596.6 Q120.084 2601.19 120.084 2609.94 Q120.084 2618.66 117.006 2623.27 Q113.95 2627.85 108.14 2627.85 Q102.33 2627.85 99.2511 2623.27 Q96.1956 2618.66 96.1956 2609.94 Q96.1956 2601.19 99.2511 2596.6 Q102.33 2592 108.14 2592 Z\" fill=\"#000000\" fill-rule=\"evenodd\" fill-opacity=\"1\" /><path clip-path=\"url(#clip550)\" d=\"M 0 0 M81.2188 2533.31 Q77.8855 2533.31 75.9642 2535.1 Q74.066 2536.88 74.066 2540 Q74.066 2543.13 75.9642 2544.91 Q77.8855 2546.69 81.2188 2546.69 Q84.5521 2546.69 86.4734 2544.91 Q88.3947 2543.11 88.3947 2540 Q88.3947 2536.88 86.4734 2535.1 Q84.5752 2533.31 81.2188 2533.31 M76.5429 2531.32 Q73.5336 2530.58 71.8438 2528.52 Q70.1772 2526.46 70.1772 2523.5 Q70.1772 2519.36 73.117 2516.95 Q76.0799 2514.54 81.2188 2514.54 Q86.3808 2514.54 89.3206 2516.95 Q92.2604 2519.36 92.2604 2523.5 Q92.2604 2526.46 90.5706 2528.52 Q88.9039 2530.58 85.9178 2531.32 Q89.2974 2532.11 91.1724 2534.4 Q93.0706 2536.69 93.0706 2540 Q93.0706 2545.03 89.9919 2547.71 Q86.9363 2550.4 81.2188 2550.4 Q75.5012 2550.4 72.4225 2547.71 Q69.367 2545.03 69.367 2540 Q69.367 2536.69 71.2651 2534.4 Q73.1633 2532.11 76.5429 2531.32 M74.8299 2523.94 Q74.8299 2526.62 76.4966 2528.13 Q78.1864 2529.63 81.2188 2529.63 Q84.228 2529.63 85.9178 2528.13 Q87.6308 2526.62 87.6308 2523.94 Q87.6308 2521.25 85.9178 2519.75 Q84.228 2518.25 81.2188 2518.25 Q78.1864 2518.25 76.4966 2519.75 Q74.8299 2521.25 74.8299 2523.94 Z\" fill=\"#000000\" fill-rule=\"evenodd\" fill-opacity=\"1\" /><path clip-path=\"url(#clip550)\" d=\"M 0 0 M108.14 2518.25 Q104.529 2518.25 102.7 2521.81 Q100.895 2525.35 100.895 2532.48 Q100.895 2539.59 102.7 2543.15 Q104.529 2546.69 108.14 2546.69 Q111.774 2546.69 113.58 2543.15 Q115.408 2539.59 115.408 2532.48 Q115.408 2525.35 113.58 2521.81 Q111.774 2518.25 108.14 2518.25 M108.14 2514.54 Q113.95 2514.54 117.006 2519.15 Q120.084 2523.73 120.084 2532.48 Q120.084 2541.21 117.006 2545.81 Q113.95 2550.4 108.14 2550.4 Q102.33 2550.4 99.2511 2545.81 Q96.1956 2541.21 96.1956 2532.48 Q96.1956 2523.73 99.2511 2519.15 Q102.33 2514.54 108.14 2514.54 Z\" fill=\"#000000\" fill-rule=\"evenodd\" fill-opacity=\"1\" /><path clip-path=\"url(#clip550)\" d=\"M 0 0 M71.4503 2471.56 L71.4503 2467.3 Q73.2096 2468.13 75.0151 2468.57 Q76.8207 2469.01 78.5568 2469.01 Q83.1864 2469.01 85.6169 2465.91 Q88.0706 2462.78 88.4178 2456.44 Q87.0752 2458.43 85.0151 2459.49 Q82.9549 2460.56 80.4549 2460.56 Q75.2697 2460.56 72.2374 2457.43 Q69.2281 2454.29 69.2281 2448.85 Q69.2281 2443.52 72.3762 2440.31 Q75.5244 2437.09 80.7558 2437.09 Q86.7512 2437.09 89.8993 2441.69 Q93.0706 2446.28 93.0706 2455.03 Q93.0706 2463.2 89.1817 2468.08 Q85.316 2472.94 78.7651 2472.94 Q77.0058 2472.94 75.2003 2472.6 Q73.3948 2472.25 71.4503 2471.56 M80.7558 2456.9 Q83.904 2456.9 85.7326 2454.75 Q87.5845 2452.6 87.5845 2448.85 Q87.5845 2445.12 85.7326 2442.97 Q83.904 2440.79 80.7558 2440.79 Q77.6077 2440.79 75.7559 2442.97 Q73.9272 2445.12 73.9272 2448.85 Q73.9272 2452.6 75.7559 2454.75 Q77.6077 2456.9 80.7558 2456.9 Z\" fill=\"#000000\" fill-rule=\"evenodd\" fill-opacity=\"1\" /><path clip-path=\"url(#clip550)\" d=\"M 0 0 M108.14 2440.79 Q104.529 2440.79 102.7 2444.36 Q100.895 2447.9 100.895 2455.03 Q100.895 2462.13 102.7 2465.7 Q104.529 2469.24 108.14 2469.24 Q111.774 2469.24 113.58 2465.7 Q115.408 2462.13 115.408 2455.03 Q115.408 2447.9 113.58 2444.36 Q111.774 2440.79 108.14 2440.79 M108.14 2437.09 Q113.95 2437.09 117.006 2441.69 Q120.084 2446.28 120.084 2455.03 Q120.084 2463.75 117.006 2468.36 Q113.95 2472.94 108.14 2472.94 Q102.33 2472.94 99.2511 2468.36 Q96.1956 2463.75 96.1956 2455.03 Q96.1956 2446.28 99.2511 2441.69 Q102.33 2437.09 108.14 2437.09 Z\" fill=\"#000000\" fill-rule=\"evenodd\" fill-opacity=\"1\" /><path clip-path=\"url(#clip550)\" d=\"M 0 0 M46.1495 2390.88 L53.7884 2390.88 L53.7884 2364.52 L45.4782 2366.18 L45.4782 2361.93 L53.7421 2360.26 L58.418 2360.26 L58.418 2390.88 L66.0568 2390.88 L66.0568 2394.82 L46.1495 2394.82 L46.1495 2390.88 Z\" fill=\"#000000\" fill-rule=\"evenodd\" fill-opacity=\"1\" /><path clip-path=\"url(#clip550)\" d=\"M 0 0 M81.1262 2363.34 Q77.5151 2363.34 75.6864 2366.9 Q73.8809 2370.44 73.8809 2377.57 Q73.8809 2384.68 75.6864 2388.24 Q77.5151 2391.79 81.1262 2391.79 Q84.7604 2391.79 86.566 2388.24 Q88.3947 2384.68 88.3947 2377.57 Q88.3947 2370.44 86.566 2366.9 Q84.7604 2363.34 81.1262 2363.34 M81.1262 2359.63 Q86.9363 2359.63 89.9919 2364.24 Q93.0706 2368.82 93.0706 2377.57 Q93.0706 2386.3 89.9919 2390.91 Q86.9363 2395.49 81.1262 2395.49 Q75.316 2395.49 72.2374 2390.91 Q69.1818 2386.3 69.1818 2377.57 Q69.1818 2368.82 72.2374 2364.24 Q75.316 2359.63 81.1262 2359.63 Z\" fill=\"#000000\" fill-rule=\"evenodd\" fill-opacity=\"1\" /><path clip-path=\"url(#clip550)\" d=\"M 0 0 M108.14 2363.34 Q104.529 2363.34 102.7 2366.9 Q100.895 2370.44 100.895 2377.57 Q100.895 2384.68 102.7 2388.24 Q104.529 2391.79 108.14 2391.79 Q111.774 2391.79 113.58 2388.24 Q115.408 2384.68 115.408 2377.57 Q115.408 2370.44 113.58 2366.9 Q111.774 2363.34 108.14 2363.34 M108.14 2359.63 Q113.95 2359.63 117.006 2364.24 Q120.084 2368.82 120.084 2377.57 Q120.084 2386.3 117.006 2390.91 Q113.95 2395.49 108.14 2395.49 Q102.33 2395.49 99.2511 2390.91 Q96.1956 2386.3 96.1956 2377.57 Q96.1956 2368.82 99.2511 2364.24 Q102.33 2359.63 108.14 2359.63 Z\" fill=\"#000000\" fill-rule=\"evenodd\" fill-opacity=\"1\" /><path clip-path=\"url(#clip550)\" d=\"M 0 0 M47.3764 2313.43 L55.0152 2313.43 L55.0152 2287.06 L46.7051 2288.73 L46.7051 2284.47 L54.9689 2282.8 L59.6448 2282.8 L59.6448 2313.43 L67.2837 2313.43 L67.2837 2317.36 L47.3764 2317.36 L47.3764 2313.43 Z\" fill=\"#000000\" fill-rule=\"evenodd\" fill-opacity=\"1\" /><path clip-path=\"url(#clip550)\" d=\"M 0 0 M73.1633 2313.43 L80.8021 2313.43 L80.8021 2287.06 L72.492 2288.73 L72.492 2284.47 L80.7558 2282.8 L85.4317 2282.8 L85.4317 2313.43 L93.0706 2313.43 L93.0706 2317.36 L73.1633 2317.36 L73.1633 2313.43 Z\" fill=\"#000000\" fill-rule=\"evenodd\" fill-opacity=\"1\" /><path clip-path=\"url(#clip550)\" d=\"M 0 0 M108.14 2285.88 Q104.529 2285.88 102.7 2289.45 Q100.895 2292.99 100.895 2300.12 Q100.895 2307.23 102.7 2310.79 Q104.529 2314.33 108.14 2314.33 Q111.774 2314.33 113.58 2310.79 Q115.408 2307.23 115.408 2300.12 Q115.408 2292.99 113.58 2289.45 Q111.774 2285.88 108.14 2285.88 M108.14 2282.18 Q113.95 2282.18 117.006 2286.79 Q120.084 2291.37 120.084 2300.12 Q120.084 2308.85 117.006 2313.45 Q113.95 2318.04 108.14 2318.04 Q102.33 2318.04 99.2511 2313.45 Q96.1956 2308.85 96.1956 2300.12 Q96.1956 2291.37 99.2511 2286.79 Q102.33 2282.18 108.14 2282.18 Z\" fill=\"#000000\" fill-rule=\"evenodd\" fill-opacity=\"1\" /><path clip-path=\"url(#clip550)\" d=\"M 0 0 M1452.37 2112.1 L1460.56 2112.1 L1460.56 2165.69 L1490.01 2165.69 L1490.01 2172.58 L1452.37 2172.58 L1452.37 2112.1 Z\" fill=\"#000000\" fill-rule=\"evenodd\" fill-opacity=\"1\" /><path clip-path=\"url(#clip550)\" d=\"M 0 0 M1535.18 2148.03 L1535.18 2151.67 L1500.9 2151.67 Q1501.39 2159.37 1505.52 2163.42 Q1509.7 2167.43 1517.11 2167.43 Q1521.4 2167.43 1525.41 2166.38 Q1529.46 2165.32 1533.43 2163.22 L1533.43 2170.27 Q1529.42 2171.97 1525.21 2172.86 Q1521 2173.75 1516.66 2173.75 Q1505.81 2173.75 1499.45 2167.43 Q1493.13 2161.11 1493.13 2150.34 Q1493.13 2139.2 1499.12 2132.67 Q1505.16 2126.11 1515.37 2126.11 Q1524.52 2126.11 1529.83 2132.03 Q1535.18 2137.9 1535.18 2148.03 M1527.72 2145.84 Q1527.64 2139.72 1524.28 2136.08 Q1520.96 2132.43 1515.45 2132.43 Q1509.21 2132.43 1505.44 2135.96 Q1501.71 2139.48 1501.15 2145.88 L1527.72 2145.84 Z\" fill=\"#000000\" fill-rule=\"evenodd\" fill-opacity=\"1\" /><path clip-path=\"url(#clip550)\" d=\"M 0 0 M1580.71 2145.19 L1580.71 2172.58 L1573.25 2172.58 L1573.25 2145.43 Q1573.25 2138.99 1570.74 2135.79 Q1568.23 2132.59 1563.21 2132.59 Q1557.17 2132.59 1553.69 2136.44 Q1550.2 2140.29 1550.2 2146.93 L1550.2 2172.58 L1542.71 2172.58 L1542.71 2127.21 L1550.2 2127.21 L1550.2 2134.25 Q1552.88 2130.16 1556.48 2128.14 Q1560.13 2126.11 1564.87 2126.11 Q1572.69 2126.11 1576.7 2130.97 Q1580.71 2135.79 1580.71 2145.19 Z\" fill=\"#000000\" fill-rule=\"evenodd\" fill-opacity=\"1\" /><path clip-path=\"url(#clip550)\" d=\"M 0 0 M1626.24 2145.19 L1626.24 2172.58 L1618.79 2172.58 L1618.79 2145.43 Q1618.79 2138.99 1616.27 2135.79 Q1613.76 2132.59 1608.74 2132.59 Q1602.7 2132.59 1599.22 2136.44 Q1595.74 2140.29 1595.74 2146.93 L1595.74 2172.58 L1588.24 2172.58 L1588.24 2127.21 L1595.74 2127.21 L1595.74 2134.25 Q1598.41 2130.16 1602.02 2128.14 Q1605.66 2126.11 1610.4 2126.11 Q1618.22 2126.11 1622.23 2130.97 Q1626.24 2135.79 1626.24 2145.19 Z\" fill=\"#000000\" fill-rule=\"evenodd\" fill-opacity=\"1\" /><path clip-path=\"url(#clip550)\" d=\"M 0 0 M1672.87 2148.03 L1672.87 2151.67 L1638.59 2151.67 Q1639.08 2159.37 1643.21 2163.42 Q1647.39 2167.43 1654.8 2167.43 Q1659.09 2167.43 1663.1 2166.38 Q1667.15 2165.32 1671.12 2163.22 L1671.12 2170.27 Q1667.11 2171.97 1662.9 2172.86 Q1658.69 2173.75 1654.35 2173.75 Q1643.5 2173.75 1637.14 2167.43 Q1630.82 2161.11 1630.82 2150.34 Q1630.82 2139.2 1636.81 2132.67 Q1642.85 2126.11 1653.06 2126.11 Q1662.21 2126.11 1667.52 2132.03 Q1672.87 2137.9 1672.87 2148.03 M1665.41 2145.84 Q1665.33 2139.72 1661.97 2136.08 Q1658.65 2132.43 1653.14 2132.43 Q1646.9 2132.43 1643.13 2135.96 Q1639.41 2139.48 1638.84 2145.88 L1665.41 2145.84 Z\" fill=\"#000000\" fill-rule=\"evenodd\" fill-opacity=\"1\" /><path clip-path=\"url(#clip550)\" d=\"M 0 0 M1709.61 2128.54 L1709.61 2135.59 Q1706.45 2133.97 1703.04 2133.16 Q1699.64 2132.35 1696 2132.35 Q1690.45 2132.35 1687.65 2134.05 Q1684.9 2135.75 1684.9 2139.16 Q1684.9 2141.75 1686.88 2143.25 Q1688.87 2144.71 1694.86 2146.04 L1697.41 2146.61 Q1705.35 2148.31 1708.68 2151.43 Q1712.04 2154.51 1712.04 2160.06 Q1712.04 2166.38 1707.01 2170.06 Q1702.03 2173.75 1693.28 2173.75 Q1689.64 2173.75 1685.67 2173.02 Q1681.74 2172.33 1677.36 2170.92 L1677.36 2163.22 Q1681.49 2165.37 1685.5 2166.46 Q1689.51 2167.51 1693.44 2167.51 Q1698.71 2167.51 1701.55 2165.73 Q1704.38 2163.91 1704.38 2160.63 Q1704.38 2157.59 1702.32 2155.97 Q1700.29 2154.35 1693.36 2152.85 L1690.77 2152.24 Q1683.84 2150.78 1680.76 2147.78 Q1677.69 2144.75 1677.69 2139.48 Q1677.69 2133.08 1682.22 2129.6 Q1686.76 2126.11 1695.11 2126.11 Q1699.24 2126.11 1702.88 2126.72 Q1706.53 2127.33 1709.61 2128.54 Z\" fill=\"#000000\" fill-rule=\"evenodd\" fill-opacity=\"1\" /><path clip-path=\"url(#clip550)\" d=\"M 0 0 M1727.23 2114.32 L1727.23 2127.21 L1742.58 2127.21 L1742.58 2133 L1727.23 2133 L1727.23 2157.63 Q1727.23 2163.18 1728.73 2164.76 Q1730.27 2166.34 1734.93 2166.34 L1742.58 2166.34 L1742.58 2172.58 L1734.93 2172.58 Q1726.3 2172.58 1723.02 2169.38 Q1719.73 2166.14 1719.73 2157.63 L1719.73 2133 L1714.27 2133 L1714.27 2127.21 L1719.73 2127.21 L1719.73 2114.32 L1727.23 2114.32 Z\" fill=\"#000000\" fill-rule=\"evenodd\" fill-opacity=\"1\" /><path clip-path=\"url(#clip550)\" d=\"M 0 0 M1771.02 2149.77 Q1761.99 2149.77 1758.5 2151.84 Q1755.02 2153.9 1755.02 2158.88 Q1755.02 2162.85 1757.61 2165.2 Q1760.24 2167.51 1764.74 2167.51 Q1770.94 2167.51 1774.66 2163.14 Q1778.43 2158.72 1778.43 2151.43 L1778.43 2149.77 L1771.02 2149.77 M1785.89 2146.69 L1785.89 2172.58 L1778.43 2172.58 L1778.43 2165.69 Q1775.88 2169.82 1772.07 2171.81 Q1768.26 2173.75 1762.76 2173.75 Q1755.79 2173.75 1751.66 2169.86 Q1747.56 2165.93 1747.56 2159.37 Q1747.56 2151.71 1752.67 2147.82 Q1757.81 2143.94 1767.98 2143.94 L1778.43 2143.94 L1778.43 2143.21 Q1778.43 2138.06 1775.03 2135.27 Q1771.67 2132.43 1765.55 2132.43 Q1761.66 2132.43 1757.98 2133.36 Q1754.29 2134.29 1750.89 2136.16 L1750.89 2129.27 Q1754.98 2127.69 1758.83 2126.92 Q1762.67 2126.11 1766.32 2126.11 Q1776.16 2126.11 1781.02 2131.22 Q1785.89 2136.32 1785.89 2146.69 Z\" fill=\"#000000\" fill-rule=\"evenodd\" fill-opacity=\"1\" /><path clip-path=\"url(#clip550)\" d=\"M 0 0 M1823.56 2134.09 L1823.56 2109.54 L1831.01 2109.54 L1831.01 2172.58 L1823.56 2172.58 L1823.56 2165.77 Q1821.21 2169.82 1817.6 2171.81 Q1814.04 2173.75 1809.02 2173.75 Q1800.79 2173.75 1795.61 2167.19 Q1790.46 2160.63 1790.46 2149.93 Q1790.46 2139.24 1795.61 2132.67 Q1800.79 2126.11 1809.02 2126.11 Q1814.04 2126.11 1817.6 2128.1 Q1821.21 2130.04 1823.56 2134.09 M1798.16 2149.93 Q1798.16 2158.15 1801.52 2162.85 Q1804.93 2167.51 1810.84 2167.51 Q1816.75 2167.51 1820.16 2162.85 Q1823.56 2158.15 1823.56 2149.93 Q1823.56 2141.71 1820.16 2137.05 Q1816.75 2132.35 1810.84 2132.35 Q1804.93 2132.35 1801.52 2137.05 Q1798.16 2141.71 1798.16 2149.93 Z\" fill=\"#000000\" fill-rule=\"evenodd\" fill-opacity=\"1\" /><path clip-path=\"url(#clip550)\" d=\"M 0 0 M1846.2 2114.32 L1846.2 2127.21 L1861.56 2127.21 L1861.56 2133 L1846.2 2133 L1846.2 2157.63 Q1846.2 2163.18 1847.7 2164.76 Q1849.24 2166.34 1853.9 2166.34 L1861.56 2166.34 L1861.56 2172.58 L1853.9 2172.58 Q1845.27 2172.58 1841.99 2169.38 Q1838.71 2166.14 1838.71 2157.63 L1838.71 2133 L1833.24 2133 L1833.24 2127.21 L1838.71 2127.21 L1838.71 2114.32 L1846.2 2114.32 Z\" fill=\"#000000\" fill-rule=\"evenodd\" fill-opacity=\"1\" /><path clip-path=\"url(#clip550)\" d=\"M 0 0 M1896.07 2112.1 L1904.25 2112.1 L1904.25 2137.66 L1931.39 2112.1 L1941.93 2112.1 L1911.91 2140.29 L1944.07 2172.58 L1933.3 2172.58 L1904.25 2143.45 L1904.25 2172.58 L1896.07 2172.58 L1896.07 2112.1 Z\" fill=\"#000000\" fill-rule=\"evenodd\" fill-opacity=\"1\" /><path clip-path=\"url(#clip550)\" d=\"M 0 0 M1978.18 2134.17 Q1976.93 2133.44 1975.43 2133.12 Q1973.97 2132.76 1972.19 2132.76 Q1965.87 2132.76 1962.46 2136.89 Q1959.1 2140.98 1959.1 2148.68 L1959.1 2172.58 L1951.61 2172.58 L1951.61 2127.21 L1959.1 2127.21 L1959.1 2134.25 Q1961.45 2130.12 1965.22 2128.14 Q1968.99 2126.11 1974.37 2126.11 Q1975.14 2126.11 1976.08 2126.23 Q1977.01 2126.31 1978.14 2126.52 L1978.18 2134.17 Z\" fill=\"#000000\" fill-rule=\"evenodd\" fill-opacity=\"1\" /><path clip-path=\"url(#clip550)\" d=\"M 0 0 M2022.99 2148.03 L2022.99 2151.67 L1988.71 2151.67 Q1989.2 2159.37 1993.33 2163.42 Q1997.51 2167.43 2004.92 2167.43 Q2009.21 2167.43 2013.22 2166.38 Q2017.27 2165.32 2021.24 2163.22 L2021.24 2170.27 Q2017.23 2171.97 2013.02 2172.86 Q2008.81 2173.75 2004.47 2173.75 Q1993.62 2173.75 1987.26 2167.43 Q1980.94 2161.11 1980.94 2150.34 Q1980.94 2139.2 1986.93 2132.67 Q1992.97 2126.11 2003.18 2126.11 Q2012.33 2126.11 2017.64 2132.03 Q2022.99 2137.9 2022.99 2148.03 M2015.53 2145.84 Q2015.45 2139.72 2012.09 2136.08 Q2008.77 2132.43 2003.26 2132.43 Q1997.02 2132.43 1993.25 2135.96 Q1989.52 2139.48 1988.96 2145.88 L2015.53 2145.84 Z\" fill=\"#000000\" fill-rule=\"evenodd\" fill-opacity=\"1\" /><path clip-path=\"url(#clip550)\" d=\"M 0 0 M2030.8 2127.21 L2038.26 2127.21 L2038.26 2172.58 L2030.8 2172.58 L2030.8 2127.21 M2030.8 2109.54 L2038.26 2109.54 L2038.26 2118.98 L2030.8 2118.98 L2030.8 2109.54 Z\" fill=\"#000000\" fill-rule=\"evenodd\" fill-opacity=\"1\" /><path clip-path=\"url(#clip550)\" d=\"M 0 0 M2075 2128.54 L2075 2135.59 Q2071.84 2133.97 2068.44 2133.16 Q2065.03 2132.35 2061.39 2132.35 Q2055.84 2132.35 2053.04 2134.05 Q2050.29 2135.75 2050.29 2139.16 Q2050.29 2141.75 2052.27 2143.25 Q2054.26 2144.71 2060.25 2146.04 L2062.81 2146.61 Q2070.75 2148.31 2074.07 2151.43 Q2077.43 2154.51 2077.43 2160.06 Q2077.43 2166.38 2072.41 2170.06 Q2067.42 2173.75 2058.67 2173.75 Q2055.03 2173.75 2051.06 2173.02 Q2047.13 2172.33 2042.75 2170.92 L2042.75 2163.22 Q2046.89 2165.37 2050.9 2166.46 Q2054.91 2167.51 2058.84 2167.51 Q2064.1 2167.51 2066.94 2165.73 Q2069.77 2163.91 2069.77 2160.63 Q2069.77 2157.59 2067.71 2155.97 Q2065.68 2154.35 2058.75 2152.85 L2056.16 2152.24 Q2049.24 2150.78 2046.16 2147.78 Q2043.08 2144.75 2043.08 2139.48 Q2043.08 2133.08 2047.61 2129.6 Q2052.15 2126.11 2060.5 2126.11 Q2064.63 2126.11 2068.27 2126.72 Q2071.92 2127.33 2075 2128.54 Z\" fill=\"#000000\" fill-rule=\"evenodd\" fill-opacity=\"1\" /><path clip-path=\"url(#clip550)\" d=\"M 0 0 M2136.49 2117.65 Q2127.58 2117.65 2122.31 2124.29 Q2117.09 2130.93 2117.09 2142.4 Q2117.09 2153.82 2122.31 2160.46 Q2127.58 2167.11 2136.49 2167.11 Q2145.4 2167.11 2150.59 2160.46 Q2155.81 2153.82 2155.81 2142.4 Q2155.81 2130.93 2150.59 2124.29 Q2145.4 2117.65 2136.49 2117.65 M2136.49 2111 Q2149.21 2111 2156.83 2119.55 Q2164.44 2128.06 2164.44 2142.4 Q2164.44 2156.7 2156.83 2165.24 Q2149.21 2173.75 2136.49 2173.75 Q2123.73 2173.75 2116.08 2165.24 Q2108.46 2156.74 2108.46 2142.4 Q2108.46 2128.06 2116.08 2119.55 Q2123.73 2111 2136.49 2111 Z\" fill=\"#000000\" fill-rule=\"evenodd\" fill-opacity=\"1\" /><path clip-path=\"url(#clip550)\" d=\"M 0 0 M2172.26 2109.54 L2179.71 2109.54 L2179.71 2172.58 L2172.26 2172.58 L2172.26 2109.54 Z\" fill=\"#000000\" fill-rule=\"evenodd\" fill-opacity=\"1\" /><path clip-path=\"url(#clip550)\" d=\"M 0 0 M2194.74 2165.77 L2194.74 2189.83 L2187.25 2189.83 L2187.25 2127.21 L2194.74 2127.21 L2194.74 2134.09 Q2197.09 2130.04 2200.66 2128.1 Q2204.26 2126.11 2209.25 2126.11 Q2217.51 2126.11 2222.65 2132.67 Q2227.84 2139.24 2227.84 2149.93 Q2227.84 2160.63 2222.65 2167.19 Q2217.51 2173.75 2209.25 2173.75 Q2204.26 2173.75 2200.66 2171.81 Q2197.09 2169.82 2194.74 2165.77 M2220.1 2149.93 Q2220.1 2141.71 2216.7 2137.05 Q2213.34 2132.35 2207.42 2132.35 Q2201.51 2132.35 2198.11 2137.05 Q2194.74 2141.71 2194.74 2149.93 Q2194.74 2158.15 2198.11 2162.85 Q2201.51 2167.51 2207.42 2167.51 Q2213.34 2167.51 2216.7 2162.85 Q2220.1 2158.15 2220.1 2149.93 Z\" fill=\"#000000\" fill-rule=\"evenodd\" fill-opacity=\"1\" /><path clip-path=\"url(#clip550)\" d=\"M 0 0 M2274.47 2148.03 L2274.47 2151.67 L2240.19 2151.67 Q2240.68 2159.37 2244.81 2163.42 Q2248.99 2167.43 2256.4 2167.43 Q2260.69 2167.43 2264.7 2166.38 Q2268.75 2165.32 2272.72 2163.22 L2272.72 2170.27 Q2268.71 2171.97 2264.5 2172.86 Q2260.29 2173.75 2255.95 2173.75 Q2245.1 2173.75 2238.74 2167.43 Q2232.42 2161.11 2232.42 2150.34 Q2232.42 2139.2 2238.41 2132.67 Q2244.45 2126.11 2254.66 2126.11 Q2263.81 2126.11 2269.12 2132.03 Q2274.47 2137.9 2274.47 2148.03 M2267.01 2145.84 Q2266.93 2139.72 2263.57 2136.08 Q2260.25 2132.43 2254.74 2132.43 Q2248.5 2132.43 2244.73 2135.96 Q2241 2139.48 2240.44 2145.88 L2267.01 2145.84 Z\" fill=\"#000000\" fill-rule=\"evenodd\" fill-opacity=\"1\" /><circle clip-path=\"url(#clip555)\" cx=\"269.707\" cy=\"2245.87\" r=\"14\" fill=\"#009af9\" fill-rule=\"evenodd\" fill-opacity=\"1\" stroke=\"#000000\" stroke-opacity=\"1\" stroke-width=\"5.6\"/>\n",
       "<circle clip-path=\"url(#clip555)\" cx=\"325.627\" cy=\"2354.3\" r=\"14\" fill=\"#009af9\" fill-rule=\"evenodd\" fill-opacity=\"1\" stroke=\"#000000\" stroke-opacity=\"1\" stroke-width=\"5.6\"/>\n",
       "<circle clip-path=\"url(#clip555)\" cx=\"381.547\" cy=\"2331.07\" r=\"14\" fill=\"#009af9\" fill-rule=\"evenodd\" fill-opacity=\"1\" stroke=\"#000000\" stroke-opacity=\"1\" stroke-width=\"5.6\"/>\n",
       "<circle clip-path=\"url(#clip555)\" cx=\"437.466\" cy=\"2385.28\" r=\"14\" fill=\"#009af9\" fill-rule=\"evenodd\" fill-opacity=\"1\" stroke=\"#000000\" stroke-opacity=\"1\" stroke-width=\"5.6\"/>\n",
       "<circle clip-path=\"url(#clip555)\" cx=\"493.386\" cy=\"2563.43\" r=\"14\" fill=\"#009af9\" fill-rule=\"evenodd\" fill-opacity=\"1\" stroke=\"#000000\" stroke-opacity=\"1\" stroke-width=\"5.6\"/>\n",
       "<circle clip-path=\"url(#clip555)\" cx=\"549.306\" cy=\"2578.92\" r=\"14\" fill=\"#009af9\" fill-rule=\"evenodd\" fill-opacity=\"1\" stroke=\"#000000\" stroke-opacity=\"1\" stroke-width=\"5.6\"/>\n",
       "<circle clip-path=\"url(#clip555)\" cx=\"605.226\" cy=\"2408.52\" r=\"14\" fill=\"#009af9\" fill-rule=\"evenodd\" fill-opacity=\"1\" stroke=\"#000000\" stroke-opacity=\"1\" stroke-width=\"5.6\"/>\n",
       "<circle clip-path=\"url(#clip555)\" cx=\"661.145\" cy=\"2292.34\" r=\"14\" fill=\"#009af9\" fill-rule=\"evenodd\" fill-opacity=\"1\" stroke=\"#000000\" stroke-opacity=\"1\" stroke-width=\"5.6\"/>\n",
       "<circle clip-path=\"url(#clip555)\" cx=\"717.065\" cy=\"2261.36\" r=\"14\" fill=\"#009af9\" fill-rule=\"evenodd\" fill-opacity=\"1\" stroke=\"#000000\" stroke-opacity=\"1\" stroke-width=\"5.6\"/>\n",
       "<circle clip-path=\"url(#clip555)\" cx=\"772.985\" cy=\"2385.28\" r=\"14\" fill=\"#009af9\" fill-rule=\"evenodd\" fill-opacity=\"1\" stroke=\"#000000\" stroke-opacity=\"1\" stroke-width=\"5.6\"/>\n",
       "<circle clip-path=\"url(#clip555)\" cx=\"828.905\" cy=\"2431.76\" r=\"14\" fill=\"#009af9\" fill-rule=\"evenodd\" fill-opacity=\"1\" stroke=\"#000000\" stroke-opacity=\"1\" stroke-width=\"5.6\"/>\n",
       "<circle clip-path=\"url(#clip555)\" cx=\"884.824\" cy=\"2276.85\" r=\"14\" fill=\"#009af9\" fill-rule=\"evenodd\" fill-opacity=\"1\" stroke=\"#000000\" stroke-opacity=\"1\" stroke-width=\"5.6\"/>\n",
       "<circle clip-path=\"url(#clip555)\" cx=\"940.744\" cy=\"2532.45\" r=\"14\" fill=\"#009af9\" fill-rule=\"evenodd\" fill-opacity=\"1\" stroke=\"#000000\" stroke-opacity=\"1\" stroke-width=\"5.6\"/>\n",
       "<circle clip-path=\"url(#clip555)\" cx=\"996.664\" cy=\"2586.66\" r=\"14\" fill=\"#009af9\" fill-rule=\"evenodd\" fill-opacity=\"1\" stroke=\"#000000\" stroke-opacity=\"1\" stroke-width=\"5.6\"/>\n",
       "<circle clip-path=\"url(#clip555)\" cx=\"1052.58\" cy=\"2416.27\" r=\"14\" fill=\"#009af9\" fill-rule=\"evenodd\" fill-opacity=\"1\" stroke=\"#000000\" stroke-opacity=\"1\" stroke-width=\"5.6\"/>\n",
       "<circle clip-path=\"url(#clip555)\" cx=\"1108.5\" cy=\"2578.92\" r=\"14\" fill=\"#009af9\" fill-rule=\"evenodd\" fill-opacity=\"1\" stroke=\"#000000\" stroke-opacity=\"1\" stroke-width=\"5.6\"/>\n",
       "<circle clip-path=\"url(#clip555)\" cx=\"1164.42\" cy=\"2454.99\" r=\"14\" fill=\"#009af9\" fill-rule=\"evenodd\" fill-opacity=\"1\" stroke=\"#000000\" stroke-opacity=\"1\" stroke-width=\"5.6\"/>\n",
       "<circle clip-path=\"url(#clip555)\" cx=\"1220.34\" cy=\"2331.07\" r=\"14\" fill=\"#009af9\" fill-rule=\"evenodd\" fill-opacity=\"1\" stroke=\"#000000\" stroke-opacity=\"1\" stroke-width=\"5.6\"/>\n",
       "<circle clip-path=\"url(#clip555)\" cx=\"1276.26\" cy=\"2454.99\" r=\"14\" fill=\"#009af9\" fill-rule=\"evenodd\" fill-opacity=\"1\" stroke=\"#000000\" stroke-opacity=\"1\" stroke-width=\"5.6\"/>\n",
       "<circle clip-path=\"url(#clip555)\" cx=\"1332.18\" cy=\"2485.97\" r=\"14\" fill=\"#009af9\" fill-rule=\"evenodd\" fill-opacity=\"1\" stroke=\"#000000\" stroke-opacity=\"1\" stroke-width=\"5.6\"/>\n",
       "<circle clip-path=\"url(#clip555)\" cx=\"1388.1\" cy=\"2431.76\" r=\"14\" fill=\"#009af9\" fill-rule=\"evenodd\" fill-opacity=\"1\" stroke=\"#000000\" stroke-opacity=\"1\" stroke-width=\"5.6\"/>\n",
       "<circle clip-path=\"url(#clip555)\" cx=\"1444.02\" cy=\"2478.23\" r=\"14\" fill=\"#009af9\" fill-rule=\"evenodd\" fill-opacity=\"1\" stroke=\"#000000\" stroke-opacity=\"1\" stroke-width=\"5.6\"/>\n",
       "<circle clip-path=\"url(#clip555)\" cx=\"1499.94\" cy=\"2276.85\" r=\"14\" fill=\"#009af9\" fill-rule=\"evenodd\" fill-opacity=\"1\" stroke=\"#000000\" stroke-opacity=\"1\" stroke-width=\"5.6\"/>\n",
       "<circle clip-path=\"url(#clip555)\" cx=\"1555.86\" cy=\"2408.52\" r=\"14\" fill=\"#009af9\" fill-rule=\"evenodd\" fill-opacity=\"1\" stroke=\"#000000\" stroke-opacity=\"1\" stroke-width=\"5.6\"/>\n",
       "<circle clip-path=\"url(#clip555)\" cx=\"1611.78\" cy=\"2284.59\" r=\"14\" fill=\"#009af9\" fill-rule=\"evenodd\" fill-opacity=\"1\" stroke=\"#000000\" stroke-opacity=\"1\" stroke-width=\"5.6\"/>\n",
       "<circle clip-path=\"url(#clip555)\" cx=\"1667.7\" cy=\"2323.32\" r=\"14\" fill=\"#009af9\" fill-rule=\"evenodd\" fill-opacity=\"1\" stroke=\"#000000\" stroke-opacity=\"1\" stroke-width=\"5.6\"/>\n",
       "<circle clip-path=\"url(#clip555)\" cx=\"1723.62\" cy=\"2447.25\" r=\"14\" fill=\"#009af9\" fill-rule=\"evenodd\" fill-opacity=\"1\" stroke=\"#000000\" stroke-opacity=\"1\" stroke-width=\"5.6\"/>\n",
       "<circle clip-path=\"url(#clip555)\" cx=\"1779.54\" cy=\"2594.41\" r=\"14\" fill=\"#009af9\" fill-rule=\"evenodd\" fill-opacity=\"1\" stroke=\"#000000\" stroke-opacity=\"1\" stroke-width=\"5.6\"/>\n",
       "<circle clip-path=\"url(#clip555)\" cx=\"1835.46\" cy=\"2640.88\" r=\"14\" fill=\"#009af9\" fill-rule=\"evenodd\" fill-opacity=\"1\" stroke=\"#000000\" stroke-opacity=\"1\" stroke-width=\"5.6\"/>\n",
       "<circle clip-path=\"url(#clip555)\" cx=\"1891.38\" cy=\"2547.94\" r=\"14\" fill=\"#009af9\" fill-rule=\"evenodd\" fill-opacity=\"1\" stroke=\"#000000\" stroke-opacity=\"1\" stroke-width=\"5.6\"/>\n",
       "<circle clip-path=\"url(#clip555)\" cx=\"1947.3\" cy=\"2501.47\" r=\"14\" fill=\"#009af9\" fill-rule=\"evenodd\" fill-opacity=\"1\" stroke=\"#000000\" stroke-opacity=\"1\" stroke-width=\"5.6\"/>\n",
       "<circle clip-path=\"url(#clip555)\" cx=\"2003.22\" cy=\"2439.5\" r=\"14\" fill=\"#009af9\" fill-rule=\"evenodd\" fill-opacity=\"1\" stroke=\"#000000\" stroke-opacity=\"1\" stroke-width=\"5.6\"/>\n",
       "<circle clip-path=\"url(#clip555)\" cx=\"2059.14\" cy=\"2516.96\" r=\"14\" fill=\"#009af9\" fill-rule=\"evenodd\" fill-opacity=\"1\" stroke=\"#000000\" stroke-opacity=\"1\" stroke-width=\"5.6\"/>\n",
       "<circle clip-path=\"url(#clip555)\" cx=\"2115.06\" cy=\"2524.7\" r=\"14\" fill=\"#009af9\" fill-rule=\"evenodd\" fill-opacity=\"1\" stroke=\"#000000\" stroke-opacity=\"1\" stroke-width=\"5.6\"/>\n",
       "<circle clip-path=\"url(#clip555)\" cx=\"2170.98\" cy=\"2292.34\" r=\"14\" fill=\"#009af9\" fill-rule=\"evenodd\" fill-opacity=\"1\" stroke=\"#000000\" stroke-opacity=\"1\" stroke-width=\"5.6\"/>\n",
       "<circle clip-path=\"url(#clip555)\" cx=\"2226.9\" cy=\"2602.16\" r=\"14\" fill=\"#009af9\" fill-rule=\"evenodd\" fill-opacity=\"1\" stroke=\"#000000\" stroke-opacity=\"1\" stroke-width=\"5.6\"/>\n",
       "<circle clip-path=\"url(#clip555)\" cx=\"2282.82\" cy=\"2578.92\" r=\"14\" fill=\"#009af9\" fill-rule=\"evenodd\" fill-opacity=\"1\" stroke=\"#000000\" stroke-opacity=\"1\" stroke-width=\"5.6\"/>\n",
       "<circle clip-path=\"url(#clip555)\" cx=\"2338.74\" cy=\"2516.96\" r=\"14\" fill=\"#009af9\" fill-rule=\"evenodd\" fill-opacity=\"1\" stroke=\"#000000\" stroke-opacity=\"1\" stroke-width=\"5.6\"/>\n",
       "<circle clip-path=\"url(#clip555)\" cx=\"2394.66\" cy=\"2547.94\" r=\"14\" fill=\"#009af9\" fill-rule=\"evenodd\" fill-opacity=\"1\" stroke=\"#000000\" stroke-opacity=\"1\" stroke-width=\"5.6\"/>\n",
       "<circle clip-path=\"url(#clip555)\" cx=\"2450.58\" cy=\"2547.94\" r=\"14\" fill=\"#009af9\" fill-rule=\"evenodd\" fill-opacity=\"1\" stroke=\"#000000\" stroke-opacity=\"1\" stroke-width=\"5.6\"/>\n",
       "<circle clip-path=\"url(#clip555)\" cx=\"2506.5\" cy=\"2617.65\" r=\"14\" fill=\"#009af9\" fill-rule=\"evenodd\" fill-opacity=\"1\" stroke=\"#000000\" stroke-opacity=\"1\" stroke-width=\"5.6\"/>\n",
       "<circle clip-path=\"url(#clip555)\" cx=\"2562.42\" cy=\"2478.23\" r=\"14\" fill=\"#009af9\" fill-rule=\"evenodd\" fill-opacity=\"1\" stroke=\"#000000\" stroke-opacity=\"1\" stroke-width=\"5.6\"/>\n",
       "<circle clip-path=\"url(#clip555)\" cx=\"2618.34\" cy=\"2493.72\" r=\"14\" fill=\"#009af9\" fill-rule=\"evenodd\" fill-opacity=\"1\" stroke=\"#000000\" stroke-opacity=\"1\" stroke-width=\"5.6\"/>\n",
       "<circle clip-path=\"url(#clip555)\" cx=\"2674.26\" cy=\"2478.23\" r=\"14\" fill=\"#009af9\" fill-rule=\"evenodd\" fill-opacity=\"1\" stroke=\"#000000\" stroke-opacity=\"1\" stroke-width=\"5.6\"/>\n",
       "<circle clip-path=\"url(#clip555)\" cx=\"2730.18\" cy=\"2323.32\" r=\"14\" fill=\"#009af9\" fill-rule=\"evenodd\" fill-opacity=\"1\" stroke=\"#000000\" stroke-opacity=\"1\" stroke-width=\"5.6\"/>\n",
       "<circle clip-path=\"url(#clip555)\" cx=\"2786.1\" cy=\"2656.37\" r=\"14\" fill=\"#009af9\" fill-rule=\"evenodd\" fill-opacity=\"1\" stroke=\"#000000\" stroke-opacity=\"1\" stroke-width=\"5.6\"/>\n",
       "<circle clip-path=\"url(#clip555)\" cx=\"2842.02\" cy=\"2578.92\" r=\"14\" fill=\"#009af9\" fill-rule=\"evenodd\" fill-opacity=\"1\" stroke=\"#000000\" stroke-opacity=\"1\" stroke-width=\"5.6\"/>\n",
       "<circle clip-path=\"url(#clip555)\" cx=\"2897.94\" cy=\"2424.01\" r=\"14\" fill=\"#009af9\" fill-rule=\"evenodd\" fill-opacity=\"1\" stroke=\"#000000\" stroke-opacity=\"1\" stroke-width=\"5.6\"/>\n",
       "<circle clip-path=\"url(#clip555)\" cx=\"2953.86\" cy=\"2424.01\" r=\"14\" fill=\"#009af9\" fill-rule=\"evenodd\" fill-opacity=\"1\" stroke=\"#000000\" stroke-opacity=\"1\" stroke-width=\"5.6\"/>\n",
       "<circle clip-path=\"url(#clip555)\" cx=\"3009.78\" cy=\"2501.47\" r=\"14\" fill=\"#009af9\" fill-rule=\"evenodd\" fill-opacity=\"1\" stroke=\"#000000\" stroke-opacity=\"1\" stroke-width=\"5.6\"/>\n",
       "<circle clip-path=\"url(#clip555)\" cx=\"3065.69\" cy=\"2540.19\" r=\"14\" fill=\"#009af9\" fill-rule=\"evenodd\" fill-opacity=\"1\" stroke=\"#000000\" stroke-opacity=\"1\" stroke-width=\"5.6\"/>\n",
       "<circle clip-path=\"url(#clip555)\" cx=\"3121.61\" cy=\"2323.32\" r=\"14\" fill=\"#009af9\" fill-rule=\"evenodd\" fill-opacity=\"1\" stroke=\"#000000\" stroke-opacity=\"1\" stroke-width=\"5.6\"/>\n",
       "<circle clip-path=\"url(#clip555)\" cx=\"3177.53\" cy=\"2617.65\" r=\"14\" fill=\"#009af9\" fill-rule=\"evenodd\" fill-opacity=\"1\" stroke=\"#000000\" stroke-opacity=\"1\" stroke-width=\"5.6\"/>\n",
       "<circle clip-path=\"url(#clip555)\" cx=\"3233.45\" cy=\"2462.74\" r=\"14\" fill=\"#009af9\" fill-rule=\"evenodd\" fill-opacity=\"1\" stroke=\"#000000\" stroke-opacity=\"1\" stroke-width=\"5.6\"/>\n",
       "<circle clip-path=\"url(#clip555)\" cx=\"3289.37\" cy=\"2462.74\" r=\"14\" fill=\"#009af9\" fill-rule=\"evenodd\" fill-opacity=\"1\" stroke=\"#000000\" stroke-opacity=\"1\" stroke-width=\"5.6\"/>\n",
       "<circle clip-path=\"url(#clip555)\" cx=\"3345.29\" cy=\"2547.94\" r=\"14\" fill=\"#009af9\" fill-rule=\"evenodd\" fill-opacity=\"1\" stroke=\"#000000\" stroke-opacity=\"1\" stroke-width=\"5.6\"/>\n",
       "<circle clip-path=\"url(#clip555)\" cx=\"3401.21\" cy=\"2424.01\" r=\"14\" fill=\"#009af9\" fill-rule=\"evenodd\" fill-opacity=\"1\" stroke=\"#000000\" stroke-opacity=\"1\" stroke-width=\"5.6\"/>\n",
       "<circle clip-path=\"url(#clip555)\" cx=\"3457.13\" cy=\"2563.43\" r=\"14\" fill=\"#009af9\" fill-rule=\"evenodd\" fill-opacity=\"1\" stroke=\"#000000\" stroke-opacity=\"1\" stroke-width=\"5.6\"/>\n",
       "<polyline clip-path=\"url(#clip555)\" style=\"stroke:#009af9; stroke-width:4; stroke-opacity:1; fill:none\" points=\"\n",
       "  269.707,2393.75 3457.13,2529.59 \n",
       "  \"/>\n",
       "</svg>\n"
      ]
     },
     "execution_count": 15,
     "metadata": {},
     "output_type": "execute_result"
    }
   ],
   "source": [
    "plot(so, mk, hskpl, olpepl, layout = (4, 1), legend = false, size = (900, 700))"
   ]
  },
  {
   "cell_type": "code",
   "execution_count": null,
   "metadata": {},
   "outputs": [],
   "source": []
  },
  {
   "cell_type": "code",
   "execution_count": null,
   "metadata": {},
   "outputs": [],
   "source": []
  },
  {
   "cell_type": "code",
   "execution_count": null,
   "metadata": {},
   "outputs": [],
   "source": []
  },
  {
   "cell_type": "code",
   "execution_count": null,
   "metadata": {},
   "outputs": [],
   "source": []
  },
  {
   "cell_type": "markdown",
   "metadata": {},
   "source": [
    "#### Berrechnung Klimamittel"
   ]
  },
  {
   "cell_type": "markdown",
   "metadata": {},
   "source": [
    "**Station Lüdenscheid**"
   ]
  },
  {
   "cell_type": "code",
   "execution_count": 16,
   "metadata": {},
   "outputs": [
    {
     "name": "stdout",
     "output_type": "stream",
     "text": [
      "Klimamittel 1951 - 1980: 94.6 Tage\n",
      "Max: 116 Tage\n",
      "Min: 70 Tage\n",
      "Spanne: 46 Tage\n",
      "Klimamittel 1991 - 2020: 86.03225806451613 Tage\n",
      "Max: 111 Tage\n",
      "Min: 68 Tage\n",
      "Spanne: 43 Tage\n"
     ]
    },
    {
     "data": {
      "text/html": [
       "<table class=\"data-frame\"><thead><tr><th></th><th>Year</th><th>Day</th><th>Date</th><th>Gts_Temp</th></tr><tr><th></th><th>Int64</th><th>Int64</th><th>Date</th><th>Float64</th></tr></thead><tbody><p>4 rows × 4 columns</p><tr><th>1</th><td>2016</td><td>93</td><td>2016-04-02</td><td>202.75</td></tr><tr><th>2</th><td>2017</td><td>77</td><td>2017-03-18</td><td>201.32</td></tr><tr><th>3</th><td>2018</td><td>96</td><td>2018-04-06</td><td>203.15</td></tr><tr><th>4</th><td>2019</td><td>75</td><td>2019-03-16</td><td>205.95</td></tr></tbody></table>"
      ],
      "text/latex": [
       "\\begin{tabular}{r|cccc}\n",
       "\t& Year & Day & Date & Gts\\_Temp\\\\\n",
       "\t\\hline\n",
       "\t& Int64 & Int64 & Date & Float64\\\\\n",
       "\t\\hline\n",
       "\t1 & 2016 & 93 & 2016-04-02 & 202.75 \\\\\n",
       "\t2 & 2017 & 77 & 2017-03-18 & 201.32 \\\\\n",
       "\t3 & 2018 & 96 & 2018-04-06 & 203.15 \\\\\n",
       "\t4 & 2019 & 75 & 2019-03-16 & 205.95 \\\\\n",
       "\\end{tabular}\n"
      ],
      "text/plain": [
       "\u001b[1m4×4 DataFrame\u001b[0m\n",
       "\u001b[1m Row \u001b[0m│\u001b[1m Year  \u001b[0m\u001b[1m Day   \u001b[0m\u001b[1m Date       \u001b[0m\u001b[1m Gts_Temp \u001b[0m\n",
       "\u001b[1m     \u001b[0m│\u001b[90m Int64 \u001b[0m\u001b[90m Int64 \u001b[0m\u001b[90m Date       \u001b[0m\u001b[90m Float64  \u001b[0m\n",
       "─────┼────────────────────────────────────\n",
       "   1 │  2016     93  2016-04-02    202.75\n",
       "   2 │  2017     77  2017-03-18    201.32\n",
       "   3 │  2018     96  2018-04-06    203.15\n",
       "   4 │  2019     75  2019-03-16    205.95"
      ]
     },
     "execution_count": 16,
     "metadata": {},
     "output_type": "execute_result"
    }
   ],
   "source": [
    "lued_klimit_1 = filter(:Year => <(1981), lued)\n",
    "lued_klimit_1 = lued_klimit_1[2:end, :]\n",
    "klimit_1 = combine(lued_klimit_1, :Day => mean)\n",
    "lued_klimit_2 = filter(:Year => >(1990), lued)\n",
    "klimit_2 =combine(lued_klimit_2, :Day => mean)\n",
    "println(\"Klimamittel 1951 - 1980: \", klimit_1.Day_mean[1], \" Tage\")\n",
    "println(\"Max: \", maximum(lued_klimit_1.Day), \" Tage\")\n",
    "println(\"Min: \", minimum(lued_klimit_1.Day), \" Tage\")\n",
    "println(\"Spanne: \", maximum(lued_klimit_1.Day) - minimum(lued_klimit_1.Day), \" Tage\")\n",
    "println(\"Klimamittel 1991 - 2020: \", klimit_2.Day_mean[1], \" Tage\")\n",
    "println(\"Max: \", maximum(lued_klimit_2.Day), \" Tage\")\n",
    "println(\"Min: \", minimum(lued_klimit_2.Day), \" Tage\")\n",
    "println(\"Spanne: \", maximum(lued_klimit_2.Day) - minimum(lued_klimit_2.Day), \" Tage\")\n",
    "filter(:Year => >(2015), lued)"
   ]
  },
  {
   "cell_type": "markdown",
   "metadata": {},
   "source": [
    "**Station Kreis Soest**"
   ]
  },
  {
   "cell_type": "code",
   "execution_count": 17,
   "metadata": {},
   "outputs": [
    {
     "name": "stdout",
     "output_type": "stream",
     "text": [
      "Klimamittel 1951 - 1980: 84.56666666666666 Tage\n",
      "Max: 105 Tage\n",
      "Min: 65 Tage\n",
      "Spanne: 40 Tage\n",
      "Klimamittel 1991 - 2020: 73.93103448275862 Tage\n",
      "Max: 104 Tage\n",
      "Min: 60 Tage\n",
      "Spanne: 44 Tage\n"
     ]
    },
    {
     "data": {
      "text/html": [
       "<table class=\"data-frame\"><thead><tr><th></th><th>Year</th><th>Day</th><th>Date</th><th>Gts_Temp</th></tr><tr><th></th><th>Int64</th><th>Int64</th><th>Date</th><th>Float64</th></tr></thead><tbody><p>4 rows × 4 columns</p><tr><th>1</th><td>2016</td><td>77</td><td>2016-03-17</td><td>202.98</td></tr><tr><th>2</th><td>2017</td><td>71</td><td>2017-03-12</td><td>204.17</td></tr><tr><th>3</th><td>2018</td><td>83</td><td>2018-03-24</td><td>201.0</td></tr><tr><th>4</th><td>2019</td><td>65</td><td>2019-03-06</td><td>205.75</td></tr></tbody></table>"
      ],
      "text/latex": [
       "\\begin{tabular}{r|cccc}\n",
       "\t& Year & Day & Date & Gts\\_Temp\\\\\n",
       "\t\\hline\n",
       "\t& Int64 & Int64 & Date & Float64\\\\\n",
       "\t\\hline\n",
       "\t1 & 2016 & 77 & 2016-03-17 & 202.98 \\\\\n",
       "\t2 & 2017 & 71 & 2017-03-12 & 204.17 \\\\\n",
       "\t3 & 2018 & 83 & 2018-03-24 & 201.0 \\\\\n",
       "\t4 & 2019 & 65 & 2019-03-06 & 205.75 \\\\\n",
       "\\end{tabular}\n"
      ],
      "text/plain": [
       "\u001b[1m4×4 DataFrame\u001b[0m\n",
       "\u001b[1m Row \u001b[0m│\u001b[1m Year  \u001b[0m\u001b[1m Day   \u001b[0m\u001b[1m Date       \u001b[0m\u001b[1m Gts_Temp \u001b[0m\n",
       "\u001b[1m     \u001b[0m│\u001b[90m Int64 \u001b[0m\u001b[90m Int64 \u001b[0m\u001b[90m Date       \u001b[0m\u001b[90m Float64  \u001b[0m\n",
       "─────┼────────────────────────────────────\n",
       "   1 │  2016     77  2016-03-17    202.98\n",
       "   2 │  2017     71  2017-03-12    204.17\n",
       "   3 │  2018     83  2018-03-24    201.0\n",
       "   4 │  2019     65  2019-03-06    205.75"
      ]
     },
     "execution_count": 17,
     "metadata": {},
     "output_type": "execute_result"
    }
   ],
   "source": [
    "soest_klimit_3 = filter(:Year => <(1981), soest)\n",
    "soest_klimit_3 = soest_klimit_3[2:end, :]\n",
    "klimit_3 = combine(soest_klimit_3, :Day => mean)\n",
    "soest_klimit_4 = filter(:Year => >(1990), soest)\n",
    "klimit_4 = combine(soest_klimit_4, :Day => mean)\n",
    "println(\"Klimamittel 1951 - 1980: \", klimit_3.Day_mean[1], \" Tage\")\n",
    "println(\"Max: \",maximum(soest_klimit_3.Day), \" Tage\")\n",
    "println(\"Min: \",minimum(soest_klimit_3.Day), \" Tage\")\n",
    "println(\"Spanne: \", maximum(soest_klimit_3.Day) - minimum(soest_klimit_3.Day), \" Tage\")\n",
    "println(\"Klimamittel 1991 - 2020: \", klimit_4.Day_mean[1], \" Tage\")\n",
    "println(\"Max: \",maximum(soest_klimit_4.Day), \" Tage\")\n",
    "println(\"Min: \",minimum(soest_klimit_4.Day), \" Tage\")\n",
    "println(\"Spanne: \", maximum(soest_klimit_4.Day) - minimum(soest_klimit_4.Day), \" Tage\")\n",
    "filter(:Year => >(2015), soest)"
   ]
  },
  {
   "cell_type": "markdown",
   "metadata": {},
   "source": [
    "**Station Kahler Asten**"
   ]
  },
  {
   "cell_type": "code",
   "execution_count": 18,
   "metadata": {},
   "outputs": [
    {
     "name": "stdout",
     "output_type": "stream",
     "text": [
      "Klimamittel 1955 - 1984: 123.0 Tage\n",
      "Max: 139 Tage\n",
      "Min: 97 Tage\n",
      "Spanne: 42 Tage\n",
      "Klimamittel 1991 - 2020: 112.34482758620689 Tage\n",
      "Max: 127 Tage\n",
      "Min: 93 Tage\n",
      "Spanne: 34 Tage\n"
     ]
    },
    {
     "data": {
      "text/html": [
       "<table class=\"data-frame\"><thead><tr><th></th><th>Year</th><th>Day</th><th>Date</th><th>Gts_Temp</th></tr><tr><th></th><th>Int64</th><th>Int64</th><th>Date</th><th>Float64</th></tr></thead><tbody><p>4 rows × 4 columns</p><tr><th>1</th><td>2016</td><td>127</td><td>2016-05-06</td><td>204.4</td></tr><tr><th>2</th><td>2017</td><td>99</td><td>2017-04-09</td><td>203.1</td></tr><tr><th>3</th><td>2018</td><td>109</td><td>2018-04-19</td><td>214.05</td></tr><tr><th>4</th><td>2019</td><td>98</td><td>2019-04-08</td><td>200.05</td></tr></tbody></table>"
      ],
      "text/latex": [
       "\\begin{tabular}{r|cccc}\n",
       "\t& Year & Day & Date & Gts\\_Temp\\\\\n",
       "\t\\hline\n",
       "\t& Int64 & Int64 & Date & Float64\\\\\n",
       "\t\\hline\n",
       "\t1 & 2016 & 127 & 2016-05-06 & 204.4 \\\\\n",
       "\t2 & 2017 & 99 & 2017-04-09 & 203.1 \\\\\n",
       "\t3 & 2018 & 109 & 2018-04-19 & 214.05 \\\\\n",
       "\t4 & 2019 & 98 & 2019-04-08 & 200.05 \\\\\n",
       "\\end{tabular}\n"
      ],
      "text/plain": [
       "\u001b[1m4×4 DataFrame\u001b[0m\n",
       "\u001b[1m Row \u001b[0m│\u001b[1m Year  \u001b[0m\u001b[1m Day   \u001b[0m\u001b[1m Date       \u001b[0m\u001b[1m Gts_Temp \u001b[0m\n",
       "\u001b[1m     \u001b[0m│\u001b[90m Int64 \u001b[0m\u001b[90m Int64 \u001b[0m\u001b[90m Date       \u001b[0m\u001b[90m Float64  \u001b[0m\n",
       "─────┼────────────────────────────────────\n",
       "   1 │  2016    127  2016-05-06    204.4\n",
       "   2 │  2017     99  2017-04-09    203.1\n",
       "   3 │  2018    109  2018-04-19    214.05\n",
       "   4 │  2019     98  2019-04-08    200.05"
      ]
     },
     "execution_count": 18,
     "metadata": {},
     "output_type": "execute_result"
    }
   ],
   "source": [
    "hsk_klimit_5 = filter(:Year => <(1985), hsk)\n",
    "klimit_5 = combine(hsk_klimit_5, :Day => mean)\n",
    "hsk_klimit_6 = filter(:Year => >(1990), hsk)\n",
    "klimit_6 = combine(hsk_klimit_6, :Day => mean)\n",
    "\n",
    "println(\"Klimamittel 1955 - 1984: \", klimit_5.Day_mean[1], \" Tage\")\n",
    "println(\"Max: \",maximum(hsk_klimit_5.Day), \" Tage\")\n",
    "println(\"Min: \",minimum(hsk_klimit_5.Day), \" Tage\")\n",
    "println(\"Spanne: \", maximum(hsk_klimit_5.Day) - minimum(hsk_klimit_5.Day), \" Tage\")\n",
    "println(\"Klimamittel 1991 - 2020: \", klimit_6.Day_mean[1], \" Tage\")\n",
    "println(\"Max: \",maximum(hsk_klimit_6.Day), \" Tage\")\n",
    "println(\"Min: \",minimum(hsk_klimit_6.Day), \" Tage\")\n",
    "println(\"Spanne: \", maximum(hsk_klimit_6.Day) - minimum(hsk_klimit_6.Day), \" Tage\")\n",
    "filter(:Year => >(2015), hsk)"
   ]
  },
  {
   "cell_type": "markdown",
   "metadata": {},
   "source": [
    "**Station Lennestadt Kreis Olpe**"
   ]
  },
  {
   "cell_type": "code",
   "execution_count": 19,
   "metadata": {},
   "outputs": [
    {
     "name": "stdout",
     "output_type": "stream",
     "text": [
      "Klimamittel 1962 - 1991: 93.7 Tage\n",
      "Max: 117 Tage\n",
      "Min: 66 Tage\n",
      "Spanne: 51 Tage\n"
     ]
    },
    {
     "data": {
      "text/html": [
       "<table class=\"data-frame\"><thead><tr><th></th><th>Year</th><th>Day</th><th>Date</th><th>Gts_Temp</th></tr><tr><th></th><th>Int64</th><th>Int64</th><th>Date</th><th>Float64</th></tr></thead><tbody><p>4 rows × 4 columns</p><tr><th>1</th><td>2016</td><td>89</td><td>2016-03-29</td><td>206.63</td></tr><tr><th>2</th><td>2017</td><td>78</td><td>2017-03-19</td><td>200.65</td></tr><tr><th>3</th><td>2018</td><td>94</td><td>2018-04-04</td><td>207.9</td></tr><tr><th>4</th><td>2019</td><td>76</td><td>2019-03-17</td><td>204.82</td></tr></tbody></table>"
      ],
      "text/latex": [
       "\\begin{tabular}{r|cccc}\n",
       "\t& Year & Day & Date & Gts\\_Temp\\\\\n",
       "\t\\hline\n",
       "\t& Int64 & Int64 & Date & Float64\\\\\n",
       "\t\\hline\n",
       "\t1 & 2016 & 89 & 2016-03-29 & 206.63 \\\\\n",
       "\t2 & 2017 & 78 & 2017-03-19 & 200.65 \\\\\n",
       "\t3 & 2018 & 94 & 2018-04-04 & 207.9 \\\\\n",
       "\t4 & 2019 & 76 & 2019-03-17 & 204.82 \\\\\n",
       "\\end{tabular}\n"
      ],
      "text/plain": [
       "\u001b[1m4×4 DataFrame\u001b[0m\n",
       "\u001b[1m Row \u001b[0m│\u001b[1m Year  \u001b[0m\u001b[1m Day   \u001b[0m\u001b[1m Date       \u001b[0m\u001b[1m Gts_Temp \u001b[0m\n",
       "\u001b[1m     \u001b[0m│\u001b[90m Int64 \u001b[0m\u001b[90m Int64 \u001b[0m\u001b[90m Date       \u001b[0m\u001b[90m Float64  \u001b[0m\n",
       "─────┼────────────────────────────────────\n",
       "   1 │  2016     89  2016-03-29    206.63\n",
       "   2 │  2017     78  2017-03-19    200.65\n",
       "   3 │  2018     94  2018-04-04    207.9\n",
       "   4 │  2019     76  2019-03-17    204.82"
      ]
     },
     "execution_count": 19,
     "metadata": {},
     "output_type": "execute_result"
    }
   ],
   "source": [
    "olpe_klimit_7 = filter(:Year => <(1992), olpe)\n",
    "klimit_7 = combine(olpe_klimit_7, :Day => mean)\n",
    "\n",
    "\n",
    "println(\"Klimamittel 1962 - 1991: \", klimit_7.Day_mean[1], \" Tage\")\n",
    "println(\"Max: \",maximum(olpe_klimit_7.Day), \" Tage\")\n",
    "println(\"Min: \",minimum(olpe_klimit_7.Day), \" Tage\")\n",
    "println(\"Spanne: \", maximum(olpe_klimit_7.Day) - minimum(olpe_klimit_7.Day), \" Tage\")\n",
    "filter(:Year => >(2015), olpe)"
   ]
  },
  {
   "cell_type": "code",
   "execution_count": null,
   "metadata": {},
   "outputs": [],
   "source": []
  },
  {
   "cell_type": "markdown",
   "metadata": {},
   "source": [
    "### Was wurde gemacht?\n",
    "\n",
    "Die Temperatursumme wurden gemäß der Formel berechnet. Wird der Schwellwert von 200°C überschritten wird das Datum ausgelesen und der Tag des Jahres ermittelt. Es handelt sich um einen fortlaufende Zählung. Der 1. Januar ist Tag 1 der 2. Januar Tag 2 der 31. Dezember Tag 365/366. \n",
    "Auf der x-Achse ist die Zeit dargestellt, auf der y-Achse der Tag an dem die Wärmesumme erreicht wird.\n",
    "\n",
    "Zur Orientierung:\n",
    "* der 1. März ist Tag 59\n",
    "* der 1. April ist Tag 90\n",
    "\n",
    "In einem zweiten Schritte wurden die Klimamittel errechnet. Einmal für den Zeitraum von 1951 bis 1980, und von 1991 bis 2020.\n",
    "Aus den schon erwähnten Gründen, weicht die Referenzperiode am Kahlen Asten ab. Bei der Station Lennestadt ist die Messreihe zu kurz um zwei Klimamittel errechnen zu können.  \n",
    "\n",
    "### Was ist zu sehen?\n",
    "* Die Temperatursummen werden früher im Jahr erreicht.   \n",
    "* An allen Station ist eine Streuung von etwa 40 Tagen zwischen dem Minimalen und Maximalen Wert zu beobachen. Diese Streuung ist auch über den gesamten Zeitraum weitgehend konstant. Dies bestätigen auch die Minimum- und Maximumwerte die jeweils zu den Klimamittel ausgegeben wurden.\n",
    "* Im Vergleich der Klimamittel ist die Temperatursumme heute rund 11 Tage füher erreicht, als es in der Refenrenzperiode der Fall war.\n",
    "* Das es am Standort Lüdenscheid abweichungen gibt (8 Tage) kann am Ort der Messtation liegen. Die Wetterstation befand sich zu diesem Zeitpunkt (1951 bis 1980) am Geschwister-Scholl-Gymnasium, mitten in der Stadt Lüdenscheid. Seit 1994 befindet sich die Station in Lüdenscheid-Oberhunscheid.\n",
    "* Von 1989 bis etwa 2004 ist eine Häufung von milden Jahre zu beobachen. Die Station Kahler Asten pendelt hier um die Trendlinie. Die Stationen Soest, Lennestadt und Lüdenscheid sind unter dem Trend. Das Jahr 1996 ist hier als Aussreißerwert klar zu erkennen. In den Jahren bis 2020 nimmt die Streuung wieder zu. Da dieses Muster an allen Stationen in Südwestfalen zu beobacheten ist, können kleinräumige Wettereffekte ausgeschlossen werden. Ein möglicher Grund für dieses Muster sind beeinflußungen durch [El Niño](https://de.wikipedia.org/wiki/El_Ni%C3%B1o-Southern_Oscillation). Ein im Südpazifik auftretendes Wettermuster. \n",
    "\n",
    "\n",
    "### Wird sich der Trend Fortsetzen?\n",
    "Ja und Nein. Zum einen wird sich der in den letzten Jahren etablierte Trend zu milden Wintern und einen frühen Frühjahr, im Rahmen der nartürlichen Fluktuation, fortsetzen. Auf der andern Seite zeigen die Charts auch eine \"Bodenbildung\". Im Kreis Soest ist das bei 60 Tagen, etwa dem 1.März, in Lüdenscheid um den 10. März, zu beobachen. Für den Beginn des Pflanzenwachtums ist nicht nur die Temperatur, sonder auch die Tageslänge entscheidend. Die Tagelänge wiederum ist von der Erdrotation abhängig und nicht von Klima. "
   ]
  },
  {
   "cell_type": "code",
   "execution_count": null,
   "metadata": {},
   "outputs": [],
   "source": []
  }
 ],
 "metadata": {
  "@webio": {
   "lastCommId": null,
   "lastKernelId": null
  },
  "kernelspec": {
   "display_name": "Julia 1.5.0",
   "language": "julia",
   "name": "julia-1.5"
  },
  "language_info": {
   "file_extension": ".jl",
   "mimetype": "application/julia",
   "name": "julia",
   "version": "1.5.0"
  }
 },
 "nbformat": 4,
 "nbformat_minor": 4
}
