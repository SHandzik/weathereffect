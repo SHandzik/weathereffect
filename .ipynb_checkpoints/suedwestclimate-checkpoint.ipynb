{
 "cells": [
  {
   "cell_type": "markdown",
   "metadata": {},
   "source": [
    "# !!!This notebook is under construction !!!"
   ]
  },
  {
   "cell_type": "code",
   "execution_count": null,
   "metadata": {},
   "outputs": [],
   "source": []
  },
  {
   "cell_type": "code",
   "execution_count": null,
   "metadata": {},
   "outputs": [],
   "source": []
  },
  {
   "cell_type": "code",
   "execution_count": null,
   "metadata": {},
   "outputs": [],
   "source": []
  },
  {
   "cell_type": "code",
   "execution_count": 1,
   "metadata": {},
   "outputs": [],
   "source": [
    "using CSV, DataFrames, Statistics, Pipe, StatsPlots"
   ]
  },
  {
   "cell_type": "code",
   "execution_count": 2,
   "metadata": {},
   "outputs": [
    {
     "data": {
      "text/html": [
       "<table class=\"data-frame\"><thead><tr><th></th><th>Station_ID</th><th>Date</th><th>Rainfall</th><th>Snow</th><th>Temp_Avg</th><th>Temp_Max</th><th>Temp_Min</th><th>Year</th></tr><tr><th></th><th>Int64</th><th>Date…</th><th>Float64</th><th>Float64</th><th>Float64</th><th>Float64</th><th>Float64</th><th>Int64</th></tr></thead><tbody><p>151,279 rows × 10 columns (omitted printing of 2 columns)</p><tr><th>1</th><td>2483</td><td>1955-01-01</td><td>3.1</td><td>12.0</td><td>-5.9</td><td>-4.4</td><td>-6.7</td><td>1955</td></tr><tr><th>2</th><td>2483</td><td>1955-01-02</td><td>4.0</td><td>15.0</td><td>-8.4</td><td>-6.7</td><td>-9.3</td><td>1955</td></tr><tr><th>3</th><td>2483</td><td>1955-01-03</td><td>0.3</td><td>19.0</td><td>-8.4</td><td>-7.5</td><td>-8.7</td><td>1955</td></tr><tr><th>4</th><td>2483</td><td>1955-01-04</td><td>0.0</td><td>19.0</td><td>-9.5</td><td>-8.6</td><td>-10.0</td><td>1955</td></tr><tr><th>5</th><td>2483</td><td>1955-01-05</td><td>0.0</td><td>19.0</td><td>-7.8</td><td>-4.6</td><td>-10.4</td><td>1955</td></tr><tr><th>6</th><td>2483</td><td>1955-01-06</td><td>0.3</td><td>16.0</td><td>-7.0</td><td>-4.2</td><td>-8.6</td><td>1955</td></tr><tr><th>7</th><td>2483</td><td>1955-01-07</td><td>0.0</td><td>15.0</td><td>-9.0</td><td>-8.0</td><td>-9.9</td><td>1955</td></tr><tr><th>8</th><td>2483</td><td>1955-01-08</td><td>0.0</td><td>14.0</td><td>-10.3</td><td>-6.3</td><td>-11.5</td><td>1955</td></tr><tr><th>9</th><td>2483</td><td>1955-01-09</td><td>0.0</td><td>12.0</td><td>-8.3</td><td>-7.0</td><td>-10.3</td><td>1955</td></tr><tr><th>10</th><td>2483</td><td>1955-01-10</td><td>9.2</td><td>10.0</td><td>-5.2</td><td>-3.8</td><td>-8.1</td><td>1955</td></tr><tr><th>11</th><td>2483</td><td>1955-01-11</td><td>14.0</td><td>10.0</td><td>-1.6</td><td>4.5</td><td>-4.4</td><td>1955</td></tr><tr><th>12</th><td>2483</td><td>1955-01-12</td><td>0.1</td><td>12.0</td><td>-4.6</td><td>-4.1</td><td>-5.6</td><td>1955</td></tr><tr><th>13</th><td>2483</td><td>1955-01-13</td><td>11.6</td><td>12.0</td><td>-6.8</td><td>-4.2</td><td>-7.2</td><td>1955</td></tr><tr><th>14</th><td>2483</td><td>1955-01-14</td><td>18.8</td><td>20.0</td><td>-4.8</td><td>0.5</td><td>-7.5</td><td>1955</td></tr><tr><th>15</th><td>2483</td><td>1955-01-15</td><td>2.8</td><td>26.0</td><td>-5.7</td><td>-4.8</td><td>-7.9</td><td>1955</td></tr><tr><th>16</th><td>2483</td><td>1955-01-16</td><td>26.1</td><td>20.0</td><td>3.2</td><td>3.8</td><td>-5.0</td><td>1955</td></tr><tr><th>17</th><td>2483</td><td>1955-01-17</td><td>8.6</td><td>18.0</td><td>-8.7</td><td>-6.4</td><td>-10.1</td><td>1955</td></tr><tr><th>18</th><td>2483</td><td>1955-01-18</td><td>16.6</td><td>30.0</td><td>-6.1</td><td>-4.7</td><td>-11.2</td><td>1955</td></tr><tr><th>19</th><td>2483</td><td>1955-01-19</td><td>0.0</td><td>45.0</td><td>-5.6</td><td>-4.1</td><td>-6.4</td><td>1955</td></tr><tr><th>20</th><td>2483</td><td>1955-01-20</td><td>0.0</td><td>45.0</td><td>-5.6</td><td>-3.7</td><td>-7.9</td><td>1955</td></tr><tr><th>21</th><td>2483</td><td>1955-01-21</td><td>0.1</td><td>40.0</td><td>-5.5</td><td>-4.3</td><td>-6.7</td><td>1955</td></tr><tr><th>22</th><td>2483</td><td>1955-01-22</td><td>0.2</td><td>35.0</td><td>0.7</td><td>3.2</td><td>-5.7</td><td>1955</td></tr><tr><th>23</th><td>2483</td><td>1955-01-23</td><td>0.0</td><td>28.0</td><td>-0.4</td><td>4.5</td><td>-2.5</td><td>1955</td></tr><tr><th>24</th><td>2483</td><td>1955-01-24</td><td>0.0</td><td>25.0</td><td>3.4</td><td>7.2</td><td>-2.5</td><td>1955</td></tr><tr><th>25</th><td>2483</td><td>1955-01-25</td><td>0.0</td><td>20.0</td><td>2.4</td><td>5.4</td><td>0.7</td><td>1955</td></tr><tr><th>26</th><td>2483</td><td>1955-01-26</td><td>0.0</td><td>18.0</td><td>-1.9</td><td>3.1</td><td>-6.7</td><td>1955</td></tr><tr><th>27</th><td>2483</td><td>1955-01-27</td><td>0.0</td><td>15.0</td><td>3.2</td><td>5.0</td><td>-2.6</td><td>1955</td></tr><tr><th>28</th><td>2483</td><td>1955-01-28</td><td>0.0</td><td>12.0</td><td>6.3</td><td>11.0</td><td>3.8</td><td>1955</td></tr><tr><th>29</th><td>2483</td><td>1955-01-29</td><td>0.0</td><td>10.0</td><td>4.6</td><td>8.9</td><td>2.4</td><td>1955</td></tr><tr><th>30</th><td>2483</td><td>1955-01-30</td><td>0.0</td><td>8.0</td><td>2.1</td><td>4.1</td><td>-0.9</td><td>1955</td></tr><tr><th>&vellip;</th><td>&vellip;</td><td>&vellip;</td><td>&vellip;</td><td>&vellip;</td><td>&vellip;</td><td>&vellip;</td><td>&vellip;</td><td>&vellip;</td></tr></tbody></table>"
      ],
      "text/latex": [
       "\\begin{tabular}{r|ccccccccc}\n",
       "\t& Station\\_ID & Date & Rainfall & Snow & Temp\\_Avg & Temp\\_Max & Temp\\_Min & Year & \\\\\n",
       "\t\\hline\n",
       "\t& Int64 & Date… & Float64 & Float64 & Float64 & Float64 & Float64 & Int64 & \\\\\n",
       "\t\\hline\n",
       "\t1 & 2483 & 1955-01-01 & 3.1 & 12.0 & -5.9 & -4.4 & -6.7 & 1955 & $\\dots$ \\\\\n",
       "\t2 & 2483 & 1955-01-02 & 4.0 & 15.0 & -8.4 & -6.7 & -9.3 & 1955 & $\\dots$ \\\\\n",
       "\t3 & 2483 & 1955-01-03 & 0.3 & 19.0 & -8.4 & -7.5 & -8.7 & 1955 & $\\dots$ \\\\\n",
       "\t4 & 2483 & 1955-01-04 & 0.0 & 19.0 & -9.5 & -8.6 & -10.0 & 1955 & $\\dots$ \\\\\n",
       "\t5 & 2483 & 1955-01-05 & 0.0 & 19.0 & -7.8 & -4.6 & -10.4 & 1955 & $\\dots$ \\\\\n",
       "\t6 & 2483 & 1955-01-06 & 0.3 & 16.0 & -7.0 & -4.2 & -8.6 & 1955 & $\\dots$ \\\\\n",
       "\t7 & 2483 & 1955-01-07 & 0.0 & 15.0 & -9.0 & -8.0 & -9.9 & 1955 & $\\dots$ \\\\\n",
       "\t8 & 2483 & 1955-01-08 & 0.0 & 14.0 & -10.3 & -6.3 & -11.5 & 1955 & $\\dots$ \\\\\n",
       "\t9 & 2483 & 1955-01-09 & 0.0 & 12.0 & -8.3 & -7.0 & -10.3 & 1955 & $\\dots$ \\\\\n",
       "\t10 & 2483 & 1955-01-10 & 9.2 & 10.0 & -5.2 & -3.8 & -8.1 & 1955 & $\\dots$ \\\\\n",
       "\t11 & 2483 & 1955-01-11 & 14.0 & 10.0 & -1.6 & 4.5 & -4.4 & 1955 & $\\dots$ \\\\\n",
       "\t12 & 2483 & 1955-01-12 & 0.1 & 12.0 & -4.6 & -4.1 & -5.6 & 1955 & $\\dots$ \\\\\n",
       "\t13 & 2483 & 1955-01-13 & 11.6 & 12.0 & -6.8 & -4.2 & -7.2 & 1955 & $\\dots$ \\\\\n",
       "\t14 & 2483 & 1955-01-14 & 18.8 & 20.0 & -4.8 & 0.5 & -7.5 & 1955 & $\\dots$ \\\\\n",
       "\t15 & 2483 & 1955-01-15 & 2.8 & 26.0 & -5.7 & -4.8 & -7.9 & 1955 & $\\dots$ \\\\\n",
       "\t16 & 2483 & 1955-01-16 & 26.1 & 20.0 & 3.2 & 3.8 & -5.0 & 1955 & $\\dots$ \\\\\n",
       "\t17 & 2483 & 1955-01-17 & 8.6 & 18.0 & -8.7 & -6.4 & -10.1 & 1955 & $\\dots$ \\\\\n",
       "\t18 & 2483 & 1955-01-18 & 16.6 & 30.0 & -6.1 & -4.7 & -11.2 & 1955 & $\\dots$ \\\\\n",
       "\t19 & 2483 & 1955-01-19 & 0.0 & 45.0 & -5.6 & -4.1 & -6.4 & 1955 & $\\dots$ \\\\\n",
       "\t20 & 2483 & 1955-01-20 & 0.0 & 45.0 & -5.6 & -3.7 & -7.9 & 1955 & $\\dots$ \\\\\n",
       "\t21 & 2483 & 1955-01-21 & 0.1 & 40.0 & -5.5 & -4.3 & -6.7 & 1955 & $\\dots$ \\\\\n",
       "\t22 & 2483 & 1955-01-22 & 0.2 & 35.0 & 0.7 & 3.2 & -5.7 & 1955 & $\\dots$ \\\\\n",
       "\t23 & 2483 & 1955-01-23 & 0.0 & 28.0 & -0.4 & 4.5 & -2.5 & 1955 & $\\dots$ \\\\\n",
       "\t24 & 2483 & 1955-01-24 & 0.0 & 25.0 & 3.4 & 7.2 & -2.5 & 1955 & $\\dots$ \\\\\n",
       "\t25 & 2483 & 1955-01-25 & 0.0 & 20.0 & 2.4 & 5.4 & 0.7 & 1955 & $\\dots$ \\\\\n",
       "\t26 & 2483 & 1955-01-26 & 0.0 & 18.0 & -1.9 & 3.1 & -6.7 & 1955 & $\\dots$ \\\\\n",
       "\t27 & 2483 & 1955-01-27 & 0.0 & 15.0 & 3.2 & 5.0 & -2.6 & 1955 & $\\dots$ \\\\\n",
       "\t28 & 2483 & 1955-01-28 & 0.0 & 12.0 & 6.3 & 11.0 & 3.8 & 1955 & $\\dots$ \\\\\n",
       "\t29 & 2483 & 1955-01-29 & 0.0 & 10.0 & 4.6 & 8.9 & 2.4 & 1955 & $\\dots$ \\\\\n",
       "\t30 & 2483 & 1955-01-30 & 0.0 & 8.0 & 2.1 & 4.1 & -0.9 & 1955 & $\\dots$ \\\\\n",
       "\t$\\dots$ & $\\dots$ & $\\dots$ & $\\dots$ & $\\dots$ & $\\dots$ & $\\dots$ & $\\dots$ & $\\dots$ &  \\\\\n",
       "\\end{tabular}\n"
      ],
      "text/plain": [
       "151279×10 DataFrame. Omitted printing of 4 columns\n",
       "│ Row    │ Station_ID │ Date       │ Rainfall │ Snow    │ Temp_Avg │ Temp_Max │\n",
       "│        │ \u001b[90mInt64\u001b[39m      │ \u001b[90mDates.Date\u001b[39m │ \u001b[90mFloat64\u001b[39m  │ \u001b[90mFloat64\u001b[39m │ \u001b[90mFloat64\u001b[39m  │ \u001b[90mFloat64\u001b[39m  │\n",
       "├────────┼────────────┼────────────┼──────────┼─────────┼──────────┼──────────┤\n",
       "│ 1      │ 2483       │ 1955-01-01 │ 3.1      │ 12.0    │ -5.9     │ -4.4     │\n",
       "│ 2      │ 2483       │ 1955-01-02 │ 4.0      │ 15.0    │ -8.4     │ -6.7     │\n",
       "│ 3      │ 2483       │ 1955-01-03 │ 0.3      │ 19.0    │ -8.4     │ -7.5     │\n",
       "│ 4      │ 2483       │ 1955-01-04 │ 0.0      │ 19.0    │ -9.5     │ -8.6     │\n",
       "│ 5      │ 2483       │ 1955-01-05 │ 0.0      │ 19.0    │ -7.8     │ -4.6     │\n",
       "│ 6      │ 2483       │ 1955-01-06 │ 0.3      │ 16.0    │ -7.0     │ -4.2     │\n",
       "│ 7      │ 2483       │ 1955-01-07 │ 0.0      │ 15.0    │ -9.0     │ -8.0     │\n",
       "│ 8      │ 2483       │ 1955-01-08 │ 0.0      │ 14.0    │ -10.3    │ -6.3     │\n",
       "│ 9      │ 2483       │ 1955-01-09 │ 0.0      │ 12.0    │ -8.3     │ -7.0     │\n",
       "│ 10     │ 2483       │ 1955-01-10 │ 9.2      │ 10.0    │ -5.2     │ -3.8     │\n",
       "⋮\n",
       "│ 151269 │ 13713      │ 2019-12-21 │ 2.2      │ 0.0     │ 5.6      │ 7.3      │\n",
       "│ 151270 │ 13713      │ 2019-12-22 │ 22.1     │ 0.0     │ 5.7      │ 6.9      │\n",
       "│ 151271 │ 13713      │ 2019-12-23 │ 3.4      │ 0.0     │ 5.4      │ 6.0      │\n",
       "│ 151272 │ 13713      │ 2019-12-24 │ 18.7     │ 0.0     │ 5.4      │ 7.2      │\n",
       "│ 151273 │ 13713      │ 2019-12-25 │ 4.9      │ 0.0     │ 5.1      │ 6.5      │\n",
       "│ 151274 │ 13713      │ 2019-12-26 │ 0.0      │ 0.0     │ 3.2      │ 4.0      │\n",
       "│ 151275 │ 13713      │ 2019-12-27 │ 0.0      │ 0.0     │ 1.8      │ 3.9      │\n",
       "│ 151276 │ 13713      │ 2019-12-28 │ 0.0      │ 0.0     │ -1.8     │ 0.7      │\n",
       "│ 151277 │ 13713      │ 2019-12-29 │ 0.0      │ 0.0     │ -0.8     │ 3.1      │\n",
       "│ 151278 │ 13713      │ 2019-12-30 │ 0.0      │ 0.0     │ 1.3      │ 8.4      │\n",
       "│ 151279 │ 13713      │ 2019-12-31 │ 0.0      │ 0.0     │ 1.5      │ 6.2      │"
      ]
     },
     "execution_count": 2,
     "metadata": {},
     "output_type": "execute_result"
    }
   ],
   "source": [
    "suedwest_weather = CSV.File(\"./data/dwd_hist_weather.csv\") |> DataFrame"
   ]
  },
  {
   "cell_type": "code",
   "execution_count": 3,
   "metadata": {},
   "outputs": [
    {
     "data": {
      "text/html": [
       "<table class=\"data-frame\"><thead><tr><th></th><th>Year</th><th>Winter</th><th>Spring</th><th>Summer</th><th>Autumn</th></tr><tr><th></th><th>Int64</th><th>Float64</th><th>Float64</th><th>Float64</th><th>Float64</th></tr></thead><tbody><p>140 rows × 5 columns</p><tr><th>1</th><td>1881</td><td>0.0</td><td>7.6</td><td>16.66</td><td>8.52</td></tr><tr><th>2</th><td>1882</td><td>2.06</td><td>9.28</td><td>15.48</td><td>9.24</td></tr><tr><th>3</th><td>1883</td><td>2.48</td><td>6.59</td><td>16.37</td><td>9.37</td></tr><tr><th>4</th><td>1884</td><td>3.41</td><td>8.59</td><td>16.45</td><td>8.87</td></tr><tr><th>5</th><td>1885</td><td>2.21</td><td>7.59</td><td>16.11</td><td>7.98</td></tr><tr><th>6</th><td>1886</td><td>-0.29</td><td>8.02</td><td>16.17</td><td>10.7</td></tr><tr><th>7</th><td>1887</td><td>0.21</td><td>6.46</td><td>16.76</td><td>7.35</td></tr><tr><th>8</th><td>1888</td><td>-0.74</td><td>6.58</td><td>15.17</td><td>8.19</td></tr><tr><th>9</th><td>1889</td><td>-0.01</td><td>8.51</td><td>16.79</td><td>7.81</td></tr><tr><th>10</th><td>1890</td><td>0.56</td><td>8.46</td><td>15.08</td><td>8.51</td></tr><tr><th>11</th><td>1891</td><td>-2.39</td><td>7.12</td><td>15.24</td><td>9.55</td></tr><tr><th>12</th><td>1892</td><td>1.51</td><td>7.2</td><td>16.16</td><td>9.03</td></tr><tr><th>13</th><td>1893</td><td>-0.68</td><td>9.64</td><td>16.94</td><td>8.51</td></tr><tr><th>14</th><td>1894</td><td>1.59</td><td>9.42</td><td>15.71</td><td>8.56</td></tr><tr><th>15</th><td>1895</td><td>-1.96</td><td>8.11</td><td>16.34</td><td>9.64</td></tr><tr><th>16</th><td>1896</td><td>0.97</td><td>8.0</td><td>16.1</td><td>7.89</td></tr><tr><th>17</th><td>1897</td><td>0.54</td><td>8.1</td><td>17.0</td><td>8.25</td></tr><tr><th>18</th><td>1898</td><td>2.77</td><td>7.34</td><td>15.77</td><td>9.84</td></tr><tr><th>19</th><td>1899</td><td>3.69</td><td>7.2</td><td>16.69</td><td>9.56</td></tr><tr><th>20</th><td>1900</td><td>0.82</td><td>6.71</td><td>16.71</td><td>9.35</td></tr><tr><th>21</th><td>1901</td><td>-0.11</td><td>8.09</td><td>16.78</td><td>9.05</td></tr><tr><th>22</th><td>1902</td><td>1.61</td><td>7.21</td><td>15.16</td><td>7.71</td></tr><tr><th>23</th><td>1903</td><td>2.19</td><td>8.0</td><td>15.25</td><td>9.87</td></tr><tr><th>24</th><td>1904</td><td>0.65</td><td>8.35</td><td>16.74</td><td>8.32</td></tr><tr><th>25</th><td>1905</td><td>1.98</td><td>7.96</td><td>17.31</td><td>7.18</td></tr><tr><th>26</th><td>1906</td><td>1.9</td><td>8.0</td><td>16.08</td><td>10.24</td></tr><tr><th>27</th><td>1907</td><td>-0.19</td><td>7.94</td><td>14.54</td><td>10.08</td></tr><tr><th>28</th><td>1908</td><td>1.28</td><td>7.23</td><td>16.2</td><td>8.48</td></tr><tr><th>29</th><td>1909</td><td>-0.02</td><td>7.56</td><td>14.8</td><td>8.82</td></tr><tr><th>30</th><td>1910</td><td>2.99</td><td>8.36</td><td>15.86</td><td>8.58</td></tr><tr><th>&vellip;</th><td>&vellip;</td><td>&vellip;</td><td>&vellip;</td><td>&vellip;</td><td>&vellip;</td></tr></tbody></table>"
      ],
      "text/latex": [
       "\\begin{tabular}{r|ccccc}\n",
       "\t& Year & Winter & Spring & Summer & Autumn\\\\\n",
       "\t\\hline\n",
       "\t& Int64 & Float64 & Float64 & Float64 & Float64\\\\\n",
       "\t\\hline\n",
       "\t1 & 1881 & 0.0 & 7.6 & 16.66 & 8.52 \\\\\n",
       "\t2 & 1882 & 2.06 & 9.28 & 15.48 & 9.24 \\\\\n",
       "\t3 & 1883 & 2.48 & 6.59 & 16.37 & 9.37 \\\\\n",
       "\t4 & 1884 & 3.41 & 8.59 & 16.45 & 8.87 \\\\\n",
       "\t5 & 1885 & 2.21 & 7.59 & 16.11 & 7.98 \\\\\n",
       "\t6 & 1886 & -0.29 & 8.02 & 16.17 & 10.7 \\\\\n",
       "\t7 & 1887 & 0.21 & 6.46 & 16.76 & 7.35 \\\\\n",
       "\t8 & 1888 & -0.74 & 6.58 & 15.17 & 8.19 \\\\\n",
       "\t9 & 1889 & -0.01 & 8.51 & 16.79 & 7.81 \\\\\n",
       "\t10 & 1890 & 0.56 & 8.46 & 15.08 & 8.51 \\\\\n",
       "\t11 & 1891 & -2.39 & 7.12 & 15.24 & 9.55 \\\\\n",
       "\t12 & 1892 & 1.51 & 7.2 & 16.16 & 9.03 \\\\\n",
       "\t13 & 1893 & -0.68 & 9.64 & 16.94 & 8.51 \\\\\n",
       "\t14 & 1894 & 1.59 & 9.42 & 15.71 & 8.56 \\\\\n",
       "\t15 & 1895 & -1.96 & 8.11 & 16.34 & 9.64 \\\\\n",
       "\t16 & 1896 & 0.97 & 8.0 & 16.1 & 7.89 \\\\\n",
       "\t17 & 1897 & 0.54 & 8.1 & 17.0 & 8.25 \\\\\n",
       "\t18 & 1898 & 2.77 & 7.34 & 15.77 & 9.84 \\\\\n",
       "\t19 & 1899 & 3.69 & 7.2 & 16.69 & 9.56 \\\\\n",
       "\t20 & 1900 & 0.82 & 6.71 & 16.71 & 9.35 \\\\\n",
       "\t21 & 1901 & -0.11 & 8.09 & 16.78 & 9.05 \\\\\n",
       "\t22 & 1902 & 1.61 & 7.21 & 15.16 & 7.71 \\\\\n",
       "\t23 & 1903 & 2.19 & 8.0 & 15.25 & 9.87 \\\\\n",
       "\t24 & 1904 & 0.65 & 8.35 & 16.74 & 8.32 \\\\\n",
       "\t25 & 1905 & 1.98 & 7.96 & 17.31 & 7.18 \\\\\n",
       "\t26 & 1906 & 1.9 & 8.0 & 16.08 & 10.24 \\\\\n",
       "\t27 & 1907 & -0.19 & 7.94 & 14.54 & 10.08 \\\\\n",
       "\t28 & 1908 & 1.28 & 7.23 & 16.2 & 8.48 \\\\\n",
       "\t29 & 1909 & -0.02 & 7.56 & 14.8 & 8.82 \\\\\n",
       "\t30 & 1910 & 2.99 & 8.36 & 15.86 & 8.58 \\\\\n",
       "\t$\\dots$ & $\\dots$ & $\\dots$ & $\\dots$ & $\\dots$ & $\\dots$ \\\\\n",
       "\\end{tabular}\n"
      ],
      "text/plain": [
       "140×5 DataFrame\n",
       "│ Row │ Year  │ Winter  │ Spring  │ Summer  │ Autumn  │\n",
       "│     │ \u001b[90mInt64\u001b[39m │ \u001b[90mFloat64\u001b[39m │ \u001b[90mFloat64\u001b[39m │ \u001b[90mFloat64\u001b[39m │ \u001b[90mFloat64\u001b[39m │\n",
       "├─────┼───────┼─────────┼─────────┼─────────┼─────────┤\n",
       "│ 1   │ 1881  │ 0.0     │ 7.6     │ 16.66   │ 8.52    │\n",
       "│ 2   │ 1882  │ 2.06    │ 9.28    │ 15.48   │ 9.24    │\n",
       "│ 3   │ 1883  │ 2.48    │ 6.59    │ 16.37   │ 9.37    │\n",
       "│ 4   │ 1884  │ 3.41    │ 8.59    │ 16.45   │ 8.87    │\n",
       "│ 5   │ 1885  │ 2.21    │ 7.59    │ 16.11   │ 7.98    │\n",
       "│ 6   │ 1886  │ -0.29   │ 8.02    │ 16.17   │ 10.7    │\n",
       "│ 7   │ 1887  │ 0.21    │ 6.46    │ 16.76   │ 7.35    │\n",
       "│ 8   │ 1888  │ -0.74   │ 6.58    │ 15.17   │ 8.19    │\n",
       "│ 9   │ 1889  │ -0.01   │ 8.51    │ 16.79   │ 7.81    │\n",
       "│ 10  │ 1890  │ 0.56    │ 8.46    │ 15.08   │ 8.51    │\n",
       "⋮\n",
       "│ 130 │ 2010  │ -0.02   │ 8.18    │ 17.85   │ 9.11    │\n",
       "│ 131 │ 2011  │ 0.82    │ 10.82   │ 16.5    │ 10.79   │\n",
       "│ 132 │ 2012  │ 2.45    │ 10.17   │ 16.83   │ 9.67    │\n",
       "│ 133 │ 2013  │ 1.58    │ 6.99    │ 17.57   │ 10.18   │\n",
       "│ 134 │ 2014  │ 4.97    │ 10.65   │ 16.89   │ 11.76   │\n",
       "│ 135 │ 2015  │ 2.82    │ 8.86    │ 17.86   │ 10.24   │\n",
       "│ 136 │ 2016  │ 5.06    │ 8.92    │ 17.69   │ 10.38   │\n",
       "│ 137 │ 2017  │ 2.56    │ 10.26   │ 17.89   │ 10.45   │\n",
       "│ 138 │ 2018  │ 2.56    │ 10.95   │ 19.33   │ 10.85   │\n",
       "│ 139 │ 2019  │ 4.06    │ 9.48    │ 19.13   │ 10.34   │\n",
       "│ 140 │ 2020  │ 5.2     │ 9.94    │ 18.3    │ 0.0     │"
      ]
     },
     "execution_count": 3,
     "metadata": {},
     "output_type": "execute_result"
    }
   ],
   "source": [
    "nrw_avg = CSV.File(\"./data/dwd_season_avg_nrw1.csv\") |> DataFrame"
   ]
  },
  {
   "cell_type": "code",
   "execution_count": 8,
   "metadata": {},
   "outputs": [
    {
     "name": "stdout",
     "output_type": "stream",
     "text": [
      "Winter: 1.73°C\n",
      "Frühjahr: 8.27°C\n",
      "Sommer: 16.3\n",
      "Herbst: 9.52\n"
     ]
    }
   ],
   "source": [
    "Rev_Winter_mean = round(mean(nrw_avg.Winter[81:110]), digits=2);\n",
    "Rev_Spring_mean = round(mean(nrw_avg.Spring[81:110]), digits=2);\n",
    "Rev_Summer_mean = round(mean(nrw_avg.Summer[81:110]), digits=2);\n",
    "Rev_Autumn_mean = round(mean(nrw_avg.Autumn[81:110]), digits=2);\n",
    "println(\"Winter: \", Rev_Winter_mean, \"°C\")\n",
    "println(\"Frühjahr: \", Rev_Spring_mean, \"°C\")\n",
    "println(\"Sommer: \", Rev_Summer_mean)    \n",
    "println(\"Herbst: \", Rev_Autumn_mean)"
   ]
  }
 ],
 "metadata": {
  "kernelspec": {
   "display_name": "Julia 1.5.0",
   "language": "julia",
   "name": "julia-1.5"
  },
  "language_info": {
   "file_extension": ".jl",
   "mimetype": "application/julia",
   "name": "julia",
   "version": "1.5.0"
  }
 },
 "nbformat": 4,
 "nbformat_minor": 4
}
