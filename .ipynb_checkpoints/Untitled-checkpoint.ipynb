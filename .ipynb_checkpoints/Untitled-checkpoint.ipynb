{
 "cells": [
  {
   "cell_type": "code",
   "execution_count": 1,
   "metadata": {},
   "outputs": [],
   "source": [
    "using CSV, VegaLite, DataFrames"
   ]
  },
  {
   "cell_type": "code",
   "execution_count": 2,
   "metadata": {},
   "outputs": [
    {
     "data": {
      "text/html": [
       "<table class=\"data-frame\"><thead><tr><th></th><th>STATIONS_ID</th><th>MESS_DATUM</th><th>QN_3</th><th>  FX</th><th>  FM</th><th>QN_4</th><th> RSK</th><th>RSKF</th><th> SDK</th></tr><tr><th></th><th>Int64</th><th>Int64</th><th>Int64</th><th>Float64</th><th>Float64</th><th>Int64</th><th>Float64</th><th>Int64</th><th>Float64</th></tr></thead><tbody><p>550 rows × 19 columns (omitted printing of 10 columns)</p><tr><th>1</th><td>3098</td><td>20190203</td><td>10</td><td>7.6</td><td>2.1</td><td>3</td><td>0.0</td><td>8</td><td>0.1</td></tr><tr><th>2</th><td>3098</td><td>20190204</td><td>10</td><td>11.3</td><td>3.7</td><td>3</td><td>0.1</td><td>8</td><td>2.767</td></tr><tr><th>3</th><td>3098</td><td>20190205</td><td>10</td><td>9.3</td><td>2.8</td><td>3</td><td>0.0</td><td>7</td><td>0.0</td></tr><tr><th>4</th><td>3098</td><td>20190206</td><td>10</td><td>8.1</td><td>2.5</td><td>3</td><td>3.3</td><td>6</td><td>0.15</td></tr><tr><th>5</th><td>3098</td><td>20190207</td><td>10</td><td>11.4</td><td>4.6</td><td>3</td><td>1.5</td><td>6</td><td>2.2</td></tr><tr><th>6</th><td>3098</td><td>20190208</td><td>10</td><td>15.4</td><td>5.0</td><td>3</td><td>5.0</td><td>6</td><td>0.0</td></tr><tr><th>7</th><td>3098</td><td>20190209</td><td>10</td><td>18.4</td><td>6.9</td><td>3</td><td>8.4</td><td>8</td><td>0.117</td></tr><tr><th>8</th><td>3098</td><td>20190210</td><td>10</td><td>17.3</td><td>6.2</td><td>3</td><td>34.9</td><td>8</td><td>0.0</td></tr><tr><th>9</th><td>3098</td><td>20190211</td><td>10</td><td>11.9</td><td>4.6</td><td>3</td><td>2.4</td><td>8</td><td>0.65</td></tr><tr><th>10</th><td>3098</td><td>20190212</td><td>10</td><td>8.5</td><td>3.5</td><td>3</td><td>0.0</td><td>6</td><td>0.2</td></tr><tr><th>11</th><td>3098</td><td>20190213</td><td>10</td><td>6.4</td><td>2.6</td><td>3</td><td>0.0</td><td>0</td><td>5.717</td></tr><tr><th>12</th><td>3098</td><td>20190214</td><td>10</td><td>4.1</td><td>1.2</td><td>3</td><td>0.0</td><td>0</td><td>6.75</td></tr><tr><th>13</th><td>3098</td><td>20190215</td><td>10</td><td>7.4</td><td>1.9</td><td>3</td><td>0.0</td><td>0</td><td>8.8</td></tr><tr><th>14</th><td>3098</td><td>20190216</td><td>10</td><td>7.6</td><td>2.2</td><td>3</td><td>0.0</td><td>0</td><td>8.833</td></tr><tr><th>15</th><td>3098</td><td>20190217</td><td>10</td><td>8.0</td><td>2.0</td><td>3</td><td>0.0</td><td>0</td><td>8.633</td></tr><tr><th>16</th><td>3098</td><td>20190218</td><td>10</td><td>8.9</td><td>2.3</td><td>3</td><td>0.5</td><td>6</td><td>8.95</td></tr><tr><th>17</th><td>3098</td><td>20190219</td><td>10</td><td>11.9</td><td>4.4</td><td>3</td><td>0.0</td><td>6</td><td>3.033</td></tr><tr><th>18</th><td>3098</td><td>20190220</td><td>10</td><td>8.6</td><td>3.0</td><td>3</td><td>0.0</td><td>0</td><td>1.7</td></tr><tr><th>19</th><td>3098</td><td>20190221</td><td>10</td><td>10.5</td><td>3.5</td><td>3</td><td>1.1</td><td>6</td><td>1.217</td></tr><tr><th>20</th><td>3098</td><td>20190222</td><td>10</td><td>5.8</td><td>2.0</td><td>3</td><td>0.2</td><td>6</td><td>1.1</td></tr><tr><th>21</th><td>3098</td><td>20190223</td><td>10</td><td>5.9</td><td>2.1</td><td>3</td><td>0.0</td><td>0</td><td>9.2</td></tr><tr><th>22</th><td>3098</td><td>20190224</td><td>10</td><td>3.6</td><td>1.2</td><td>3</td><td>0.0</td><td>0</td><td>9.483</td></tr><tr><th>23</th><td>3098</td><td>20190225</td><td>10</td><td>5.0</td><td>1.3</td><td>3</td><td>0.0</td><td>0</td><td>9.567</td></tr><tr><th>24</th><td>3098</td><td>20190226</td><td>10</td><td>4.2</td><td>1.3</td><td>3</td><td>0.0</td><td>0</td><td>9.617</td></tr><tr><th>25</th><td>3098</td><td>20190227</td><td>10</td><td>5.9</td><td>1.7</td><td>3</td><td>0.0</td><td>0</td><td>9.717</td></tr><tr><th>26</th><td>3098</td><td>20190228</td><td>10</td><td>14.2</td><td>4.3</td><td>3</td><td>5.2</td><td>6</td><td>6.1</td></tr><tr><th>27</th><td>3098</td><td>20190301</td><td>10</td><td>9.9</td><td>3.6</td><td>3</td><td>2.8</td><td>6</td><td>0.0</td></tr><tr><th>28</th><td>3098</td><td>20190302</td><td>10</td><td>13.2</td><td>3.3</td><td>3</td><td>2.7</td><td>6</td><td>0.45</td></tr><tr><th>29</th><td>3098</td><td>20190303</td><td>10</td><td>13.3</td><td>5.9</td><td>3</td><td>7.8</td><td>6</td><td>0.0</td></tr><tr><th>30</th><td>3098</td><td>20190304</td><td>10</td><td>23.4</td><td>7.4</td><td>3</td><td>7.1</td><td>8</td><td>0.767</td></tr><tr><th>&vellip;</th><td>&vellip;</td><td>&vellip;</td><td>&vellip;</td><td>&vellip;</td><td>&vellip;</td><td>&vellip;</td><td>&vellip;</td><td>&vellip;</td><td>&vellip;</td></tr></tbody></table>"
      ],
      "text/latex": [
       "\\begin{tabular}{r|cccccccccc}\n",
       "\t& STATIONS\\_ID & MESS\\_DATUM & QN\\_3 &   FX &   FM & QN\\_4 &  RSK & RSKF &  SDK & \\\\\n",
       "\t\\hline\n",
       "\t& Int64 & Int64 & Int64 & Float64 & Float64 & Int64 & Float64 & Int64 & Float64 & \\\\\n",
       "\t\\hline\n",
       "\t1 & 3098 & 20190203 & 10 & 7.6 & 2.1 & 3 & 0.0 & 8 & 0.1 & $\\dots$ \\\\\n",
       "\t2 & 3098 & 20190204 & 10 & 11.3 & 3.7 & 3 & 0.1 & 8 & 2.767 & $\\dots$ \\\\\n",
       "\t3 & 3098 & 20190205 & 10 & 9.3 & 2.8 & 3 & 0.0 & 7 & 0.0 & $\\dots$ \\\\\n",
       "\t4 & 3098 & 20190206 & 10 & 8.1 & 2.5 & 3 & 3.3 & 6 & 0.15 & $\\dots$ \\\\\n",
       "\t5 & 3098 & 20190207 & 10 & 11.4 & 4.6 & 3 & 1.5 & 6 & 2.2 & $\\dots$ \\\\\n",
       "\t6 & 3098 & 20190208 & 10 & 15.4 & 5.0 & 3 & 5.0 & 6 & 0.0 & $\\dots$ \\\\\n",
       "\t7 & 3098 & 20190209 & 10 & 18.4 & 6.9 & 3 & 8.4 & 8 & 0.117 & $\\dots$ \\\\\n",
       "\t8 & 3098 & 20190210 & 10 & 17.3 & 6.2 & 3 & 34.9 & 8 & 0.0 & $\\dots$ \\\\\n",
       "\t9 & 3098 & 20190211 & 10 & 11.9 & 4.6 & 3 & 2.4 & 8 & 0.65 & $\\dots$ \\\\\n",
       "\t10 & 3098 & 20190212 & 10 & 8.5 & 3.5 & 3 & 0.0 & 6 & 0.2 & $\\dots$ \\\\\n",
       "\t11 & 3098 & 20190213 & 10 & 6.4 & 2.6 & 3 & 0.0 & 0 & 5.717 & $\\dots$ \\\\\n",
       "\t12 & 3098 & 20190214 & 10 & 4.1 & 1.2 & 3 & 0.0 & 0 & 6.75 & $\\dots$ \\\\\n",
       "\t13 & 3098 & 20190215 & 10 & 7.4 & 1.9 & 3 & 0.0 & 0 & 8.8 & $\\dots$ \\\\\n",
       "\t14 & 3098 & 20190216 & 10 & 7.6 & 2.2 & 3 & 0.0 & 0 & 8.833 & $\\dots$ \\\\\n",
       "\t15 & 3098 & 20190217 & 10 & 8.0 & 2.0 & 3 & 0.0 & 0 & 8.633 & $\\dots$ \\\\\n",
       "\t16 & 3098 & 20190218 & 10 & 8.9 & 2.3 & 3 & 0.5 & 6 & 8.95 & $\\dots$ \\\\\n",
       "\t17 & 3098 & 20190219 & 10 & 11.9 & 4.4 & 3 & 0.0 & 6 & 3.033 & $\\dots$ \\\\\n",
       "\t18 & 3098 & 20190220 & 10 & 8.6 & 3.0 & 3 & 0.0 & 0 & 1.7 & $\\dots$ \\\\\n",
       "\t19 & 3098 & 20190221 & 10 & 10.5 & 3.5 & 3 & 1.1 & 6 & 1.217 & $\\dots$ \\\\\n",
       "\t20 & 3098 & 20190222 & 10 & 5.8 & 2.0 & 3 & 0.2 & 6 & 1.1 & $\\dots$ \\\\\n",
       "\t21 & 3098 & 20190223 & 10 & 5.9 & 2.1 & 3 & 0.0 & 0 & 9.2 & $\\dots$ \\\\\n",
       "\t22 & 3098 & 20190224 & 10 & 3.6 & 1.2 & 3 & 0.0 & 0 & 9.483 & $\\dots$ \\\\\n",
       "\t23 & 3098 & 20190225 & 10 & 5.0 & 1.3 & 3 & 0.0 & 0 & 9.567 & $\\dots$ \\\\\n",
       "\t24 & 3098 & 20190226 & 10 & 4.2 & 1.3 & 3 & 0.0 & 0 & 9.617 & $\\dots$ \\\\\n",
       "\t25 & 3098 & 20190227 & 10 & 5.9 & 1.7 & 3 & 0.0 & 0 & 9.717 & $\\dots$ \\\\\n",
       "\t26 & 3098 & 20190228 & 10 & 14.2 & 4.3 & 3 & 5.2 & 6 & 6.1 & $\\dots$ \\\\\n",
       "\t27 & 3098 & 20190301 & 10 & 9.9 & 3.6 & 3 & 2.8 & 6 & 0.0 & $\\dots$ \\\\\n",
       "\t28 & 3098 & 20190302 & 10 & 13.2 & 3.3 & 3 & 2.7 & 6 & 0.45 & $\\dots$ \\\\\n",
       "\t29 & 3098 & 20190303 & 10 & 13.3 & 5.9 & 3 & 7.8 & 6 & 0.0 & $\\dots$ \\\\\n",
       "\t30 & 3098 & 20190304 & 10 & 23.4 & 7.4 & 3 & 7.1 & 8 & 0.767 & $\\dots$ \\\\\n",
       "\t$\\dots$ & $\\dots$ & $\\dots$ & $\\dots$ & $\\dots$ & $\\dots$ & $\\dots$ & $\\dots$ & $\\dots$ & $\\dots$ &  \\\\\n",
       "\\end{tabular}\n"
      ],
      "text/plain": [
       "550×19 DataFrame. Omitted printing of 12 columns\n",
       "│ Row │ STATIONS_ID │ MESS_DATUM │ QN_3  │   FX    │   FM    │ QN_4  │  RSK    │\n",
       "│     │ \u001b[90mInt64\u001b[39m       │ \u001b[90mInt64\u001b[39m      │ \u001b[90mInt64\u001b[39m │ \u001b[90mFloat64\u001b[39m │ \u001b[90mFloat64\u001b[39m │ \u001b[90mInt64\u001b[39m │ \u001b[90mFloat64\u001b[39m │\n",
       "├─────┼─────────────┼────────────┼───────┼─────────┼─────────┼───────┼─────────┤\n",
       "│ 1   │ 3098        │ 20190203   │ 10    │ 7.6     │ 2.1     │ 3     │ 0.0     │\n",
       "│ 2   │ 3098        │ 20190204   │ 10    │ 11.3    │ 3.7     │ 3     │ 0.1     │\n",
       "│ 3   │ 3098        │ 20190205   │ 10    │ 9.3     │ 2.8     │ 3     │ 0.0     │\n",
       "│ 4   │ 3098        │ 20190206   │ 10    │ 8.1     │ 2.5     │ 3     │ 3.3     │\n",
       "│ 5   │ 3098        │ 20190207   │ 10    │ 11.4    │ 4.6     │ 3     │ 1.5     │\n",
       "│ 6   │ 3098        │ 20190208   │ 10    │ 15.4    │ 5.0     │ 3     │ 5.0     │\n",
       "│ 7   │ 3098        │ 20190209   │ 10    │ 18.4    │ 6.9     │ 3     │ 8.4     │\n",
       "│ 8   │ 3098        │ 20190210   │ 10    │ 17.3    │ 6.2     │ 3     │ 34.9    │\n",
       "│ 9   │ 3098        │ 20190211   │ 10    │ 11.9    │ 4.6     │ 3     │ 2.4     │\n",
       "│ 10  │ 3098        │ 20190212   │ 10    │ 8.5     │ 3.5     │ 3     │ 0.0     │\n",
       "⋮\n",
       "│ 540 │ 3098        │ 20200726   │ 1     │ 12.2    │ 4.1     │ 1     │ 0.0     │\n",
       "│ 541 │ 3098        │ 20200727   │ 1     │ 8.7     │ 2.2     │ 1     │ 0.5     │\n",
       "│ 542 │ 3098        │ 20200728   │ 1     │ 13.6    │ 4.9     │ 1     │ 0.0     │\n",
       "│ 543 │ 3098        │ 20200729   │ 1     │ 10.3    │ 3.2     │ 1     │ 0.0     │\n",
       "│ 544 │ 3098        │ 20200730   │ 1     │ 5.6     │ 1.5     │ 1     │ 0.0     │\n",
       "│ 545 │ 3098        │ 20200731   │ 1     │ 5.1     │ 1.7     │ 1     │ 0.0     │\n",
       "│ 546 │ 3098        │ 20200801   │ 1     │ 8.9     │ 2.1     │ 1     │ 3.3     │\n",
       "│ 547 │ 3098        │ 20200802   │ 1     │ 9.3     │ 2.4     │ 1     │ 0.0     │\n",
       "│ 548 │ 3098        │ 20200803   │ 1     │ 7.4     │ 1.6     │ 1     │ 0.0     │\n",
       "│ 549 │ 3098        │ 20200804   │ 1     │ 7.4     │ 2.0     │ 1     │ 0.0     │\n",
       "│ 550 │ 3098        │ 20200805   │ 1     │ 8.4     │ 2.1     │ 1     │ 0.0     │"
      ]
     },
     "execution_count": 2,
     "metadata": {},
     "output_type": "execute_result"
    }
   ],
   "source": [
    "data = CSV.File(\"./data/03098-data.csv\") |> DataFrame"
   ]
  },
  {
   "cell_type": "code",
   "execution_count": 3,
   "metadata": {},
   "outputs": [
    {
     "data": {
      "text/html": [
       "<table class=\"data-frame\"><thead><tr><th></th><th>variable</th><th>mean</th><th>min</th><th>median</th><th>max</th><th>nunique</th><th>nmissing</th><th>eltype</th></tr><tr><th></th><th>Symbol</th><th>Union…</th><th>Any</th><th>Union…</th><th>Any</th><th>Union…</th><th>Nothing</th><th>DataType</th></tr></thead><tbody><p>19 rows × 8 columns</p><tr><th>1</th><td>STATIONS_ID</td><td>3098.0</td><td>3098</td><td>3098.0</td><td>3098</td><td></td><td></td><td>Int64</td></tr><tr><th>2</th><td>MESS_DATUM</td><td>2.01946e7</td><td>20190203</td><td>2.01911e7</td><td>20200805</td><td></td><td></td><td>Int64</td></tr><tr><th>3</th><td>QN_3</td><td>7.35455</td><td>1</td><td>10.0</td><td>10</td><td></td><td></td><td>Int64</td></tr><tr><th>4</th><td>  FX</td><td>-51.7849</td><td>-999.0</td><td>9.6</td><td>31.3</td><td></td><td></td><td>Float64</td></tr><tr><th>5</th><td>  FM</td><td>-58.7931</td><td>-999.0</td><td>2.7</td><td>10.3</td><td></td><td></td><td>Float64</td></tr><tr><th>6</th><td>QN_4</td><td>2.73455</td><td>1</td><td>3.0</td><td>3</td><td></td><td></td><td>Int64</td></tr><tr><th>7</th><td> RSK</td><td>2.68091</td><td>0.0</td><td>0.1</td><td>34.9</td><td></td><td></td><td>Float64</td></tr><tr><th>8</th><td>RSKF</td><td>4.04545</td><td>0</td><td>6.0</td><td>8</td><td></td><td></td><td>Int64</td></tr><tr><th>9</th><td> SDK</td><td>4.86316</td><td>0.0</td><td>3.517</td><td>14.217</td><td></td><td></td><td>Float64</td></tr><tr><th>10</th><td>SHK_TAG</td><td>-461.193</td><td>-999</td><td>0.0</td><td>14</td><td></td><td></td><td>Int64</td></tr><tr><th>11</th><td>  NM</td><td>2.20436</td><td>-999.0</td><td>6.8</td><td>8.0</td><td></td><td></td><td>Float64</td></tr><tr><th>12</th><td> VPM</td><td>9.40473</td><td>2.3</td><td>8.7</td><td>19.1</td><td></td><td></td><td>Float64</td></tr><tr><th>13</th><td>  PM</td><td>970.022</td><td>934.65</td><td>970.58</td><td>998.09</td><td></td><td></td><td>Float64</td></tr><tr><th>14</th><td> TMK</td><td>10.2969</td><td>-2.4</td><td>9.95</td><td>29.5</td><td></td><td></td><td>Float64</td></tr><tr><th>15</th><td> UPM</td><td>74.1066</td><td>25.21</td><td>76.4</td><td>99.04</td><td></td><td></td><td>Float64</td></tr><tr><th>16</th><td> TXK</td><td>14.7569</td><td>-1.1</td><td>14.8</td><td>37.9</td><td></td><td></td><td>Float64</td></tr><tr><th>17</th><td> TNK</td><td>5.84545</td><td>-6.0</td><td>5.55</td><td>20.9</td><td></td><td></td><td>Float64</td></tr><tr><th>18</th><td> TGK</td><td>3.83673</td><td>-9.8</td><td>3.7</td><td>18.3</td><td></td><td></td><td>Float64</td></tr><tr><th>19</th><td>eor</td><td></td><td>eor</td><td></td><td>eor</td><td>1</td><td></td><td>String</td></tr></tbody></table>"
      ],
      "text/latex": [
       "\\begin{tabular}{r|cccccccc}\n",
       "\t& variable & mean & min & median & max & nunique & nmissing & eltype\\\\\n",
       "\t\\hline\n",
       "\t& Symbol & Union… & Any & Union… & Any & Union… & Nothing & DataType\\\\\n",
       "\t\\hline\n",
       "\t1 & STATIONS\\_ID & 3098.0 & 3098 & 3098.0 & 3098 &  &  & Int64 \\\\\n",
       "\t2 & MESS\\_DATUM & 2.01946e7 & 20190203 & 2.01911e7 & 20200805 &  &  & Int64 \\\\\n",
       "\t3 & QN\\_3 & 7.35455 & 1 & 10.0 & 10 &  &  & Int64 \\\\\n",
       "\t4 &   FX & -51.7849 & -999.0 & 9.6 & 31.3 &  &  & Float64 \\\\\n",
       "\t5 &   FM & -58.7931 & -999.0 & 2.7 & 10.3 &  &  & Float64 \\\\\n",
       "\t6 & QN\\_4 & 2.73455 & 1 & 3.0 & 3 &  &  & Int64 \\\\\n",
       "\t7 &  RSK & 2.68091 & 0.0 & 0.1 & 34.9 &  &  & Float64 \\\\\n",
       "\t8 & RSKF & 4.04545 & 0 & 6.0 & 8 &  &  & Int64 \\\\\n",
       "\t9 &  SDK & 4.86316 & 0.0 & 3.517 & 14.217 &  &  & Float64 \\\\\n",
       "\t10 & SHK\\_TAG & -461.193 & -999 & 0.0 & 14 &  &  & Int64 \\\\\n",
       "\t11 &   NM & 2.20436 & -999.0 & 6.8 & 8.0 &  &  & Float64 \\\\\n",
       "\t12 &  VPM & 9.40473 & 2.3 & 8.7 & 19.1 &  &  & Float64 \\\\\n",
       "\t13 &   PM & 970.022 & 934.65 & 970.58 & 998.09 &  &  & Float64 \\\\\n",
       "\t14 &  TMK & 10.2969 & -2.4 & 9.95 & 29.5 &  &  & Float64 \\\\\n",
       "\t15 &  UPM & 74.1066 & 25.21 & 76.4 & 99.04 &  &  & Float64 \\\\\n",
       "\t16 &  TXK & 14.7569 & -1.1 & 14.8 & 37.9 &  &  & Float64 \\\\\n",
       "\t17 &  TNK & 5.84545 & -6.0 & 5.55 & 20.9 &  &  & Float64 \\\\\n",
       "\t18 &  TGK & 3.83673 & -9.8 & 3.7 & 18.3 &  &  & Float64 \\\\\n",
       "\t19 & eor &  & eor &  & eor & 1 &  & String \\\\\n",
       "\\end{tabular}\n"
      ],
      "text/plain": [
       "19×8 DataFrame. Omitted printing of 2 columns\n",
       "│ Row │ variable    │ mean      │ min      │ median    │ max      │ nunique │\n",
       "│     │ \u001b[90mSymbol\u001b[39m      │ \u001b[90mUnion…\u001b[39m    │ \u001b[90mAny\u001b[39m      │ \u001b[90mUnion…\u001b[39m    │ \u001b[90mAny\u001b[39m      │ \u001b[90mUnion…\u001b[39m  │\n",
       "├─────┼─────────────┼───────────┼──────────┼───────────┼──────────┼─────────┤\n",
       "│ 1   │ STATIONS_ID │ 3098.0    │ 3098     │ 3098.0    │ 3098     │         │\n",
       "│ 2   │ MESS_DATUM  │ 2.01946e7 │ 20190203 │ 2.01911e7 │ 20200805 │         │\n",
       "│ 3   │ QN_3        │ 7.35455   │ 1        │ 10.0      │ 10       │         │\n",
       "│ 4   │   FX        │ -51.7849  │ -999.0   │ 9.6       │ 31.3     │         │\n",
       "│ 5   │   FM        │ -58.7931  │ -999.0   │ 2.7       │ 10.3     │         │\n",
       "│ 6   │ QN_4        │ 2.73455   │ 1        │ 3.0       │ 3        │         │\n",
       "│ 7   │  RSK        │ 2.68091   │ 0.0      │ 0.1       │ 34.9     │         │\n",
       "│ 8   │ RSKF        │ 4.04545   │ 0        │ 6.0       │ 8        │         │\n",
       "│ 9   │  SDK        │ 4.86316   │ 0.0      │ 3.517     │ 14.217   │         │\n",
       "│ 10  │ SHK_TAG     │ -461.193  │ -999     │ 0.0       │ 14       │         │\n",
       "│ 11  │   NM        │ 2.20436   │ -999.0   │ 6.8       │ 8.0      │         │\n",
       "│ 12  │  VPM        │ 9.40473   │ 2.3      │ 8.7       │ 19.1     │         │\n",
       "│ 13  │   PM        │ 970.022   │ 934.65   │ 970.58    │ 998.09   │         │\n",
       "│ 14  │  TMK        │ 10.2969   │ -2.4     │ 9.95      │ 29.5     │         │\n",
       "│ 15  │  UPM        │ 74.1066   │ 25.21    │ 76.4      │ 99.04    │         │\n",
       "│ 16  │  TXK        │ 14.7569   │ -1.1     │ 14.8      │ 37.9     │         │\n",
       "│ 17  │  TNK        │ 5.84545   │ -6.0     │ 5.55      │ 20.9     │         │\n",
       "│ 18  │  TGK        │ 3.83673   │ -9.8     │ 3.7       │ 18.3     │         │\n",
       "│ 19  │ eor         │           │ eor      │           │ eor      │ 1       │"
      ]
     },
     "execution_count": 3,
     "metadata": {},
     "output_type": "execute_result"
    }
   ],
   "source": [
    "describe(data)"
   ]
  },
  {
   "cell_type": "code",
   "execution_count": 4,
   "metadata": {},
   "outputs": [
    {
     "data": {
      "text/plain": [
       "DataFrame"
      ]
     },
     "execution_count": 4,
     "metadata": {},
     "output_type": "execute_result"
    }
   ],
   "source": [
    "typeof(data)"
   ]
  },
  {
   "cell_type": "code",
   "execution_count": 5,
   "metadata": {},
   "outputs": [
    {
     "ename": "LoadError",
     "evalue": "ArgumentError: column name :TXK not found in the data frame; existing most similar names are: : TXK, : TGK, : TMK and : TNK",
     "output_type": "error",
     "traceback": [
      "ArgumentError: column name :TXK not found in the data frame; existing most similar names are: : TXK, : TGK, : TMK and : TNK",
      "",
      "Stacktrace:",
      " [1] lookupname at /home/stefan/.julia/packages/DataFrames/4ov0U/src/other/index.jl:289 [inlined]",
      " [2] getindex at /home/stefan/.julia/packages/DataFrames/4ov0U/src/other/index.jl:295 [inlined]",
      " [3] getindex(::DataFrame, ::typeof(!), ::Symbol) at /home/stefan/.julia/packages/DataFrames/4ov0U/src/dataframe/dataframe.jl:435",
      " [4] getproperty(::DataFrame, ::Symbol) at /home/stefan/.julia/packages/DataFrames/4ov0U/src/abstractdataframe/abstractdataframe.jl:346",
      " [5] top-level scope at In[5]:1",
      " [6] include_string(::Function, ::Module, ::String, ::String) at ./loading.jl:1091"
     ]
    }
   ],
   "source": [
    "temp_data = unique([copy(data.MESS_DATUM),copy(data.TXK),copy(data.TNK)])"
   ]
  },
  {
   "cell_type": "code",
   "execution_count": null,
   "metadata": {},
   "outputs": [],
   "source": []
  },
  {
   "cell_type": "code",
   "execution_count": null,
   "metadata": {},
   "outputs": [],
   "source": []
  },
  {
   "cell_type": "code",
   "execution_count": null,
   "metadata": {},
   "outputs": [],
   "source": []
  },
  {
   "cell_type": "code",
   "execution_count": null,
   "metadata": {},
   "outputs": [],
   "source": []
  }
 ],
 "metadata": {
  "kernelspec": {
   "display_name": "Julia 1.5.0",
   "language": "julia",
   "name": "julia-1.5"
  },
  "language_info": {
   "file_extension": ".jl",
   "mimetype": "application/julia",
   "name": "julia",
   "version": "1.5.0"
  }
 },
 "nbformat": 4,
 "nbformat_minor": 4
}
